{
 "cells": [
  {
   "cell_type": "markdown",
   "id": "familiar-scope",
   "metadata": {},
   "source": [
    "# Numverify"
   ]
  },
  {
   "cell_type": "code",
   "execution_count": null,
   "id": "recreational-situation",
   "metadata": {},
   "outputs": [],
   "source": [
    "# Import the requests library\n",
    "import requests\n",
    "\n",
    "# Define the API endpoint and the access key\n",
    "api_endpoint = \"http://apilayer.net/api/validate\"\n",
    "access_key = \"1c7de8bb2995d15905141c583fb869cb\"\n",
    "\n",
    "# Define the phone number to validate\n",
    "phone_number = \"+14158586273\"\n",
    "\n",
    "# Make the API request with the phone number and the access key as parameters\n",
    "response = requests.get(api_endpoint, params={\"number\": phone_number, \"access_key\": access_key})\n",
    "\n",
    "# Parse the JSON response\n",
    "data = response.json()\n",
    "\n",
    "# Print the validation results\n",
    "print(f\"Valid: {data['valid']}\")\n",
    "print(f\"Number: {data['number']}\")\n",
    "print(f\"Local format: {data['local_format']}\")\n",
    "print(f\"International format: {data['international_format']}\")\n",
    "print(f\"Country code: {data['country_code']}\")\n",
    "print(f\"Country name: {data['country_name']}\")\n",
    "print(f\"Location: {data['location']}\")\n",
    "print(f\"Carrier: {data['carrier']}\")\n",
    "print(f\"Line type: {data['line_type']}\")"
   ]
  },
  {
   "cell_type": "markdown",
   "id": "contrary-lawrence",
   "metadata": {},
   "source": [
    "# Gender API"
   ]
  },
  {
   "cell_type": "code",
   "execution_count": null,
   "id": "sustainable-apparatus",
   "metadata": {},
   "outputs": [],
   "source": [
    "import requests\n",
    "import json\n",
    "\n",
    "url = \"https://api.apilayer.com/gender/gender/by-email-address\"\n",
    "\n",
    "# Define email address\n",
    "email = \"sandra.miller14@gmail.com\"\n",
    "\n",
    "# Create JSON payload\n",
    "payload = json.dumps({\n",
    "    \"email\": email\n",
    "}).encode(\"utf-8\")\n",
    "\n",
    "# Set headers\n",
    "headers = {\n",
    "    \"apikey\": \"W5N2aA8JW92dbKzcVKYHxQtlzscKA5AE\",\n",
    "    \"Content-Type\": \"application/json\"\n",
    "}\n",
    "\n",
    "# Send API request\n",
    "response = requests.post(url, headers=headers, data=payload)\n",
    "\n",
    "# Get status code and API result\n",
    "status_code = response.status_code\n",
    "result = response.text\n",
    "print(result)\n"
   ]
  },
  {
   "cell_type": "markdown",
   "id": "designing-reset",
   "metadata": {},
   "source": [
    "# Exchange Rates Data API "
   ]
  },
  {
   "cell_type": "code",
   "execution_count": null,
   "id": "stable-tuning",
   "metadata": {},
   "outputs": [],
   "source": [
    "import requests\n",
    "\n",
    "# Define the API endpoint URL with placeholders for user input\n",
    "url = \"https://api.apilayer.com/exchangerates_data/convert?to={to_currency}&from={from_currency}&amount={amount}\"\n",
    "\n",
    "# Get user input\n",
    "from_currency = input(\"Enter the currency you want to convert from: \")\n",
    "to_currency = input(\"Enter the currency you want to convert to: \")\n",
    "amount = input(\"Enter the amount you want to convert: \")\n",
    "\n",
    "# Replace placeholders in the API endpoint URL with user input\n",
    "url = url.format(from_currency=from_currency, to_currency=to_currency, amount=amount)\n",
    "\n",
    "# Get API key from user input\n",
    "api_key = \"W5N2aA8JW92dbKzcVKYHxQtlzscKA5AE\"\n",
    "\n",
    "# Set API key in headers\n",
    "headers = {\n",
    "    \"apikey\": api_key\n",
    "}\n",
    "\n",
    "# Make GET request to API endpoint with headers and user input\n",
    "response = requests.get(url, headers=headers)\n",
    "\n",
    "# Get the status code and response text from the API\n",
    "status_code = response.status_code\n",
    "result = response.text\n",
    "\n",
    "# Print the results\n",
    "if status_code == 200:\n",
    "    print(\"Conversion successful!\")\n",
    "    print(result`)\n",
    "else:\n",
    "    print(f\"Error: {status_code}\")\n"
   ]
  },
  {
   "cell_type": "markdown",
   "id": "interpreted-ethics",
   "metadata": {},
   "source": [
    "# Coinlayer"
   ]
  },
  {
   "cell_type": "code",
   "execution_count": null,
   "id": "ordered-penetration",
   "metadata": {},
   "outputs": [],
   "source": [
    "import requests\n",
    "\n",
    "api_url = \"http://api.coinlayer.com/live\"\n",
    "access_key = \"6355cd199c91640805906ac4b6e1740b\" # PUT YOUR API KEY HERE\n",
    "\n",
    "params = {'access_key': access_key, 'target': 'USD'}\n",
    "\n",
    "response = requests.get(api_url, params=params)\n",
    "data = response.json()\n",
    "\n",
    "if data['success']:\n",
    "    rates = data['rates']\n",
    "    for symbol, rate in rates.items():\n",
    "        print(f\"{symbol}: {rate}\")\n",
    "else:\n",
    "    print(f\"Error {data['error']['code']}: {data['error']['info']}\")\n"
   ]
  },
  {
   "cell_type": "markdown",
   "id": "adjusted-subscriber",
   "metadata": {},
   "source": [
    "# Currency Data API "
   ]
  },
  {
   "cell_type": "code",
   "execution_count": null,
   "id": "oriented-danish",
   "metadata": {},
   "outputs": [],
   "source": [
    "import requests\n",
    "\n",
    "api_key = \"W5N2aA8JW92dbKzcVKYHxQtlzscKA5AE\"\n",
    "url = \"https://api.apilayer.com/currency_data/timeframe?start_date=2022-01-01&end_date=2022-01-31\"\n",
    "headers = {\"apikey\": api_key}\n",
    "\n",
    "response = requests.get(url, headers=headers)\n",
    "historical_rates = response.json()\n",
    "\n",
    "print(historical_rates)\n"
   ]
  },
  {
   "cell_type": "markdown",
   "id": "favorite-animation",
   "metadata": {},
   "source": [
    "# Fixer API"
   ]
  },
  {
   "cell_type": "code",
   "execution_count": null,
   "id": "cloudy-thousand",
   "metadata": {},
   "outputs": [],
   "source": [
    "import requests\n",
    "\n",
    "api_key = \"W5N2aA8JW92dbKzcVKYHxQtlzscKA5AE\"\n",
    "url = \"https://api.apilayer.com/fixer/fluctuation?start_date=2022-01-01&end_date=2022-01-31\"\n",
    "headers = {\"apikey\": api_key}\n",
    "\n",
    "response = requests.get(url, headers=headers)\n",
    "currency_fluctuation = response.json()\n",
    "\n",
    "print(currency_fluctuation)\n"
   ]
  },
  {
   "cell_type": "markdown",
   "id": "hawaiian-design",
   "metadata": {},
   "source": [
    "# Vehicle API - (need paid plan)"
   ]
  },
  {
   "cell_type": "code",
   "execution_count": null,
   "id": "liable-interval",
   "metadata": {},
   "outputs": [],
   "source": [
    "# Import requests library\n",
    "import requests\n",
    "\n",
    "# Define the API key and the base URL\n",
    "api_key = \"YOUR_API_KEY\"\n",
    "base_url = \"https://api.vehapi.com\"\n",
    "\n",
    "# Define the vehicle year, make and model parameters\n",
    "year = \"2019\"\n",
    "make = \"Honda\"\n",
    "model = \"Civic\"\n",
    "\n",
    "# Construct the full URL with the parameters\n",
    "full_url = f\"{base_url}/getVehicle?year={year}&make={make}&model={model}&key={api_key}\"\n",
    "\n",
    "# Make a GET request to the API and get the JSON response\n",
    "response = requests.get(full_url)\n",
    "data = response.json()\n",
    "\n",
    "# Print some information from the response\n",
    "print(f\"Vehicle: {data['vehicle']}\")\n",
    "print(f\"Trim: {data['trim']}\")\n",
    "print(f\"Transmission: {data['transmission']}\")\n",
    "print(f\"Engine: {data['engine']}\")\n"
   ]
  },
  {
   "cell_type": "markdown",
   "id": "motivated-attraction",
   "metadata": {},
   "source": [
    "# Code Detection API"
   ]
  },
  {
   "cell_type": "code",
   "execution_count": null,
   "id": "velvet-desert",
   "metadata": {},
   "outputs": [],
   "source": [
    "import requests\n",
    "import json\n",
    "\n",
    "# Replace 'YOUR_API_KEY' with your actual API key from the API provider\n",
    "api_key = 'YOUR_API_KEY'\n",
    "# The URL for the API endpoint\n",
    "url = 'https://api.runtime.dev/tlp'\n",
    "\n",
    "# Set the request headers, including the Content-Type\n",
    "headers = {\n",
    "    'Content-Type': 'application/json',\n",
    "}\n",
    "\n",
    "# Prepare the data to send in the request body\n",
    "data = {\n",
    "    'iterable': [\n",
    "        {\n",
    "            'value': \"console.log('hello world');\"\n",
    "        }\n",
    "    ]\n",
    "}\n",
    "\n",
    "# Send a POST request to the API with the headers and data as JSON\n",
    "response = requests.post(url, headers=headers, data=json.dumps(data), params={'apikey': api_key})\n",
    "\n",
    "# Check if the request was successful (status code 200)\n",
    "if response.status_code == 200:\n",
    "    # Parse the JSON response\n",
    "    result = response.json()\n",
    "    # Print the JSON response in a pretty format\n",
    "    print(json.dumps(result, indent=4))\n",
    "else:\n",
    "    # If there's an error, print the status code and error message\n",
    "    print(f\"Error: {response.status_code}: {response.text}\")\n"
   ]
  },
  {
   "cell_type": "markdown",
   "id": "equal-death",
   "metadata": {},
   "source": [
    "# Temporary Mail API"
   ]
  },
  {
   "cell_type": "code",
   "execution_count": null,
   "id": "hungry-tracy",
   "metadata": {},
   "outputs": [],
   "source": [
    "\n",
    "import requests\n",
    "\n",
    "# Set the API endpoint URL and include the mail ID as a parameter\n",
    "url = \"https://api.apilayer.com/temp_mail/atchmnts/id/{mail_id}\"\n",
    "\n",
    "# Set the API key as a custom header\n",
    "headers = {\n",
    "  \"apikey\": \"W5N2aA8JW92dbKzcVKYHxQtlzscKA5AE\"\n",
    "}\n",
    "\n",
    "# Replace {mail_id} with the actual mail ID that you want to retrieve the attachments for\n",
    "mail_id = \"123456\"\n",
    "\n",
    "# Make a GET request to the API endpoint with the specified headers and mail ID\n",
    "response = requests.get(url.format(mail_id=mail_id), headers=headers)\n",
    "\n",
    "# Get the HTTP status code and the result of the API call as a string\n",
    "status_code = response.status_code\n",
    "result = response.text\n",
    "\n",
    "# Print the response data (which is a base64-encoded string) to the console\n",
    "print(result)\n"
   ]
  },
  {
   "cell_type": "markdown",
   "id": "periodic-preference",
   "metadata": {},
   "source": [
    " # Filestack API"
   ]
  },
  {
   "cell_type": "markdown",
   "id": "ongoing-inquiry",
   "metadata": {},
   "source": [
    "## 1. Upload File"
   ]
  },
  {
   "cell_type": "code",
   "execution_count": null,
   "id": "present-invasion",
   "metadata": {},
   "outputs": [],
   "source": [
    "\n",
    "import requests\n",
    "\n",
    "url = \"https://www.filestackapi.com/api/store/S3?key=MY_API_KEY\"\n",
    "\n",
    "with open('filename.png', 'rb') as f:\n",
    "    response = requests.post(url, data=f, headers={'Content-Type': 'image/png'})\n",
    "\n",
    "print(response.json())\n"
   ]
  },
  {
   "cell_type": "markdown",
   "id": "cathedral-organizer",
   "metadata": {},
   "source": [
    "## 2. Upload from URL"
   ]
  },
  {
   "cell_type": "code",
   "execution_count": null,
   "id": "behavioral-employer",
   "metadata": {},
   "outputs": [],
   "source": [
    "import requests\n",
    "\n",
    "url = \"https://www.filestackapi.com/api/store/S3?key=MY_API_KEY\"\n",
    "data = {'url': 'https://assets.filestackapi.com/watermark.png'}\n",
    "\n",
    "response = requests.post(url, data=data)\n",
    "\n",
    "print(response.json())"
   ]
  },
  {
   "cell_type": "markdown",
   "id": "adequate-foundation",
   "metadata": {},
   "source": [
    "# PDFlayer API"
   ]
  },
  {
   "cell_type": "code",
   "execution_count": null,
   "id": "lined-mission",
   "metadata": {},
   "outputs": [],
   "source": [
    "import requests\n",
    "\n",
    "# Define API URL and access key\n",
    "api_url = \"http://api.pdflayer.com/api/convert\"\n",
    "access_key = \"YOUR_ACCESS_KEY\"\n",
    "\n",
    "# Define API parameters\n",
    "document_url = \"https://pdflayer.com/downloads/invoice.html\"\n",
    "params = {\n",
    "    \"access_key\": access_key,\n",
    "    \"document_url\": document_url,\n",
    "    \"document_name\": \"my_invoice.pdf\",\n",
    "    \"custom_unit\": \"mm\",\n",
    "    \"encryption\": \"128\",\n",
    "}\n",
    "\n",
    "# Make API request and save PDF to file\n",
    "response = requests.get(api_url, params=params)\n",
    "with open(\"invoice.pdf\", \"wb\") as f:\n",
    "    f.write(response.content)\n"
   ]
  },
  {
   "cell_type": "markdown",
   "id": "timely-loading",
   "metadata": {},
   "source": [
    "# Bank Data API "
   ]
  },
  {
   "cell_type": "code",
   "execution_count": null,
   "id": "combined-karma",
   "metadata": {},
   "outputs": [],
   "source": [
    "import requests\n",
    "\n",
    "api_key = \"W5N2aA8JW92dbKzcVKYHxQtlzscKA5AE\" #USE YOUR API KEY\n",
    "url = \"https://api.apilayer.com/bank_data/all\"\n",
    "params = {\n",
    "    \"apikey\": api_key,\n",
    "    \"per_page\": 10,\n",
    "    \"page\": 1,\n",
    "    \"country\": \"DE\"\n",
    "}\n",
    "\n",
    "response = requests.get(url, params=params)\n",
    "bank_data = response.json()\n",
    "\n",
    "print(bank_data)"
   ]
  },
  {
   "cell_type": "markdown",
   "id": "joint-funds",
   "metadata": {},
   "source": [
    "# Tax Data API "
   ]
  },
  {
   "cell_type": "code",
   "execution_count": null,
   "id": "sensitive-africa",
   "metadata": {},
   "outputs": [],
   "source": [
    "import requests\n",
    "\n",
    "api_key = \"W5N2aA8JW92dbKzcVKYHxQtlzscKA5AE\" #USE YOUR API KEY\n",
    "url = \"https://api.apilayer.com/tax_data/canada_rate_list\"\n",
    "headers = {\"apikey\": api_key}\n",
    "\n",
    "response = requests.get(url, headers=headers)\n",
    "tax_data = response.json()\n",
    "\n",
    "print(tax_data)\n"
   ]
  },
  {
   "cell_type": "markdown",
   "id": "extensive-taxation",
   "metadata": {},
   "source": [
    "# Marketstack API "
   ]
  },
  {
   "cell_type": "code",
   "execution_count": null,
   "id": "intelligent-graduation",
   "metadata": {},
   "outputs": [],
   "source": [
    "import requests\n",
    "\n",
    "# Define API endpoint URL\n",
    "url = \"http://api.marketstack.com/v1/eod\"\n",
    "\n",
    "# Define request parameters\n",
    "params = {\n",
    "    \"access_key\": \"fa6813ebe739cd4fc975eb5686f5339a\",  # Use your API key\n",
    "    \"symbols\": \"AAPL\"  # Replace with the desired stock symbol\n",
    "}\n",
    "\n",
    "# Send GET request to API endpoint\n",
    "response = requests.get(url, params=params)\n",
    "\n",
    "# Check if the request was successful\n",
    "if response.status_code == 200:\n",
    "    # Extract data from API response\n",
    "    data = response.json()[\"data\"]\n",
    "    \n",
    "    # Print first result\n",
    "    if data:\n",
    "        print(data[0])\n",
    "    else:\n",
    "        print(\"No data available for the given stock symbol.\")\n",
    "else:\n",
    "    print(\"An error occurred while fetching data from the API.\")"
   ]
  },
  {
   "cell_type": "markdown",
   "id": "developing-puppy",
   "metadata": {},
   "source": [
    "# Vatlayer API"
   ]
  },
  {
   "cell_type": "code",
   "execution_count": null,
   "id": "gentle-prospect",
   "metadata": {},
   "outputs": [],
   "source": [
    "import requests\n",
    "import json\n",
    "\n",
    "access_key = \"USE YOUR API KEY\"\n",
    "amount = 125\n",
    "country_code = \"GB\"\n",
    "\n",
    "url = f\"http://apilayer.net/api/price?access_key={access_key}&amount={amount}&country_code={country_code}\"\n",
    "\n",
    "response = requests.get(url)\n",
    "\n",
    "if response.status_code == 200:\n",
    "    data = json.loads(response.text)\n",
    "    print(f\"Success: {data['success']}\")\n",
    "    print(f\"Country code: {data['country_code']}\")\n",
    "    print(f\"Country name: {data['country_name']}\")\n",
    "    print(f\"Price excl VAT: {data['price_excl_vat']}\")\n",
    "    print(f\"Price incl VAT: {data['price_incl_vat']}\")\n",
    "    print(f\"VAT rate: {data['vat_rate']}\")\n",
    "else:\n",
    "    print(f\"Error retrieving data. Status code: {response.status_code}\")"
   ]
  },
  {
   "cell_type": "markdown",
   "id": "assisted-fiction",
   "metadata": {},
   "source": [
    "# Spoonacular API (need paid plan)"
   ]
  },
  {
   "cell_type": "code",
   "execution_count": null,
   "id": "continued-ordinance",
   "metadata": {},
   "outputs": [],
   "source": [
    "import requests\n",
    "\n",
    "url = \"https://api.apilayer.com/spoonacular/food/ingredients/search?sortDirection=asc&sort=calories&query=apple&offset=0&number=10&intolerances=egg\"\n",
    "\n",
    "payload = {}\n",
    "headers= {\"apikey\": \"YOUR API KEY\"}\n",
    "\n",
    "response = requests.request(\"GET\", url, headers=headers, data = payload)\n",
    "\n",
    "status_code = response.status_code\n",
    "result = response.text\n",
    "print(result)"
   ]
  },
  {
   "cell_type": "markdown",
   "id": "normal-occasion",
   "metadata": {},
   "source": [
    "# Food & Grocery Database API (need paid plan)"
   ]
  },
  {
   "cell_type": "code",
   "execution_count": null,
   "id": "general-three",
   "metadata": {},
   "outputs": [],
   "source": [
    "import requests\n",
    "\n",
    "# Define our API key\n",
    "api_key = \"YOUR API KEY\"\n",
    "\n",
    "# Define our query\n",
    "query = \"banana\"\n",
    "\n",
    "# Define our optional parameters\n",
    "params = {\n",
    "    \"diet\": \"low-fat\",\n",
    "    \"health\": \"vegan\"\n",
    "}\n",
    "\n",
    "# Define our URL\n",
    "url = f\"https://apilayer.net/api/edamam/food-database/v2/parser?access_key={api_key}&ingr={query}\"\n",
    "\n",
    "# Make a GET request\n",
    "response = requests.get(url=url,params=params)\n",
    "\n",
    "# Check if successful\n",
    "\n",
    "if response.status_code == 200:\n",
    "    print(\"Success!\")\n",
    "    print(response.json()) \n",
    "else:\n",
    "    print(\"Error!\")\n"
   ]
  },
  {
   "cell_type": "markdown",
   "id": "unlike-season",
   "metadata": {},
   "source": [
    "# Nutrition Analysis API (need paid plan)"
   ]
  },
  {
   "cell_type": "code",
   "execution_count": null,
   "id": "becoming-artwork",
   "metadata": {},
   "outputs": [],
   "source": [
    "import requests\n",
    "\n",
    "# Define our API key\n",
    "api_key = \"YOUR API KEY\"\n",
    "\n",
    "# Define our recipe title (optional)\n",
    "title = \"Chocolate Cake\"\n",
    "\n",
    "# Define our list of ingredients\n",
    "ingredients = [\n",
    "    \"1/2 cup unsalted butter\",\n",
    "    \"1 cup granulated sugar\",\n",
    "    \"2 eggs\",\n",
    "    \"1 teaspoon vanilla extract\",\n",
    "    \"1 1/2 cups all-purpose flour\",\n",
    "    \"1/4 cup unsweetened cocoa powder\",\n",
    "    \"1 teaspoon baking soda\",\n",
    "    \"1/4 teaspoon salt\",\n",
    "    \"1/2 cup milk\"\n",
    "]\n",
    "\n",
    "# Define our optional parameters\n",
    "params = {\n",
    "    \"measure\": \"us\",\n",
    "    \"nutrition-type\": \"cooking\"\n",
    "}\n",
    "\n",
    "# Define our URL\n",
    "url = f\"https://apilayer.net/api/edamam/nutrition-details?access_key={api_key}\"\n",
    "\n",
    "# Define our body parameter as a JSON object\n",
    "body = {\n",
    "    \"title\": title,\n",
    "    \"ingr\": ingredients\n",
    "}\n",
    "\n",
    "# Make a POST request\n",
    "response = requests.post(url=url,params=params,json=body)\n",
    "\n",
    "# Check if successful\n",
    "if response.status_code == 200:\n",
    "    print(\"Success!\")\n",
    "    print(response.json())  # prints the nutritional calculation\n",
    "else:\n",
    "    print(\"Error!\")\n"
   ]
  },
  {
   "cell_type": "markdown",
   "id": "accurate-minutes",
   "metadata": {},
   "source": [
    "# Recipe Search API (need paid plan)"
   ]
  },
  {
   "cell_type": "code",
   "execution_count": null,
   "id": "juvenile-active",
   "metadata": {},
   "outputs": [],
   "source": [
    "import requests\n",
    "\n",
    "# Define our API key\n",
    "api_key = \"1234567890abcdef\"\n",
    "\n",
    "# Define our query\n",
    "query = \"pizza\"\n",
    "\n",
    "# Define our optional parameters\n",
    "params = {\n",
    "    \"cuisineType\": \"italian\",\n",
    "    \"diet\": \"low-fat\",\n",
    "    \"mealType\": \"dinner\",\n",
    "    \"calories\": \"lt300\",\n",
    "    \"time\": \"lt30\"\n",
    "}\n",
    "\n",
    "# Define our URL\n",
    "url = f\"https://apilayer.net/api/edamam/recipes/v2?type=public&access_key={api_key}&q={query}\"\n",
    "\n",
    "# Make a GET request\n",
    "response = requests.get(url=url,params=params)\n",
    "\n",
    "# Check if successful\n",
    "if response.status_code == 200:\n",
    "    print(\"Success!\")\n",
    "    print(response.json())  # print the JSON data from the response\n",
    "else:\n",
    "    print(\"Error!\")\n"
   ]
  },
  {
   "cell_type": "markdown",
   "id": "sitting-timothy",
   "metadata": {},
   "source": [
    "# Weatherstack API\n",
    "https://weatherstack.com/"
   ]
  },
  {
   "cell_type": "code",
   "execution_count": null,
   "id": "unsigned-invention",
   "metadata": {},
   "outputs": [],
   "source": [
    "import requests\n",
    "\n",
    "# Define API endpoint URL and your API access key\n",
    "url = \"http://api.weatherstack.com/current\"\n",
    "access_key = \"44acf33106b50ff3d2911aeb217b74ca\"  # Replace with your actual API access key\n",
    "\n",
    "# Define the query parameters\n",
    "params = {\n",
    "    \"access_key\": access_key,\n",
    "    \"query\": \"New York\"  # Replace with the desired location\n",
    "}\n",
    "\n",
    "# Send GET request to the API endpoint\n",
    "response = requests.get(url, params=params)\n",
    "\n",
    "# Check if the request was successful\n",
    "if response.status_code == 200:\n",
    "    # Extract data from API response\n",
    "    data = response.json()\n",
    "\n",
    "    # Check if the response contains the 'current' key\n",
    "    if 'current' in data:\n",
    "        current_weather = data['current']\n",
    "        temperature = current_weather['temperature']\n",
    "        weather_description = current_weather['weather_descriptions'][0]\n",
    "\n",
    "        # Print the current weather information\n",
    "        print(f\"Temperature: {temperature}°C\")\n",
    "        print(f\"Weather: {weather_description}\")\n",
    "    else:\n",
    "        print(\"No weather data available.\")\n",
    "else:\n",
    "    print(f\"Error retrieving weather data. Status code: {response.status_code}\")\n"
   ]
  },
  {
   "cell_type": "markdown",
   "id": "amber-romania",
   "metadata": {},
   "source": [
    "# Positionstack API "
   ]
  },
  {
   "cell_type": "code",
   "execution_count": null,
   "id": "israeli-incentive",
   "metadata": {},
   "outputs": [],
   "source": [
    "import requests\n",
    "\n",
    "# Define API endpoint URL and your API access key\n",
    "url = \"http://api.positionstack.com/v1/forward\"\n",
    "access_key = \"6736f9ace8567e3cbde0b5f6428c3fd9\"  # Replace with your actual API access key\n",
    "\n",
    "# Define the query parameters\n",
    "params = {\n",
    "    \"access_key\": access_key,\n",
    "    \"query\": \"1600 Pennsylvania Ave NW, Washington DC\"  # Replace with the desired address\n",
    "}\n",
    "\n",
    "# Send GET request to the API endpoint\n",
    "response = requests.get(url, params=params)\n",
    "\n",
    "# Check if the request was successful\n",
    "if response.status_code == 200:\n",
    "    # Extract data from API response\n",
    "    data = response.json()\n",
    "        \n",
    "    # Check if the response contains the 'data' key and if it has non-empty results\n",
    "    if 'data' in data and data['data']:\n",
    "        results = data['data']\n",
    "\n",
    "        # Print the latitude and longitude of each result\n",
    "        for result in results:\n",
    "            latitude = result[\"latitude\"]\n",
    "            longitude = result[\"longitude\"]\n",
    "            print(f\"Latitude: {latitude}\")\n",
    "            print(f\"Longitude: {longitude}\")\n",
    "    else:\n",
    "        print(\"No geocoding data available.\")"
   ]
  },
  {
   "cell_type": "markdown",
   "id": "quantitative-programming",
   "metadata": {},
   "source": [
    "# ipstack API "
   ]
  },
  {
   "cell_type": "code",
   "execution_count": null,
   "id": "geological-bulgaria",
   "metadata": {},
   "outputs": [],
   "source": [
    "import requests\n",
    "\n",
    "api_key = \"cd37022e4ad39eccfc203c3da66f32c2\" # USE YOUR ACCESS KEY\n",
    "ip_address = \"134.201.250.155\"\n",
    "url = f\"http://api.ipstack.com/{ip_address}?access_key={api_key}\"\n",
    "\n",
    "response = requests.get(url)\n",
    "ip_data = response.json()\n",
    "\n",
    "print(f\"IP Address: {ip_data['ip']}\")\n",
    "print(f\"City: {ip_data['city']}\")\n",
    "print(f\"Region: {ip_data['region_name']}\")\n",
    "print(f\"Country: {ip_data['country_name']}\")\n",
    "print(f\"Latitude: {ip_data['latitude']}, Longitude: {ip_data['longitude']}\")\n"
   ]
  },
  {
   "cell_type": "markdown",
   "id": "recovered-inside",
   "metadata": {},
   "source": [
    "# Zip Code API"
   ]
  },
  {
   "cell_type": "code",
   "execution_count": null,
   "id": "conservative-recorder",
   "metadata": {},
   "outputs": [],
   "source": [
    "import requests\n",
    "import json\n",
    "\n",
    "headers = { \n",
    "  \"apikey\": \"USE YOUR API KEY\"}\n",
    "\n",
    "params = (\n",
    "   (\"code\",\"20500\"),\n",
    "   (\"radius\",\"10\"),\n",
    "   (\"country\",\"us\"),\n",
    ")\n",
    "\n",
    "response = requests.get('https://app.zipcodebase.com/api/v1/radius', headers=headers, params=params)\n",
    "\n",
    "# Parse the JSON response\n",
    "data = json.loads(response.text)\n",
    "\n",
    "# Iterate through the results and print the code, city, and distance\n",
    "for result in data['results']:\n",
    "    print(f\"Code: {result['code']}, City: {result['city']}, Distance: {result['distance']} km\")"
   ]
  },
  {
   "cell_type": "markdown",
   "id": "parallel-paragraph",
   "metadata": {},
   "source": [
    "# Aviationstack  API"
   ]
  },
  {
   "cell_type": "code",
   "execution_count": null,
   "id": "auburn-director",
   "metadata": {},
   "outputs": [],
   "source": [
    "import requests\n",
    "from prettytable import PrettyTable\n",
    "\n",
    "# Make a GET request to the API endpoint\n",
    "url = 'http://api.aviationstack.com/v1/airports'\n",
    "params = {'access_key': 'USE YOUR API KEY'}\n",
    "response = requests.get(url, params=params)\n",
    "\n",
    "# Extract the airport names and countries from the JSON data\n",
    "data = response.json()['data']\n",
    "airports = [(d['airport_name'], d['country_name']) for d in data]\n",
    "\n",
    "# Create a table using the prettytable module\n",
    "table = PrettyTable(['Airport Name', 'Country'])\n",
    "for airport in airports:\n",
    "    table.add_row(airport)\n",
    "\n",
    "# Print the table\n",
    "print(table)"
   ]
  },
  {
   "cell_type": "markdown",
   "id": "lined-leisure",
   "metadata": {},
   "source": [
    "# Userstack  API"
   ]
  },
  {
   "cell_type": "code",
   "execution_count": null,
   "id": "subject-maryland",
   "metadata": {},
   "outputs": [],
   "source": [
    "import requests\n",
    "\n",
    "# Define API endpoint and parameters\n",
    "api_url = \"http://api.userstack.com/detect\"\n",
    "params = {\n",
    "    \"access_key\": \"ffbf46b1f967d6aba7a40c4b491df275\", #Use your API key\n",
    "    \"ua\": \"Mozilla/5.0 (Macintosh; Intel Mac OS X 10_14_0) AppleWebKit/537.36 (KHTML, like Gecko) Chrome/71.0.3578.98 Safari/537.36\",\n",
    "    \"output\": \"json\",\n",
    "    \"fields\": \"ua,type,device.name,os.name,browser.name,browser.version\"\n",
    "}\n",
    "\n",
    "# Send a GET request to the Userstack API\n",
    "response = requests.get(api_url, params=params)\n",
    "\n",
    "# Check if the request was successful\n",
    "if response.status_code == 200:\n",
    "    data = response.json()\n",
    "\n",
    "    # Display some of the response objects\n",
    "    print(\"User-Agent string:\", data[\"ua\"])\n",
    "    print(\"Entity type:\", data[\"type\"])\n",
    "    print(\"Device name:\", data[\"device\"][\"name\"])\n",
    "    print(\"OS name:\", data[\"os\"][\"name\"])\n",
    "    print(\"Browser name:\", data[\"browser\"][\"name\"])\n",
    "    print(\"Browser version:\", data[\"browser\"][\"version\"])\n",
    "else:\n",
    "    print(\"Error:\", response.status_code)"
   ]
  },
  {
   "cell_type": "markdown",
   "id": "becoming-malaysia",
   "metadata": {},
   "source": [
    "# Countrylayer API"
   ]
  },
  {
   "cell_type": "code",
   "execution_count": null,
   "id": "illegal-bicycle",
   "metadata": {},
   "outputs": [],
   "source": [
    "import requests\n",
    "\n",
    "# Define API URL and access key\n",
    "api_url = \"http://api.countrylayer.com/v2/all\"\n",
    "api_key = \"YOUR API KEY\"\n",
    "\n",
    "# Define API parameters\n",
    "params = {\n",
    "    \"access_key\": api_key,\n",
    "}\n",
    "\n",
    "# Make API request and print response\n",
    "response = requests.get(api_url, params=params)\n",
    "data = response.json()\n",
    "\n",
    "if response.status_code == 200:\n",
    "    print(\"Total number of countries:\", len(data))\n",
    "    print(data)\n",
    "else:\n",
    "    print(\"Error\")\n",
    "    "
   ]
  },
  {
   "cell_type": "markdown",
   "id": "streaming-birmingham",
   "metadata": {},
   "source": [
    "#  ipapi API"
   ]
  },
  {
   "cell_type": "code",
   "execution_count": null,
   "id": "proof-branch",
   "metadata": {},
   "outputs": [],
   "source": [
    "\n",
    "import requests\n",
    "\n",
    "# Set API endpoint and parameters\n",
    "api_url = \"http://api.ipapi.com/api/161.185.160.93\"\n",
    "access_key = \"dbb924accf55228be28445e26ec8a30f\" # Use your API key\n",
    "callback_func = \"CALLBACK_FUNCTION\"\n",
    "\n",
    "# Set request URL with parameters and callback function name\n",
    "request_url = f\"{api_url}?access_key={access_key}&callback={callback_func}\"\n",
    "\n",
    "# Send request and get response\n",
    "response = requests.get(request_url)\n",
    "\n",
    "# Extract JSON response data from callback function\n",
    "json_data = response.text.split(\"(\")[1].split(\")\")[0]\n",
    "\n",
    "# Print JSON data\n",
    "print(json_data)\n"
   ]
  },
  {
   "cell_type": "markdown",
   "id": "married-ferry",
   "metadata": {},
   "source": [
    "# Nudity Detection API"
   ]
  },
  {
   "cell_type": "code",
   "execution_count": null,
   "id": "radical-output",
   "metadata": {},
   "outputs": [],
   "source": [
    "import requests\n",
    "\n",
    "IMAGE_PATH = 'https://assets.apilayer.com/apis/codes/nudity_detection/swimsuits.jpg'\n",
    "\n",
    "url = \"https://api.apilayer.com/nudity_detection/url?url=\"+ IMAGE_PATH\n",
    "\n",
    "payload = {}\n",
    "\n",
    "headers= {\n",
    "  \"apikey\": \"W5N2aA8JW92dbKzcVKYHxQtlzscKA5AE\" #Use your API KEY\n",
    "}\n",
    "\n",
    "response = requests.request(\"GET\", url, headers=headers, data = payload)\n",
    "status_code = response.status_code\n",
    "result = response.text\n",
    "\n",
    "print(result)\n"
   ]
  },
  {
   "cell_type": "markdown",
   "id": "heard-playing",
   "metadata": {},
   "source": [
    "#  Minor Detection API"
   ]
  },
  {
   "cell_type": "code",
   "execution_count": null,
   "id": "banner-sleeping",
   "metadata": {},
   "outputs": [],
   "source": [
    "import requests\n",
    "\n",
    "IMAGE_PATH = 'https://cdn.pixabay.com/photo/2015/06/22/08/40/child-817373_1280.jpg'\n",
    "url = \"https://api.apilayer.com/minor_detection/url?url=\" + IMAGE_PATH\n",
    "\n",
    "payload = {}\n",
    "\n",
    "headers= {\n",
    "  \"apikey\": \"W5N2aA8JW92dbKzcVKYHxQtlzscKA5AE\" #Use your API key\n",
    "}\n",
    "\n",
    "response = requests.request(\"GET\", url, headers=headers, data = payload)\n",
    "status_code = response.status_code\n",
    "result = response.text\n",
    "\n",
    "print(result)"
   ]
  },
  {
   "cell_type": "markdown",
   "id": "patent-syria",
   "metadata": {},
   "source": [
    "# Screenshotlayer API"
   ]
  },
  {
   "cell_type": "code",
   "execution_count": null,
   "id": "descending-award",
   "metadata": {},
   "outputs": [],
   "source": [
    "import requests\n",
    "\n",
    "# Define API URL and access key\n",
    "api_url = \"http://api.screenshotlayer.com/api/capture\"\n",
    "access_key = \"91d79886a66bddb94657c7bcbb202e47\" #Use your API key\n",
    "\n",
    "# Define API parameters\n",
    "url = \"http://www.apple.com\"\n",
    "viewport = \"1440x900\"\n",
    "fullpage = \"1\"\n",
    "params = {\n",
    "    \"access_key\": access_key,\n",
    "    \"url\": url,\n",
    "    \"viewport\": viewport,\n",
    "    \"fullpage\": fullpage,\n",
    "}\n",
    "\n",
    "# Make API request and save screenshot to file\n",
    "response = requests.get(api_url, params=params)\n",
    "with open(\"apple_screenshot.png\", \"wb\") as f:\n",
    "    f.write(response.content)\n"
   ]
  },
  {
   "cell_type": "markdown",
   "id": "backed-communist",
   "metadata": {},
   "source": [
    "# Image To Text API"
   ]
  },
  {
   "cell_type": "code",
   "execution_count": null,
   "id": "double-mobility",
   "metadata": {},
   "outputs": [],
   "source": [
    "import requests\n",
    "\n",
    "# Set your API key and the URL of the image you want to process\n",
    "api_key = \"W5N2aA8JW92dbKzcVKYHxQtlzscKA5AE\"\n",
    "image_url = \"https://i.stack.imgur.com/IvV2y.png\"\n",
    "\n",
    "# Prepare the API endpoint URL with the image URL and API key\n",
    "api_endpoint = f\"https://api.apilayer.com/image_to_text/url?url={image_url}\"\n",
    "headers = {\"apikey\": api_key}\n",
    "\n",
    "# Make a GET request to the API\n",
    "response = requests.get(api_endpoint, headers=headers)\n",
    "\n",
    "# Check if the request was successful (status code 200)\n",
    "if response.status_code == 200:\n",
    "    # Parse the JSON response\n",
    "    data = response.json()\n",
    "\n",
    "    # Extract the relevant information from the response\n",
    "    lang = data[\"lang\"]\n",
    "    all_text = data[\"all_text\"]\n",
    "    annotations = data[\"annotations\"]\n",
    "\n",
    "    # Print the extracted text\n",
    "    print(f\"Detected Language: {lang}\")\n",
    "    print(\"Extracted Text:\")\n",
    "    print(all_text)\n",
    "    print(\"Annotations:\")\n",
    "    print(annotations)\n",
    "else:\n",
    "    # Print an error message if the request was not successful\n",
    "    print(f\"Error: {response.status_code} - {response.text}\")\n"
   ]
  },
  {
   "cell_type": "markdown",
   "id": "removable-zoning",
   "metadata": {},
   "source": [
    "# Resume Parser API "
   ]
  },
  {
   "cell_type": "code",
   "execution_count": null,
   "id": "compliant-positive",
   "metadata": {},
   "outputs": [],
   "source": [
    "import requests\n",
    "\n",
    "# Define the API endpoint\n",
    "api_url = \"https://api.apilayer.com/resume_parser/url\"\n",
    "\n",
    "# Define the headers for the API request\n",
    "headers = {\n",
    "    \"apikey\": \"W5N2aA8JW92dbKzcVKYHxQtlzscKA5AE\" #Use your API key here\n",
    "}\n",
    "\n",
    "# Define the query parameters for the API request\n",
    "params = {\n",
    "    \"url\": \"https://docs.google.com/document/d/1dfM738Pz5GDGKXgrtQ2vzXo1l7QcrgjQcKbJdZEDVWA/edit?usp=sharing\"\n",
    "}\n",
    "\n",
    "# E.g. make your resume shareable in Google drive\n",
    "\n",
    "# Make the API request\n",
    "response = requests.get(api_url, headers=headers, params=params)\n",
    "\n",
    "# Parse the JSON response\n",
    "resume_data = response.json()\n",
    "\n",
    "# Print the parsed resume data\n",
    "print(resume_data)\n"
   ]
  },
  {
   "cell_type": "code",
   "execution_count": null,
   "id": "dental-discussion",
   "metadata": {},
   "outputs": [],
   "source": [
    "import requests\n",
    "\n",
    "# Define the API endpoint\n",
    "api_url = \"https://api.apilayer.com/resume_parser/file\"  # Replace with your actual API endpoint for file parsing\n",
    "\n",
    "# Define the headers for the API request\n",
    "headers = {\n",
    "    \"apikey\": \"W5N2aA8JW92dbKzcVKYHxQtlzscKA5AE\"  # Use your actual API key here\n",
    "}\n",
    "\n",
    "# Open the file in binary mode\n",
    "with open('resume.docx', 'rb') as f:\n",
    "    # Define the file to send\n",
    "    file = {'file': f}\n",
    "\n",
    "    # Make the API request\n",
    "    response = requests.post(api_url, headers=headers, files=file)\n",
    "\n",
    "# Parse the JSON response\n",
    "resume_data = response.json()\n",
    "\n",
    "# Print the parsed resume data\n",
    "print(resume_data)"
   ]
  },
  {
   "cell_type": "code",
   "execution_count": null,
   "id": "tracked-audience",
   "metadata": {},
   "outputs": [],
   "source": [
    "import requests\n",
    "\n",
    "# Define the API endpoint\n",
    "api_url = \"https://api.apilayer.com/resume_parser/url\"\n",
    "\n",
    "# Define the headers for the API request\n",
    "headers = {\n",
    "    \"apikey\": \"W5N2aA8JW92dbKzcVKYHxQtlzscKA5AE\"  # Use your actual API key here\n",
    "}\n",
    "\n",
    "# Define the query parameters for the API request\n",
    "params = {\n",
    "    \"url\": \"https://docs.google.com/document/d/1dfM738Pz5GDGKXgrtQ2vzXo1l7QcrgjQcKbJdZEDVWA/edit?usp=sharing\"\n",
    "}\n",
    "\n",
    "# Make the API request\n",
    "response = requests.get(api_url, headers=headers, params=params)\n",
    "\n",
    "# Parse the JSON response\n",
    "resume_data = response.json()\n",
    "\n",
    "# Print the parsed resume data\n",
    "print(resume_data)\n"
   ]
  },
  {
   "cell_type": "markdown",
   "id": "every-poetry",
   "metadata": {},
   "source": [
    "# World News API"
   ]
  },
  {
   "cell_type": "code",
   "execution_count": null,
   "id": "frequent-meter",
   "metadata": {},
   "outputs": [],
   "source": [
    "import requests\n",
    "\n",
    "url = \"http://api.apilayer.com/world_news/search-news?text=russia&source-countries=us,uk\"\n",
    "payload = {}\n",
    "headers= {\n",
    "  \"apikey\": \"W5N2aA8JW92dbKzcVKYHxQtlzscKA5AE\"\n",
    "}\n",
    "\n",
    "response = requests.request(\"GET\", url, headers=headers, data = payload)\n",
    "\n",
    "status_code = response.status_code\n",
    "result = response.text\n",
    "print(result)"
   ]
  },
  {
   "cell_type": "markdown",
   "id": "determined-warning",
   "metadata": {},
   "source": [
    "# Finance News API"
   ]
  },
  {
   "cell_type": "code",
   "execution_count": null,
   "id": "split-unknown",
   "metadata": {},
   "outputs": [],
   "source": [
    "import requests\n",
    "\n",
    "parameters = {\n",
    "    'date': 'today',\n",
    "    'fallback': 'on',\n",
    "    'keywords': 'Ukraine',\n",
    "    'limit': 10,\n",
    "    'offset': 0,\n",
    "    'sort': 'desc',\n",
    "    'sources': 'forbes.com, bloomberg.com',\n",
    "    'tags': 'Bitcoin, -money',\n",
    "    'tickers': 'btc'\n",
    "}\n",
    "\n",
    "url = \"https://api.apilayer.com/financelayer/news\"\n",
    "\n",
    "headers = {\n",
    "    \"apikey\": \"W5N2aA8JW92dbKzcVKYHxQtlzscKA5AE\" #Use your API Key\n",
    "}\n",
    "\n",
    "response = requests.get(url, headers=headers, params=parameters)\n",
    "\n",
    "status_code = response.status_code\n",
    "result = response.text\n",
    "print(result)"
   ]
  },
  {
   "cell_type": "markdown",
   "id": "effective-slovakia",
   "metadata": {},
   "source": [
    "# Mediastack API "
   ]
  },
  {
   "cell_type": "code",
   "execution_count": null,
   "id": "descending-methodology",
   "metadata": {},
   "outputs": [],
   "source": [
    "import requests\n",
    "\n",
    "# set up the API request parameters\n",
    "url = 'http://api.mediastack.com/v1/news'\n",
    "params = {\n",
    "    'access_key': 'd76e7754c6b1d58f3b07b98b2a59c298', #use your API key\n",
    "    'keywords': 'tennis',\n",
    "    'countries': 'us,gb,de'\n",
    "}\n",
    "\n",
    "# make the GET request\n",
    "response = requests.get(url, params=params)\n",
    "\n",
    "# check if the request was successful\n",
    "\n",
    "if response.status_code == 200:\n",
    "\n",
    "    # parse the JSON response\n",
    "    json_response = response.json()\n",
    "\n",
    "    # extract the news articles\n",
    "    news_articles = json_response['data']\n",
    "\n",
    "    # print the title of each article\n",
    "    for article in news_articles:\n",
    "        print(article['title'])\n",
    "else:\n",
    "    print('Error: request failed with status code', response.status_code)\n"
   ]
  },
  {
   "cell_type": "markdown",
   "id": "egyptian-clock",
   "metadata": {},
   "source": [
    "# SERP API"
   ]
  },
  {
   "cell_type": "code",
   "execution_count": null,
   "id": "boolean-switch",
   "metadata": {},
   "outputs": [],
   "source": [
    "import requests\n",
    "\n",
    "# Set the URL for the API request, with placeholders for query parameters\n",
    "# Replace {query} with the keyword(s) you want to search for, and {type} with the type of search (e.g. \"web\", \"image\", \"news\")\n",
    "url = \"https://api.apilayer.com/serp/search?type={type}&query={query}\"\n",
    "\n",
    "# Create an empty payload (i.e. request body)\n",
    "payload = {}\n",
    "\n",
    "# Set the API key in the request headers\n",
    "headers = {\n",
    "    \"apikey\": \"W5N2aA8JW92dbKzcVKYHxQtlzscKA5AE\" #use your API key\n",
    "}\n",
    "\n",
    "# Replace {query} with the keyword(s) you want to search for, and {type} with the type of search (e.g. \"web\", \"image\", \"news\")\n",
    "# You can also add optional parameters to customize your search (e.g. \"gl\" for country code, \"hl\" for language, \"num\" for number of results)\n",
    "# See API documentation for more details: https://apilayer.com/serpstack\n",
    "url_with_params = url.format(query=\"your search keywords\", type=\"web\", gl=\"us\", hl=\"en\", num=10)\n",
    "\n",
    "# Make the API request using the GET method, passing in the URL with parameters, headers, and payload\n",
    "response = requests.request(\"GET\", url_with_params, headers=headers, data=payload)\n",
    "\n",
    "# Get the HTTP status code from the response object\n",
    "status_code = response.status_code\n",
    "\n",
    "# Get the response body as text (i.e. a string)\n",
    "result = response.text\n",
    "\n",
    "print(result)\n"
   ]
  },
  {
   "cell_type": "markdown",
   "id": "knowing-specific",
   "metadata": {},
   "source": [
    "# Zenscrape API"
   ]
  },
  {
   "cell_type": "code",
   "execution_count": null,
   "id": "suspended-grove",
   "metadata": {},
   "outputs": [],
   "source": [
    "import requests\n",
    "\n",
    "headers = { \n",
    "    \"apikey\": \"3551e440-39ea-11ed-ab7e-c73f68fcd539\"\n",
    "}\n",
    "\n",
    "params = (\n",
    "   (\"url\",\"https://freegeoip.app/json/\"),\n",
    ");\n",
    "\n",
    "response = requests.get('https://app.zenscrape.com/api/v1/get', headers=headers, params=params);\n",
    "print(response.text)"
   ]
  },
  {
   "cell_type": "markdown",
   "id": "legal-review",
   "metadata": {},
   "source": [
    "# Zenserp API"
   ]
  },
  {
   "cell_type": "code",
   "execution_count": null,
   "id": "labeled-academy",
   "metadata": {},
   "outputs": [],
   "source": []
  },
  {
   "cell_type": "markdown",
   "id": "cardiac-importance",
   "metadata": {},
   "source": [
    "# Serpstack API"
   ]
  },
  {
   "cell_type": "code",
   "execution_count": null,
   "id": "adopted-ghana",
   "metadata": {},
   "outputs": [],
   "source": [
    "import requests\n",
    "import json\n",
    "\n",
    "params = {\n",
    "  'access_key': 'YOUR API KEY',\n",
    "  'query': 'mcdonalds'\n",
    "}\n",
    "\n",
    "api_result = requests.get('http://api.serpstack.com/search', params)\n",
    "\n",
    "api_response = api_result.json()\n",
    "\n",
    "print(json.dumps(api_response, indent=4))"
   ]
  },
  {
   "cell_type": "markdown",
   "id": "organized-graham",
   "metadata": {},
   "source": [
    "# Scrapestack  API"
   ]
  },
  {
   "cell_type": "code",
   "execution_count": 3,
   "id": "aware-wright",
   "metadata": {},
   "outputs": [
    {
     "name": "stdout",
     "output_type": "stream",
     "text": [
      "b'<!doctype html>\\n<html>\\n<head>\\n    <title>Example Domain</title>\\n\\n    <meta charset=\"utf-8\" />\\n    <meta http-equiv=\"Content-type\" content=\"text/html; charset=utf-8\" />\\n    <meta name=\"viewport\" content=\"width=device-width, initial-scale=1\" />\\n    <style type=\"text/css\">\\n    body {\\n        background-color: #f0f0f2;\\n        margin: 0;\\n        padding: 0;\\n        font-family: -apple-system, system-ui, BlinkMacSystemFont, \"Segoe UI\", \"Open Sans\", \"Helvetica Neue\", Helvetica, Arial, sans-serif;\\n        \\n    }\\n    div {\\n        width: 600px;\\n        margin: 5em auto;\\n        padding: 2em;\\n        background-color: #fdfdff;\\n        border-radius: 0.5em;\\n        box-shadow: 2px 3px 7px 2px rgba(0,0,0,0.02);\\n    }\\n    a:link, a:visited {\\n        color: #38488f;\\n        text-decoration: none;\\n    }\\n    @media (max-width: 700px) {\\n        div {\\n            margin: 0 auto;\\n            width: auto;\\n        }\\n    }\\n    </style>    \\n</head>\\n\\n<body>\\n<div>\\n    <h1>Example Domain</h1>\\n    <p>This domain is for use in illustrative examples in documents. You may use this\\n    domain in literature without prior coordination or asking for permission.</p>\\n    <p><a href=\"https://www.iana.org/domains/example\">More information...</a></p>\\n</div>\\n</body>\\n</html>\\n'\n"
     ]
    }
   ],
   "source": [
    "import requests\n",
    "\n",
    "params = {\n",
    "  'access_key': 'bf402817f4bd1df7bb8f72e4bac2ab6d', #Use your API key\n",
    "  'url': 'http://example.com'\n",
    "}\n",
    "\n",
    "api_result = requests.get('http://api.scrapestack.com/scrape', params)\n",
    "website_content = api_result.content\n",
    "\n",
    "print(website_content)"
   ]
  },
  {
   "cell_type": "markdown",
   "id": "historical-fundamentals",
   "metadata": {},
   "source": [
    "# Spotify API"
   ]
  },
  {
   "cell_type": "code",
   "execution_count": 6,
   "id": "soviet-stephen",
   "metadata": {},
   "outputs": [
    {
     "name": "stdout",
     "output_type": "stream",
     "text": [
      "{\n",
      "    \"message\": \"Something went wrong!\"\n",
      "}\n",
      "\n"
     ]
    }
   ],
   "source": [
    "import requests\n",
    "\n",
    "url = \"http://api.apilayer.com/spotify/playlist?id=6tbjWDEIzxoDsBA1FuhfPW\"\n",
    "\n",
    "payload = {}\n",
    "headers= {\"apikey\": \"W5N2aA8JW92dbKzcVKYHxQtlzscKA5AE\"} #Use your API key\n",
    "\n",
    "response = requests.request(\"GET\", url, headers=headers, data = payload)\n",
    "\n",
    "status_code = response.status_code\n",
    "result = response.text\n",
    "print(result)\n"
   ]
  },
  {
   "cell_type": "code",
   "execution_count": 7,
   "id": "variable-miller",
   "metadata": {},
   "outputs": [
    {
     "name": "stdout",
     "output_type": "stream",
     "text": [
      "{\n",
      "    \"message\": \"Something went wrong!\"\n",
      "}\n",
      "\n"
     ]
    }
   ],
   "source": [
    "import requests\n",
    "\n",
    "url = \"https://api.apilayer.com/spotify/album_metadata?id=6tbjWDEIzxoDsBA1FuhfPW\"\n",
    "\n",
    "payload = {}\n",
    "headers= {\n",
    "  \"apikey\": \"W5N2aA8JW92dbKzcVKYHxQtlzscKA5AE\"\n",
    "}\n",
    "\n",
    "response = requests.request(\"GET\", url, headers=headers, data = payload)\n",
    "\n",
    "status_code = response.status_code\n",
    "result = response.text\n",
    "print(result)"
   ]
  },
  {
   "cell_type": "markdown",
   "id": "vanilla-lottery",
   "metadata": {},
   "source": [
    "# App Store API"
   ]
  },
  {
   "cell_type": "code",
   "execution_count": 9,
   "id": "southern-submission",
   "metadata": {},
   "outputs": [
    {
     "name": "stdout",
     "output_type": "stream",
     "text": [
      "Enter your search query: scrabble\n",
      "{'id': 1215933788, 'appId': 'com.pieyel.scrabble', 'title': 'Scrabble® GO - New Word Game', 'url': 'https://apps.apple.com/us/app/scrabble-go-new-word-game/id1215933788?uo=4', 'description': 'Welcome to Scrabble GO, the new and updated version of the world’s favorite word game!\\n\\nCLASSIC SCRABBLE\\nPlay the classic Scrabble game you know and love! With the official board, tiles, and Scrabble word dictionaries, only Scrabble GO delivers the authentic crossword game experience.\\n\\nPLAY WITH FRIENDS AND FAMILY \\nEasily play games with your Facebook friends and family! Expand your Scrabble friends with the new Favorite feature, which makes staying connected a snap. Express yourself in-game with fun and easy-to-use chat emojis and phrases.\\n\\n\\nCOLLECT PLAYABLE TILES\\nPersonalize your Scrabble experience with custom tiles! Unlock chests to collect a variety of visually stunning tiles, then show off your new tiles to other players in-game as you compete!\\n\\nNEW WORD GAMES!\\nFeeling competitive? Test your skills in one of four exciting new word games: \\n\\n- Duels - A fast-paced, head-to-head Scrabble! You’ll be matched up against players of similar skill and play five turns each. But hurry up, because each turn is on a timer. Victories in Duels unlock prize chests! \\n\\n- Word Drop - An ever-changing word search game. Your used tiles are replaced, shifting the remaining letters and opening up new possibilities!\\n\\n- Tumbler - Like anagrams? This new mode challenges you to find as many high-scoring words from a rotating set of letters in a limited amount of time. Score bonuses for word length and unique words!\\n\\n- Rush - In this solo Scrabble mode, your only ally - or enemy - is yourself. Play off your own words and try to set up high-scoring plays on a smaller 11x11 board. With a limited amount of time and turns, every move counts!\\n\\nLEAGUES\\nClimb your way up the League leaderboards by playing in Arena Tournaments! Leagues are updated weekly, and the higher you rank, the more XP and chests you gain, as well as an exclusive League Frame to show off your progress. \\n\\nPRACTICE MODE\\nPlay Scrabble one-on-one against the computer with Practice Mode! Designed to match your skill level, it’s a great way to test out new strategies.\\n\\nTRACK STATS\\nSee how your Scrabble skills are progressing with our in-depth profile page! View your scoring averages, longest words, best plays, and more! Visit another player’s profile to see Head-to-Head stats.\\n\\nSCRABBLE CLUB\\nEnjoy a wealth of benefits with a Scrabble Club subscription!  \\n- Ads-free experience\\n- Access exclusive content and rewards for Weekly Challenges\\n- Unlimited use of the new Scrabble Scholar boost\\n- Full Access to the new Word Power Meter boost\\n- An additional Arena Ticket delivered daily to their inbox\\n\\nThe Scrabble Club subscription is available for a monthly cost charged to your iTunes account at the end of each 30-day subscription period, at the price displayed to you at the time of purchase, unless auto-renew is turned off 24 hours prior to the renewal date.\\n\\nA Scrabble Club one-week Free Trial will convert to a Paid subscription unless auto-renew is turned off 24 hours prior to the end of the trial. Unused portions of free trials will be forfeited upon purchase of a subscription. You can manage subscriptions and turn off auto-renewals in your device account settings, as described in our FAQ on \"How to Cancel a Subscription.\"\\n\\nLike us on Facebook:  https://www.facebook.com/ScrabbleGO/ \\nFollow us on Twitter:  https://twitter.com/ScrabbleGO\\nFollow us on Instagram:  https://www.instagram.com/ScrabbleGO/\\n\\nPrivacy Policy:  http://scopely.com/privacy/\\nTerms of Service: http://scopely.com/tos/\\n\\nBy installing this game you agree to the terms of the license agreements.\\n\\nThe MONOPOLY name and logo, the distinctive design of the game board, the four corner squares, the MR. MONOPOLY name and character, as well as each of the distinctive elements of board and playing pieces are trademarks of Hasbro, Inc. for its property trading game and game equipment.  © 1935, 2021 Hasbro.\\n\\nAdditional Information, Rights, and Choices Available to California Players: https://scopely.com/privacy/#additionalinfo-california.', 'icon': 'https://is4-ssl.mzstatic.com/image/thumb/Purple116/v4/d3/db/f3/d3dbf356-8bdc-a141-bf01-55b78dabb695/AppIcon-0-0-1x_U007emarketing-0-0-0-4-0-0-sRGB-0-0-0-GLES2_U002c0-512MB-85-220-0-0.png/512x512bb.jpg', 'genres': ['Games', 'Word', 'Entertainment', 'Board'], 'genreIds': ['6014', '7019', '6016', '7004'], 'primaryGenre': 'Games', 'primaryGenreId': 6014, 'contentRating': '9+', 'languages': ['SQ', 'AR', 'BG', 'CS', 'DA', 'NL', 'EN', 'FI', 'FR', 'KA', 'DE', 'HE', 'HU', 'ID', 'IT', 'JA', 'KO', 'NB', 'FA', 'PL', 'PT', 'RO', 'RU', 'SR', 'ZH', 'SK', 'ES', 'SV', 'TH', 'ZH', 'TR', 'UK', 'VI', 'XH', 'ZU'], 'size': '227701760', 'requiredOsVersion': '11.0', 'released': '2020-03-03T08:00:00Z', 'updated': '2023-06-15T08:54:09Z', 'releaseNotes': 'Enjoy an improved experience with more polish, bug fixes, and performance optimizations', 'version': '1.69.0', 'price': 0, 'currency': 'USD', 'free': True, 'developerId': 305003647, 'developer': 'Scopely, Inc.', 'developerUrl': 'https://apps.apple.com/us/developer/scopely-inc/id305003647?uo=4', 'developerWebsite': 'https://www.scopely.com', 'score': 4.5201, 'reviews': 237228, 'currentVersionScore': 4.5201, 'currentVersionReviews': 237228, 'screenshots': ['https://is3-ssl.mzstatic.com/image/thumb/Purple124/v4/71/28/35/7128354f-7b65-3ca7-7e67-46e85d01af1f/pr_source.jpg/392x696bb.jpg', 'https://is4-ssl.mzstatic.com/image/thumb/Purple124/v4/f2/3c/26/f23c269b-5a07-6cf3-759e-f3dc829ecc8d/pr_source.jpg/392x696bb.jpg', 'https://is1-ssl.mzstatic.com/image/thumb/Purple124/v4/1e/ed/be/1eedbe55-f258-3f77-2951-45e3e0949499/pr_source.jpg/392x696bb.jpg', 'https://is2-ssl.mzstatic.com/image/thumb/Purple124/v4/58/9c/7c/589c7ce3-8b69-e94c-e8f0-cedc53cf66c4/pr_source.jpg/392x696bb.jpg', 'https://is1-ssl.mzstatic.com/image/thumb/Purple124/v4/57/12/09/571209b9-df5a-2fd5-55e8-7a041ffbfa05/pr_source.jpg/392x696bb.jpg', 'https://is1-ssl.mzstatic.com/image/thumb/Purple124/v4/57/6b/c2/576bc221-c937-94fe-7de5-00bf435f35d4/pr_source.jpg/392x696bb.jpg'], 'ipadScreenshots': ['https://is1-ssl.mzstatic.com/image/thumb/Purple124/v4/6b/a5/c6/6ba5c633-41b0-d066-4946-d0eaf2ce19a7/pr_source.jpg/576x768bb.jpg', 'https://is1-ssl.mzstatic.com/image/thumb/Purple124/v4/a3/56/8f/a3568f23-bfdd-7677-8f0e-5247a652cadb/pr_source.jpg/576x768bb.jpg', 'https://is2-ssl.mzstatic.com/image/thumb/Purple124/v4/53/3e/cc/533eccfa-b8ef-fb1d-7b4a-5069dda76304/pr_source.jpg/576x768bb.jpg', 'https://is1-ssl.mzstatic.com/image/thumb/Purple124/v4/4f/cf/80/4fcf8080-c6f9-ddd1-046b-4a84b33fc9bc/pr_source.jpg/576x768bb.jpg', 'https://is4-ssl.mzstatic.com/image/thumb/Purple124/v4/21/6d/4a/216d4a33-f0b5-9f5d-b5e9-06f1b0e79e7e/pr_source.jpg/576x768bb.jpg', 'https://is3-ssl.mzstatic.com/image/thumb/Purple124/v4/ab/47/3d/ab473d16-06a7-8664-ddb6-dc88fd13dd79/pr_source.jpg/576x768bb.jpg'], 'appletvScreenshots': [], 'supportedDevices': ['iPhone5s-iPhone5s', 'iPadAir-iPadAir', 'iPadAirCellular-iPadAirCellular', 'iPadMiniRetina-iPadMiniRetina', 'iPadMiniRetinaCellular-iPadMiniRetinaCellular', 'iPhone6-iPhone6', 'iPhone6Plus-iPhone6Plus', 'iPadAir2-iPadAir2', 'iPadAir2Cellular-iPadAir2Cellular', 'iPadMini3-iPadMini3', 'iPadMini3Cellular-iPadMini3Cellular', 'iPodTouchSixthGen-iPodTouchSixthGen', 'iPhone6s-iPhone6s', 'iPhone6sPlus-iPhone6sPlus', 'iPadMini4-iPadMini4', 'iPadMini4Cellular-iPadMini4Cellular', 'iPadPro-iPadPro', 'iPadProCellular-iPadProCellular', 'iPadPro97-iPadPro97', 'iPadPro97Cellular-iPadPro97Cellular', 'iPhoneSE-iPhoneSE', 'iPhone7-iPhone7', 'iPhone7Plus-iPhone7Plus', 'iPad611-iPad611', 'iPad612-iPad612', 'iPad71-iPad71', 'iPad72-iPad72', 'iPad73-iPad73', 'iPad74-iPad74', 'iPhone8-iPhone8', 'iPhone8Plus-iPhone8Plus', 'iPhoneX-iPhoneX', 'iPad75-iPad75', 'iPad76-iPad76', 'iPhoneXS-iPhoneXS', 'iPhoneXSMax-iPhoneXSMax', 'iPhoneXR-iPhoneXR', 'iPad812-iPad812', 'iPad834-iPad834', 'iPad856-iPad856', 'iPad878-iPad878', 'iPadMini5-iPadMini5', 'iPadMini5Cellular-iPadMini5Cellular', 'iPadAir3-iPadAir3', 'iPadAir3Cellular-iPadAir3Cellular', 'iPodTouchSeventhGen-iPodTouchSeventhGen', 'iPhone11-iPhone11', 'iPhone11Pro-iPhone11Pro', 'iPadSeventhGen-iPadSeventhGen', 'iPadSeventhGenCellular-iPadSeventhGenCellular', 'iPhone11ProMax-iPhone11ProMax', 'iPhoneSESecondGen-iPhoneSESecondGen', 'iPadProSecondGen-iPadProSecondGen', 'iPadProSecondGenCellular-iPadProSecondGenCellular', 'iPadProFourthGen-iPadProFourthGen', 'iPadProFourthGenCellular-iPadProFourthGenCellular', 'iPhone12Mini-iPhone12Mini', 'iPhone12-iPhone12', 'iPhone12Pro-iPhone12Pro', 'iPhone12ProMax-iPhone12ProMax', 'iPadAir4-iPadAir4', 'iPadAir4Cellular-iPadAir4Cellular', 'iPadEighthGen-iPadEighthGen', 'iPadEighthGenCellular-iPadEighthGenCellular', 'iPadProThirdGen-iPadProThirdGen', 'iPadProThirdGenCellular-iPadProThirdGenCellular', 'iPadProFifthGen-iPadProFifthGen', 'iPadProFifthGenCellular-iPadProFifthGenCellular', 'iPhone13Pro-iPhone13Pro', 'iPhone13ProMax-iPhone13ProMax', 'iPhone13Mini-iPhone13Mini', 'iPhone13-iPhone13', 'iPadMiniSixthGen-iPadMiniSixthGen', 'iPadMiniSixthGenCellular-iPadMiniSixthGenCellular', 'iPadNinthGen-iPadNinthGen', 'iPadNinthGenCellular-iPadNinthGenCellular', 'iPhoneSEThirdGen-iPhoneSEThirdGen', 'iPadAirFifthGen-iPadAirFifthGen', 'iPadAirFifthGenCellular-iPadAirFifthGenCellular', 'iPhone14-iPhone14', 'iPhone14Plus-iPhone14Plus', 'iPhone14Pro-iPhone14Pro', 'iPhone14ProMax-iPhone14ProMax', 'iPadTenthGen-iPadTenthGen', 'iPadTenthGenCellular-iPadTenthGenCellular', 'iPadPro11FourthGen-iPadPro11FourthGen', 'iPadPro11FourthGenCellular-iPadPro11FourthGenCellular', 'iPadProSixthGen-iPadProSixthGen', 'iPadProSixthGenCellular-iPadProSixthGenCellular']}\n"
     ]
    },
    {
     "name": "stdout",
     "output_type": "stream",
     "text": [
      "{'id': 1196764367, 'appId': 'com.zynga.WordsWithFriends3', 'title': 'Words With Friends 2 Word Game', 'url': 'https://apps.apple.com/us/app/words-with-friends-2-word-game/id1196764367?uo=4', 'description': 'ONE OF THE WORLD’S MOST POPULAR MOBILE WORD GAMES is better and smarter than ever before! Unscramble letters, train your brain and indulge in a plethora of word games and puzzles in Words With Friends 2! Connect with loved ones, expand your vocabulary, and show off your spelling bee skills as you search for the highest scoring word in this beloved classic free word game. May the Best Friend Win.™\\n \\nCREATE A GAME\\n \\n► The word games showdown starts here. Challenge your friends and family members to play, or use Smart Match to find your perfect opponent. Unscramble and search for the highest scoring words on the board and fill in the crossword style puzzle!\\n \\nCOMPLETE GOALS AND GET REWARDED\\n \\n► Play your best words to complete daily, weekend, and weekly goals to earn keys and unlock exclusive collectible rewards with Rewards Pass! With a new theme every 6 weeks, there is always something new and exciting to collect! Climb the rewards track and collect them all!\\n \\nPLAY WORDS AT FULL SPEED WITH QUICK PLAY EVENTS!\\n \\n► The brain train is moving at full speed! Check out Quick Play, the new home for competitive minigames such as Duels! Tap on over to the Events tab to learn more.\\n \\nBOOST YOUR WORD GAME IN SOLO CHALLENGE\\n \\n► Play against themed WordMaster characters to test and improve your spelling, vocabulary and word skills in this word puzzle ladder. Stay sharp, because as you move up, the WordMasters will get tougher to beat.\\n \\nCOMPETE IN LIGHTNING ROUND\\n \\n► Collaborative meets competitive gameplay in this new, multiplayer fast team mode. Play on a team of 5 players, and face off in a match to play your best words and be the fastest to score the most points!\\n \\nSWITCH IT UP WITH WORD WHEEL\\n \\n► Do you love crossword puzzles? Do anagrams get your brain wheels turning? Unscramble and challenge your brain by playing solo in this easy-to-play, limited time text twist mini-game.\\n \\nCUSTOMIZE YOUR WORD STYLE\\n \\n► Show off your word game persona and play words with flair through Stickers, Tile Styles and Profile Frames! You can now also equip Widgets to stay updated with your ongoing matches and favorite events!\\n \\n---\\n \\nPlay Words With Friends 2 without third party ads between moves if you previously purchased either Words With Friends Pro or no third-party ads in the original Words With Friends on any mobile device. Be sure to login with Facebook or the email account you used to make the previous purchase to continue to play without third party ads between moves.\\n \\nAlready an accomplished Wordie? Follow us to stay up-to-date on game news, contests, polls and other fun stuff.\\n \\nhttps://www.facebook.com/WordsWithFriends\\nhttps://twitter.com/WordsWFriends\\nhttps://instagram.com/wordswithfriends\\nhttps://youtube.com/wordswithfriends\\n \\nPlay one of the most fun, social word puzzles on mobile! Download Words With Friends 2 today!\\n \\nThe game is free to play; however, in-app purchases are available for additional content and in-game currency.\\n \\nFor more information, see our Terms of Service: https://www.zynga.com/legal/terms-of-service and Privacy Policy: https://www.zynga.com/privacy/policy', 'icon': 'https://is4-ssl.mzstatic.com/image/thumb/Purple126/v4/b2/06/47/b2064716-1536-ca96-972e-b32ab9cd0a5f/app_icon.Words3-0-0-1x_U007emarketing-0-0-0-7-0-0-sRGB-0-0-0-GLES2_U002c0-512MB-85-220-0-0.png/512x512bb.jpg', 'genres': ['Games', 'Entertainment', 'Word', 'Board'], 'genreIds': ['6014', '6016', '7019', '7004'], 'primaryGenre': 'Games', 'primaryGenreId': 6014, 'contentRating': '4+', 'languages': ['EN', 'FR', 'DE', 'IT', 'PT', 'ES'], 'size': '214618112', 'requiredOsVersion': '12.0', 'released': '2017-11-07T21:42:27Z', 'updated': '2023-05-31T22:50:56Z', 'releaseNotes': 'This update includes some minor bug fixes and security improvements.\\n\\nFlex your word skills to help your club become top of the leaderboard!\\n\\nA new Rewards Pass, new friends, and new challenges await!', 'version': '19.60.1', 'price': 0, 'currency': 'USD', 'free': True, 'developerId': 295913422, 'developer': 'Zynga Inc.', 'developerUrl': 'https://apps.apple.com/us/developer/zynga-inc/id295913422?uo=4', 'developerWebsite': 'https://www.zynga.com/', 'score': 4.61623, 'reviews': 672497, 'currentVersionScore': 4.61623, 'currentVersionReviews': 672497, 'screenshots': ['https://is4-ssl.mzstatic.com/image/thumb/PurpleSource116/v4/11/d6/a0/11d6a0b5-93d8-1da9-077d-677602ce61e2/5fbdcd2e-1c90-4541-bb02-fc36911e4927_WWF2_U0028EN_U0029_GameplayScreenshots_GP_1242x2208_2-1.png/392x696bb.png', 'https://is2-ssl.mzstatic.com/image/thumb/PurpleSource126/v4/c8/98/19/c8981935-6f68-9148-f705-1b200c9119d6/ba9a607b-1f06-4011-be8a-90f55a4d71d6_WWF2_U0028EN_U0029_GameplayScreenshots_GP_1242x2208_2-2.png/392x696bb.png', 'https://is1-ssl.mzstatic.com/image/thumb/PurpleSource116/v4/b0/82/97/b08297d1-3dc8-97f3-5446-e2c09d6288dc/bf9d886f-d1a3-4e6c-8bc3-ca3cf9c3ebd9_WWF2_U0028EN_U0029_GameplayScreenshots_GP_1242x2208_2-3.png/392x696bb.png', 'https://is4-ssl.mzstatic.com/image/thumb/PurpleSource126/v4/c2/e1/aa/c2e1aa31-1429-b358-fa15-5262298c3957/db04ea86-37fa-467b-9284-86db667a5486_WWF2_U0028EN_U0029_GameplayScreenshots_GP_1242x2208_2-4.png/392x696bb.png', 'https://is2-ssl.mzstatic.com/image/thumb/PurpleSource126/v4/d4/43/ec/d443ec78-5d8b-0da7-72c8-8b790b8947bf/3c7e08dc-2093-45af-bf96-04c05af3110c_WWF2_U0028EN_U0029_GameplayScreenshots_GP_1242x2208_2-5.png/392x696bb.png'], 'ipadScreenshots': ['https://is5-ssl.mzstatic.com/image/thumb/PurpleSource126/v4/c5/c3/62/c5c3620c-b467-66d5-772d-d1ab7582d3c7/b7cd37ff-df31-49d5-81c3-ba51a1e0f627_WWF2_U0028EN_U0029_GameplayScreenshots_iPad_2048x2732_2-1.jpg/576x768bb.jpg', 'https://is1-ssl.mzstatic.com/image/thumb/PurpleSource126/v4/41/dc/11/41dc11c7-29fd-6b0e-867e-7519a5a07751/58ae0a25-ae07-4305-bd50-4a62471a8e47_WWF2_U0028EN_U0029_GameplayScreenshots_iPad_2048x2732_2-2.jpg/576x768bb.jpg', 'https://is4-ssl.mzstatic.com/image/thumb/PurpleSource116/v4/2e/a4/f3/2ea4f3d3-9c67-1ef9-6898-bce329b9034f/d9457f6c-3780-46fa-915b-d6c74fa02a62_WWF2_U0028EN_U0029_GameplayScreenshots_iPad_2048x2732_2-3.jpg/576x768bb.jpg', 'https://is5-ssl.mzstatic.com/image/thumb/PurpleSource126/v4/5e/c9/63/5ec963ab-9c74-d6e3-719a-0a607282818b/96efdf9f-ffa4-45ce-a21f-032752192e87_WWF2_U0028EN_U0029_GameplayScreenshots_iPad_2048x2732_2-4.jpg/576x768bb.jpg', 'https://is5-ssl.mzstatic.com/image/thumb/PurpleSource126/v4/68/38/31/6838316b-0523-e4fd-e20c-dff0d5ed8d3d/957309b0-32cb-4eb6-98b9-81f40ebae39e_WWF2_U0028EN_U0029_GameplayScreenshots_iPad_2048x2732_2-5.jpg/576x768bb.jpg'], 'appletvScreenshots': [], 'supportedDevices': ['iPhone5s-iPhone5s', 'iPadAir-iPadAir', 'iPadAirCellular-iPadAirCellular', 'iPadMiniRetina-iPadMiniRetina', 'iPadMiniRetinaCellular-iPadMiniRetinaCellular', 'iPhone6-iPhone6', 'iPhone6Plus-iPhone6Plus', 'iPadAir2-iPadAir2', 'iPadAir2Cellular-iPadAir2Cellular', 'iPadMini3-iPadMini3', 'iPadMini3Cellular-iPadMini3Cellular', 'iPodTouchSixthGen-iPodTouchSixthGen', 'iPhone6s-iPhone6s', 'iPhone6sPlus-iPhone6sPlus', 'iPadMini4-iPadMini4', 'iPadMini4Cellular-iPadMini4Cellular', 'iPadPro-iPadPro', 'iPadProCellular-iPadProCellular', 'iPadPro97-iPadPro97', 'iPadPro97Cellular-iPadPro97Cellular', 'iPhoneSE-iPhoneSE', 'iPhone7-iPhone7', 'iPhone7Plus-iPhone7Plus', 'iPad611-iPad611', 'iPad612-iPad612', 'iPad71-iPad71', 'iPad72-iPad72', 'iPad73-iPad73', 'iPad74-iPad74', 'iPhone8-iPhone8', 'iPhone8Plus-iPhone8Plus', 'iPhoneX-iPhoneX', 'iPad75-iPad75', 'iPad76-iPad76', 'iPhoneXS-iPhoneXS', 'iPhoneXSMax-iPhoneXSMax', 'iPhoneXR-iPhoneXR', 'iPad812-iPad812', 'iPad834-iPad834', 'iPad856-iPad856', 'iPad878-iPad878', 'iPadMini5-iPadMini5', 'iPadMini5Cellular-iPadMini5Cellular', 'iPadAir3-iPadAir3', 'iPadAir3Cellular-iPadAir3Cellular', 'iPodTouchSeventhGen-iPodTouchSeventhGen', 'iPhone11-iPhone11', 'iPhone11Pro-iPhone11Pro', 'iPadSeventhGen-iPadSeventhGen', 'iPadSeventhGenCellular-iPadSeventhGenCellular', 'iPhone11ProMax-iPhone11ProMax', 'iPhoneSESecondGen-iPhoneSESecondGen', 'iPadProSecondGen-iPadProSecondGen', 'iPadProSecondGenCellular-iPadProSecondGenCellular', 'iPadProFourthGen-iPadProFourthGen', 'iPadProFourthGenCellular-iPadProFourthGenCellular', 'iPhone12Mini-iPhone12Mini', 'iPhone12-iPhone12', 'iPhone12Pro-iPhone12Pro', 'iPhone12ProMax-iPhone12ProMax', 'iPadAir4-iPadAir4', 'iPadAir4Cellular-iPadAir4Cellular', 'iPadEighthGen-iPadEighthGen', 'iPadEighthGenCellular-iPadEighthGenCellular', 'iPadProThirdGen-iPadProThirdGen', 'iPadProThirdGenCellular-iPadProThirdGenCellular', 'iPadProFifthGen-iPadProFifthGen', 'iPadProFifthGenCellular-iPadProFifthGenCellular', 'iPhone13Pro-iPhone13Pro', 'iPhone13ProMax-iPhone13ProMax', 'iPhone13Mini-iPhone13Mini', 'iPhone13-iPhone13', 'iPadMiniSixthGen-iPadMiniSixthGen', 'iPadMiniSixthGenCellular-iPadMiniSixthGenCellular', 'iPadNinthGen-iPadNinthGen', 'iPadNinthGenCellular-iPadNinthGenCellular', 'iPhoneSEThirdGen-iPhoneSEThirdGen', 'iPadAirFifthGen-iPadAirFifthGen', 'iPadAirFifthGenCellular-iPadAirFifthGenCellular', 'iPhone14-iPhone14', 'iPhone14Plus-iPhone14Plus', 'iPhone14Pro-iPhone14Pro', 'iPhone14ProMax-iPhone14ProMax', 'iPadTenthGen-iPadTenthGen', 'iPadTenthGenCellular-iPadTenthGenCellular', 'iPadPro11FourthGen-iPadPro11FourthGen', 'iPadPro11FourthGenCellular-iPadPro11FourthGenCellular', 'iPadProSixthGen-iPadProSixthGen', 'iPadProSixthGenCellular-iPadProSixthGenCellular']}\n"
     ]
    },
    {
     "name": "stdout",
     "output_type": "stream",
     "text": [
      "{'id': 321916506, 'appId': 'com.newtoyinc.WordsWithFriendsFree', 'title': 'Words With Friends Classic', 'url': 'https://apps.apple.com/us/app/words-with-friends-classic/id321916506?uo=4', 'description': 'Come enjoy The Original Word Play! Grab your mobile device and prove you have what it takes to best your friends and family in this addictive multiplayer game. Whether you need to relax after a long day, or are looking to train your brain, Words With Friends Classic is perfect for you! Make sure to keep your mind sharp as you choose the perfect move on the board, as one word can be the difference between victory and defeat!\\nAre you looking for a way to build your vocabulary by yourself? Our Solo Challenge is the answer! There is no better way to train your brain than against our fiendish word masters. Looking for new friends with whom to play puzzle games? You can practice your crossword skills with our random opponent matchmaking. No matter if you play with friends old or new, stay connected with our in-game chat, and track your progress with unlockable stats. \\nThink you\\'re the best at word games of all your friends? Prove it by racking up points and beating your Weekly Challenge! \\n\\nFor more information, see our Terms of Service: https://www.zynga.com/legal/terms-of-service and Privacy Policy: https://www.zynga.com/privacy/policy\"\\n \\n“The game is free to play; however, in-app purchases are available for additional content and in-game currency.”\\n\\nJust another title from Zynga’s Games With Friends™', 'icon': 'https://is2-ssl.mzstatic.com/image/thumb/Purple116/v4/9c/11/03/9c1103c7-fdb8-080c-f36b-e241a0a2259a/contsched.lhtgaqyc.png/512x512bb.jpg', 'genres': ['Games', 'Word', 'Entertainment', 'Board'], 'genreIds': ['6014', '7019', '6016', '7004'], 'primaryGenre': 'Games', 'primaryGenreId': 6014, 'contentRating': '4+', 'languages': ['EN', 'FR', 'DE', 'IT', 'PT', 'ES'], 'size': '213994496', 'requiredOsVersion': '12.0', 'released': '2009-07-19T17:03:10Z', 'updated': '2023-05-31T22:47:31Z', 'releaseNotes': 'Experience effortless gameplay with this release’s updates and bug fixes!', 'version': '19.60.1', 'price': 0, 'currency': 'USD', 'free': True, 'developerId': 295913422, 'developer': 'Zynga Inc.', 'developerUrl': 'https://apps.apple.com/us/developer/zynga-inc/id295913422?uo=4', 'developerWebsite': 'https://www.zynga.com/', 'score': 4.52108, 'reviews': 73184, 'currentVersionScore': 4.52108, 'currentVersionReviews': 73184, 'screenshots': ['https://is2-ssl.mzstatic.com/image/thumb/Purple113/v4/ab/7f/0d/ab7f0d5a-f905-4e1a-8b60-8519e54e5451/pr_source.jpg/392x696bb.jpg', 'https://is5-ssl.mzstatic.com/image/thumb/Purple113/v4/d1/8f/1f/d18f1fa0-f543-f62e-a651-41d83368976d/pr_source.jpg/392x696bb.jpg', 'https://is2-ssl.mzstatic.com/image/thumb/Purple113/v4/a1/e0/7c/a1e07cd8-35a9-db64-b4c0-ec483fc2deb5/pr_source.jpg/392x696bb.jpg'], 'ipadScreenshots': ['https://is5-ssl.mzstatic.com/image/thumb/Purple123/v4/7c/8b/b6/7c8bb68e-1e82-6bb1-fdc7-3d9bca3d9ea9/pr_source.jpg/576x768bb.jpg', 'https://is2-ssl.mzstatic.com/image/thumb/Purple113/v4/a3/1e/73/a31e7367-db0b-20d8-b30b-76da435a0cfb/pr_source.jpg/576x768bb.jpg', 'https://is2-ssl.mzstatic.com/image/thumb/Purple123/v4/2c/d9/70/2cd97070-516f-1051-f220-7ac8731ae7fb/pr_source.jpg/576x768bb.jpg'], 'appletvScreenshots': [], 'supportedDevices': ['iPhone5s-iPhone5s', 'iPadAir-iPadAir', 'iPadAirCellular-iPadAirCellular', 'iPadMiniRetina-iPadMiniRetina', 'iPadMiniRetinaCellular-iPadMiniRetinaCellular', 'iPhone6-iPhone6', 'iPhone6Plus-iPhone6Plus', 'iPadAir2-iPadAir2', 'iPadAir2Cellular-iPadAir2Cellular', 'iPadMini3-iPadMini3', 'iPadMini3Cellular-iPadMini3Cellular', 'iPodTouchSixthGen-iPodTouchSixthGen', 'iPhone6s-iPhone6s', 'iPhone6sPlus-iPhone6sPlus', 'iPadMini4-iPadMini4', 'iPadMini4Cellular-iPadMini4Cellular', 'iPadPro-iPadPro', 'iPadProCellular-iPadProCellular', 'iPadPro97-iPadPro97', 'iPadPro97Cellular-iPadPro97Cellular', 'iPhoneSE-iPhoneSE', 'iPhone7-iPhone7', 'iPhone7Plus-iPhone7Plus', 'iPad611-iPad611', 'iPad612-iPad612', 'iPad71-iPad71', 'iPad72-iPad72', 'iPad73-iPad73', 'iPad74-iPad74', 'iPhone8-iPhone8', 'iPhone8Plus-iPhone8Plus', 'iPhoneX-iPhoneX', 'iPad75-iPad75', 'iPad76-iPad76', 'iPhoneXS-iPhoneXS', 'iPhoneXSMax-iPhoneXSMax', 'iPhoneXR-iPhoneXR', 'iPad812-iPad812', 'iPad834-iPad834', 'iPad856-iPad856', 'iPad878-iPad878', 'iPadMini5-iPadMini5', 'iPadMini5Cellular-iPadMini5Cellular', 'iPadAir3-iPadAir3', 'iPadAir3Cellular-iPadAir3Cellular', 'iPodTouchSeventhGen-iPodTouchSeventhGen', 'iPhone11-iPhone11', 'iPhone11Pro-iPhone11Pro', 'iPadSeventhGen-iPadSeventhGen', 'iPadSeventhGenCellular-iPadSeventhGenCellular', 'iPhone11ProMax-iPhone11ProMax', 'iPhoneSESecondGen-iPhoneSESecondGen', 'iPadProSecondGen-iPadProSecondGen', 'iPadProSecondGenCellular-iPadProSecondGenCellular', 'iPadProFourthGen-iPadProFourthGen', 'iPadProFourthGenCellular-iPadProFourthGenCellular', 'iPhone12Mini-iPhone12Mini', 'iPhone12-iPhone12', 'iPhone12Pro-iPhone12Pro', 'iPhone12ProMax-iPhone12ProMax', 'iPadAir4-iPadAir4', 'iPadAir4Cellular-iPadAir4Cellular', 'iPadEighthGen-iPadEighthGen', 'iPadEighthGenCellular-iPadEighthGenCellular', 'iPadProThirdGen-iPadProThirdGen', 'iPadProThirdGenCellular-iPadProThirdGenCellular', 'iPadProFifthGen-iPadProFifthGen', 'iPadProFifthGenCellular-iPadProFifthGenCellular', 'iPhone13Pro-iPhone13Pro', 'iPhone13ProMax-iPhone13ProMax', 'iPhone13Mini-iPhone13Mini', 'iPhone13-iPhone13', 'iPadMiniSixthGen-iPadMiniSixthGen', 'iPadMiniSixthGenCellular-iPadMiniSixthGenCellular', 'iPadNinthGen-iPadNinthGen', 'iPadNinthGenCellular-iPadNinthGenCellular', 'iPhoneSEThirdGen-iPhoneSEThirdGen', 'iPadAirFifthGen-iPadAirFifthGen', 'iPadAirFifthGenCellular-iPadAirFifthGenCellular', 'iPhone14-iPhone14', 'iPhone14Plus-iPhone14Plus', 'iPhone14Pro-iPhone14Pro', 'iPhone14ProMax-iPhone14ProMax', 'iPadTenthGen-iPadTenthGen', 'iPadTenthGenCellular-iPadTenthGenCellular', 'iPadPro11FourthGen-iPadPro11FourthGen', 'iPadPro11FourthGenCellular-iPadPro11FourthGenCellular', 'iPadProSixthGen-iPadProSixthGen', 'iPadProSixthGenCellular-iPadProSixthGenCellular']}\n",
      "{'id': 979597990, 'appId': 'com.jaguarstds.wordmaster', 'title': 'Word Master - Classic', 'url': 'https://apps.apple.com/us/app/word-master-classic/id979597990?uo=4', 'description': 'Word Master is an innovative version of the traditional “Crosswords\" board game.\\nNot needing internet connection, using unique fast artificial intelligence resources and with highly customizable options, Word Master is used by crosswords enthusiasts for quick offline training and induce the players to improve their skills and reasoning in the game.\\nCreate words with the 7 letters on your rack and place them on the 15 by 15 tile board. Boost your score by placing letters on the special Double Letter, Double Word, Triple Letter and Triple Word bonus tiles.\\nLanguages supported:\\n• English\\n• French (Français)\\n• Portuguese (Português)\\n• German (Deutsch)\\n• Spanish (Español)\\n• Italian (Italiano)\\n• Dutch (Nederlands)\\n• Norwegian (Norsk)\\n• Romanian (Romana)\\n• Greek (Ελληνικά)\\n• Catalan (Català)\\n\\nPLAY AGAINST THE COMPUTER\\nChoose the level and the duration of the game. No more waiting long hours for your opponent to play! Both computer and player tiles are randomly selected, simulating in the best way possible a game against a real opponent.\\n\\nPASS N\\' PLAY\\nPlay offline against friends using the same device! In the bus, airport, train or wherever you are.\\n\\nCHALLENGE MODE\\nFind out if you are a true champion. In this mode, you score more points in each turn as you come closer to the best possible word. Try to beat your high scores!\\n\\nIMPROVE YOUR PERFORMANCE WITH THE MASTER\\nAfter each turn, you will be able to see which words you could have played. Learn how to use the bonus squares on the board and the standards for the formation of words. \\n\\nENRICH YOUR VOCABULARY WITH WORD DEFINITIONS\\nSwipe your finger across any word on the board and get its definition. (Internet required)\\n\\nDESIGN YOUR OWN BOARD\\nUse your creativity to place the bonus squares just where you want them to be.\\n\\nMORE FEATURES: \\n• Do not waste your time searching whether the word you chose exists! As you place the word on the board, the game will display whether the word is valid or not and its score.\\n• Get tips for valid words being created in your rack as you are arranging your letters (You can enable or disable this feature at any time). \\n• Save your game and resume it later.\\n• Keep track of your records and stats (e.g. best final score, best word ever played, total bingos and more).\\n• Choose from various board layouts, including random. \\n• Block the droid from using very rare words.\\n• Bad draw helper (avoid receiving a rack with no consonants or no vowels).\\n• Two dictionaries in English available\\n•Leaderboards through Game Center', 'icon': 'https://is1-ssl.mzstatic.com/image/thumb/Purple122/v4/f6/0a/32/f60a32b7-8909-6e3f-30dc-a060b15cd775/AppIcon-1x_U007emarketing-0-7-85-220.png/512x512bb.jpg', 'genres': ['Games', 'Board', 'Word'], 'genreIds': ['6014', '7004', '7019'], 'primaryGenre': 'Games', 'primaryGenreId': 6014, 'contentRating': '4+', 'languages': ['NL', 'EN', 'FR', 'DE', 'IT', 'NB', 'PT', 'RO', 'ES', 'UK'], 'size': '23169024', 'requiredOsVersion': '8.0', 'released': '2015-04-26T07:57:52Z', 'updated': '2022-11-13T14:24:02Z', 'releaseNotes': '-Bug fix\\n-Optimized for new iOS versions\\n-General improvements', 'version': '3.8', 'price': 0, 'currency': 'USD', 'free': True, 'developerId': 979597989, 'developer': 'Luis Gualandi', 'developerUrl': 'https://apps.apple.com/us/developer/luis-gualandi/id979597989?uo=4', 'developerWebsite': 'http://jaguarstds.com', 'score': 4.76571, 'reviews': 10261, 'currentVersionScore': 4.76571, 'currentVersionReviews': 10261, 'screenshots': ['https://is3-ssl.mzstatic.com/image/thumb/Purple123/v4/c9/b8/ab/c9b8abea-f611-771b-8325-158fb9984786/pr_source.jpg/392x696bb.jpg', 'https://is2-ssl.mzstatic.com/image/thumb/Purple113/v4/4b/0d/9e/4b0d9ea7-85e5-3273-e392-75c4a9734151/pr_source.jpg/392x696bb.jpg', 'https://is3-ssl.mzstatic.com/image/thumb/Purple113/v4/65/f9/a3/65f9a31d-3ff1-35ad-8279-d0a0fd5efcb4/pr_source.jpg/392x696bb.jpg', 'https://is4-ssl.mzstatic.com/image/thumb/Purple123/v4/c1/12/8a/c1128a4b-1623-8d0f-e4db-118b89812c17/pr_source.jpg/392x696bb.jpg', 'https://is5-ssl.mzstatic.com/image/thumb/Purple113/v4/9d/55/dd/9d55dd78-6121-dd9a-f721-103fa00b155d/pr_source.jpg/392x696bb.jpg', 'https://is3-ssl.mzstatic.com/image/thumb/Purple113/v4/b7/15/b8/b715b8fd-87be-797f-d9bd-77112cac4d5c/pr_source.jpg/392x696bb.jpg', 'https://is5-ssl.mzstatic.com/image/thumb/Purple123/v4/49/24/4e/49244ee5-4670-c05d-7d4e-d2c311f2fa3d/pr_source.jpg/392x696bb.jpg', 'https://is2-ssl.mzstatic.com/image/thumb/Purple113/v4/15/0c/89/150c898f-ba4b-b03e-2649-96f5807b3aaa/pr_source.jpg/392x696bb.jpg', 'https://is2-ssl.mzstatic.com/image/thumb/Purple123/v4/bd/25/d3/bd25d30d-7a30-62ba-7f72-0e25d736ae12/pr_source.jpg/392x696bb.jpg', 'https://is2-ssl.mzstatic.com/image/thumb/Purple113/v4/4e/37/97/4e3797fe-fcc3-adc2-e4cd-e02ba68a0e27/pr_source.jpg/392x696bb.jpg'], 'ipadScreenshots': ['https://is5-ssl.mzstatic.com/image/thumb/Purple113/v4/65/96/9a/65969a4c-db5a-5786-7a32-c201365e6abc/pr_source.jpg/576x768bb.jpg', 'https://is4-ssl.mzstatic.com/image/thumb/Purple123/v4/c0/23/a9/c023a997-680c-7fb9-41d4-a77e857e2f7e/pr_source.jpg/576x768bb.jpg', 'https://is3-ssl.mzstatic.com/image/thumb/Purple113/v4/38/8f/7d/388f7d8c-d496-0a6d-1335-77da75a575a8/pr_source.jpg/576x768bb.jpg', 'https://is5-ssl.mzstatic.com/image/thumb/Purple123/v4/0a/5f/c1/0a5fc17d-9426-f2a2-00ee-22c36d82115a/pr_source.jpg/576x768bb.jpg', 'https://is4-ssl.mzstatic.com/image/thumb/Purple113/v4/8b/d3/36/8bd336ea-26b4-74e1-62cf-874241bb9d4d/pr_source.jpg/576x768bb.jpg', 'https://is1-ssl.mzstatic.com/image/thumb/Purple113/v4/69/30/77/693077d0-42d2-278b-96e7-21815f561755/pr_source.jpg/576x768bb.jpg', 'https://is3-ssl.mzstatic.com/image/thumb/Purple113/v4/f7/2e/c3/f72ec393-824d-0ad6-4f58-72c38b5d90ea/pr_source.jpg/576x768bb.jpg', 'https://is4-ssl.mzstatic.com/image/thumb/Purple123/v4/08/cb/02/08cb02a1-9d67-1bb3-7b82-6ad3afb6c9f1/pr_source.jpg/576x768bb.jpg', 'https://is4-ssl.mzstatic.com/image/thumb/Purple113/v4/fd/8f/89/fd8f89af-37f4-8789-6594-4b76666557bd/pr_source.jpg/576x768bb.jpg', 'https://is5-ssl.mzstatic.com/image/thumb/Purple113/v4/c1/b2/f7/c1b2f70d-bb3f-aeb0-07a7-042d81d66a62/pr_source.jpg/576x768bb.jpg'], 'appletvScreenshots': [], 'supportedDevices': ['iPhone5s-iPhone5s', 'iPadAir-iPadAir', 'iPadAirCellular-iPadAirCellular', 'iPadMiniRetina-iPadMiniRetina', 'iPadMiniRetinaCellular-iPadMiniRetinaCellular', 'iPhone6-iPhone6', 'iPhone6Plus-iPhone6Plus', 'iPadAir2-iPadAir2', 'iPadAir2Cellular-iPadAir2Cellular', 'iPadMini3-iPadMini3', 'iPadMini3Cellular-iPadMini3Cellular', 'iPodTouchSixthGen-iPodTouchSixthGen', 'iPhone6s-iPhone6s', 'iPhone6sPlus-iPhone6sPlus', 'iPadMini4-iPadMini4', 'iPadMini4Cellular-iPadMini4Cellular', 'iPadPro-iPadPro', 'iPadProCellular-iPadProCellular', 'iPadPro97-iPadPro97', 'iPadPro97Cellular-iPadPro97Cellular', 'iPhoneSE-iPhoneSE', 'iPhone7-iPhone7', 'iPhone7Plus-iPhone7Plus', 'iPad611-iPad611', 'iPad612-iPad612', 'iPad71-iPad71', 'iPad72-iPad72', 'iPad73-iPad73', 'iPad74-iPad74', 'iPhone8-iPhone8', 'iPhone8Plus-iPhone8Plus', 'iPhoneX-iPhoneX', 'iPad75-iPad75', 'iPad76-iPad76', 'iPhoneXS-iPhoneXS', 'iPhoneXSMax-iPhoneXSMax', 'iPhoneXR-iPhoneXR', 'iPad812-iPad812', 'iPad834-iPad834', 'iPad856-iPad856', 'iPad878-iPad878', 'iPadMini5-iPadMini5', 'iPadMini5Cellular-iPadMini5Cellular', 'iPadAir3-iPadAir3', 'iPadAir3Cellular-iPadAir3Cellular', 'iPodTouchSeventhGen-iPodTouchSeventhGen', 'iPhone11-iPhone11', 'iPhone11Pro-iPhone11Pro', 'iPadSeventhGen-iPadSeventhGen', 'iPadSeventhGenCellular-iPadSeventhGenCellular', 'iPhone11ProMax-iPhone11ProMax', 'iPhoneSESecondGen-iPhoneSESecondGen', 'iPadProSecondGen-iPadProSecondGen', 'iPadProSecondGenCellular-iPadProSecondGenCellular', 'iPadProFourthGen-iPadProFourthGen', 'iPadProFourthGenCellular-iPadProFourthGenCellular', 'iPhone12Mini-iPhone12Mini', 'iPhone12-iPhone12', 'iPhone12Pro-iPhone12Pro', 'iPhone12ProMax-iPhone12ProMax', 'iPadAir4-iPadAir4', 'iPadAir4Cellular-iPadAir4Cellular', 'iPadEighthGen-iPadEighthGen', 'iPadEighthGenCellular-iPadEighthGenCellular', 'iPadProThirdGen-iPadProThirdGen', 'iPadProThirdGenCellular-iPadProThirdGenCellular', 'iPadProFifthGen-iPadProFifthGen', 'iPadProFifthGenCellular-iPadProFifthGenCellular', 'iPhone13Pro-iPhone13Pro', 'iPhone13ProMax-iPhone13ProMax', 'iPhone13Mini-iPhone13Mini', 'iPhone13-iPhone13', 'iPadMiniSixthGen-iPadMiniSixthGen', 'iPadMiniSixthGenCellular-iPadMiniSixthGenCellular', 'iPadNinthGen-iPadNinthGen', 'iPadNinthGenCellular-iPadNinthGenCellular', 'iPhoneSEThirdGen-iPhoneSEThirdGen', 'iPadAirFifthGen-iPadAirFifthGen', 'iPadAirFifthGenCellular-iPadAirFifthGenCellular', 'iPhone14-iPhone14', 'iPhone14Plus-iPhone14Plus', 'iPhone14Pro-iPhone14Pro', 'iPhone14ProMax-iPhone14ProMax', 'iPadTenthGen-iPadTenthGen', 'iPadTenthGenCellular-iPadTenthGenCellular', 'iPadPro11FourthGen-iPadPro11FourthGen', 'iPadPro11FourthGenCellular-iPadPro11FourthGenCellular', 'iPadProSixthGen-iPadProSixthGen', 'iPadProSixthGenCellular-iPadProSixthGenCellular']}\n"
     ]
    },
    {
     "name": "stdout",
     "output_type": "stream",
     "text": [
      "{'id': 1207472156, 'appId': 'com.peoplefun.wordcross', 'title': 'Wordscapes', 'url': 'https://apps.apple.com/us/app/wordscapes/id1207472156?uo=4', 'description': \"Playing Wordscapes 10 mins a day sharpens your mind and prepares you for your daily life and challenges! \\n\\nThis text twist of a word game is tremendous brain challenging fun. Enjoy modern word puzzles with the best of word searching, anagrams, and crosswords! Immerse yourself into the beautiful scenery backgrounds to relax and ease your mind.\\n\\nChallenge yourself to connect letters and find as many hidden words as you can! Unlock stunning landscape backgrounds to escape from home and relax your brain.\\n\\nYou’ll never experience a dull moment after you try this addicting word puzzle game! Play this crossword puzzle once and just you won’t be able to put it down. Enjoyword connect and word find games? This is your final destination!\\n\\n►Escape and relax your brain by visiting the beautiful destinations of Wordscapes!\\n► Show your vocabulary power by connecting letters and finding all the hidden words.\\n► Get your word hunt on with over 6,000 crossword puzzles!\\n► Challenge your brain and vocabulary – this crossword puzzle starts easy and becomes challenging fast!\\n► Think you can beat these anagram word puzzles? They start simply but ramp up fast!\\n► Take each level at your own pace with unlimited tries. Simply fun and relaxation!\\n\\nWordscapes is the word hunt game that over 10 million people just can't stop playing! It's a perfect fit for fans of crossword, word connect and word anagram games, combining best of word find games and crossword puzzles. Not to mention all the gorgeous landscapes you can visit to relax yourself!\\n\\nThe top-rated word game, from the makers of Word Stacks, Word Chums, Word Flowers, Word Mocha, Wordscapes Uncrossed, and Spell Blitz.\\n\\nTerms of service: https://www.peoplefun.com/terms\", 'icon': 'https://is1-ssl.mzstatic.com/image/thumb/Purple126/v4/69/4e/4a/694e4a70-73bb-5077-18d9-22a2d5ea24c6/AppIcon-0-0-1x_U007emarketing-0-0-0-7-0-0-sRGB-0-0-0-GLES2_U002c0-512MB-85-220-0-0.png/512x512bb.jpg', 'genres': ['Games', 'Education', 'Word', 'Puzzle'], 'genreIds': ['6014', '6017', '7019', '7012'], 'primaryGenre': 'Games', 'primaryGenreId': 6014, 'contentRating': '12+', 'languages': ['EN'], 'size': '226280448', 'requiredOsVersion': '12.0', 'released': '2017-06-14T14:39:50Z', 'updated': '2023-06-14T22:25:17Z', 'releaseNotes': '◆ New Habitat! Collect 9 colorful butterflies in the Desert Oasis.\\n◆ Shop refreshed! Now it’s easier to find the best deals.\\n◆ Wildlife improvements. Better info card layout makes it easier to see what makes your Wildlife special!\\n◆ EVERYTHING syncs! Account improvements keep all your stuff synced across multiple devices.', 'version': '2.5.1', 'price': 0, 'currency': 'USD', 'free': True, 'developerId': 517840947, 'developer': 'PeopleFun, Inc.', 'developerUrl': 'https://apps.apple.com/us/developer/peoplefun-inc/id517840947?uo=4', 'developerWebsite': 'https://www.peoplefun.com/', 'score': 4.83354, 'reviews': 752820, 'currentVersionScore': 4.83354, 'currentVersionReviews': 752820, 'screenshots': ['https://is2-ssl.mzstatic.com/image/thumb/Purple126/v4/3e/d8/7f/3ed87ff5-9530-eeca-4928-625cbfc977cc/3ca085d4-705b-4288-936c-7f0442e29c3c_1242x2208bb.png/392x696bb.png', 'https://is1-ssl.mzstatic.com/image/thumb/Purple116/v4/d0/1e/59/d01e59b8-9d21-b9a7-2bce-56c21430dd3f/6cb71fe6-e7e9-4fe6-a150-50d816879950_1242x2208bb__U00281_U0029.png/392x696bb.png', 'https://is1-ssl.mzstatic.com/image/thumb/Purple126/v4/19/2c/2a/192c2abe-566c-147f-2bdb-fd5b25af507c/b7debd4d-55c0-43a2-9df9-d8c2b430b834_1242x2208bb.png/392x696bb.png', 'https://is3-ssl.mzstatic.com/image/thumb/Purple116/v4/3f/4e/9f/3f4e9fad-5a85-5300-feec-5058992c4a6b/c60f5a96-7017-4813-b4c8-953bcf8dc1dd_1242x2208bb__U00283_U0029.png/392x696bb.png', 'https://is1-ssl.mzstatic.com/image/thumb/Purple126/v4/6b/3b/ce/6b3bce9b-60be-93f7-7cdb-35c8732fdf6a/51d2de42-c37b-4506-85b7-d4a02cce37f4_1242x2208bb__U00284_U0029.png/392x696bb.png', 'https://is5-ssl.mzstatic.com/image/thumb/Purple126/v4/6a/a4/ba/6aa4ba02-dd08-d81a-e0fb-bcde24f3d6ba/c6d897af-a2cf-440a-813d-b9f934b5fbdc_1242x2208bb__U00285_U0029.png/392x696bb.png'], 'ipadScreenshots': ['https://is2-ssl.mzstatic.com/image/thumb/Purple116/v4/fa/4b/3e/fa4b3e83-a83d-96d6-c2f5-d106625a4ab8/f552d5de-c37e-4835-a0e9-17e3235d79ec_2048x2732bb__U00286_U0029.png/576x768bb.png', 'https://is1-ssl.mzstatic.com/image/thumb/Purple116/v4/4a/ca/9d/4aca9da5-568b-3371-f655-286bcc56cda3/5b33f686-60ba-43da-8e55-aeb514ad7ca8_2048x2732bb__U00281_U0029.png/576x768bb.png', 'https://is4-ssl.mzstatic.com/image/thumb/Purple126/v4/b5/38/c3/b538c353-8410-7881-fbc0-d08200b2ef75/045d5eed-5fa0-40d1-838c-2e48cc2403f9_2048x2732bb.png/576x768bb.png', 'https://is3-ssl.mzstatic.com/image/thumb/Purple116/v4/a3/69/d8/a369d880-8a8e-6f46-1020-5e22620ba202/62c96317-f86b-4db6-8c7d-db8b199a8cd5_2048x2732bb__U00283_U0029.png/576x768bb.png', 'https://is1-ssl.mzstatic.com/image/thumb/Purple116/v4/20/e4/37/20e43775-9177-149b-278c-d23656439306/5808d97d-2a57-4e63-8572-7d4bfb0d101a_2048x2732bb__U00284_U0029.png/576x768bb.png', 'https://is5-ssl.mzstatic.com/image/thumb/Purple116/v4/0f/08/e8/0f08e817-dd0d-4e5e-77c6-1fbbb1c06435/b71e9947-e6b8-4cb5-8668-cdbe6265982e_2048x2732bb__U00285_U0029.png/576x768bb.png'], 'appletvScreenshots': [], 'supportedDevices': ['iPhone5s-iPhone5s', 'iPadAir-iPadAir', 'iPadAirCellular-iPadAirCellular', 'iPadMiniRetina-iPadMiniRetina', 'iPadMiniRetinaCellular-iPadMiniRetinaCellular', 'iPhone6-iPhone6', 'iPhone6Plus-iPhone6Plus', 'iPadAir2-iPadAir2', 'iPadAir2Cellular-iPadAir2Cellular', 'iPadMini3-iPadMini3', 'iPadMini3Cellular-iPadMini3Cellular', 'iPodTouchSixthGen-iPodTouchSixthGen', 'iPhone6s-iPhone6s', 'iPhone6sPlus-iPhone6sPlus', 'iPadMini4-iPadMini4', 'iPadMini4Cellular-iPadMini4Cellular', 'iPadPro-iPadPro', 'iPadProCellular-iPadProCellular', 'iPadPro97-iPadPro97', 'iPadPro97Cellular-iPadPro97Cellular', 'iPhoneSE-iPhoneSE', 'iPhone7-iPhone7', 'iPhone7Plus-iPhone7Plus', 'iPad611-iPad611', 'iPad612-iPad612', 'iPad71-iPad71', 'iPad72-iPad72', 'iPad73-iPad73', 'iPad74-iPad74', 'iPhone8-iPhone8', 'iPhone8Plus-iPhone8Plus', 'iPhoneX-iPhoneX', 'iPad75-iPad75', 'iPad76-iPad76', 'iPhoneXS-iPhoneXS', 'iPhoneXSMax-iPhoneXSMax', 'iPhoneXR-iPhoneXR', 'iPad812-iPad812', 'iPad834-iPad834', 'iPad856-iPad856', 'iPad878-iPad878', 'iPadMini5-iPadMini5', 'iPadMini5Cellular-iPadMini5Cellular', 'iPadAir3-iPadAir3', 'iPadAir3Cellular-iPadAir3Cellular', 'iPodTouchSeventhGen-iPodTouchSeventhGen', 'iPhone11-iPhone11', 'iPhone11Pro-iPhone11Pro', 'iPadSeventhGen-iPadSeventhGen', 'iPadSeventhGenCellular-iPadSeventhGenCellular', 'iPhone11ProMax-iPhone11ProMax', 'iPhoneSESecondGen-iPhoneSESecondGen', 'iPadProSecondGen-iPadProSecondGen', 'iPadProSecondGenCellular-iPadProSecondGenCellular', 'iPadProFourthGen-iPadProFourthGen', 'iPadProFourthGenCellular-iPadProFourthGenCellular', 'iPhone12Mini-iPhone12Mini', 'iPhone12-iPhone12', 'iPhone12Pro-iPhone12Pro', 'iPhone12ProMax-iPhone12ProMax', 'iPadAir4-iPadAir4', 'iPadAir4Cellular-iPadAir4Cellular', 'iPadEighthGen-iPadEighthGen', 'iPadEighthGenCellular-iPadEighthGenCellular', 'iPadProThirdGen-iPadProThirdGen', 'iPadProThirdGenCellular-iPadProThirdGenCellular', 'iPadProFifthGen-iPadProFifthGen', 'iPadProFifthGenCellular-iPadProFifthGenCellular', 'iPhone13Pro-iPhone13Pro', 'iPhone13ProMax-iPhone13ProMax', 'iPhone13Mini-iPhone13Mini', 'iPhone13-iPhone13', 'iPadMiniSixthGen-iPadMiniSixthGen', 'iPadMiniSixthGenCellular-iPadMiniSixthGenCellular', 'iPadNinthGen-iPadNinthGen', 'iPadNinthGenCellular-iPadNinthGenCellular', 'iPhoneSEThirdGen-iPhoneSEThirdGen', 'iPadAirFifthGen-iPadAirFifthGen', 'iPadAirFifthGenCellular-iPadAirFifthGenCellular', 'iPhone14-iPhone14', 'iPhone14Plus-iPhone14Plus', 'iPhone14Pro-iPhone14Pro', 'iPhone14ProMax-iPhone14ProMax', 'iPadTenthGen-iPadTenthGen', 'iPadTenthGenCellular-iPadTenthGenCellular', 'iPadPro11FourthGen-iPadPro11FourthGen', 'iPadPro11FourthGenCellular-iPadPro11FourthGenCellular', 'iPadProSixthGen-iPadProSixthGen', 'iPadProSixthGenCellular-iPadProSixthGenCellular']}\n",
      "{'id': 1095569891, 'appId': 'com.vottzapps.wordle', 'title': 'Wordle!', 'url': 'https://apps.apple.com/us/app/wordle/id1095569891?uo=4', 'description': \"New for 2023! Wordle! Together. Choose a word and challenge your friends to see if they can guess it in six tries or less. Take turns solving each other’s words and earn points for solving the least amount of guesses. Enter a random match or challenge your friends to the ultimate viral battle of wits! It’s a fun and all new way to Wordle!  \\n\\nAre you a word games master? Whether you are a fan of classic crossword puzzles or are just hopping on viral new word game trends, Wordle! will get you thinking. Take on daily brain teasers and train your mind with our fun word games.  \\n\\nWith several unique game modes, Wordle! will Challenge your mind and spelling skills. Want a fun and viral challenge? Try Daily Puzzle mode, where you’ll have 6 guesses to solve the word of the day. Each time you get a letter correct, the tile will turn yellow if it is in the word or green if it is in the right spot. Can you solve it with one guess? Once you’ve figured it out, share your score with friends. It's just like the viral word game, but on your phone! \\n\\nCan’t get enough Wordle!? Play Unlimited Wordle! in Classic mode, and play as long as you want. No need to wait a whole day for the next puzzle. Getting stuck? Not to worry! Use a hint to get out of a sticky situation and unlock the solution!\\n\\nOr take on a timed challenge in Word Fever mode, where you will test your speed and spelling skills. Spell the word before the timer runs out, each time you find the word, the timer will reset and you will have to think fast and solve the next word. How far can you go?\\n\\nWant to test your mind for the duration? In Secret Word mode you will have 3 chances to guess each word with the letters and clue provided. Push your word association skills to the limit, and guess each word before moving on to the next. Guess wisely, 3 incorrect guesses and you will have to start over!  \\n\\nExpand your adult mind and make your brain stronger with our free word games! It is like taking your brain to the gym!\\n\\n\\nGame Features \\n \\n1. Fun Word Puzzles\\nPlay the viral word game, or try one of our fun and creative game modes for a unique challenge like you’ve never seen before \\n\\n2. Unlimited Wordle! \\nSolve as many Wordle! puzzles as you’d like In Classic mode. No need to wait a whole day for the next puzzle! \\n\\n3. Share Your Results\\nTry Daily Puzzle mode, where you can solve the Wordle! of the day, then share your results and compare stats with friends\\n\\n4. Special Boosters \\nHaving trouble? Unlock special boosters like the Dart, which will remove letters or Hint to reveal a correct letter, or use a Skip to pass a level entirely or try again if you lose. \\n\\n5. Play at Your Own Pace:\\nWhether you enjoy the pressure of a timed challenge, or want to try to go the duration in Secret Word mode. Wordle! Has several games to play at your desired pace\\n\\n6. Flex Your Brain Muscles\\nReady for a tougher challenge? Test your skills in more challenging levels with longer words!  Will you be the Wordle! Champion?\\n\\nVisit https://lionstudios.cc/contact-us/ if have any feedback, need help on beating a level or have any awesome ideas you would like to see in the game!\\n\\nFrom the Studio that brought you Mr. Bullet, Happy Glass, Ink Inc and Love Balls!\\n\\nFollow us to get news and updates on our other Award Winning titles;\\nhttps://lionstudios.cc/\\nFacebook.com/LionStudios.cc\\nInstagram.com/LionStudioscc\\nTwitter.com/LionStudiosCC\\nYoutube.com/c/LionStudiosCC\", 'icon': 'https://is3-ssl.mzstatic.com/image/thumb/Purple116/v4/af/b3/d4/afb3d482-e56d-b44e-137c-aee052d6946b/AppIcon-0-0-1x_U007emarketing-0-0-0-7-0-0-sRGB-0-0-0-GLES2_U002c0-512MB-85-220-0-0.png/512x512bb.jpg', 'genres': ['Games', 'Casual', 'Entertainment', 'Word'], 'genreIds': ['6014', '7003', '6016', '7019'], 'primaryGenre': 'Games', 'primaryGenreId': 6014, 'contentRating': '12+', 'languages': ['EN', 'FR', 'DE', 'JA', 'KO', 'ZH', 'ES', 'ZH'], 'size': '240136192', 'requiredOsVersion': '12.5', 'released': '2016-04-24T20:08:01Z', 'updated': '2023-06-14T15:59:13Z', 'releaseNotes': 'NEW! Stickers\\nCollect Stickers and complete Albums with our new Stickers feature! Open Sticker Packs by participating in Stickers Events and other features! Earn exclusive avatars when you complete Albums. Can you collect them all? More Stickers coming soon!', 'version': '1.36.0', 'price': 0, 'currency': 'USD', 'free': True, 'developerId': 1610194568, 'developer': 'Lion Studios Plus', 'developerUrl': 'https://apps.apple.com/us/developer/lion-studios-plus/id1610194568?uo=4', 'developerWebsite': 'http://lionstudios.cc', 'score': 4.57688, 'reviews': 612614, 'currentVersionScore': 4.57688, 'currentVersionReviews': 612614, 'screenshots': ['https://is1-ssl.mzstatic.com/image/thumb/PurpleSource126/v4/ed/f2/ac/edf2ac21-84cd-dff4-b87d-0e48db9ece5e/c2fc3b3d-f17e-4724-a3f8-77a7cabacd46_wrd_asoscreenshots_rainbowviral_01_en_1242x2208.png/392x696bb.png', 'https://is4-ssl.mzstatic.com/image/thumb/PurpleSource116/v4/bd/e8/59/bde859d8-1464-0a52-74db-21ebc7146fac/90f60e0f-2ee4-4adb-b639-3d3fa9778c07_wrd_asoscreenshots_rainbowviral_02_en_1242x2208.png/392x696bb.png', 'https://is1-ssl.mzstatic.com/image/thumb/PurpleSource126/v4/e7/c5/4d/e7c54dba-10a8-f5f3-8598-e49616d07d04/4cff5b7d-7a39-4071-88b9-ce40e7b65e00_wrd_asoscreenshots_rainbowviral_03_en_1242x2208.png/392x696bb.png', 'https://is1-ssl.mzstatic.com/image/thumb/PurpleSource116/v4/38/54/7e/38547e31-e6e6-b5da-ba6b-4da8106eb71c/8b4d3b20-3d94-4b9e-9f3f-7e69582e2f9b_wrd_asoscreenshots_rainbowviral_04_en_1242x2208.png/392x696bb.png', 'https://is1-ssl.mzstatic.com/image/thumb/PurpleSource116/v4/63/72/3b/63723ba0-0f21-3e33-c705-dc3127a0f0a4/a9d83c5b-560e-4814-b427-f77460971b6a_wrd_asoscreenshots_rainbowviral_05_en_1242x2208.png/392x696bb.png'], 'ipadScreenshots': ['https://is2-ssl.mzstatic.com/image/thumb/PurpleSource116/v4/c4/0b/66/c40b66df-fd2b-a5ba-1ac9-0fee24829cd5/d5259983-1f05-4253-b9aa-7520bc65a04a_wrd_asoscreenshots_rainbowviral_01_en_2048x2732.png/576x768bb.png', 'https://is1-ssl.mzstatic.com/image/thumb/PurpleSource116/v4/fa/71/23/fa7123c4-0e55-d0b9-0e1c-898ac88bd8ae/f89062da-13cd-4e5a-aff8-8372dc216303_wrd_asoscreenshots_rainbowviral_02_en_2048x2732.png/576x768bb.png', 'https://is1-ssl.mzstatic.com/image/thumb/PurpleSource116/v4/0a/4b/09/0a4b091d-9567-4185-3320-054a1dfa2e90/b37d7bb3-2f51-4ef5-9b21-236c01cae14d_wrd_asoscreenshots_rainbowviral_03_en_2048x2732.png/576x768bb.png', 'https://is5-ssl.mzstatic.com/image/thumb/PurpleSource116/v4/c8/eb/23/c8eb238e-3d32-6fc4-7f09-bcee507dfec9/dbc76ee5-6bb2-4f0e-b525-e7a08f246620_wrd_asoscreenshots_rainbowviral_04_en_2048x2732.png/576x768bb.png', 'https://is1-ssl.mzstatic.com/image/thumb/PurpleSource116/v4/6c/5f/e5/6c5fe530-88ed-8c6a-197a-bb94e3c58264/40ed909f-bbaa-4da8-83e3-1b85733b57fb_wrd_asoscreenshots_rainbowviral_05_en_2048x2732.png/576x768bb.png'], 'appletvScreenshots': [], 'supportedDevices': ['iPhone5s-iPhone5s', 'iPadAir-iPadAir', 'iPadAirCellular-iPadAirCellular', 'iPadMiniRetina-iPadMiniRetina', 'iPadMiniRetinaCellular-iPadMiniRetinaCellular', 'iPhone6-iPhone6', 'iPhone6Plus-iPhone6Plus', 'iPadAir2-iPadAir2', 'iPadAir2Cellular-iPadAir2Cellular', 'iPadMini3-iPadMini3', 'iPadMini3Cellular-iPadMini3Cellular', 'iPodTouchSixthGen-iPodTouchSixthGen', 'iPhone6s-iPhone6s', 'iPhone6sPlus-iPhone6sPlus', 'iPadMini4-iPadMini4', 'iPadMini4Cellular-iPadMini4Cellular', 'iPadPro-iPadPro', 'iPadProCellular-iPadProCellular', 'iPadPro97-iPadPro97', 'iPadPro97Cellular-iPadPro97Cellular', 'iPhoneSE-iPhoneSE', 'iPhone7-iPhone7', 'iPhone7Plus-iPhone7Plus', 'iPad611-iPad611', 'iPad612-iPad612', 'iPad71-iPad71', 'iPad72-iPad72', 'iPad73-iPad73', 'iPad74-iPad74', 'iPhone8-iPhone8', 'iPhone8Plus-iPhone8Plus', 'iPhoneX-iPhoneX', 'iPad75-iPad75', 'iPad76-iPad76', 'iPhoneXS-iPhoneXS', 'iPhoneXSMax-iPhoneXSMax', 'iPhoneXR-iPhoneXR', 'iPad812-iPad812', 'iPad834-iPad834', 'iPad856-iPad856', 'iPad878-iPad878', 'iPadMini5-iPadMini5', 'iPadMini5Cellular-iPadMini5Cellular', 'iPadAir3-iPadAir3', 'iPadAir3Cellular-iPadAir3Cellular', 'iPodTouchSeventhGen-iPodTouchSeventhGen', 'iPhone11-iPhone11', 'iPhone11Pro-iPhone11Pro', 'iPadSeventhGen-iPadSeventhGen', 'iPadSeventhGenCellular-iPadSeventhGenCellular', 'iPhone11ProMax-iPhone11ProMax', 'iPhoneSESecondGen-iPhoneSESecondGen', 'iPadProSecondGen-iPadProSecondGen', 'iPadProSecondGenCellular-iPadProSecondGenCellular', 'iPadProFourthGen-iPadProFourthGen', 'iPadProFourthGenCellular-iPadProFourthGenCellular', 'iPhone12Mini-iPhone12Mini', 'iPhone12-iPhone12', 'iPhone12Pro-iPhone12Pro', 'iPhone12ProMax-iPhone12ProMax', 'iPadAir4-iPadAir4', 'iPadAir4Cellular-iPadAir4Cellular', 'iPadEighthGen-iPadEighthGen', 'iPadEighthGenCellular-iPadEighthGenCellular', 'iPadProThirdGen-iPadProThirdGen', 'iPadProThirdGenCellular-iPadProThirdGenCellular', 'iPadProFifthGen-iPadProFifthGen', 'iPadProFifthGenCellular-iPadProFifthGenCellular', 'iPhone13Pro-iPhone13Pro', 'iPhone13ProMax-iPhone13ProMax', 'iPhone13Mini-iPhone13Mini', 'iPhone13-iPhone13', 'iPadMiniSixthGen-iPadMiniSixthGen', 'iPadMiniSixthGenCellular-iPadMiniSixthGenCellular', 'iPadNinthGen-iPadNinthGen', 'iPadNinthGenCellular-iPadNinthGenCellular', 'iPhoneSEThirdGen-iPhoneSEThirdGen', 'iPadAirFifthGen-iPadAirFifthGen', 'iPadAirFifthGenCellular-iPadAirFifthGenCellular', 'iPhone14-iPhone14', 'iPhone14Plus-iPhone14Plus', 'iPhone14Pro-iPhone14Pro', 'iPhone14ProMax-iPhone14ProMax', 'iPadTenthGen-iPadTenthGen', 'iPadTenthGenCellular-iPadTenthGenCellular', 'iPadPro11FourthGen-iPadPro11FourthGen', 'iPadPro11FourthGenCellular-iPadPro11FourthGenCellular', 'iPadProSixthGen-iPadProSixthGen', 'iPadProSixthGenCellular-iPadProSixthGenCellular']}\n"
     ]
    },
    {
     "name": "stdout",
     "output_type": "stream",
     "text": [
      "{'id': 1197041040, 'appId': 'com.zynga.boggle', 'title': 'Boggle With Friends: Word Game', 'url': 'https://apps.apple.com/us/app/boggle-with-friends-word-game/id1197041040?uo=4', 'description': '** Welcome Word Streak players! Word Streak is now Boggle With Friends!**\\n\\nBring the fun of family game night with you on the go with the Boggle With Friends game. This new take on the classic board game from Hasbro is loaded with fun new modes, daily challenges, and puzzling twists! Challenge your friends, family, or new opponents to spell out the most words before the clock runs out in two minutes! \\n\\nWant to boost your word search game? Train on your own in solo play against the Coach to test your word skills in a three-round match of wits. Got a competitive streak? Compete in live head-to-head tournaments and lightning fast single round tournaments to show off your puzzle solving skills and earn rewards along the way. \\n\\nJoin the fun and download Boggle With Friends today!\\n\\nCREATE A MATCH\\nIt all starts here! Challenge an opponent to three rounds of fun to see who can find the most words, score the most points and emerge victorious.\\n\\nCOMPLETE DAILY & WEEKLY CHALLENGES\\nBrand new challenges are updated daily, as well as weekly. Play to win sweet rewards!\\n\\nTRAIN IN SOLO PLAY\\nTest and improve your word smarts in solo mode! Challenge yourself against the Coach in three rounds which get harder as you move up.\\n\\nCOMPETE IN LIVE TOURNAMENTS\\nGo head-to-head with friends, family and new opponents in live tournaments and advance through lightning rounds with lots of bonus tiles! \\n\\nCOLLECT DAILY PRIZES\\nWin a daily bonus with prizes and power-ups! Play each day to get better rewards.\\n\\nPLAY OFFLINE \\nPlay anytime, anywhere, even offline 24/7. \\n\\nAVAILABLE IN 9 LANGUAGES\\nChoose your language and start a game in Spanish, French, German, Italian, Dutch, Danish, Swedish, Turkish, and English.\\n\\nDownload Boggle With Friends for a word search experience you can’t put down!\\n\\nAdditional Information \\nThe game is free to play; however, in-app purchases are available for additional content and in-game currency.\\n\\nBOGGLE is a trademark of Hasbro and is used with permission. © 2018 Hasbro. All Rights Reserved. Licensed by Hasbro.', 'icon': 'https://is2-ssl.mzstatic.com/image/thumb/Purple126/v4/e6/ee/8b/e6ee8b75-c5c6-3469-2a8c-90d10f35674b/AppIcon-0-0-1x_U007emarketing-0-0-0-7-0-0-sRGB-0-0-0-GLES2_U002c0-512MB-85-220-0-0.png/512x512bb.jpg', 'genres': ['Games', 'Word', 'Puzzle'], 'genreIds': ['6014', '7019', '7012'], 'primaryGenre': 'Games', 'primaryGenreId': 6014, 'contentRating': '4+', 'languages': ['DA', 'NL', 'EN', 'FR', 'DE', 'IT', 'ES', 'SV', 'TR'], 'size': '267588608', 'requiredOsVersion': '11.0', 'released': '2017-03-15T19:39:29Z', 'updated': '2023-06-15T22:16:47Z', 'releaseNotes': 'Play your favourite Boggle game with new exciting features!\\nImproved post turn experience\\nPerformance Improvements and bug fixes\\nKeep your mind active with Boggle. We hope you enjoy playing Boggle.', 'version': '17.59.504', 'price': 0, 'currency': 'USD', 'free': True, 'developerId': 295913422, 'developer': 'Zynga Inc.', 'developerUrl': 'https://apps.apple.com/us/developer/zynga-inc/id295913422?uo=4', 'developerWebsite': 'https://www.zynga.com', 'score': 4.48196, 'reviews': 39628, 'currentVersionScore': 4.48196, 'currentVersionReviews': 39628, 'screenshots': ['https://is4-ssl.mzstatic.com/image/thumb/Purple113/v4/e9/42/00/e9420043-b1d7-0c6f-c8f5-b6315be54812/mzl.zibihflv.png/392x696bb.png', 'https://is5-ssl.mzstatic.com/image/thumb/Purple113/v4/c8/3d/4d/c83d4d51-d8dc-b70d-5d32-c0b58fc62fe5/mzl.mgrqwcgg.png/392x696bb.png', 'https://is5-ssl.mzstatic.com/image/thumb/Purple113/v4/bd/84/14/bd8414c1-9efc-bf29-f3c0-61de08293e35/mzl.cwlzaafw.png/392x696bb.png', 'https://is3-ssl.mzstatic.com/image/thumb/Purple113/v4/2f/14/7b/2f147b0f-b526-3fb3-5d4c-1368c2f80a42/mzl.ojmsxtas.jpg/392x696bb.jpg'], 'ipadScreenshots': ['https://is3-ssl.mzstatic.com/image/thumb/Purple113/v4/20/f8/07/20f807ed-b222-9e43-b959-5b75f1365e46/mzl.nqzmukce.jpg/576x768bb.jpg', 'https://is4-ssl.mzstatic.com/image/thumb/Purple113/v4/a3/2a/9e/a32a9ec3-ade1-0685-f8f1-2bf0a2db1880/mzl.ooozfyet.jpg/576x768bb.jpg', 'https://is1-ssl.mzstatic.com/image/thumb/Purple113/v4/a7/93/6f/a7936f2d-e235-a30f-38d5-6b73ea224f56/mzl.ezpdcoau.jpg/576x768bb.jpg', 'https://is5-ssl.mzstatic.com/image/thumb/Purple113/v4/00/59/98/005998c0-33ee-58d6-6292-ef7b074221a3/mzl.etwsryih.jpg/576x768bb.jpg'], 'appletvScreenshots': [], 'supportedDevices': ['iPhone5s-iPhone5s', 'iPadAir-iPadAir', 'iPadAirCellular-iPadAirCellular', 'iPadMiniRetina-iPadMiniRetina', 'iPadMiniRetinaCellular-iPadMiniRetinaCellular', 'iPhone6-iPhone6', 'iPhone6Plus-iPhone6Plus', 'iPadAir2-iPadAir2', 'iPadAir2Cellular-iPadAir2Cellular', 'iPadMini3-iPadMini3', 'iPadMini3Cellular-iPadMini3Cellular', 'iPodTouchSixthGen-iPodTouchSixthGen', 'iPhone6s-iPhone6s', 'iPhone6sPlus-iPhone6sPlus', 'iPadMini4-iPadMini4', 'iPadMini4Cellular-iPadMini4Cellular', 'iPadPro-iPadPro', 'iPadProCellular-iPadProCellular', 'iPadPro97-iPadPro97', 'iPadPro97Cellular-iPadPro97Cellular', 'iPhoneSE-iPhoneSE', 'iPhone7-iPhone7', 'iPhone7Plus-iPhone7Plus', 'iPad611-iPad611', 'iPad612-iPad612', 'iPad71-iPad71', 'iPad72-iPad72', 'iPad73-iPad73', 'iPad74-iPad74', 'iPhone8-iPhone8', 'iPhone8Plus-iPhone8Plus', 'iPhoneX-iPhoneX', 'iPad75-iPad75', 'iPad76-iPad76', 'iPhoneXS-iPhoneXS', 'iPhoneXSMax-iPhoneXSMax', 'iPhoneXR-iPhoneXR', 'iPad812-iPad812', 'iPad834-iPad834', 'iPad856-iPad856', 'iPad878-iPad878', 'iPadMini5-iPadMini5', 'iPadMini5Cellular-iPadMini5Cellular', 'iPadAir3-iPadAir3', 'iPadAir3Cellular-iPadAir3Cellular', 'iPodTouchSeventhGen-iPodTouchSeventhGen', 'iPhone11-iPhone11', 'iPhone11Pro-iPhone11Pro', 'iPadSeventhGen-iPadSeventhGen', 'iPadSeventhGenCellular-iPadSeventhGenCellular', 'iPhone11ProMax-iPhone11ProMax', 'iPhoneSESecondGen-iPhoneSESecondGen', 'iPadProSecondGen-iPadProSecondGen', 'iPadProSecondGenCellular-iPadProSecondGenCellular', 'iPadProFourthGen-iPadProFourthGen', 'iPadProFourthGenCellular-iPadProFourthGenCellular', 'iPhone12Mini-iPhone12Mini', 'iPhone12-iPhone12', 'iPhone12Pro-iPhone12Pro', 'iPhone12ProMax-iPhone12ProMax', 'iPadAir4-iPadAir4', 'iPadAir4Cellular-iPadAir4Cellular', 'iPadEighthGen-iPadEighthGen', 'iPadEighthGenCellular-iPadEighthGenCellular', 'iPadProThirdGen-iPadProThirdGen', 'iPadProThirdGenCellular-iPadProThirdGenCellular', 'iPadProFifthGen-iPadProFifthGen', 'iPadProFifthGenCellular-iPadProFifthGenCellular', 'iPhone13Pro-iPhone13Pro', 'iPhone13ProMax-iPhone13ProMax', 'iPhone13Mini-iPhone13Mini', 'iPhone13-iPhone13', 'iPadMiniSixthGen-iPadMiniSixthGen', 'iPadMiniSixthGenCellular-iPadMiniSixthGenCellular', 'iPadNinthGen-iPadNinthGen', 'iPadNinthGenCellular-iPadNinthGenCellular', 'iPhoneSEThirdGen-iPhoneSEThirdGen', 'iPadAirFifthGen-iPadAirFifthGen', 'iPadAirFifthGenCellular-iPadAirFifthGenCellular', 'iPhone14-iPhone14', 'iPhone14Plus-iPhone14Plus', 'iPhone14Pro-iPhone14Pro', 'iPhone14ProMax-iPhone14ProMax', 'iPadTenthGen-iPadTenthGen', 'iPadTenthGenCellular-iPadTenthGenCellular', 'iPadPro11FourthGen-iPadPro11FourthGen', 'iPadPro11FourthGenCellular-iPadPro11FourthGenCellular', 'iPadProSixthGen-iPadProSixthGen', 'iPadProSixthGenCellular-iPadProSixthGenCellular']}\n",
      "{'id': 1123930673, 'appId': 'com.wordsearch.wordsearch', 'title': 'Word Search Pro‧', 'url': 'https://apps.apple.com/us/app/word-search-pro/id1123930673?uo=4', 'description': \"Find the hidden words with your fingers in Word Search PRO for FREE now!\\n\\nIf you're looking for the most trendy word search game, Word Search PRO is the game for you! You will enjoy a fun challenge as you identify the hidden words and then swipe up, down, left, right or diagonally to mark them. It's a fun way to hone your vocabulary, spelling and puzzle skills. The game has 3 difficulty levels from easy to hard, you can choose them freely. Need more challenges? Try the Blitz mode and Marathon mode and enjoy time pressure.\\n\\nHere's what we have:\\n\\n- Easy choosing letters\\n- Unlimited puzzles\\n- Brilliant colorful look\\n- 4 different game modes\\n- 4 difficulty levels\\n- 50 word categories\\n- Daily challenges\\n- Realtime generated puzzles\\n- Reverse word selection\\n- Hints to avoid frustrations\\n- HD graphics\\n- Elegant animations\\n- Night Mode\\n\\nForget pen and paper, you'll never run out of puzzles with this game.\", 'icon': 'https://is5-ssl.mzstatic.com/image/thumb/Purple126/v4/48/96/9f/48969f75-2000-ed4f-4a04-86f67bc8eed1/AppIcon-0-0-1x_U007emarketing-0-0-0-9-0-0-sRGB-0-0-0-GLES2_U002c0-512MB-85-220-0-0.png/512x512bb.jpg', 'genres': ['Games', 'Word', 'Entertainment', 'Puzzle'], 'genreIds': ['6014', '7019', '6016', '7012'], 'primaryGenre': 'Games', 'primaryGenreId': 6014, 'contentRating': '12+', 'languages': ['EN'], 'size': '89838592', 'requiredOsVersion': '11.0', 'released': '2016-06-29T07:28:12Z', 'updated': '2023-06-14T19:58:26Z', 'releaseNotes': 'Bug Fix.', 'version': '2.21.5', 'price': 0, 'currency': 'USD', 'free': True, 'developerId': 1204059715, 'developer': 'Word Puzzle Games', 'developerUrl': 'https://apps.apple.com/us/developer/word-puzzle-games/id1204059715?uo=4', 'developerWebsite': 'https://d3z7ehwy1qvcp.cloudfront.net/index.html', 'score': 4.5359, 'reviews': 226868, 'currentVersionScore': 4.5359, 'currentVersionReviews': 226868, 'screenshots': ['https://is4-ssl.mzstatic.com/image/thumb/Purple113/v4/c2/1b/e3/c21be3c0-c918-c3b6-8695-9b69f9dd4f46/pr_source.jpg/392x696bb.jpg', 'https://is3-ssl.mzstatic.com/image/thumb/Purple113/v4/62/52/d0/6252d094-cd6b-ad58-3b59-6656638db937/pr_source.jpg/392x696bb.jpg', 'https://is1-ssl.mzstatic.com/image/thumb/Purple123/v4/0a/ac/4b/0aac4b18-1243-86e4-f194-a5a57123a33b/pr_source.jpg/392x696bb.jpg', 'https://is5-ssl.mzstatic.com/image/thumb/Purple113/v4/b0/6e/e8/b06ee8e4-7fa5-9815-e101-153588e99072/pr_source.jpg/392x696bb.jpg', 'https://is3-ssl.mzstatic.com/image/thumb/Purple123/v4/53/18/bd/5318bdfd-1e50-79b9-50de-48c266b90a44/pr_source.jpg/392x696bb.jpg'], 'ipadScreenshots': ['https://is3-ssl.mzstatic.com/image/thumb/Purple123/v4/70/48/51/7048510b-4e66-6b41-9281-8d58a0b3b194/mzl.uskhsubh.png/576x768bb.png', 'https://is3-ssl.mzstatic.com/image/thumb/Purple113/v4/f0/67/13/f0671358-8693-dd84-2137-43011c8f2569/mzl.tfyhlbba.png/576x768bb.png', 'https://is3-ssl.mzstatic.com/image/thumb/Purple113/v4/a7/3d/eb/a73deb62-fbe6-56e5-0b01-e57122ecc17b/mzl.pbweawgy.png/576x768bb.png', 'https://is2-ssl.mzstatic.com/image/thumb/Purple113/v4/71/3a/d5/713ad597-5af2-15ed-d58a-cba002ee864a/mzl.frzopxai.png/576x768bb.png', 'https://is1-ssl.mzstatic.com/image/thumb/Purple113/v4/a0/47/0c/a0470c93-9ac8-2eb9-d394-b902835c3514/mzl.ifqbbwdy.png/576x768bb.png'], 'appletvScreenshots': [], 'supportedDevices': ['iPhone5s-iPhone5s', 'iPadAir-iPadAir', 'iPadAirCellular-iPadAirCellular', 'iPadMiniRetina-iPadMiniRetina', 'iPadMiniRetinaCellular-iPadMiniRetinaCellular', 'iPhone6-iPhone6', 'iPhone6Plus-iPhone6Plus', 'iPadAir2-iPadAir2', 'iPadAir2Cellular-iPadAir2Cellular', 'iPadMini3-iPadMini3', 'iPadMini3Cellular-iPadMini3Cellular', 'iPodTouchSixthGen-iPodTouchSixthGen', 'iPhone6s-iPhone6s', 'iPhone6sPlus-iPhone6sPlus', 'iPadMini4-iPadMini4', 'iPadMini4Cellular-iPadMini4Cellular', 'iPadPro-iPadPro', 'iPadProCellular-iPadProCellular', 'iPadPro97-iPadPro97', 'iPadPro97Cellular-iPadPro97Cellular', 'iPhoneSE-iPhoneSE', 'iPhone7-iPhone7', 'iPhone7Plus-iPhone7Plus', 'iPad611-iPad611', 'iPad612-iPad612', 'iPad71-iPad71', 'iPad72-iPad72', 'iPad73-iPad73', 'iPad74-iPad74', 'iPhone8-iPhone8', 'iPhone8Plus-iPhone8Plus', 'iPhoneX-iPhoneX', 'iPad75-iPad75', 'iPad76-iPad76', 'iPhoneXS-iPhoneXS', 'iPhoneXSMax-iPhoneXSMax', 'iPhoneXR-iPhoneXR', 'iPad812-iPad812', 'iPad834-iPad834', 'iPad856-iPad856', 'iPad878-iPad878', 'iPadMini5-iPadMini5', 'iPadMini5Cellular-iPadMini5Cellular', 'iPadAir3-iPadAir3', 'iPadAir3Cellular-iPadAir3Cellular', 'iPodTouchSeventhGen-iPodTouchSeventhGen', 'iPhone11-iPhone11', 'iPhone11Pro-iPhone11Pro', 'iPadSeventhGen-iPadSeventhGen', 'iPadSeventhGenCellular-iPadSeventhGenCellular', 'iPhone11ProMax-iPhone11ProMax', 'iPhoneSESecondGen-iPhoneSESecondGen', 'iPadProSecondGen-iPadProSecondGen', 'iPadProSecondGenCellular-iPadProSecondGenCellular', 'iPadProFourthGen-iPadProFourthGen', 'iPadProFourthGenCellular-iPadProFourthGenCellular', 'iPhone12Mini-iPhone12Mini', 'iPhone12-iPhone12', 'iPhone12Pro-iPhone12Pro', 'iPhone12ProMax-iPhone12ProMax', 'iPadAir4-iPadAir4', 'iPadAir4Cellular-iPadAir4Cellular', 'iPadEighthGen-iPadEighthGen', 'iPadEighthGenCellular-iPadEighthGenCellular', 'iPadProThirdGen-iPadProThirdGen', 'iPadProThirdGenCellular-iPadProThirdGenCellular', 'iPadProFifthGen-iPadProFifthGen', 'iPadProFifthGenCellular-iPadProFifthGenCellular', 'iPhone13Pro-iPhone13Pro', 'iPhone13ProMax-iPhone13ProMax', 'iPhone13Mini-iPhone13Mini', 'iPhone13-iPhone13', 'iPadMiniSixthGen-iPadMiniSixthGen', 'iPadMiniSixthGenCellular-iPadMiniSixthGenCellular', 'iPadNinthGen-iPadNinthGen', 'iPadNinthGenCellular-iPadNinthGenCellular', 'iPhoneSEThirdGen-iPhoneSEThirdGen', 'iPadAirFifthGen-iPadAirFifthGen', 'iPadAirFifthGenCellular-iPadAirFifthGenCellular', 'iPhone14-iPhone14', 'iPhone14Plus-iPhone14Plus', 'iPhone14Pro-iPhone14Pro', 'iPhone14ProMax-iPhone14ProMax', 'iPadTenthGen-iPadTenthGen', 'iPadTenthGenCellular-iPadTenthGenCellular', 'iPadPro11FourthGen-iPadPro11FourthGen', 'iPadPro11FourthGenCellular-iPadPro11FourthGenCellular', 'iPadProSixthGen-iPadProSixthGen', 'iPadProSixthGenCellular-iPadProSixthGenCellular']}\n"
     ]
    },
    {
     "name": "stdout",
     "output_type": "stream",
     "text": [
      "{'id': 1542627590, 'appId': 'com.oneup.hangman.word.find.games.free', 'title': 'Hangman 2023', 'url': 'https://apps.apple.com/us/app/hangman-2023/id1542627590?uo=4', 'description': 'Enjoy the hangman game on your mobile or tablet! This gallow classic game is suitable for all ages, especially for those adults who want to practice their language skills and vocabulary or kids learning new words. The classic hangman for your device.\\n\\n\\nCheck your maximum score on the leaderboards and compare your record to your friends or players from different countries.\\n\\n\\nThe hangman, also known as \"hanged\" is a classic game in which you will have to guess a word by choosing the letters that you think may be included in it.\\n\\n\\nHow to play:\\n\\n\\nChoose letters to help you guess the hidden word. When you guess a letter correctly it will display above its positioned underscore. The more letters that you guess correctly, the more likely you\\'ll be able to guess the word correctly. Each time you select an incorrect letter, the gallows will be formed, followed by a stickman figure. Once the stickman has been fully constructed, it will be game over.\\n\\n\\nWhen you successfully guess a word, you will have 1 coin added to your in-game balance. Coins from your balance can be used to reveal letters when you are stuck.\\n\\nYou will win the hangman game if you can write the correct word before the figure of the stick man is completed. If not, it will be hanged and the game will be finalized.\\n\\n\\nFEATURES\\n\\n\\n- Hundreds of words & a wide range of categories.\\n\\n- Perfectly themed to give that classic Hangman feel.\\n\\n- 100% free. All content is available to everyone with no hidden upgrades.\\n\\n- Options to turn sound effects on/off.\\n\\n- Game progress will always be saved along with your high score.\\n\\n- For all ages. Ideal hangman for adults and senior players\\n\\n- Hundreds of words and levels\\n\\n- Simple and fun game\\n\\n- Totally free\\n\\n- Possibility to enable or remove the sound.\\n\\n\\nIs your vocabulary big enough to save the poor stick man? Play Hangman Free and find out!', 'icon': 'https://is1-ssl.mzstatic.com/image/thumb/Purple126/v4/fa/09/16/fa0916fa-b6fa-6505-5817-199ecc956124/AppIcon-0-0-1x_U007emarketing-0-0-0-7-0-0-sRGB-0-0-0-GLES2_U002c0-512MB-85-220-0-0.png/512x512bb.jpg', 'genres': ['Games', 'Entertainment', 'Casual', 'Word'], 'genreIds': ['6014', '6016', '7003', '7019'], 'primaryGenre': 'Games', 'primaryGenreId': 6014, 'contentRating': '4+', 'languages': ['AF', 'AR', 'EU', 'BE', 'BG', 'CA', 'CS', 'DA', 'NL', 'EN', 'ET', 'FO', 'FI', 'FR', 'DE', 'EL', 'HE', 'HU', 'IS', 'ID', 'IT', 'JA', 'KO', 'LV', 'LT', 'NB', 'PL', 'PT', 'RO', 'RU', 'SH', 'ZH', 'SK', 'SL', 'ES', 'SV', 'TH', 'TR', 'UK', 'VI'], 'size': '155204608', 'requiredOsVersion': '12.0', 'released': '2021-01-27T08:00:00Z', 'updated': '2023-05-20T14:09:51Z', 'releaseNotes': 'In this version we have modified the game so that, in addition to English, you can play Hangman in other languages: Spanish, French, German, Portuguese, Russian, Italian or Indonesian. We have also changed the interface to make it more enjoyable and fun.\\nThank you for playing Hangman, keep enjoying this fantastic game !!!', 'version': '2.0', 'price': 0, 'currency': 'USD', 'free': True, 'developerId': 1348244383, 'developer': 'One Up Games Studio', 'developerUrl': 'https://apps.apple.com/us/developer/one-up-games-studio/id1348244383?uo=4', 'developerWebsite': 'https://www.oneup.games', 'score': 4.54063, 'reviews': 603, 'currentVersionScore': 4.54063, 'currentVersionReviews': 603, 'screenshots': ['https://is3-ssl.mzstatic.com/image/thumb/PurpleSource126/v4/84/5e/6e/845e6e23-2e08-6fa4-d59f-0062d7b0bc7d/49c342b0-2319-47e6-9895-135577c5ef06_System_Product_Name__U0028ASUS_U0029__04-05-2023_14-47-08.png/392x696bb.png', 'https://is1-ssl.mzstatic.com/image/thumb/PurpleSource116/v4/7a/e2/0d/7ae20d98-9593-ce06-6576-291b2c57a593/f29625de-5442-4065-8d4d-aafd47a3670a_System_Product_Name__U0028ASUS_U0029__04-05-2023_14-47-48.png/392x696bb.png', 'https://is4-ssl.mzstatic.com/image/thumb/PurpleSource126/v4/d8/d3/5f/d8d35fd4-a4ab-0692-bbec-5fc17db626a9/b5bcd373-07b5-4b90-a7dc-d90d96d182c4_System_Product_Name__U0028ASUS_U0029__04-05-2023_14-48-09.png/392x696bb.png', 'https://is1-ssl.mzstatic.com/image/thumb/PurpleSource116/v4/b3/fc/93/b3fc93b1-43b3-b1ce-2048-2155db77208c/fe50f44b-9c5d-45eb-bd65-6bf765f1d3a5_System_Product_Name__U0028ASUS_U0029__04-05-2023_14-40-04.png/392x696bb.png', 'https://is4-ssl.mzstatic.com/image/thumb/PurpleSource116/v4/e0/d6/0a/e0d60af5-e924-1ac1-5128-c80841b12fe4/2808a8e1-9035-4ac0-835e-46ecb9157072_System_Product_Name__U0028ASUS_U0029__04-05-2023_14-48-48.png/392x696bb.png', 'https://is3-ssl.mzstatic.com/image/thumb/PurpleSource126/v4/02/37/cc/0237cc87-64bc-52f7-2c54-fca3969d0ba8/6ac3cc6c-0b39-4633-868c-f015f8824fac_System_Product_Name__U0028ASUS_U0029__04-05-2023_14-49-25.png/392x696bb.png', 'https://is3-ssl.mzstatic.com/image/thumb/PurpleSource126/v4/bc/c4/89/bcc4892e-977f-323d-2e89-7f35c53055eb/ca6a857c-01cc-4994-8a2e-077aa61e8f47_System_Product_Name__U0028ASUS_U0029__04-05-2023_14-39-55.png/392x696bb.png', 'https://is1-ssl.mzstatic.com/image/thumb/PurpleSource116/v4/5b/15/3d/5b153d35-aa80-c903-79f5-07234d747706/a5e3bed1-668f-4824-8d4d-84630472ea85_System_Product_Name__U0028ASUS_U0029__04-05-2023_14-50-14.png/392x696bb.png', 'https://is1-ssl.mzstatic.com/image/thumb/PurpleSource126/v4/cb/9b/9a/cb9b9af9-2abc-366c-05e5-8a12f858b60f/956a1ed8-158b-43f6-a88c-9b8d6be68c84_System_Product_Name__U0028ASUS_U0029__04-05-2023_14-50-36.png/392x696bb.png'], 'ipadScreenshots': ['https://is4-ssl.mzstatic.com/image/thumb/PurpleSource116/v4/ea/b0/fd/eab0fd5d-4f9b-ddec-2074-ff6710d161c5/a1d7e7c5-744a-4d30-890f-d286bf4aa40d_System_Product_Name__U0028ASUS_U0029__04-05-2023_14-26-31.png/576x768bb.png', 'https://is3-ssl.mzstatic.com/image/thumb/PurpleSource126/v4/c7/0e/c3/c70ec307-35c5-2f2b-bdce-c6a0f66c31c3/44640b79-e912-4507-a848-50a4a52d6636_System_Product_Name__U0028ASUS_U0029__04-05-2023_14-27-13.png/576x768bb.png', 'https://is1-ssl.mzstatic.com/image/thumb/PurpleSource126/v4/ff/fc/f2/fffcf277-911e-8e6a-17d3-7a2a006c2c37/01966374-a8a6-4090-b556-7d342980f0f6_System_Product_Name__U0028ASUS_U0029__04-05-2023_14-27-48.png/576x768bb.png', 'https://is5-ssl.mzstatic.com/image/thumb/PurpleSource126/v4/a9/f6/4d/a9f64db4-e292-8f62-5f60-0038218033f4/84b9f8bb-b22a-4d41-a46d-a27586edb862_System_Product_Name__U0028ASUS_U0029__04-05-2023_14-25-27.png/576x768bb.png', 'https://is3-ssl.mzstatic.com/image/thumb/PurpleSource126/v4/3b/7a/f6/3b7af6e7-aff9-51ad-8059-7efb583bc40c/e373c720-5ba0-4ef9-ae10-1e89a340c5e9_System_Product_Name__U0028ASUS_U0029__04-05-2023_14-28-15.png/576x768bb.png', 'https://is5-ssl.mzstatic.com/image/thumb/PurpleSource126/v4/9b/da/e3/9bdae33e-c41b-a4d9-6bef-219db230db6c/70933965-a3a2-4db4-871c-892d9787e6c8_System_Product_Name__U0028ASUS_U0029__04-05-2023_14-28-54.png/576x768bb.png', 'https://is5-ssl.mzstatic.com/image/thumb/PurpleSource116/v4/92/7a/e4/927ae46f-5f21-3540-4ec8-2dd747abed55/7bdc9fa3-6443-4ba1-bd54-cdb0fba524f9_System_Product_Name__U0028ASUS_U0029__04-05-2023_14-32-41.png/576x768bb.png', 'https://is4-ssl.mzstatic.com/image/thumb/PurpleSource126/v4/ba/94/4a/ba944ad7-9e7a-4011-c6df-5312add740e3/4f1c0969-60ff-48df-9c8e-6e88ff8d414f_System_Product_Name__U0028ASUS_U0029__04-05-2023_14-33-40.png/576x768bb.png', 'https://is5-ssl.mzstatic.com/image/thumb/PurpleSource126/v4/8c/0a/4c/8c0a4c6c-ef13-e7e9-b9ff-c0ff39a09765/e15afb14-8fbf-4180-8c3c-8c61fc1166f8_System_Product_Name__U0028ASUS_U0029__04-05-2023_14-33-51.png/576x768bb.png', 'https://is2-ssl.mzstatic.com/image/thumb/PurpleSource116/v4/69/84/18/6984184e-a1eb-6e0c-94b5-44fa13312084/27f58f15-268c-470a-afc2-69661b2a7491_System_Product_Name__U0028ASUS_U0029__04-05-2023_14-34-21.png/576x768bb.png'], 'appletvScreenshots': [], 'supportedDevices': ['iPhone5s-iPhone5s', 'iPadAir-iPadAir', 'iPadAirCellular-iPadAirCellular', 'iPadMiniRetina-iPadMiniRetina', 'iPadMiniRetinaCellular-iPadMiniRetinaCellular', 'iPhone6-iPhone6', 'iPhone6Plus-iPhone6Plus', 'iPadAir2-iPadAir2', 'iPadAir2Cellular-iPadAir2Cellular', 'iPadMini3-iPadMini3', 'iPadMini3Cellular-iPadMini3Cellular', 'iPodTouchSixthGen-iPodTouchSixthGen', 'iPhone6s-iPhone6s', 'iPhone6sPlus-iPhone6sPlus', 'iPadMini4-iPadMini4', 'iPadMini4Cellular-iPadMini4Cellular', 'iPadPro-iPadPro', 'iPadProCellular-iPadProCellular', 'iPadPro97-iPadPro97', 'iPadPro97Cellular-iPadPro97Cellular', 'iPhoneSE-iPhoneSE', 'iPhone7-iPhone7', 'iPhone7Plus-iPhone7Plus', 'iPad611-iPad611', 'iPad612-iPad612', 'iPad71-iPad71', 'iPad72-iPad72', 'iPad73-iPad73', 'iPad74-iPad74', 'iPhone8-iPhone8', 'iPhone8Plus-iPhone8Plus', 'iPhoneX-iPhoneX', 'iPad75-iPad75', 'iPad76-iPad76', 'iPhoneXS-iPhoneXS', 'iPhoneXSMax-iPhoneXSMax', 'iPhoneXR-iPhoneXR', 'iPad812-iPad812', 'iPad834-iPad834', 'iPad856-iPad856', 'iPad878-iPad878', 'iPadMini5-iPadMini5', 'iPadMini5Cellular-iPadMini5Cellular', 'iPadAir3-iPadAir3', 'iPadAir3Cellular-iPadAir3Cellular', 'iPodTouchSeventhGen-iPodTouchSeventhGen', 'iPhone11-iPhone11', 'iPhone11Pro-iPhone11Pro', 'iPadSeventhGen-iPadSeventhGen', 'iPadSeventhGenCellular-iPadSeventhGenCellular', 'iPhone11ProMax-iPhone11ProMax', 'iPhoneSESecondGen-iPhoneSESecondGen', 'iPadProSecondGen-iPadProSecondGen', 'iPadProSecondGenCellular-iPadProSecondGenCellular', 'iPadProFourthGen-iPadProFourthGen', 'iPadProFourthGenCellular-iPadProFourthGenCellular', 'iPhone12Mini-iPhone12Mini', 'iPhone12-iPhone12', 'iPhone12Pro-iPhone12Pro', 'iPhone12ProMax-iPhone12ProMax', 'iPadAir4-iPadAir4', 'iPadAir4Cellular-iPadAir4Cellular', 'iPadEighthGen-iPadEighthGen', 'iPadEighthGenCellular-iPadEighthGenCellular', 'iPadProThirdGen-iPadProThirdGen', 'iPadProThirdGenCellular-iPadProThirdGenCellular', 'iPadProFifthGen-iPadProFifthGen', 'iPadProFifthGenCellular-iPadProFifthGenCellular', 'iPhone13Pro-iPhone13Pro', 'iPhone13ProMax-iPhone13ProMax', 'iPhone13Mini-iPhone13Mini', 'iPhone13-iPhone13', 'iPadMiniSixthGen-iPadMiniSixthGen', 'iPadMiniSixthGenCellular-iPadMiniSixthGenCellular', 'iPadNinthGen-iPadNinthGen', 'iPadNinthGenCellular-iPadNinthGenCellular', 'iPhoneSEThirdGen-iPhoneSEThirdGen', 'iPadAirFifthGen-iPadAirFifthGen', 'iPadAirFifthGenCellular-iPadAirFifthGenCellular', 'iPhone14-iPhone14', 'iPhone14Plus-iPhone14Plus', 'iPhone14Pro-iPhone14Pro', 'iPhone14ProMax-iPhone14ProMax', 'iPadTenthGen-iPadTenthGen', 'iPadTenthGenCellular-iPadTenthGenCellular', 'iPadPro11FourthGen-iPadPro11FourthGen', 'iPadPro11FourthGenCellular-iPadPro11FourthGenCellular', 'iPadProSixthGen-iPadProSixthGen', 'iPadProSixthGenCellular-iPadProSixthGenCellular']}\n"
     ]
    },
    {
     "name": "stdout",
     "output_type": "stream",
     "text": [
      "{'id': 1245525899, 'appId': 'com.littleengine.wordpal', 'title': 'Word Wars:Puzzle with Friends', 'url': 'https://apps.apple.com/us/app/word-wars-puzzle-with-friends/id1245525899?uo=4', 'description': 'Meet Word Wars, the fantastic new word game where an age-old classic board game meets amazing modern design!\\n\\nNever get tired of waiting on your opponents to play their turn! Play as many matches as you want at the same time and keep the fun going!\\n\\nStrapped for time? Try the new mini-board for quick word battles.\\n\\n- CLASSIC BOARD GAME EXPERIENCE - Enjoy the evergreen board game in a beautiful new avatar!\\n\\n- PLAY WITH FRIENDS AND FAMILY - Login with Facebook and duel with friends!\\n\\n- FIND YOUR MATCH - Get matched with other players based on your skill level and unleash your word wizardry!\\n\\n- BROADCAST CHALLENGES - Throw down the gauntlet to other players and see how many are up for your challenge!\\n\\n- WEEKLY TOURNAMENTS - Compete in tournaments every week and win grand prizes!\\n\\n- UNIQUE POWER-UPS - Make use of fantastic power-ups that will help you take your word skills to the next level!\\n\\n- CHAT WITH FRIENDS - Stay connected with your friends and make new ones!\\n\\nSo, what are you waiting for? Don’t waste time on run-of-the-mill games. Get Word Wars now and get your amazing journey started!', 'icon': 'https://is2-ssl.mzstatic.com/image/thumb/Purple116/v4/8d/96/a8/8d96a81a-3ad7-88f3-2ea5-f1ec03fffada/AppIcon-0-0-1x_U007emarketing-0-0-0-7-0-0-sRGB-0-0-0-GLES2_U002c0-512MB-85-220-0-0.png/512x512bb.jpg', 'genres': ['Games', 'Word', 'Entertainment', 'Board'], 'genreIds': ['6014', '7019', '6016', '7004'], 'primaryGenre': 'Games', 'primaryGenreId': 6014, 'contentRating': '4+', 'languages': ['EN'], 'size': '209477632', 'requiredOsVersion': '12.5', 'released': '2018-01-31T22:32:41Z', 'updated': '2023-06-14T01:05:42Z', 'releaseNotes': '1. Regular tuning and fixes to make your experience smoother.\\n2. Under the hood improvements', 'version': '1.632', 'price': 0, 'currency': 'USD', 'free': True, 'developerId': 1189416142, 'developer': 'PlaySimple Games Pte Ltd', 'developerUrl': 'https://apps.apple.com/us/developer/playsimple-games-pte-ltd/id1189416142?uo=4', 'developerWebsite': 'http://playsimple.in', 'score': 4.16622, 'reviews': 5938, 'currentVersionScore': 4.16622, 'currentVersionReviews': 5938, 'screenshots': ['https://is2-ssl.mzstatic.com/image/thumb/PurpleSource116/v4/01/66/ab/0166ab9f-f83c-a0f9-5332-0c6369967c3d/0ab68f62-cd5b-4701-9c63-7d49b8dbfc58_1.png/392x696bb.png', 'https://is5-ssl.mzstatic.com/image/thumb/PurpleSource116/v4/a4/c9/30/a4c93080-f566-cec2-b360-abb6edd9b5c1/82e03b72-1cfb-4c55-a952-55d94987551b_2.png/392x696bb.png', 'https://is2-ssl.mzstatic.com/image/thumb/PurpleSource116/v4/dc/91/42/dc9142b1-95ac-64bd-e19f-3272af83fe38/4f971fc0-6e2b-403b-a3e7-a464dbf3f60e_3.png/392x696bb.png', 'https://is4-ssl.mzstatic.com/image/thumb/PurpleSource126/v4/95/dc/35/95dc353e-ad2f-080a-50ae-0debffacd7f3/4cb2c3ad-a457-4058-af2a-e349d1a5bbe5_4.png/392x696bb.png', 'https://is2-ssl.mzstatic.com/image/thumb/PurpleSource126/v4/db/c2/4a/dbc24a0a-7360-49e3-48bc-61cf4ed73341/eb61e9dc-dac0-4bc5-819a-34cc03d34548_5.png/392x696bb.png', 'https://is4-ssl.mzstatic.com/image/thumb/PurpleSource116/v4/f2/64/53/f2645384-382c-1703-6787-c07336f5964b/b9ebca55-c2fc-4d08-9050-678910cd1198_6.png/392x696bb.png', 'https://is1-ssl.mzstatic.com/image/thumb/PurpleSource116/v4/9a/39/8f/9a398fe1-b4d3-22e9-3a33-77e902130a82/4489b67a-7e95-41b6-a815-ed84b4aa4543_7.png/392x696bb.png', 'https://is1-ssl.mzstatic.com/image/thumb/PurpleSource116/v4/f6/14/3e/f6143e69-c52d-424e-4ffa-3a53cf4a1d66/5c9f0276-cd94-41c3-9dab-9787965def88_8.png/392x696bb.png', 'https://is5-ssl.mzstatic.com/image/thumb/PurpleSource116/v4/5e/3d/55/5e3d5571-5a0a-cf92-e0a8-2d88a1ff13df/82e2e7ed-4527-4f0c-bca3-01fb1d677bad_9.png/392x696bb.png', 'https://is1-ssl.mzstatic.com/image/thumb/PurpleSource126/v4/04/52/ec/0452ecc7-8852-3f3e-c968-28c9ecd3ff47/32e41c58-3399-40b5-9713-5ca6cf9ac54c_10.png/392x696bb.png'], 'ipadScreenshots': ['https://is4-ssl.mzstatic.com/image/thumb/PurpleSource116/v4/8c/c8/90/8cc890bf-482c-e523-dc91-5ac1eb9a03f5/5924985f-5e7c-4037-9c1a-5ce96dd4b890_1.png/576x768bb.png', 'https://is4-ssl.mzstatic.com/image/thumb/PurpleSource126/v4/12/ae/6a/12ae6aad-2aa0-6b55-83fb-147564ab903c/a5990222-f43f-4f6b-a833-ca34afcf57bd_2.png/576x768bb.png', 'https://is1-ssl.mzstatic.com/image/thumb/PurpleSource116/v4/5c/91/ef/5c91ef14-22e7-fdf3-1228-622d47eb2113/8943fd44-3c40-431c-a2a2-8435e283079d_3.png/576x768bb.png', 'https://is5-ssl.mzstatic.com/image/thumb/PurpleSource116/v4/45/0b/30/450b3009-0826-3be0-a1b8-1c231fcdde8e/fd1fcd43-3f15-4f32-bc4a-109e24b5819c_4.png/576x768bb.png', 'https://is2-ssl.mzstatic.com/image/thumb/PurpleSource126/v4/c9/4f/60/c94f6024-a569-06a3-e7a0-b128a9ddd2ea/228c72c7-e316-4c16-a0c4-7e6d8f46f70c_5.png/576x768bb.png', 'https://is1-ssl.mzstatic.com/image/thumb/PurpleSource116/v4/c0/d4/30/c0d43000-8b8e-ee8f-984d-9d67e5d0bdda/7cf91419-6e6a-42b8-b240-c13da68b8019_6.png/576x768bb.png', 'https://is1-ssl.mzstatic.com/image/thumb/PurpleSource116/v4/69/7b/ce/697bce62-877a-f2a7-3432-3e4b986e3410/f83aea1b-9292-4d94-b6ea-303c5b9e77b5_7.png/576x768bb.png', 'https://is1-ssl.mzstatic.com/image/thumb/PurpleSource126/v4/52/f4/9b/52f49bc5-f255-b9a6-a2c0-721d0d36f8ae/8f1d4de2-b199-4f7c-bec3-75fc92eb09c8_8.png/576x768bb.png', 'https://is2-ssl.mzstatic.com/image/thumb/PurpleSource126/v4/6e/9e/36/6e9e36f2-281d-7227-90c3-4dce0fa9db90/bb447163-19c0-434d-809c-a98e7d1dc2fc_9.png/576x768bb.png', 'https://is3-ssl.mzstatic.com/image/thumb/PurpleSource116/v4/b3/77/af/b377afc0-41d8-507c-6705-e25271fa776e/9008122d-276b-4ee0-95ab-a407bc3a574c_10.png/576x768bb.png'], 'appletvScreenshots': [], 'supportedDevices': ['iPhone5s-iPhone5s', 'iPadAir-iPadAir', 'iPadAirCellular-iPadAirCellular', 'iPadMiniRetina-iPadMiniRetina', 'iPadMiniRetinaCellular-iPadMiniRetinaCellular', 'iPhone6-iPhone6', 'iPhone6Plus-iPhone6Plus', 'iPadAir2-iPadAir2', 'iPadAir2Cellular-iPadAir2Cellular', 'iPadMini3-iPadMini3', 'iPadMini3Cellular-iPadMini3Cellular', 'iPodTouchSixthGen-iPodTouchSixthGen', 'iPhone6s-iPhone6s', 'iPhone6sPlus-iPhone6sPlus', 'iPadMini4-iPadMini4', 'iPadMini4Cellular-iPadMini4Cellular', 'iPadPro-iPadPro', 'iPadProCellular-iPadProCellular', 'iPadPro97-iPadPro97', 'iPadPro97Cellular-iPadPro97Cellular', 'iPhoneSE-iPhoneSE', 'iPhone7-iPhone7', 'iPhone7Plus-iPhone7Plus', 'iPad611-iPad611', 'iPad612-iPad612', 'iPad71-iPad71', 'iPad72-iPad72', 'iPad73-iPad73', 'iPad74-iPad74', 'iPhone8-iPhone8', 'iPhone8Plus-iPhone8Plus', 'iPhoneX-iPhoneX', 'iPad75-iPad75', 'iPad76-iPad76', 'iPhoneXS-iPhoneXS', 'iPhoneXSMax-iPhoneXSMax', 'iPhoneXR-iPhoneXR', 'iPad812-iPad812', 'iPad834-iPad834', 'iPad856-iPad856', 'iPad878-iPad878', 'iPadMini5-iPadMini5', 'iPadMini5Cellular-iPadMini5Cellular', 'iPadAir3-iPadAir3', 'iPadAir3Cellular-iPadAir3Cellular', 'iPodTouchSeventhGen-iPodTouchSeventhGen', 'iPhone11-iPhone11', 'iPhone11Pro-iPhone11Pro', 'iPadSeventhGen-iPadSeventhGen', 'iPadSeventhGenCellular-iPadSeventhGenCellular', 'iPhone11ProMax-iPhone11ProMax', 'iPhoneSESecondGen-iPhoneSESecondGen', 'iPadProSecondGen-iPadProSecondGen', 'iPadProSecondGenCellular-iPadProSecondGenCellular', 'iPadProFourthGen-iPadProFourthGen', 'iPadProFourthGenCellular-iPadProFourthGenCellular', 'iPhone12Mini-iPhone12Mini', 'iPhone12-iPhone12', 'iPhone12Pro-iPhone12Pro', 'iPhone12ProMax-iPhone12ProMax', 'iPadAir4-iPadAir4', 'iPadAir4Cellular-iPadAir4Cellular', 'iPadEighthGen-iPadEighthGen', 'iPadEighthGenCellular-iPadEighthGenCellular', 'iPadProThirdGen-iPadProThirdGen', 'iPadProThirdGenCellular-iPadProThirdGenCellular', 'iPadProFifthGen-iPadProFifthGen', 'iPadProFifthGenCellular-iPadProFifthGenCellular', 'iPhone13Pro-iPhone13Pro', 'iPhone13ProMax-iPhone13ProMax', 'iPhone13Mini-iPhone13Mini', 'iPhone13-iPhone13', 'iPadMiniSixthGen-iPadMiniSixthGen', 'iPadMiniSixthGenCellular-iPadMiniSixthGenCellular', 'iPadNinthGen-iPadNinthGen', 'iPadNinthGenCellular-iPadNinthGenCellular', 'iPhoneSEThirdGen-iPhoneSEThirdGen', 'iPadAirFifthGen-iPadAirFifthGen', 'iPadAirFifthGenCellular-iPadAirFifthGenCellular', 'iPhone14-iPhone14', 'iPhone14Plus-iPhone14Plus', 'iPhone14Pro-iPhone14Pro', 'iPhone14ProMax-iPhone14ProMax', 'iPadTenthGen-iPadTenthGen', 'iPadTenthGenCellular-iPadTenthGenCellular', 'iPadPro11FourthGen-iPadPro11FourthGen', 'iPadPro11FourthGenCellular-iPadPro11FourthGenCellular', 'iPadProSixthGen-iPadProSixthGen', 'iPadProSixthGenCellular-iPadProSixthGenCellular']}\n"
     ]
    },
    {
     "name": "stdout",
     "output_type": "stream",
     "text": [
      "{'id': 1419607257, 'appId': 'com.swc.scrabble-word-checker', 'title': 'Word Checker for Scrabble®', 'url': 'https://apps.apple.com/us/app/word-checker-for-scrabble/id1419607257?uo=4', 'description': 'For amateurs and professionals, this application includes the complete list of words authorized by the official game of Scrabble®.\\n\\nThe dictionary lists all the accepted words (feminine, plural, orthographic variants and all conjugated forms)\\n\\nEasy to use, the app provide also the full definition of words and it works offline.\\n\\nFeatures:\\n- Very Fast word checking\\n- Easy to use\\n- Official SCRABBLE® word lists:\\n   • NASPA Word List dictionnary (NWL) USA, Canada and Thailand\\n   • Collins Word List - U.K. and International (with 2019 update)\\n- Timer\\n- Word length up to 15 letters\\n- No internet require (use local dictionary files)\\n- Comprehensive definitions provided by The American Heritage Dictionary, Wiktionary, Century Dictionary, Collins Dictionary and more.\\n\\n\"Word Checker\" is not affiliate with the registered brand Scrabble®\\n\\nIf you like the app, please rate it and leave comment on the App Store.\\n\\nTerms of Use: https://word.si/terms-of-use.html\\nPrivacy Policy : https://word.si/privacy-policy.html', 'icon': 'https://is3-ssl.mzstatic.com/image/thumb/Purple116/v4/3d/87/8d/3d878da4-ef2b-485d-dacc-580507ff3ad7/AppIcon-1x_U007emarketing-0-7-0-85-220.png/512x512bb.jpg', 'genres': ['Reference', 'Word', 'Games', 'Family'], 'genreIds': ['6006', '7019', '6014', '7009'], 'primaryGenre': 'Reference', 'primaryGenreId': 6006, 'contentRating': '4+', 'languages': ['EN'], 'size': '35525632', 'requiredOsVersion': '13.0', 'released': '2018-08-05T01:11:31Z', 'updated': '2023-02-24T22:41:59Z', 'releaseNotes': '- Libraries updated\\n- Code improved\\n- Splash screen Layout improved\\n\\nIf you like the app, please leave a little comment on the Apple Store, it helps us a lot and motivates us to improve it.', 'version': '2.2.7', 'price': 0, 'currency': 'USD', 'free': True, 'developerId': 330735053, 'developer': 'Fabien Maurice', 'developerUrl': 'https://apps.apple.com/us/developer/fabien-maurice/id330735053?uo=4', 'developerWebsite': 'https://word.si/', 'score': 4.77665, 'reviews': 5355, 'currentVersionScore': 4.77665, 'currentVersionReviews': 5355, 'screenshots': ['https://is2-ssl.mzstatic.com/image/thumb/PurpleSource126/v4/68/d0/24/68d02410-913d-b6ac-4f25-969fdc6227cc/ca71dcb5-00e8-4add-9a82-a7558342783c_3._5.5_en.jpg/392x696bb.jpg', 'https://is1-ssl.mzstatic.com/image/thumb/PurpleSource126/v4/38/72/00/38720015-3c43-6f6b-6fc4-b7268fbf93c9/4d0adf54-c9d3-4e29-946c-4a3951f4a5b8_2._5.5_en.jpg/392x696bb.jpg', 'https://is5-ssl.mzstatic.com/image/thumb/PurpleSource126/v4/ca/6e/e6/ca6ee62a-0fa4-8ee0-44cb-9e063e90f0dc/b67773ab-c8d5-48a7-9fb0-4fe0a599c0fb_1._5.5_en.jpg/392x696bb.jpg', 'https://is1-ssl.mzstatic.com/image/thumb/PurpleSource116/v4/c5/d2/45/c5d245c8-133b-b797-8ac9-3c4f593f1997/d9a08352-d7b5-4052-9f39-5102deaef634_4._5.5_en_new.jpg/392x696bb.jpg', 'https://is2-ssl.mzstatic.com/image/thumb/Purple126/v4/9a/a7/a2/9aa7a2a6-8b81-51c6-b7e8-f09fbe344f40/pr_source.jpg/392x696bb.jpg', 'https://is5-ssl.mzstatic.com/image/thumb/PurpleSource126/v4/e0/2d/ab/e02dab7e-b7cd-4929-0c51-9d048db06c9b/059e0b0c-b419-4d77-9e77-4ea65e07027a_4._5.5_en.jpg/392x696bb.jpg'], 'ipadScreenshots': ['https://is1-ssl.mzstatic.com/image/thumb/Purple116/v4/db/d1/9c/dbd19c8d-66bf-180e-c7f0-1c0fe9c14833/48b4ef03-340a-41aa-813d-ce3cf58d808a_ipad_screen_1.jpg/576x768bb.jpg', 'https://is1-ssl.mzstatic.com/image/thumb/Purple126/v4/8f/37/f8/8f37f8b6-4c86-084d-5119-9ff7296b92de/289f3ff3-7098-4576-86ac-bbb8fdb57478_2.ipad2eme_gene.jpg/576x768bb.jpg', 'https://is4-ssl.mzstatic.com/image/thumb/Purple126/v4/fb/7e/f0/fb7ef0b8-d8db-d769-23ac-461863b68f41/25f09be7-9b8b-4cc1-9bbf-e79bf078a7e7_ipad_screen_3.jpg/576x768bb.jpg', 'https://is3-ssl.mzstatic.com/image/thumb/Purple126/v4/f4/3d/80/f43d806b-a203-d433-28f8-af65483feff9/8d448e29-63ad-4791-bb83-689768d7ac23_ipad_screen_4.jpg/576x768bb.jpg', 'https://is5-ssl.mzstatic.com/image/thumb/Purple126/v4/78/44/53/7844535a-bae2-6496-9301-cc6a100f341c/402ba420-1cd4-4894-9cda-5bd867a89aca_4.ipad2eme_gene.jpg/576x768bb.jpg'], 'appletvScreenshots': [], 'supportedDevices': ['iPhone5s-iPhone5s', 'iPadAir-iPadAir', 'iPadAirCellular-iPadAirCellular', 'iPadMiniRetina-iPadMiniRetina', 'iPadMiniRetinaCellular-iPadMiniRetinaCellular', 'iPhone6-iPhone6', 'iPhone6Plus-iPhone6Plus', 'iPadAir2-iPadAir2', 'iPadAir2Cellular-iPadAir2Cellular', 'iPadMini3-iPadMini3', 'iPadMini3Cellular-iPadMini3Cellular', 'iPodTouchSixthGen-iPodTouchSixthGen', 'iPhone6s-iPhone6s', 'iPhone6sPlus-iPhone6sPlus', 'iPadMini4-iPadMini4', 'iPadMini4Cellular-iPadMini4Cellular', 'iPadPro-iPadPro', 'iPadProCellular-iPadProCellular', 'iPadPro97-iPadPro97', 'iPadPro97Cellular-iPadPro97Cellular', 'iPhoneSE-iPhoneSE', 'iPhone7-iPhone7', 'iPhone7Plus-iPhone7Plus', 'iPad611-iPad611', 'iPad612-iPad612', 'iPad71-iPad71', 'iPad72-iPad72', 'iPad73-iPad73', 'iPad74-iPad74', 'iPhone8-iPhone8', 'iPhone8Plus-iPhone8Plus', 'iPhoneX-iPhoneX', 'iPad75-iPad75', 'iPad76-iPad76', 'iPhoneXS-iPhoneXS', 'iPhoneXSMax-iPhoneXSMax', 'iPhoneXR-iPhoneXR', 'iPad812-iPad812', 'iPad834-iPad834', 'iPad856-iPad856', 'iPad878-iPad878', 'iPadMini5-iPadMini5', 'iPadMini5Cellular-iPadMini5Cellular', 'iPadAir3-iPadAir3', 'iPadAir3Cellular-iPadAir3Cellular', 'iPodTouchSeventhGen-iPodTouchSeventhGen', 'iPhone11-iPhone11', 'iPhone11Pro-iPhone11Pro', 'iPadSeventhGen-iPadSeventhGen', 'iPadSeventhGenCellular-iPadSeventhGenCellular', 'iPhone11ProMax-iPhone11ProMax', 'iPhoneSESecondGen-iPhoneSESecondGen', 'iPadProSecondGen-iPadProSecondGen', 'iPadProSecondGenCellular-iPadProSecondGenCellular', 'iPadProFourthGen-iPadProFourthGen', 'iPadProFourthGenCellular-iPadProFourthGenCellular', 'iPhone12Mini-iPhone12Mini', 'iPhone12-iPhone12', 'iPhone12Pro-iPhone12Pro', 'iPhone12ProMax-iPhone12ProMax', 'iPadAir4-iPadAir4', 'iPadAir4Cellular-iPadAir4Cellular', 'iPadEighthGen-iPadEighthGen', 'iPadEighthGenCellular-iPadEighthGenCellular', 'iPadProThirdGen-iPadProThirdGen', 'iPadProThirdGenCellular-iPadProThirdGenCellular', 'iPadProFifthGen-iPadProFifthGen', 'iPadProFifthGenCellular-iPadProFifthGenCellular', 'iPhone13Pro-iPhone13Pro', 'iPhone13ProMax-iPhone13ProMax', 'iPhone13Mini-iPhone13Mini', 'iPhone13-iPhone13', 'iPadMiniSixthGen-iPadMiniSixthGen', 'iPadMiniSixthGenCellular-iPadMiniSixthGenCellular', 'iPadNinthGen-iPadNinthGen', 'iPadNinthGenCellular-iPadNinthGenCellular', 'iPhoneSEThirdGen-iPhoneSEThirdGen', 'iPadAirFifthGen-iPadAirFifthGen', 'iPadAirFifthGenCellular-iPadAirFifthGenCellular', 'iPhone14-iPhone14', 'iPhone14Plus-iPhone14Plus', 'iPhone14Pro-iPhone14Pro', 'iPhone14ProMax-iPhone14ProMax', 'iPadTenthGen-iPadTenthGen', 'iPadTenthGenCellular-iPadTenthGenCellular', 'iPadPro11FourthGen-iPadPro11FourthGen', 'iPadPro11FourthGenCellular-iPadPro11FourthGenCellular', 'iPadProSixthGen-iPadProSixthGen', 'iPadProSixthGenCellular-iPadProSixthGenCellular']}\n",
      "{'id': 1226926872, 'appId': 'com.word.wordconnect', 'title': 'Word Connect ¤', 'url': 'https://apps.apple.com/us/app/word-connect-%C2%A4/id1226926872?uo=4', 'description': \"Do you enjoy the excitement of classic word games? Are you a real puzzle game master? DOWNLOAD Word Connect for FREE! Start your word story and enjoy the brainstorm NOW! \\n \\nSimply swipe the letter blocks and build words to collect coins! Find the clues to solve the crossword puzzles! DOWNLOAD Word Connect NOW to begin training your brain and become a word master!\\n \\nIt’s time to uncover hidden words and build as many words as possible! Come\\x08 and begin your word story!\\n \\nWhat makes Word Connect so special?\\n\\n• Addictive gameplay! Simply swipe the letters to build words! \\n• Tons of words! 18100 levels in total await!\\n• Different Modes! You can choose from normal mode, crossword mode and the daily challenge! Come and solve different puzzles!\\n• Daily Bonuses! Log in every day to play exciting daily puzzles to collect big bonuses!\\n• Alternative Themes! Up to 11 cool themes for you to choose from!\\n• Vintage Style! Our wooden block graphics will bring back nostalgic childhood memories!\\n• Hidden Bonus! Extra words are waiting to be discovered! Find extra words to collect bigger bonuses!\\n• Play Together! Ask your family members and friends for help to solve the puzzles and send coins to each other on Facebook!\\n• No time limits! You can use your time wisely to find new words at your own pace!\\n• Level List! Want to check previous levels? Go back to the Level List and play again!\\n• Offline Mode! No wifi? Don’t worry, you can play Word Connect anytime, anywhere even without a network connection!\\n• Multiple Choices! Supported on iPhone, iPad and iPod.\\n \\nWord Connect is an app designed to train your brain and learn new words all while having a great time. Share the fun with your family & friends and enjoy Word Connect together!\\nThis year, we are going to have a series of updates to bring you a better game experience! Get ready for the new era of Word Connect and enjoy your own word story!\\n\\n- Subscribe to the Word Club Weekly Membership to unlock the following features in the game:\\n1) You will instantly receive 1700 coins, 2 Hint boosters and 2 Multiple Hint boosters after your first subscription!\\n2) Collect 150 coins when you log in daily\\n3) Daily Bonus X2\\n4) 50% off on Booster\\n5) Unlock access to all themes\\n6) Ad-free in-game experience\\n- The Word Club Weekly Membership costs $6.99 per week to unlock the above features.\\n- Payment will be charged to the applicable iTunes Account at confirmation of purchase. The prices may vary depending on country. The actual money charged may also be converted into your local currency based on the iTunes Account policy.\\n- Subscription automatically renews unless auto-renew is turned off at least 24-hours before the end of the current period.\\n- Account will be charged for renewal within 24-hours prior to the end of the current period and you must verify the cost of the renewal.\\n- Subscriptions may be managed by the user and auto-renewal may be turned off by going to the user's Account Settings after purchase.\\n- Any unused portion of a free pass period, if offered, will be forfeited when the user purchases a subscription to that publication, where applicable.\\n- Tap “Restore” to restore your weekly membership on your new device!\\nFor more information, please refer to:\\nPrivacy Policy: https//zenjoy-res.tuanguwen.com/privacy/zenjoy.html\\nTerms of Use: https://zenjoy-res.tuanguwen.com/privacy/term.html\", 'icon': 'https://is2-ssl.mzstatic.com/image/thumb/Purple116/v4/5f/b1/a1/5fb1a1fd-e9f7-a977-722d-d0532e82d102/AppIcon-0-0-1x_U007emarketing-0-0-0-10-0-0-sRGB-0-0-0-GLES2_U002c0-512MB-85-220-0-0.png/512x512bb.jpg', 'genres': ['Games', 'Puzzle', 'Word'], 'genreIds': ['6014', '7012', '7019'], 'primaryGenre': 'Games', 'primaryGenreId': 6014, 'contentRating': '4+', 'languages': ['EN', 'IT', 'JA', 'PT', 'ES', 'ZH'], 'size': '245782528', 'requiredOsVersion': '10.0', 'released': '2017-04-17T17:14:52Z', 'updated': '2023-05-28T13:58:22Z', 'releaseNotes': \"A new update is available for Word Connect!\\n\\n1. The Flower Shop event will be available from June 12th to 18th:\\n- Decorate your flower shop to win rewards!\\n- The Flower Contest is here! Collect flowers and compete against other players!\\n- Don't miss out on the event's exclusive deals!\\n\\n2. 304 challenging new levels added!\\n3. Optimized performance for a better experience\\n\\nHave fun playing!\", 'version': '6.526.389', 'price': 0, 'currency': 'USD', 'free': True, 'developerId': 1521489023, 'developer': 'ZenLife Games Pte. Ltd.', 'developerUrl': 'https://apps.apple.com/us/developer/zenlife-games-pte-ltd/id1521489023?uo=4', 'developerWebsite': 'https://zenlifegames.com/', 'score': 4.79596, 'reviews': 1376162, 'currentVersionScore': 4.79596, 'currentVersionReviews': 1376162, 'screenshots': ['https://is2-ssl.mzstatic.com/image/thumb/Purple116/v4/b9/44/03/b94403ea-01c9-b325-044a-64f0149616d4/893c8d8f-8147-4fda-8b61-092dcb3bd972_1.jpg/392x696bb.jpg', 'https://is3-ssl.mzstatic.com/image/thumb/Purple126/v4/10/29/dc/1029dc79-d032-5fd2-69b8-7796c5b7544a/39fe86b3-0454-4981-a311-e5fecf665ec2_2.jpg/392x696bb.jpg', 'https://is1-ssl.mzstatic.com/image/thumb/Purple116/v4/64/d1/6c/64d16c21-f695-6cb3-0f7c-6de8aef73da2/c29412b8-013b-4666-9b8f-7ee5c6f25a15_3.jpg/392x696bb.jpg', 'https://is2-ssl.mzstatic.com/image/thumb/Purple116/v4/6b/d8/5a/6bd85aa3-572c-562b-6fdc-0257f0ad4d81/7fce09e1-3591-471d-80db-17af47f6a52b_4.jpg/392x696bb.jpg', 'https://is3-ssl.mzstatic.com/image/thumb/Purple116/v4/b6/d4/b4/b6d4b487-ec2e-4aff-0658-2373327b756c/7754f6b6-086a-49b2-98ff-21d6cf0112a7_5.jpg/392x696bb.jpg', 'https://is2-ssl.mzstatic.com/image/thumb/Purple126/v4/ca/fc/16/cafc1657-68f3-8b24-150d-21d398cbe47c/6e2ba28a-393c-419c-812b-54de7f77e0c6_6.jpg/392x696bb.jpg'], 'ipadScreenshots': ['https://is5-ssl.mzstatic.com/image/thumb/PurpleSource116/v4/a6/e5/ad/a6e5ad56-576e-7983-d4a5-7e581c421460/a79337ab-8e77-4b9b-ade6-e2ab3c629291_2048x2732-1.jpg/576x768bb.jpg', 'https://is3-ssl.mzstatic.com/image/thumb/PurpleSource126/v4/f3/bc/0f/f3bc0fd3-7cf7-5cb9-ac07-b64bc37aeb68/eb62c0a4-d416-449c-83db-ef95ebc75ba8_2048x2732-2.jpg/576x768bb.jpg', 'https://is5-ssl.mzstatic.com/image/thumb/PurpleSource116/v4/38/11/66/381166dd-a349-61f0-18d0-ab16b0510721/281d7de2-dbfc-4695-b881-7613a1269df9_2048x2732-3.jpg/576x768bb.jpg', 'https://is1-ssl.mzstatic.com/image/thumb/PurpleSource126/v4/ef/37/f8/ef37f8ee-86d6-0dab-f45b-6df0bcb0e035/9facfb59-ea4e-4498-b5f0-233912276de6_2048x2732-4.jpg/576x768bb.jpg', 'https://is2-ssl.mzstatic.com/image/thumb/PurpleSource116/v4/f2/ab/73/f2ab7398-368e-9370-b566-b149231ae48f/71c007b1-cf63-4991-a6f3-851a0948126f_2048x2732-5.jpg/576x768bb.jpg', 'https://is5-ssl.mzstatic.com/image/thumb/PurpleSource126/v4/88/e7/05/88e7050d-7087-6d89-c0d3-ee62642d9975/b2a3a9ad-3733-4417-8ae2-bd58cd0cb6b0_2048x2732-6.jpg/576x768bb.jpg'], 'appletvScreenshots': [], 'supportedDevices': ['iPhone5s-iPhone5s', 'iPadAir-iPadAir', 'iPadAirCellular-iPadAirCellular', 'iPadMiniRetina-iPadMiniRetina', 'iPadMiniRetinaCellular-iPadMiniRetinaCellular', 'iPhone6-iPhone6', 'iPhone6Plus-iPhone6Plus', 'iPadAir2-iPadAir2', 'iPadAir2Cellular-iPadAir2Cellular', 'iPadMini3-iPadMini3', 'iPadMini3Cellular-iPadMini3Cellular', 'iPodTouchSixthGen-iPodTouchSixthGen', 'iPhone6s-iPhone6s', 'iPhone6sPlus-iPhone6sPlus', 'iPadMini4-iPadMini4', 'iPadMini4Cellular-iPadMini4Cellular', 'iPadPro-iPadPro', 'iPadProCellular-iPadProCellular', 'iPadPro97-iPadPro97', 'iPadPro97Cellular-iPadPro97Cellular', 'iPhoneSE-iPhoneSE', 'iPhone7-iPhone7', 'iPhone7Plus-iPhone7Plus', 'iPad611-iPad611', 'iPad612-iPad612', 'iPad71-iPad71', 'iPad72-iPad72', 'iPad73-iPad73', 'iPad74-iPad74', 'iPhone8-iPhone8', 'iPhone8Plus-iPhone8Plus', 'iPhoneX-iPhoneX', 'iPad75-iPad75', 'iPad76-iPad76', 'iPhoneXS-iPhoneXS', 'iPhoneXSMax-iPhoneXSMax', 'iPhoneXR-iPhoneXR', 'iPad812-iPad812', 'iPad834-iPad834', 'iPad856-iPad856', 'iPad878-iPad878', 'iPadMini5-iPadMini5', 'iPadMini5Cellular-iPadMini5Cellular', 'iPadAir3-iPadAir3', 'iPadAir3Cellular-iPadAir3Cellular', 'iPodTouchSeventhGen-iPodTouchSeventhGen', 'iPhone11-iPhone11', 'iPhone11Pro-iPhone11Pro', 'iPadSeventhGen-iPadSeventhGen', 'iPadSeventhGenCellular-iPadSeventhGenCellular', 'iPhone11ProMax-iPhone11ProMax', 'iPhoneSESecondGen-iPhoneSESecondGen', 'iPadProSecondGen-iPadProSecondGen', 'iPadProSecondGenCellular-iPadProSecondGenCellular', 'iPadProFourthGen-iPadProFourthGen', 'iPadProFourthGenCellular-iPadProFourthGenCellular', 'iPhone12Mini-iPhone12Mini', 'iPhone12-iPhone12', 'iPhone12Pro-iPhone12Pro', 'iPhone12ProMax-iPhone12ProMax', 'iPadAir4-iPadAir4', 'iPadAir4Cellular-iPadAir4Cellular', 'iPadEighthGen-iPadEighthGen', 'iPadEighthGenCellular-iPadEighthGenCellular', 'iPadProThirdGen-iPadProThirdGen', 'iPadProThirdGenCellular-iPadProThirdGenCellular', 'iPadProFifthGen-iPadProFifthGen', 'iPadProFifthGenCellular-iPadProFifthGenCellular', 'iPhone13Pro-iPhone13Pro', 'iPhone13ProMax-iPhone13ProMax', 'iPhone13Mini-iPhone13Mini', 'iPhone13-iPhone13', 'iPadMiniSixthGen-iPadMiniSixthGen', 'iPadMiniSixthGenCellular-iPadMiniSixthGenCellular', 'iPadNinthGen-iPadNinthGen', 'iPadNinthGenCellular-iPadNinthGenCellular', 'iPhoneSEThirdGen-iPhoneSEThirdGen', 'iPadAirFifthGen-iPadAirFifthGen', 'iPadAirFifthGenCellular-iPadAirFifthGenCellular', 'iPhone14-iPhone14', 'iPhone14Plus-iPhone14Plus', 'iPhone14Pro-iPhone14Pro', 'iPhone14ProMax-iPhone14ProMax', 'iPadTenthGen-iPadTenthGen', 'iPadTenthGenCellular-iPadTenthGenCellular', 'iPadPro11FourthGen-iPadPro11FourthGen', 'iPadPro11FourthGenCellular-iPadPro11FourthGenCellular', 'iPadProSixthGen-iPadProSixthGen', 'iPadProSixthGenCellular-iPadProSixthGenCellular']}\n"
     ]
    },
    {
     "name": "stdout",
     "output_type": "stream",
     "text": [
      "{'id': 588252565, 'appId': 'com.lonelystarsoftware.upwordsFree', 'title': 'Upwords', 'url': 'https://apps.apple.com/us/app/upwords/id588252565?uo=4', 'description': 'The classic board game UPWORDS iOS from indie developers Lonely Star Software\\n\\n**Featured in the App Store for World Battle Games!\\n\\nUPWORDS adds another dimension to crossword board games. Build words by playing letters across, down and stacked atop existing letters. This unique 3-dimensional game play allows you to change existing words into new words. Score points for each letter tile in your word and every letter tile under your word. The higher you the stack, the higher you score. Build words, stack letters, score high and have fun!\\n\\nIf you love word games, give UPWORDS a try.\\n\\nFeatures:\\n-Online multiplayer with friends or random opponents\\n-Online challenges to win tokens against other players\\n-Play against the Computer Opponent with 4 skill levels\\n-Pass and Play for 1-4 players\\n-Player Rankings and Stats\\n-In-Game Chat\\n\\nUPWORDS is Ad Supported but you can remove ads in the Store section of the app\\n\\n--\\nTerms of use: https://www.apple.com/legal/internet-services/itunes/dev/stdeula/\\nPrivacy Policy: https://www.upwords-app.com/privacy.html', 'icon': 'https://is2-ssl.mzstatic.com/image/thumb/Purple126/v4/60/f7/c0/60f7c0bc-bbe3-5311-aa06-da9e0ce4fab8/AppIcon-ice2-0-0-1x_U007epad-0-0-0-10-0-0-sRGB-0-0-0-GLES2_U002c0-512MB-85-220-0-0.png/512x512bb.jpg', 'genres': ['Games', 'Entertainment', 'Word', 'Board'], 'genreIds': ['6014', '6016', '7019', '7004'], 'primaryGenre': 'Games', 'primaryGenreId': 6014, 'contentRating': '4+', 'languages': ['EN'], 'size': '117675008', 'requiredOsVersion': '11.2', 'released': '2013-01-11T00:30:16Z', 'updated': '2023-05-19T08:37:07Z', 'releaseNotes': \"- Facebook logins are no longer supported. We've added the ability to convert your facebook based account to an email based account\", 'version': '3.29', 'price': 0, 'currency': 'USD', 'free': True, 'developerId': 284572331, 'developer': 'Lonely Star Software, Inc.', 'developerUrl': 'https://apps.apple.com/us/developer/lonely-star-software-inc/id284572331?uo=4', 'developerWebsite': 'http://www.upwords-app.com', 'score': 4.71155, 'reviews': 7360, 'currentVersionScore': 4.71155, 'currentVersionReviews': 7360, 'screenshots': ['https://is3-ssl.mzstatic.com/image/thumb/PurpleSource112/v4/61/6c/ae/616cae7a-5e28-c0a4-6373-3b22e227cdaa/b29e113d-9920-4786-85b4-5c3f6a03a5bb_page1_5.5.png/392x696bb.png', 'https://is4-ssl.mzstatic.com/image/thumb/PurpleSource122/v4/7d/78/42/7d784239-f904-295f-5323-ad0d77357425/8e30fae7-55c8-43ea-ad3a-f3f1f035a32f_page2_5.5.png/392x696bb.png', 'https://is2-ssl.mzstatic.com/image/thumb/PurpleSource112/v4/50/d5/ec/50d5ecef-cd5b-1c27-2f9e-528bb624d13f/aba531e3-cb3d-442d-b710-94f84ea9def2_page3_5.5.png/392x696bb.png', 'https://is2-ssl.mzstatic.com/image/thumb/PurpleSource122/v4/56/19/e8/5619e874-1e49-b8ea-1daf-e59fef7d4610/62c10ab9-a95e-4b7f-9f88-86d17f3afed9_page4_5.5.png/392x696bb.png', 'https://is1-ssl.mzstatic.com/image/thumb/PurpleSource122/v4/56/28/d2/5628d2dc-5f92-f82e-6bd8-c2498516ca2b/9762f04a-95ab-418c-babe-c503e0fce70e_page5_5.5.png/392x696bb.png'], 'ipadScreenshots': ['https://is1-ssl.mzstatic.com/image/thumb/PurpleSource122/v4/a0/4e/da/a04edaf7-1d1a-980d-eadb-90ede3778215/a90ff23f-b099-4c97-823a-8d4b8365fba4_page1_ipad.png/576x768bb.png', 'https://is4-ssl.mzstatic.com/image/thumb/PurpleSource112/v4/cb/bf/66/cbbf6625-3904-e456-9ce8-10960fc06977/31beb600-af45-402b-bbdc-7b4b71407314_page2_ipad.png/576x768bb.png', 'https://is5-ssl.mzstatic.com/image/thumb/PurpleSource112/v4/d7/5e/12/d75e1278-5a04-6893-8e9f-ba94a5a32b5f/b0169e8e-dc71-4925-b278-43f625d7e2cd_page3_ipad.png/576x768bb.png', 'https://is4-ssl.mzstatic.com/image/thumb/PurpleSource122/v4/50/ce/17/50ce1781-9556-fba9-718c-6a388b1ee1d1/8adc4fad-a5bc-4476-a15b-669d5488fb46_page4_ipad.png/576x768bb.png', 'https://is5-ssl.mzstatic.com/image/thumb/PurpleSource112/v4/99/cf/64/99cf64b2-aa3f-8e74-ab01-e193b31eba5c/f380622c-f102-4ade-b1e5-5c93971ad3ce_page5_ipad.png/576x768bb.png'], 'appletvScreenshots': [], 'supportedDevices': ['iPhone5s-iPhone5s', 'iPadAir-iPadAir', 'iPadAirCellular-iPadAirCellular', 'iPadMiniRetina-iPadMiniRetina', 'iPadMiniRetinaCellular-iPadMiniRetinaCellular', 'iPhone6-iPhone6', 'iPhone6Plus-iPhone6Plus', 'iPadAir2-iPadAir2', 'iPadAir2Cellular-iPadAir2Cellular', 'iPadMini3-iPadMini3', 'iPadMini3Cellular-iPadMini3Cellular', 'iPodTouchSixthGen-iPodTouchSixthGen', 'iPhone6s-iPhone6s', 'iPhone6sPlus-iPhone6sPlus', 'iPadMini4-iPadMini4', 'iPadMini4Cellular-iPadMini4Cellular', 'iPadPro-iPadPro', 'iPadProCellular-iPadProCellular', 'iPadPro97-iPadPro97', 'iPadPro97Cellular-iPadPro97Cellular', 'iPhoneSE-iPhoneSE', 'iPhone7-iPhone7', 'iPhone7Plus-iPhone7Plus', 'iPad611-iPad611', 'iPad612-iPad612', 'iPad71-iPad71', 'iPad72-iPad72', 'iPad73-iPad73', 'iPad74-iPad74', 'iPhone8-iPhone8', 'iPhone8Plus-iPhone8Plus', 'iPhoneX-iPhoneX', 'iPad75-iPad75', 'iPad76-iPad76', 'iPhoneXS-iPhoneXS', 'iPhoneXSMax-iPhoneXSMax', 'iPhoneXR-iPhoneXR', 'iPad812-iPad812', 'iPad834-iPad834', 'iPad856-iPad856', 'iPad878-iPad878', 'iPadMini5-iPadMini5', 'iPadMini5Cellular-iPadMini5Cellular', 'iPadAir3-iPadAir3', 'iPadAir3Cellular-iPadAir3Cellular', 'iPodTouchSeventhGen-iPodTouchSeventhGen', 'iPhone11-iPhone11', 'iPhone11Pro-iPhone11Pro', 'iPadSeventhGen-iPadSeventhGen', 'iPadSeventhGenCellular-iPadSeventhGenCellular', 'iPhone11ProMax-iPhone11ProMax', 'iPhoneSESecondGen-iPhoneSESecondGen', 'iPadProSecondGen-iPadProSecondGen', 'iPadProSecondGenCellular-iPadProSecondGenCellular', 'iPadProFourthGen-iPadProFourthGen', 'iPadProFourthGenCellular-iPadProFourthGenCellular', 'iPhone12Mini-iPhone12Mini', 'iPhone12-iPhone12', 'iPhone12Pro-iPhone12Pro', 'iPhone12ProMax-iPhone12ProMax', 'iPadAir4-iPadAir4', 'iPadAir4Cellular-iPadAir4Cellular', 'iPadEighthGen-iPadEighthGen', 'iPadEighthGenCellular-iPadEighthGenCellular', 'iPadProThirdGen-iPadProThirdGen', 'iPadProThirdGenCellular-iPadProThirdGenCellular', 'iPadProFifthGen-iPadProFifthGen', 'iPadProFifthGenCellular-iPadProFifthGenCellular', 'iPhone13Pro-iPhone13Pro', 'iPhone13ProMax-iPhone13ProMax', 'iPhone13Mini-iPhone13Mini', 'iPhone13-iPhone13', 'iPadMiniSixthGen-iPadMiniSixthGen', 'iPadMiniSixthGenCellular-iPadMiniSixthGenCellular', 'iPadNinthGen-iPadNinthGen', 'iPadNinthGenCellular-iPadNinthGenCellular', 'iPhoneSEThirdGen-iPhoneSEThirdGen', 'iPadAirFifthGen-iPadAirFifthGen', 'iPadAirFifthGenCellular-iPadAirFifthGenCellular', 'iPhone14-iPhone14', 'iPhone14Plus-iPhone14Plus', 'iPhone14Pro-iPhone14Pro', 'iPhone14ProMax-iPhone14ProMax', 'iPadTenthGen-iPadTenthGen', 'iPadTenthGenCellular-iPadTenthGenCellular', 'iPadPro11FourthGen-iPadPro11FourthGen', 'iPadPro11FourthGenCellular-iPadPro11FourthGenCellular', 'iPadProSixthGen-iPadProSixthGen', 'iPadProSixthGenCellular-iPadProSixthGenCellular']}\n",
      "{'id': 647804489, 'appId': 'com.greenpanda.classicsolitaire', 'title': 'Solitaire ∘', 'url': 'https://apps.apple.com/us/app/solitaire/id647804489?uo=4', 'description': 'Solitaire, also known as \\'Klondike\\', is the classic version of solitaire for iPhone, iPod Touch or iPad!\\n\\nNEW FEATURES\\n\\n- The Expert mode: Play solitaire without any hints or help. \\n\\n- Customize your game with new cards and boards ! \\n\\n- Full of new statistics to analyse your games ! \\n\\n- A brand new Premium inApp, with exclusive cards and boards ! \\n\\nExplore a comprehensive and fun-packed version of solitaire and join the thousands of players already hooked!\\n\\n- \"Excellent! The best solitaire app on the AppStore!\"\\n\\n- \"The Vegas mode is seriously addictive, I spend hours on it! And what\\'s more, the app is beautifully designed.\"\\n\\nDIFFERENT GAME MODES\\n\\n- Standard solitaire mode or Vegas mode\\n- 1 or 3 card draw\\n- Play in Expert Mode, without any help in the game\\n- Portrait or landscape mode\\n- Play left or right-handed\\n\\nCOMPLETE FUNCTIONALITY\\n\\n- Customize your cards and boards\\n- Full statistics \\n- Games are automatically saved\\n- Cancel moves as many times as you want\\n- Intelligent help\\n- No interference between solitaire and iPod playback\\n\\nAN OPTIMAL PLAYING EXPERIENCE\\n\\n- Play and move cards easily\\n- Touch a card to move it automatically\\n- Automatically end your turn on solitaire', 'icon': 'https://is4-ssl.mzstatic.com/image/thumb/Purple116/v4/cf/0a/e5/cf0ae512-9cb8-76b0-1078-f57f47b2ecab/AppIcon-Normal-0-0-1x_U007emarketing-0-0-0-7-0-0-sRGB-0-0-0-GLES2_U002c0-512MB-85-220-0-0.png/512x512bb.jpg', 'genres': ['Games', 'Entertainment', 'Card', 'Casino'], 'genreIds': ['6014', '6016', '7005', '7006'], 'primaryGenre': 'Games', 'primaryGenreId': 6014, 'contentRating': '4+', 'languages': ['DA', 'NL', 'EN', 'FI', 'FR', 'DE', 'IT', 'JA', 'KO', 'NB', 'PT', 'RU', 'ES', 'SV', 'TR'], 'size': '247064576', 'requiredOsVersion': '11.0', 'released': '2013-06-26T12:14:37Z', 'updated': '2023-04-14T07:54:35Z', 'releaseNotes': 'Various bug fixes and performance optimizations. Enjoy! \\nPlease feel free to send us your feedback thanks to the Support feature in-game settings or by sending an email at support@greenpandagames.com', 'version': '4.10.6', 'price': 0, 'currency': 'USD', 'free': True, 'developerId': 669978473, 'developer': 'Green Panda Games', 'developerUrl': 'https://apps.apple.com/us/developer/green-panda-games/id669978473?uo=4', 'developerWebsite': 'https://www.greenpandagames.com/en', 'score': 4.72347, 'reviews': 50019, 'currentVersionScore': 4.72347, 'currentVersionReviews': 50019, 'screenshots': ['https://is3-ssl.mzstatic.com/image/thumb/Purple123/v4/a8/3a/c2/a83ac277-352e-defb-9bf2-cbd8a4148f85/mzl.epoboxrr.png/392x696bb.png', 'https://is3-ssl.mzstatic.com/image/thumb/Purple123/v4/4f/46/2c/4f462c43-8d77-9c8d-a3f6-ff0fc016a3a5/mzl.ywaubdba.png/392x696bb.png', 'https://is5-ssl.mzstatic.com/image/thumb/Purple123/v4/94/6d/bf/946dbf1a-2bcb-66c1-3d23-dde980b848dd/mzl.hewjqihw.png/392x696bb.png', 'https://is2-ssl.mzstatic.com/image/thumb/Purple123/v4/92/28/5e/92285e70-7941-ad88-48f0-570a24afa24e/pr_source.png/392x696bb.png', 'https://is3-ssl.mzstatic.com/image/thumb/Purple113/v4/79/99/28/799928f4-5dfc-5642-d8d0-7b931e5ad971/mzl.gsdzheby.png/392x696bb.png', 'https://is1-ssl.mzstatic.com/image/thumb/Purple123/v4/3a/2a/83/3a2a8333-b763-48d9-ca2c-315b06deb618/pr_source.png/392x696bb.png', 'https://is3-ssl.mzstatic.com/image/thumb/Purple113/v4/9e/32/2f/9e322fa3-494f-3c01-6855-18f935ca8531/pr_source.png/392x696bb.png', 'https://is2-ssl.mzstatic.com/image/thumb/Purple113/v4/03/e5/6e/03e56eaf-093f-efca-1147-c06a39bea9f9/pr_source.png/392x696bb.png'], 'ipadScreenshots': ['https://is3-ssl.mzstatic.com/image/thumb/Purple113/v4/bb/56/2c/bb562cae-04b7-9b69-aa10-9ebd5447c062/mzl.qakydyec.png/576x768bb.png', 'https://is5-ssl.mzstatic.com/image/thumb/Purple113/v4/d8/65/09/d86509c7-1093-fcb8-40d5-57dc02fc6a77/mzl.skikbdtn.png/576x768bb.png', 'https://is4-ssl.mzstatic.com/image/thumb/Purple113/v4/61/dd/3f/61dd3f9a-1c4f-6e54-3069-1438a0ee2117/mzl.kufsdenw.png/576x768bb.png', 'https://is4-ssl.mzstatic.com/image/thumb/Purple113/v4/47/eb/18/47eb1836-0b6b-593a-76e3-42bc1bcc609f/mzl.wntlvdic.png/576x768bb.png', 'https://is3-ssl.mzstatic.com/image/thumb/Purple113/v4/48/98/f5/4898f559-c30d-6757-6e2f-0a41f4d78761/mzl.djbviech.png/576x768bb.png'], 'appletvScreenshots': [], 'supportedDevices': ['iPhone5s-iPhone5s', 'iPadAir-iPadAir', 'iPadAirCellular-iPadAirCellular', 'iPadMiniRetina-iPadMiniRetina', 'iPadMiniRetinaCellular-iPadMiniRetinaCellular', 'iPhone6-iPhone6', 'iPhone6Plus-iPhone6Plus', 'iPadAir2-iPadAir2', 'iPadAir2Cellular-iPadAir2Cellular', 'iPadMini3-iPadMini3', 'iPadMini3Cellular-iPadMini3Cellular', 'iPodTouchSixthGen-iPodTouchSixthGen', 'iPhone6s-iPhone6s', 'iPhone6sPlus-iPhone6sPlus', 'iPadMini4-iPadMini4', 'iPadMini4Cellular-iPadMini4Cellular', 'iPadPro-iPadPro', 'iPadProCellular-iPadProCellular', 'iPadPro97-iPadPro97', 'iPadPro97Cellular-iPadPro97Cellular', 'iPhoneSE-iPhoneSE', 'iPhone7-iPhone7', 'iPhone7Plus-iPhone7Plus', 'iPad611-iPad611', 'iPad612-iPad612', 'iPad71-iPad71', 'iPad72-iPad72', 'iPad73-iPad73', 'iPad74-iPad74', 'iPhone8-iPhone8', 'iPhone8Plus-iPhone8Plus', 'iPhoneX-iPhoneX', 'iPad75-iPad75', 'iPad76-iPad76', 'iPhoneXS-iPhoneXS', 'iPhoneXSMax-iPhoneXSMax', 'iPhoneXR-iPhoneXR', 'iPad812-iPad812', 'iPad834-iPad834', 'iPad856-iPad856', 'iPad878-iPad878', 'iPadMini5-iPadMini5', 'iPadMini5Cellular-iPadMini5Cellular', 'iPadAir3-iPadAir3', 'iPadAir3Cellular-iPadAir3Cellular', 'iPodTouchSeventhGen-iPodTouchSeventhGen', 'iPhone11-iPhone11', 'iPhone11Pro-iPhone11Pro', 'iPadSeventhGen-iPadSeventhGen', 'iPadSeventhGenCellular-iPadSeventhGenCellular', 'iPhone11ProMax-iPhone11ProMax', 'iPhoneSESecondGen-iPhoneSESecondGen', 'iPadProSecondGen-iPadProSecondGen', 'iPadProSecondGenCellular-iPadProSecondGenCellular', 'iPadProFourthGen-iPadProFourthGen', 'iPadProFourthGenCellular-iPadProFourthGenCellular', 'iPhone12Mini-iPhone12Mini', 'iPhone12-iPhone12', 'iPhone12Pro-iPhone12Pro', 'iPhone12ProMax-iPhone12ProMax', 'iPadAir4-iPadAir4', 'iPadAir4Cellular-iPadAir4Cellular', 'iPadEighthGen-iPadEighthGen', 'iPadEighthGenCellular-iPadEighthGenCellular', 'iPadProThirdGen-iPadProThirdGen', 'iPadProThirdGenCellular-iPadProThirdGenCellular', 'iPadProFifthGen-iPadProFifthGen', 'iPadProFifthGenCellular-iPadProFifthGenCellular', 'iPhone13Pro-iPhone13Pro', 'iPhone13ProMax-iPhone13ProMax', 'iPhone13Mini-iPhone13Mini', 'iPhone13-iPhone13', 'iPadMiniSixthGen-iPadMiniSixthGen', 'iPadMiniSixthGenCellular-iPadMiniSixthGenCellular', 'iPadNinthGen-iPadNinthGen', 'iPadNinthGenCellular-iPadNinthGenCellular', 'iPhoneSEThirdGen-iPhoneSEThirdGen', 'iPadAirFifthGen-iPadAirFifthGen', 'iPadAirFifthGenCellular-iPadAirFifthGenCellular', 'iPhone14-iPhone14', 'iPhone14Plus-iPhone14Plus', 'iPhone14Pro-iPhone14Pro', 'iPhone14ProMax-iPhone14ProMax', 'iPadTenthGen-iPadTenthGen', 'iPadTenthGenCellular-iPadTenthGenCellular', 'iPadPro11FourthGen-iPadPro11FourthGen', 'iPadPro11FourthGenCellular-iPadPro11FourthGenCellular', 'iPadProSixthGen-iPadProSixthGen', 'iPadProSixthGenCellular-iPadProSixthGenCellular']}\n"
     ]
    },
    {
     "name": "stdout",
     "output_type": "stream",
     "text": [
      "{'id': 1015322991, 'appId': 'com.rummikubfree', 'title': 'Rummikub', 'url': 'https://apps.apple.com/us/app/rummikub/id1015322991?uo=4', 'description': \"The original Rummikub FREE version (not Rummy nor Rummy Cube or Okey) is one of the most popular family games in the world. \\nThe unique combination of tactical thinking, luck and tense competition has made this classic family game to one of the most successful games for the past 70 years! Arrange the tiles to create the smartest color and numbers combinations. \\nWill you be the first player to place all tiles and win the match?\\n \\n* Play the classic Rummikub game online with your friends, family or players from all around the World.\\n* You can choose to connect with your Facebook account, Game Center or as a guest. \\n* Collect a daily bonus and get rewarded for coming back everyday.\\n\\nPLAY NOW\\nPlay ONLINE with millions of Rummikub players from all around the world and try to win as many points as you can to become the Rummikub Master!\\n\\nCUSTOM GAME\\nCREATE a public table with your own preferences; number of players, turn time and entry fee. \\n\\nPRIVATE GAME\\nINVITE FRIENDS and family members to play! \\nCreate private tables and choose your own personal game settings.\\nYou can see which of your friends are online from your Facebook's friendlist and invite them to join you to play a fun classic Rummikub game.\\nWe offer a few types of tables - for conservative, moderate and High Roller's players.\\n\\nPRACTICE GAME\\nPlay against computer players (also available OFFLINE). Define the turn time, opponents number and difficulty level.\\n \\nIncludes 10 supported languages - English, German, French, Dutch, Korean, Chinese, Spanish, Polish, Portuguese, and Turkish.\\n\\nExperienced a problem? Got a suggestion? You can reach us at support@rummikub-apps.com\", 'icon': 'https://is2-ssl.mzstatic.com/image/thumb/Purple116/v4/45/b4/c4/45b4c421-8061-39bf-ae01-f3661d85ea73/AppIcon-0-0-1x_U007emarketing-0-0-0-7-0-0-sRGB-0-0-0-GLES2_U002c0-512MB-85-220-0-0.png/512x512bb.jpg', 'genres': ['Games', 'Board', 'Family'], 'genreIds': ['6014', '7004', '7009'], 'primaryGenre': 'Games', 'primaryGenreId': 6014, 'contentRating': '4+', 'languages': ['NL', 'EN', 'FR', 'DE', 'KO', 'PL', 'PT', 'ZH', 'ES', 'TR'], 'size': '247495680', 'requiredOsVersion': '12.0', 'released': '2018-03-07T20:03:38Z', 'updated': '2023-05-21T07:42:25Z', 'releaseNotes': 'Bug fixes and performance improvements', 'version': '4.6.6', 'price': 0, 'currency': 'USD', 'free': True, 'developerId': 973113360, 'developer': 'Kinkajoo Ltd', 'developerUrl': 'https://apps.apple.com/us/developer/kinkajoo-ltd/id973113360?uo=4', 'developerWebsite': 'http://rummikub.com', 'score': 4.093, 'reviews': 6183, 'currentVersionScore': 4.093, 'currentVersionReviews': 6183, 'screenshots': ['https://is3-ssl.mzstatic.com/image/thumb/Purple113/v4/65/af/8e/65af8e56-942d-4d8a-d341-3b2672303b4a/mzl.oqczzjxs.png/406x228bb.png', 'https://is1-ssl.mzstatic.com/image/thumb/Purple123/v4/8d/46/15/8d4615cd-2cc0-73d1-5475-e2b80864992f/mzl.pagbhbze.png/406x228bb.png', 'https://is4-ssl.mzstatic.com/image/thumb/Purple123/v4/a9/ec/5d/a9ec5d25-e55a-c8bf-ab51-d83e2c8afa53/mzl.cwqngwvv.png/406x228bb.png', 'https://is2-ssl.mzstatic.com/image/thumb/Purple113/v4/da/de/28/dade2824-5807-c2ef-ade8-968ecaa57439/mzl.uodfzfji.png/406x228bb.png', 'https://is5-ssl.mzstatic.com/image/thumb/Purple113/v4/7c/f7/1d/7cf71d09-a845-aff1-74a4-ba565a0b6230/mzl.yngkyjkf.png/406x228bb.png'], 'ipadScreenshots': ['https://is3-ssl.mzstatic.com/image/thumb/Purple123/v4/c5/3f/87/c53f876a-6ce9-f27b-b972-57195a12652e/mzl.npfuwwbr.jpg/552x414bb.jpg', 'https://is1-ssl.mzstatic.com/image/thumb/Purple113/v4/67/17/2b/67172b44-6e8a-d58a-6330-eba2a1809401/mzl.jtyhaypz.jpg/552x414bb.jpg', 'https://is5-ssl.mzstatic.com/image/thumb/Purple123/v4/e3/dc/23/e3dc236c-7d14-ef9e-fd2c-71d1531fc979/mzl.awgmfjcm.jpg/552x414bb.jpg', 'https://is3-ssl.mzstatic.com/image/thumb/Purple113/v4/57/df/44/57df443f-1557-9c22-f643-8ff2198ae990/mzl.avquavkr.jpg/552x414bb.jpg', 'https://is4-ssl.mzstatic.com/image/thumb/Purple123/v4/f0/33/5f/f0335fd6-8ca8-68d9-eed8-72bc4c62c0b1/mzl.ywryqfoe.jpg/552x414bb.jpg'], 'appletvScreenshots': [], 'supportedDevices': ['iPhone5s-iPhone5s', 'iPadAir-iPadAir', 'iPadAirCellular-iPadAirCellular', 'iPadMiniRetina-iPadMiniRetina', 'iPadMiniRetinaCellular-iPadMiniRetinaCellular', 'iPhone6-iPhone6', 'iPhone6Plus-iPhone6Plus', 'iPadAir2-iPadAir2', 'iPadAir2Cellular-iPadAir2Cellular', 'iPadMini3-iPadMini3', 'iPadMini3Cellular-iPadMini3Cellular', 'iPodTouchSixthGen-iPodTouchSixthGen', 'iPhone6s-iPhone6s', 'iPhone6sPlus-iPhone6sPlus', 'iPadMini4-iPadMini4', 'iPadMini4Cellular-iPadMini4Cellular', 'iPadPro-iPadPro', 'iPadProCellular-iPadProCellular', 'iPadPro97-iPadPro97', 'iPadPro97Cellular-iPadPro97Cellular', 'iPhoneSE-iPhoneSE', 'iPhone7-iPhone7', 'iPhone7Plus-iPhone7Plus', 'iPad611-iPad611', 'iPad612-iPad612', 'iPad71-iPad71', 'iPad72-iPad72', 'iPad73-iPad73', 'iPad74-iPad74', 'iPhone8-iPhone8', 'iPhone8Plus-iPhone8Plus', 'iPhoneX-iPhoneX', 'iPad75-iPad75', 'iPad76-iPad76', 'iPhoneXS-iPhoneXS', 'iPhoneXSMax-iPhoneXSMax', 'iPhoneXR-iPhoneXR', 'iPad812-iPad812', 'iPad834-iPad834', 'iPad856-iPad856', 'iPad878-iPad878', 'iPadMini5-iPadMini5', 'iPadMini5Cellular-iPadMini5Cellular', 'iPadAir3-iPadAir3', 'iPadAir3Cellular-iPadAir3Cellular', 'iPodTouchSeventhGen-iPodTouchSeventhGen', 'iPhone11-iPhone11', 'iPhone11Pro-iPhone11Pro', 'iPadSeventhGen-iPadSeventhGen', 'iPadSeventhGenCellular-iPadSeventhGenCellular', 'iPhone11ProMax-iPhone11ProMax', 'iPhoneSESecondGen-iPhoneSESecondGen', 'iPadProSecondGen-iPadProSecondGen', 'iPadProSecondGenCellular-iPadProSecondGenCellular', 'iPadProFourthGen-iPadProFourthGen', 'iPadProFourthGenCellular-iPadProFourthGenCellular', 'iPhone12Mini-iPhone12Mini', 'iPhone12-iPhone12', 'iPhone12Pro-iPhone12Pro', 'iPhone12ProMax-iPhone12ProMax', 'iPadAir4-iPadAir4', 'iPadAir4Cellular-iPadAir4Cellular', 'iPadEighthGen-iPadEighthGen', 'iPadEighthGenCellular-iPadEighthGenCellular', 'iPadProThirdGen-iPadProThirdGen', 'iPadProThirdGenCellular-iPadProThirdGenCellular', 'iPadProFifthGen-iPadProFifthGen', 'iPadProFifthGenCellular-iPadProFifthGenCellular', 'iPhone13Pro-iPhone13Pro', 'iPhone13ProMax-iPhone13ProMax', 'iPhone13Mini-iPhone13Mini', 'iPhone13-iPhone13', 'iPadMiniSixthGen-iPadMiniSixthGen', 'iPadMiniSixthGenCellular-iPadMiniSixthGenCellular', 'iPadNinthGen-iPadNinthGen', 'iPadNinthGenCellular-iPadNinthGenCellular', 'iPhoneSEThirdGen-iPhoneSEThirdGen', 'iPadAirFifthGen-iPadAirFifthGen', 'iPadAirFifthGenCellular-iPadAirFifthGenCellular', 'iPhone14-iPhone14', 'iPhone14Plus-iPhone14Plus', 'iPhone14Pro-iPhone14Pro', 'iPhone14ProMax-iPhone14ProMax', 'iPadTenthGen-iPadTenthGen', 'iPadTenthGenCellular-iPadTenthGenCellular', 'iPadPro11FourthGen-iPadPro11FourthGen', 'iPadPro11FourthGenCellular-iPadPro11FourthGenCellular', 'iPadProSixthGen-iPadProSixthGen', 'iPadProSixthGenCellular-iPadProSixthGenCellular']}\n",
      "{'id': 1497462589, 'appId': 'com.firecrackersw.snapcheats.scrabblego', 'title': 'Snap Cheats for Scrabble Go', 'url': 'https://apps.apple.com/us/app/snap-cheats-for-scrabble-go/id1497462589?uo=4', 'description': \"Snap Cheats is the fastest, easiest cheat app for Scrabble Go! Just take a screenshot and Snap Cheats scans every possible play in less than a second. Download and see your improvement today.\\n\\nFull list of features:\\n•Quick and simple: Snap Cheats practically does all the work for you.\\n•Easily “snap” back and forth between Scrabble Go and the cheat.\\n•Supports the main game and duels mode.\\n•Screenshot importing auto reads your game directly into Snap Cheats! Incredibly easy to use - just snap and go!\\n•Accurate Scrabble Go dictionary: We’ve improved our dictionary so you won’t see any words rejected by Scrabble Go!\\n•Get word definitions without ever leaving the app!\\n•Uses the latest features of iOS!\\n\\nThis app is in no way associated with Scopely, the makers of Scrabble Go.\\n\\nPrivacy Notice: This app collects your device’s IP address, advertising ID, and other partner specific identifiers. These identifiers enable personalized ads and analytics to improve our app. Opt-out or learn more by visiting our Privacy Center, accessible from the app's settings.\", 'icon': 'https://is4-ssl.mzstatic.com/image/thumb/Purple122/v4/c1/76/b9/c176b90d-21d4-98ab-2ace-68988b6a846f/AppIcon-0-0-1x_U007emarketing-0-0-0-10-0-0-sRGB-0-0-0-GLES2_U002c0-512MB-85-220-0-0.png/512x512bb.jpg', 'genres': ['Games', 'Board', 'Word', 'Utilities'], 'genreIds': ['6014', '7004', '7019', '6002'], 'primaryGenre': 'Games', 'primaryGenreId': 6014, 'contentRating': '4+', 'languages': ['EN'], 'size': '48314368', 'requiredOsVersion': '12.1', 'released': '2020-03-03T08:00:00Z', 'updated': '2022-10-18T18:38:01Z', 'releaseNotes': 'Minor bug fixes.', 'version': '2.3.2', 'price': 0, 'currency': 'USD', 'free': True, 'developerId': 592034358, 'developer': 'Firecracker Software', 'developerUrl': 'https://apps.apple.com/us/developer/firecracker-software/id592034358?uo=4', 'developerWebsite': 'https://www.scrabblegocheat.com/', 'score': 4.59501, 'reviews': 842, 'currentVersionScore': 4.59501, 'currentVersionReviews': 842, 'screenshots': ['https://is2-ssl.mzstatic.com/image/thumb/Purple123/v4/c1/db/d6/c1dbd642-cd31-9538-ea75-2812661327a5/pr_source.png/392x696bb.png', 'https://is3-ssl.mzstatic.com/image/thumb/Purple123/v4/26/4b/3b/264b3b0f-69d3-f2b6-083a-937900734759/pr_source.png/392x696bb.png', 'https://is1-ssl.mzstatic.com/image/thumb/Purple113/v4/b5/48/82/b5488219-fd10-ddf0-b996-8259b405e3a7/pr_source.png/392x696bb.png'], 'ipadScreenshots': ['https://is3-ssl.mzstatic.com/image/thumb/Purple123/v4/69/73/01/69730191-c169-3950-4445-07f31cfe056a/pr_source.png/576x768bb.png', 'https://is3-ssl.mzstatic.com/image/thumb/Purple123/v4/ce/fe/83/cefe8361-a53c-10c5-d836-b502f98f0523/pr_source.png/576x768bb.png', 'https://is1-ssl.mzstatic.com/image/thumb/Purple123/v4/42/3b/09/423b09b7-3df3-ceb0-bcfb-dc8a59309763/pr_source.png/576x768bb.png'], 'appletvScreenshots': [], 'supportedDevices': ['iPhone5s-iPhone5s', 'iPadAir-iPadAir', 'iPadAirCellular-iPadAirCellular', 'iPadMiniRetina-iPadMiniRetina', 'iPadMiniRetinaCellular-iPadMiniRetinaCellular', 'iPhone6-iPhone6', 'iPhone6Plus-iPhone6Plus', 'iPadAir2-iPadAir2', 'iPadAir2Cellular-iPadAir2Cellular', 'iPadMini3-iPadMini3', 'iPadMini3Cellular-iPadMini3Cellular', 'iPodTouchSixthGen-iPodTouchSixthGen', 'iPhone6s-iPhone6s', 'iPhone6sPlus-iPhone6sPlus', 'iPadMini4-iPadMini4', 'iPadMini4Cellular-iPadMini4Cellular', 'iPadPro-iPadPro', 'iPadProCellular-iPadProCellular', 'iPadPro97-iPadPro97', 'iPadPro97Cellular-iPadPro97Cellular', 'iPhoneSE-iPhoneSE', 'iPhone7-iPhone7', 'iPhone7Plus-iPhone7Plus', 'iPad611-iPad611', 'iPad612-iPad612', 'iPad71-iPad71', 'iPad72-iPad72', 'iPad73-iPad73', 'iPad74-iPad74', 'iPhone8-iPhone8', 'iPhone8Plus-iPhone8Plus', 'iPhoneX-iPhoneX', 'iPad75-iPad75', 'iPad76-iPad76', 'iPhoneXS-iPhoneXS', 'iPhoneXSMax-iPhoneXSMax', 'iPhoneXR-iPhoneXR', 'iPad812-iPad812', 'iPad834-iPad834', 'iPad856-iPad856', 'iPad878-iPad878', 'iPadMini5-iPadMini5', 'iPadMini5Cellular-iPadMini5Cellular', 'iPadAir3-iPadAir3', 'iPadAir3Cellular-iPadAir3Cellular', 'iPodTouchSeventhGen-iPodTouchSeventhGen', 'iPhone11-iPhone11', 'iPhone11Pro-iPhone11Pro', 'iPadSeventhGen-iPadSeventhGen', 'iPadSeventhGenCellular-iPadSeventhGenCellular', 'iPhone11ProMax-iPhone11ProMax', 'iPhoneSESecondGen-iPhoneSESecondGen', 'iPadProSecondGen-iPadProSecondGen', 'iPadProSecondGenCellular-iPadProSecondGenCellular', 'iPadProFourthGen-iPadProFourthGen', 'iPadProFourthGenCellular-iPadProFourthGenCellular', 'iPhone12Mini-iPhone12Mini', 'iPhone12-iPhone12', 'iPhone12Pro-iPhone12Pro', 'iPhone12ProMax-iPhone12ProMax', 'iPadAir4-iPadAir4', 'iPadAir4Cellular-iPadAir4Cellular', 'iPadEighthGen-iPadEighthGen', 'iPadEighthGenCellular-iPadEighthGenCellular', 'iPadProThirdGen-iPadProThirdGen', 'iPadProThirdGenCellular-iPadProThirdGenCellular', 'iPadProFifthGen-iPadProFifthGen', 'iPadProFifthGenCellular-iPadProFifthGenCellular', 'iPhone13Pro-iPhone13Pro', 'iPhone13ProMax-iPhone13ProMax', 'iPhone13Mini-iPhone13Mini', 'iPhone13-iPhone13', 'iPadMiniSixthGen-iPadMiniSixthGen', 'iPadMiniSixthGenCellular-iPadMiniSixthGenCellular', 'iPadNinthGen-iPadNinthGen', 'iPadNinthGenCellular-iPadNinthGenCellular', 'iPhoneSEThirdGen-iPhoneSEThirdGen', 'iPadAirFifthGen-iPadAirFifthGen', 'iPadAirFifthGenCellular-iPadAirFifthGenCellular', 'iPhone14-iPhone14', 'iPhone14Plus-iPhone14Plus', 'iPhone14Pro-iPhone14Pro', 'iPhone14ProMax-iPhone14ProMax', 'iPadTenthGen-iPadTenthGen', 'iPadTenthGenCellular-iPadTenthGenCellular', 'iPadPro11FourthGen-iPadPro11FourthGen', 'iPadPro11FourthGenCellular-iPadPro11FourthGenCellular', 'iPadProSixthGen-iPadProSixthGen', 'iPadProSixthGenCellular-iPadProSixthGenCellular']}\n"
     ]
    },
    {
     "name": "stdout",
     "output_type": "stream",
     "text": [
      "{'id': 648268226, 'appId': 'net.runserver.eruditEng', 'title': 'Words with AI', 'url': 'https://apps.apple.com/us/app/words-with-ai/id648268226?uo=4', 'description': 'English version of famous Russian word game Erudite, originally inspired by Scrabble. The game is meant to enrich vocabulary and develop logical thinking. You need to compose words on a game field with tiles of different value. Unlike original game there are some differences: you can put several words at a turn, starting 7-letter word is always placed on start, etc.\\n\\nPlay the game offline versus AI, or with your friends!\\n\\nFeatures:\\n- 5 difficulty levels!\\n- OSPD dictionary\\n- online thesaurus for words description\\n- detailed graphics with Retina and iPhone 5 support\\n- time and score limit settings\\n- options for disabling two-letter words', 'icon': 'https://is5-ssl.mzstatic.com/image/thumb/Purple116/v4/83/88/fc/8388fc81-a41d-fd43-1481-16e401d53ca4/AppIcon-0-0-1x_U007emarketing-0-0-0-7-0-0-sRGB-0-0-0-GLES2_U002c0-512MB-85-220-0-0.png/512x512bb.jpg', 'genres': ['Games', 'Board', 'Word', 'Education'], 'genreIds': ['6014', '7004', '7019', '6017'], 'primaryGenre': 'Games', 'primaryGenreId': 6014, 'contentRating': '4+', 'languages': ['EN'], 'size': '45809664', 'requiredOsVersion': '10.0', 'released': '2013-05-18T02:09:23Z', 'updated': '2022-01-12T08:44:52Z', 'releaseNotes': '- support for iOS 15 and different screen sizes\\n- fixed issues with disappearing letters\\n- fixed online dictionary lookup\\n- lots of other internal changes and fixes', 'version': '1.5.2', 'price': 0, 'currency': 'USD', 'free': True, 'developerId': 520199173, 'developer': 'Alexei Garbuzenko', 'developerUrl': 'https://apps.apple.com/us/developer/alexei-garbuzenko/id520199173?uo=4', 'developerWebsite': 'https://runserver.net/apps/', 'score': 3.57813, 'reviews': 64, 'currentVersionScore': 3.57813, 'currentVersionReviews': 64, 'screenshots': ['https://is4-ssl.mzstatic.com/image/thumb/Purple116/v4/d0/ed/c2/d0edc2d1-97e4-2c49-6c70-67d8f25aaff3/pr_source.png/406x228bb.png', 'https://is2-ssl.mzstatic.com/image/thumb/Purple116/v4/1a/5a/60/1a5a604b-00f4-f4ee-3f83-e2dfd064ad28/pr_source.png/406x228bb.png', 'https://is1-ssl.mzstatic.com/image/thumb/Purple126/v4/f9/17/46/f9174633-4f7a-f5e4-12b2-1e7c2421ed2c/pr_source.png/392x696bb.png'], 'ipadScreenshots': ['https://is3-ssl.mzstatic.com/image/thumb/Purple126/v4/cd/c6/80/cdc680bc-a082-8d0d-7035-5796a36369b6/pr_source.png/576x768bb.png', 'https://is3-ssl.mzstatic.com/image/thumb/Purple126/v4/42/72/e4/4272e4ba-ab51-b406-68c6-025139c39778/pr_source.jpg/552x414bb.jpg', 'https://is4-ssl.mzstatic.com/image/thumb/Purple116/v4/60/66/b2/6066b27b-b8c8-3106-d13d-77c3de879a08/pr_source.jpg/552x414bb.jpg', 'https://is2-ssl.mzstatic.com/image/thumb/Purple116/v4/47/1b/24/471b243a-5e8d-1a19-432c-74d1bc87074a/pr_source.png/552x414bb.png', 'https://is1-ssl.mzstatic.com/image/thumb/Purple126/v4/67/c9/94/67c9945e-c2f8-097c-0d3e-6d2e9cfe2ad0/pr_source.png/552x414bb.png'], 'appletvScreenshots': [], 'supportedDevices': ['iPhone5-iPhone5', 'iPadFourthGen-iPadFourthGen', 'iPadFourthGen4G-iPadFourthGen4G', 'iPhone5c-iPhone5c', 'iPhone5s-iPhone5s', 'iPadAir-iPadAir', 'iPadAirCellular-iPadAirCellular', 'iPadMiniRetina-iPadMiniRetina', 'iPadMiniRetinaCellular-iPadMiniRetinaCellular', 'iPhone6-iPhone6', 'iPhone6Plus-iPhone6Plus', 'iPadAir2-iPadAir2', 'iPadAir2Cellular-iPadAir2Cellular', 'iPadMini3-iPadMini3', 'iPadMini3Cellular-iPadMini3Cellular', 'iPodTouchSixthGen-iPodTouchSixthGen', 'iPhone6s-iPhone6s', 'iPhone6sPlus-iPhone6sPlus', 'iPadMini4-iPadMini4', 'iPadMini4Cellular-iPadMini4Cellular', 'iPadPro-iPadPro', 'iPadProCellular-iPadProCellular', 'iPadPro97-iPadPro97', 'iPadPro97Cellular-iPadPro97Cellular', 'iPhoneSE-iPhoneSE', 'iPhone7-iPhone7', 'iPhone7Plus-iPhone7Plus', 'iPad611-iPad611', 'iPad612-iPad612', 'iPad71-iPad71', 'iPad72-iPad72', 'iPad73-iPad73', 'iPad74-iPad74', 'iPhone8-iPhone8', 'iPhone8Plus-iPhone8Plus', 'iPhoneX-iPhoneX', 'iPad75-iPad75', 'iPad76-iPad76', 'iPhoneXS-iPhoneXS', 'iPhoneXSMax-iPhoneXSMax', 'iPhoneXR-iPhoneXR', 'iPad812-iPad812', 'iPad834-iPad834', 'iPad856-iPad856', 'iPad878-iPad878', 'Watch4-Watch4', 'iPadMini5-iPadMini5', 'iPadMini5Cellular-iPadMini5Cellular', 'iPadAir3-iPadAir3', 'iPadAir3Cellular-iPadAir3Cellular', 'iPodTouchSeventhGen-iPodTouchSeventhGen', 'iPhone11-iPhone11', 'iPhone11Pro-iPhone11Pro', 'Watch5-Watch5', 'iPadSeventhGen-iPadSeventhGen', 'iPadSeventhGenCellular-iPadSeventhGenCellular', 'iPhone11ProMax-iPhone11ProMax', 'iPhoneSESecondGen-iPhoneSESecondGen', 'iPadProSecondGen-iPadProSecondGen', 'iPadProSecondGenCellular-iPadProSecondGenCellular', 'iPadProFourthGen-iPadProFourthGen', 'iPadProFourthGenCellular-iPadProFourthGenCellular', 'iPhone12Mini-iPhone12Mini', 'iPhone12-iPhone12', 'iPhone12Pro-iPhone12Pro', 'iPhone12ProMax-iPhone12ProMax', 'iPadAir4-iPadAir4', 'iPadAir4Cellular-iPadAir4Cellular', 'iPadEighthGen-iPadEighthGen', 'iPadEighthGenCellular-iPadEighthGenCellular', 'WatchSE-WatchSE', 'WatchSECellular-WatchSECellular', 'Watch6-Watch6', 'Watch6Cellular-Watch6Cellular', 'iPadProThirdGen-iPadProThirdGen', 'iPadProThirdGenCellular-iPadProThirdGenCellular', 'iPadProFifthGen-iPadProFifthGen', 'iPadProFifthGenCellular-iPadProFifthGenCellular', 'iPhone13Pro-iPhone13Pro', 'iPhone13ProMax-iPhone13ProMax', 'iPhone13Mini-iPhone13Mini', 'iPhone13-iPhone13', 'iPadMiniSixthGen-iPadMiniSixthGen', 'iPadMiniSixthGenCellular-iPadMiniSixthGenCellular', 'iPadNinthGen-iPadNinthGen', 'iPadNinthGenCellular-iPadNinthGenCellular', 'Watch7-Watch7', 'Watch7Cellular-Watch7Cellular', 'iPhoneSEThirdGen-iPhoneSEThirdGen', 'iPadAirFifthGen-iPadAirFifthGen', 'iPadAirFifthGenCellular-iPadAirFifthGenCellular', 'iPhone14-iPhone14', 'iPhone14Plus-iPhone14Plus', 'iPhone14Pro-iPhone14Pro', 'iPhone14ProMax-iPhone14ProMax', 'Watch8-Watch8', 'Watch8Cellular-Watch8Cellular', 'WatchUltra-WatchUltra', 'WatchSESecondGen-WatchSESecondGen', 'WatchSESecondGenCellular-WatchSESecondGenCellular', 'iPadTenthGen-iPadTenthGen', 'iPadTenthGenCellular-iPadTenthGenCellular', 'iPadPro11FourthGen-iPadPro11FourthGen', 'iPadPro11FourthGenCellular-iPadPro11FourthGenCellular', 'iPadProSixthGen-iPadProSixthGen', 'iPadProSixthGenCellular-iPadProSixthGenCellular']}\n",
      "{'id': 1302451299, 'appId': 'com.peoplefun.wordvistas', 'title': 'Wordscapes Uncrossed', 'url': 'https://apps.apple.com/us/app/wordscapes-uncrossed/id1302451299?uo=4', 'description': 'This brand new addicting word game starts simple but ramps up fast! Exercise your brain with over 3,000 challenging word puzzles. Tap into your word smarts to unlock new levels with ever-more challenging puzzles and build your word game skill! How far will you go?\\n\\nThis modern word search game is a joy to play!  You will be amazed at how many words you can find in 5, 6, and 7 letters.\\n\\nPlay with friends and show them how inspiring you are! How many new puzzles can you unlock?\\n\\nEveryone needs a break from life every now and again. Wordscapes Uncrossed is the best word game to relieve stress while solving fun word puzzles. Download Wordscapes Uncrossed and enjoy beautiful and relaxing backgrounds while also exercising your brain!\\n\\n► Explore wonderful landscapes and challenge your mind!\\n► Solve over 3,000 word puzzles!\\n► Starts easy but ramps up fast! Can you beat the game?\\n\\nWordscapes Uncrossed is the latest top-rated word game from PeopleFun, the makers of Wordscapes, Word Chums, Spell Blitz and MixTwo, played by millions.\\n\\nTerms of service: https://www.peoplefun.com/terms', 'icon': 'https://is3-ssl.mzstatic.com/image/thumb/Purple122/v4/9b/17/e6/9b17e604-74ec-2d91-3536-fd6f07f5185b/AppIcon-0-0-1x_U007emarketing-0-0-0-7-0-0-sRGB-0-0-0-GLES2_U002c0-512MB-85-220-0-0.png/512x512bb.jpg', 'genres': ['Games', 'Word', 'Puzzle'], 'genreIds': ['6014', '7019', '7012'], 'primaryGenre': 'Games', 'primaryGenreId': 6014, 'contentRating': '12+', 'languages': ['EN'], 'size': '142209024', 'requiredOsVersion': '12.0', 'released': '2017-11-20T19:03:05Z', 'updated': '2022-06-17T11:18:54Z', 'releaseNotes': 'Bug fixes and improvements', 'version': '1.3.2', 'price': 0, 'currency': 'USD', 'free': True, 'developerId': 517840947, 'developer': 'PeopleFun, Inc.', 'developerUrl': 'https://apps.apple.com/us/developer/peoplefun-inc/id517840947?uo=4', 'developerWebsite': 'https://www.peoplefun.com', 'score': 4.89858, 'reviews': 18241, 'currentVersionScore': 4.89858, 'currentVersionReviews': 18241, 'screenshots': ['https://is1-ssl.mzstatic.com/image/thumb/Purple114/v4/b1/6f/c4/b16fc4eb-0bb8-222b-afa3-060c9e2e6f97/mzl.rvwmijhv.png/392x696bb.png', 'https://is4-ssl.mzstatic.com/image/thumb/Purple114/v4/2a/25/1e/2a251ebf-a36f-8412-a3fb-e91229be1a72/mzl.kndksqks.png/392x696bb.png', 'https://is5-ssl.mzstatic.com/image/thumb/Purple124/v4/31/7d/5c/317d5c69-85ad-48aa-25c9-a4d2ce6dddf8/mzl.jgoersvq.png/392x696bb.png', 'https://is1-ssl.mzstatic.com/image/thumb/Purple124/v4/81/d3/05/81d30502-2025-55f8-9bae-847835013f7f/mzl.xbbghhbz.png/392x696bb.png', 'https://is2-ssl.mzstatic.com/image/thumb/Purple124/v4/f1/62/12/f16212bb-e6ac-5348-babf-020c31b11462/mzl.pbortnhw.png/392x696bb.png'], 'ipadScreenshots': ['https://is3-ssl.mzstatic.com/image/thumb/Purple124/v4/46/7c/ff/467cffc4-90a5-00ee-7a27-d94e1dd86d74/mzl.vrglkyge.png/576x768bb.png', 'https://is5-ssl.mzstatic.com/image/thumb/Purple114/v4/71/31/48/71314836-597b-537c-1d9d-7803ec650537/mzl.fmkzjtvj.png/576x768bb.png', 'https://is5-ssl.mzstatic.com/image/thumb/Purple114/v4/01/ce/ff/01ceff49-8ebc-f8e1-1347-5393043196e0/mzl.azawyprx.png/576x768bb.png', 'https://is1-ssl.mzstatic.com/image/thumb/Purple124/v4/48/72/76/4872768e-2f36-2d3c-556c-4289d125d982/mzl.zlvrlzct.png/576x768bb.png', 'https://is4-ssl.mzstatic.com/image/thumb/Purple114/v4/35/20/d1/3520d110-d486-5f7a-f510-244ee839adbf/mzl.hccpqtqa.png/576x768bb.png'], 'appletvScreenshots': [], 'supportedDevices': ['iPhone5s-iPhone5s', 'iPadAir-iPadAir', 'iPadAirCellular-iPadAirCellular', 'iPadMiniRetina-iPadMiniRetina', 'iPadMiniRetinaCellular-iPadMiniRetinaCellular', 'iPhone6-iPhone6', 'iPhone6Plus-iPhone6Plus', 'iPadAir2-iPadAir2', 'iPadAir2Cellular-iPadAir2Cellular', 'iPadMini3-iPadMini3', 'iPadMini3Cellular-iPadMini3Cellular', 'iPodTouchSixthGen-iPodTouchSixthGen', 'iPhone6s-iPhone6s', 'iPhone6sPlus-iPhone6sPlus', 'iPadMini4-iPadMini4', 'iPadMini4Cellular-iPadMini4Cellular', 'iPadPro-iPadPro', 'iPadProCellular-iPadProCellular', 'iPadPro97-iPadPro97', 'iPadPro97Cellular-iPadPro97Cellular', 'iPhoneSE-iPhoneSE', 'iPhone7-iPhone7', 'iPhone7Plus-iPhone7Plus', 'iPad611-iPad611', 'iPad612-iPad612', 'iPad71-iPad71', 'iPad72-iPad72', 'iPad73-iPad73', 'iPad74-iPad74', 'iPhone8-iPhone8', 'iPhone8Plus-iPhone8Plus', 'iPhoneX-iPhoneX', 'iPad75-iPad75', 'iPad76-iPad76', 'iPhoneXS-iPhoneXS', 'iPhoneXSMax-iPhoneXSMax', 'iPhoneXR-iPhoneXR', 'iPad812-iPad812', 'iPad834-iPad834', 'iPad856-iPad856', 'iPad878-iPad878', 'iPadMini5-iPadMini5', 'iPadMini5Cellular-iPadMini5Cellular', 'iPadAir3-iPadAir3', 'iPadAir3Cellular-iPadAir3Cellular', 'iPodTouchSeventhGen-iPodTouchSeventhGen', 'iPhone11-iPhone11', 'iPhone11Pro-iPhone11Pro', 'iPadSeventhGen-iPadSeventhGen', 'iPadSeventhGenCellular-iPadSeventhGenCellular', 'iPhone11ProMax-iPhone11ProMax', 'iPhoneSESecondGen-iPhoneSESecondGen', 'iPadProSecondGen-iPadProSecondGen', 'iPadProSecondGenCellular-iPadProSecondGenCellular', 'iPadProFourthGen-iPadProFourthGen', 'iPadProFourthGenCellular-iPadProFourthGenCellular', 'iPhone12Mini-iPhone12Mini', 'iPhone12-iPhone12', 'iPhone12Pro-iPhone12Pro', 'iPhone12ProMax-iPhone12ProMax', 'iPadAir4-iPadAir4', 'iPadAir4Cellular-iPadAir4Cellular', 'iPadEighthGen-iPadEighthGen', 'iPadEighthGenCellular-iPadEighthGenCellular', 'iPadProThirdGen-iPadProThirdGen', 'iPadProThirdGenCellular-iPadProThirdGenCellular', 'iPadProFifthGen-iPadProFifthGen', 'iPadProFifthGenCellular-iPadProFifthGenCellular', 'iPhone13Pro-iPhone13Pro', 'iPhone13ProMax-iPhone13ProMax', 'iPhone13Mini-iPhone13Mini', 'iPhone13-iPhone13', 'iPadMiniSixthGen-iPadMiniSixthGen', 'iPadMiniSixthGenCellular-iPadMiniSixthGenCellular', 'iPadNinthGen-iPadNinthGen', 'iPadNinthGenCellular-iPadNinthGenCellular', 'iPhoneSEThirdGen-iPhoneSEThirdGen', 'iPadAirFifthGen-iPadAirFifthGen', 'iPadAirFifthGenCellular-iPadAirFifthGenCellular', 'iPhone14-iPhone14', 'iPhone14Plus-iPhone14Plus', 'iPhone14Pro-iPhone14Pro', 'iPhone14ProMax-iPhone14ProMax', 'iPadTenthGen-iPadTenthGen', 'iPadTenthGenCellular-iPadTenthGenCellular', 'iPadPro11FourthGen-iPadPro11FourthGen', 'iPadPro11FourthGenCellular-iPadPro11FourthGenCellular', 'iPadProSixthGen-iPadProSixthGen', 'iPadProSixthGenCellular-iPadProSixthGenCellular']}\n"
     ]
    },
    {
     "name": "stdout",
     "output_type": "stream",
     "text": [
      "{'id': 957848865, 'appId': 'mobi.redstonegames.crossword.en', 'title': 'Crossword Puzzle Redstone', 'url': 'https://apps.apple.com/us/app/crossword-puzzle-redstone/id957848865?uo=4', 'description': 'Solve thousands of crossword puzzles from indie and industry leader crossword constructors for free, no subscription required!\\n\\nCrossword Puzzle Free by Redstone, also known as \"The crossword lovers dream app,\" delivers the best crossword solving experience on mobile devices, providing users with fresh content and a well-designed user interface.\\n\\nDownload our app today and join the crowd! You can solve all crosswords offline, and new packs of puzzles in four difficulty levels are frequently released. Improve your vocabulary daily, learn new words, challenge yourself and have fun with the best crossword game for iPhone and iPad! It\\'s free!\\n\\nUser Reviews:\\n**Great crossword app for the real crossword enthusiast.**\\n**Awesome crossword puzzles. Plain. Simple. And crosswordy!**\\n**Love the ease of it. Makes working a digital crossword enjoyable.**\\n** It\\'s the first crossword game I can actually solve.**\\n**One of the best crossword games I\\'ve played. I like how it tells you that you have the right answer!**\\n\\n---\\n\\nWide range of English crossword puzzles (American-style / NYT):\\n- Four difficulty levels: Easy, Medium, Hard and Very Hard.\\n- Sizes: Minis, Midis and Regular (15x15).\\n- Themes: Both themed and themeless crosswords.\\n\\nGame features:\\n- Smart Look Up: get word suggestions when you have trouble with tricky clues.\\n- Dark Mode: use the dark color scheme for improved visual comfort, and have a great crossword solving experience at night or in low-light environments.\\n- Multi-word Entry Hints: optionally see whether an answer consists of two or more words.\\n- Smart Step: skip filled cells when navigating through the puzzle.\\n- Lock Completed Words: keep letters that are guessed correctly locked, so you don\\'t accidentally erase them as you are guessing and erasing tangent words.\\n- Incorrect Puzzle Assistance: reminds you when the puzzle is filled but has incorrect cells.\\n- Help: reveal letters, words or the entire puzzle in case you get stuck.\\n- Show Errors: highlight the incorrect letters.\\n- Clear Errors: easily remove all incorrect letters.\\n- Offline Mode: puzzles available even when you don\\'t have an Internet connection.\\n- Polished User Interface: easy and modern way to navigate through the puzzle cells and clues.\\n\\n---\\n\\nWe provide crossword puzzles from a wide range of constructors, including independent and underrepresented cruciverbalists, as well as many industry leader crossword constructors with work published in major newspapers like The New York Times (NY Times), The Washington Post, USA TODAY, The Wall Street Journal, Los Angeles Times, among others.\\n\\nWe are proud to announce that we currently provide crossword puzzles from Brendan Emmett Quigley, Sid Sivakumar, Will Nediger, Fred Piscop, Mark McClain, Andrew Ries, Brad Wilber, Robin Stears, Bonnie L. Gentry, Frank Virzi, Paolo Pasco, Ross Trudeau, Matthew Stock, David Alfred Bywaters, Jessica Goldstein, Myles Mellor, Richard Allen, Brendan W. Sullivan, Evan Kalish, Dave Diebold, Enrique Henestroza Anguiano, David Gold, Martina Waluk, Norah Sharpe, Ada Nicolle, Patricia Wells, Larry Harrington, Rob Gonsalves & Jennifer Lim, May Huang & Kevin Trickey, Greg Johnson, Bart Gold, Steve Faiella, Steve Mossberg, Trent H. Evans, Dylan Thomas, Kurt Siefken, Matthew Luter, Kevin K. Ferland, Emma Lawson, Brian Gubin, Barbara Olson, Jon Dunbar, Lloyd Morgan, Lex Friedman, Billy Bratton, Elke Hubsch, Sean Yamada-Hunter, Jonathan Berliner, Guilherme Gilioli, Bennie McElhaney, Jim Lake, Mason Fleming, Max Sherer, Frank Morris, Clarity Media, and Peter Sharp.\\n\\n---\\n\\nDISCLAIMER: The views and opinions expressed in the crossword puzzles contained in this application are solely those of the original authors and do not necessarily reflect the views and opinions of Redstone Games (REDSTONE GAMES LTDA - ME) or any employee thereof.\\n\\n---\\n\\nFeedback? Suggestions? Issues? Please contact us at helpdesk@redstonegames.mobi or from within the app itself.', 'icon': 'https://is2-ssl.mzstatic.com/image/thumb/Purple116/v4/67/17/e8/6717e88d-0725-80d0-045a-e210b04f49b5/AppIcon-0-0-1x_U007epad-0-0-0-0-0-0-sRGB-0-0-0-GLES2_U002c0-512MB-85-220-0-0.png/512x512bb.jpg', 'genres': ['Games', 'Entertainment', 'Puzzle', 'Word'], 'genreIds': ['6014', '6016', '7012', '7019'], 'primaryGenre': 'Games', 'primaryGenreId': 6014, 'contentRating': '4+', 'languages': ['EN'], 'size': '96560128', 'requiredOsVersion': '12.0', 'released': '2015-04-27T14:37:43Z', 'updated': '2023-06-05T15:15:39Z', 'releaseNotes': \"Thanks for playing! To provide you a top-notch crossword solving experience, we listen to your feedback and bring updates to the App Store regularly.\\n\\nIn this update:\\n\\n* Support for more crossword puzzle packs.\\n* Other UI improvements and bug fixes.\\n\\n----\\n\\nWe are always seeking to improve the app, and support for more constructors should be available soon! We are proud to announce that we currently provide crossword puzzles from Brendan Emmett Quigley, Sid Sivakumar, Will Nediger, Fred Piscop, Mark McClain, Andrew Ries, Brad Wilber, Robin Stears, Bonnie L. Gentry, Frank Virzi, Paolo Pasco, Ross Trudeau, Matthew Stock, David Alfred Bywaters, Jessica Goldstein, Myles Mellor, Richard Allen, Brendan W. Sullivan, Evan Kalish, Dave Diebold, Enrique Henestroza Anguiano, David Gold, Martina Waluk, Norah Sharpe, Ada Nicolle, Patricia Wells, Larry Harrington, Rob Gonsalves & Jennifer Lim, May Huang & Kevin Trickey, Greg Johnson, Bart Gold, Steve Faiella, Steve Mossberg, Trent H. Evans, Dylan Thomas, Kurt Siefken, Matthew Luter, Kevin K. Ferland, Emma Lawson, Brian Gubin, Barbara Olson, Jon Dunbar, Lloyd Morgan, Lex Friedman, Billy Bratton, Elke Hubsch, Sean Yamada-Hunter, Jonathan Berliner, Guilherme Gilioli, Bennie McElhaney, Jim Lake, Mason Fleming, Max Sherer, Frank Morris, Clarity Media, and Peter Sharp.\\n\\nDon't miss the next updates. We are working hard to deliver the most requested features and provide you the best crossword puzzle-solving experience on mobile devices. Thanks for all your great feedback - please keep it coming!\\n\\nIf you're enjoying Crossword Puzzle by Redstone, please take a moment to leave us a review. Your feedback helps us to bring you new puzzles and features.\\n\\nHappy puzzling!\", 'version': '1.6.4', 'price': 0, 'currency': 'USD', 'free': True, 'developerId': 815772163, 'developer': 'Redstone Games', 'developerUrl': 'https://apps.apple.com/us/developer/redstone-games/id815772163?uo=4', 'developerWebsite': 'https://www.redstonegames.mobi', 'score': 4.76194, 'reviews': 81637, 'currentVersionScore': 4.76194, 'currentVersionReviews': 81637, 'screenshots': ['https://is5-ssl.mzstatic.com/image/thumb/Purple122/v4/82/7d/99/827d99c2-18f1-0fa3-c446-dbac7b76e527/mzl.okzylkgs.png/392x696bb.png', 'https://is1-ssl.mzstatic.com/image/thumb/Purple122/v4/fe/72/30/fe7230ee-e511-5588-e085-a635287ab12c/mzl.zpmdlrzk.png/392x696bb.png', 'https://is2-ssl.mzstatic.com/image/thumb/PurpleSource126/v4/ab/08/da/ab08da48-2833-98a7-0cb8-9631235f3539/0dfcc4f9-0bd2-42a1-bc1e-473bff1a19a6_ss3_5.5.png/392x696bb.png', 'https://is2-ssl.mzstatic.com/image/thumb/Purple112/v4/6a/8c/ba/6a8cbabb-b227-8ddf-e41f-2e60b3b92ef1/mzl.qimlwoeq.png/392x696bb.png', 'https://is2-ssl.mzstatic.com/image/thumb/Purple112/v4/a4/4a/58/a44a5802-8255-ddee-7c16-34b381cb4f33/mzl.wpnhbpkc.png/392x696bb.png', 'https://is2-ssl.mzstatic.com/image/thumb/Purple112/v4/21/c1/25/21c125c9-cada-0630-53e6-2f07c7d34b87/mzl.eqyofkdl.png/392x696bb.png', 'https://is3-ssl.mzstatic.com/image/thumb/Purple112/v4/36/39/be/3639be38-44ee-9e3e-a4af-b2ba030b0266/mzl.raoelcmw.png/392x696bb.png', 'https://is1-ssl.mzstatic.com/image/thumb/Purple122/v4/60/24/29/60242962-0586-e8c7-8084-23e76bc18a6a/mzl.suhjcybn.png/392x696bb.png', 'https://is3-ssl.mzstatic.com/image/thumb/Purple122/v4/2c/a0/6e/2ca06eb9-e308-4e88-a787-32f863ba635e/mzl.mtwygfny.png/392x696bb.png', 'https://is3-ssl.mzstatic.com/image/thumb/Purple122/v4/98/7c/b1/987cb1e1-01b2-cfa3-18d0-4944efa6d84f/mzl.ipeoqwwh.png/392x696bb.png'], 'ipadScreenshots': ['https://is4-ssl.mzstatic.com/image/thumb/Purple122/v4/7a/89/23/7a89231a-5f40-7c1a-bd72-4bdf097bdb24/mzl.zlvpdwie.png/576x768bb.png', 'https://is5-ssl.mzstatic.com/image/thumb/Purple122/v4/3c/0e/25/3c0e2529-ac3e-1d33-b114-6763a3451a66/mzl.gvejjnmg.png/576x768bb.png', 'https://is3-ssl.mzstatic.com/image/thumb/PurpleSource126/v4/bc/f7/d8/bcf7d8df-ee82-4074-4bd2-a5cc56193969/94092133-fc98-432b-a030-75c7828c966d_ss3_12.9_2nd.png/576x768bb.png', 'https://is4-ssl.mzstatic.com/image/thumb/Purple122/v4/32/7f/b4/327fb4c3-2532-ffe0-273a-912ec4c107aa/mzl.bihfdckj.png/576x768bb.png', 'https://is2-ssl.mzstatic.com/image/thumb/Purple112/v4/eb/36/f3/eb36f339-e28a-fd72-6fcd-41d1a19f4524/mzl.zznhpxkd.png/576x768bb.png', 'https://is3-ssl.mzstatic.com/image/thumb/Purple112/v4/aa/04/c5/aa04c5ae-7b44-9182-afe4-970bd1e3dcbd/mzl.yesocyte.png/576x768bb.png', 'https://is1-ssl.mzstatic.com/image/thumb/Purple112/v4/95/b5/65/95b5656c-b885-86e0-00c0-8176475673ef/mzl.nowujuai.png/576x768bb.png', 'https://is2-ssl.mzstatic.com/image/thumb/Purple112/v4/c4/b9/b6/c4b9b621-5bf6-1ddd-9b8c-e63643209e43/mzl.ayrynold.png/576x768bb.png', 'https://is5-ssl.mzstatic.com/image/thumb/Purple122/v4/42/87/a3/4287a3ae-5395-2872-9350-c80265226015/mzl.trqntsag.png/576x768bb.png', 'https://is5-ssl.mzstatic.com/image/thumb/Purple122/v4/40/90/1e/40901e07-81df-c04d-c80e-648861208638/mzl.dfcdlsrp.png/576x768bb.png'], 'appletvScreenshots': [], 'supportedDevices': ['iPhone5s-iPhone5s', 'iPadAir-iPadAir', 'iPadAirCellular-iPadAirCellular', 'iPadMiniRetina-iPadMiniRetina', 'iPadMiniRetinaCellular-iPadMiniRetinaCellular', 'iPhone6-iPhone6', 'iPhone6Plus-iPhone6Plus', 'iPadAir2-iPadAir2', 'iPadAir2Cellular-iPadAir2Cellular', 'iPadMini3-iPadMini3', 'iPadMini3Cellular-iPadMini3Cellular', 'iPodTouchSixthGen-iPodTouchSixthGen', 'iPhone6s-iPhone6s', 'iPhone6sPlus-iPhone6sPlus', 'iPadMini4-iPadMini4', 'iPadMini4Cellular-iPadMini4Cellular', 'iPadPro-iPadPro', 'iPadProCellular-iPadProCellular', 'iPadPro97-iPadPro97', 'iPadPro97Cellular-iPadPro97Cellular', 'iPhoneSE-iPhoneSE', 'iPhone7-iPhone7', 'iPhone7Plus-iPhone7Plus', 'iPad611-iPad611', 'iPad612-iPad612', 'iPad71-iPad71', 'iPad72-iPad72', 'iPad73-iPad73', 'iPad74-iPad74', 'iPhone8-iPhone8', 'iPhone8Plus-iPhone8Plus', 'iPhoneX-iPhoneX', 'iPad75-iPad75', 'iPad76-iPad76', 'iPhoneXS-iPhoneXS', 'iPhoneXSMax-iPhoneXSMax', 'iPhoneXR-iPhoneXR', 'iPad812-iPad812', 'iPad834-iPad834', 'iPad856-iPad856', 'iPad878-iPad878', 'iPadMini5-iPadMini5', 'iPadMini5Cellular-iPadMini5Cellular', 'iPadAir3-iPadAir3', 'iPadAir3Cellular-iPadAir3Cellular', 'iPodTouchSeventhGen-iPodTouchSeventhGen', 'iPhone11-iPhone11', 'iPhone11Pro-iPhone11Pro', 'iPadSeventhGen-iPadSeventhGen', 'iPadSeventhGenCellular-iPadSeventhGenCellular', 'iPhone11ProMax-iPhone11ProMax', 'iPhoneSESecondGen-iPhoneSESecondGen', 'iPadProSecondGen-iPadProSecondGen', 'iPadProSecondGenCellular-iPadProSecondGenCellular', 'iPadProFourthGen-iPadProFourthGen', 'iPadProFourthGenCellular-iPadProFourthGenCellular', 'iPhone12Mini-iPhone12Mini', 'iPhone12-iPhone12', 'iPhone12Pro-iPhone12Pro', 'iPhone12ProMax-iPhone12ProMax', 'iPadAir4-iPadAir4', 'iPadAir4Cellular-iPadAir4Cellular', 'iPadEighthGen-iPadEighthGen', 'iPadEighthGenCellular-iPadEighthGenCellular', 'iPadProThirdGen-iPadProThirdGen', 'iPadProThirdGenCellular-iPadProThirdGenCellular', 'iPadProFifthGen-iPadProFifthGen', 'iPadProFifthGenCellular-iPadProFifthGenCellular', 'iPhone13Pro-iPhone13Pro', 'iPhone13ProMax-iPhone13ProMax', 'iPhone13Mini-iPhone13Mini', 'iPhone13-iPhone13', 'iPadMiniSixthGen-iPadMiniSixthGen', 'iPadMiniSixthGenCellular-iPadMiniSixthGenCellular', 'iPadNinthGen-iPadNinthGen', 'iPadNinthGenCellular-iPadNinthGenCellular', 'iPhoneSEThirdGen-iPhoneSEThirdGen', 'iPadAirFifthGen-iPadAirFifthGen', 'iPadAirFifthGenCellular-iPadAirFifthGenCellular', 'iPhone14-iPhone14', 'iPhone14Plus-iPhone14Plus', 'iPhone14Pro-iPhone14Pro', 'iPhone14ProMax-iPhone14ProMax', 'iPadTenthGen-iPadTenthGen', 'iPadTenthGenCellular-iPadTenthGenCellular', 'iPadPro11FourthGen-iPadPro11FourthGen', 'iPadPro11FourthGenCellular-iPadPro11FourthGenCellular', 'iPadProSixthGen-iPadProSixthGen', 'iPadProSixthGenCellular-iPadProSixthGenCellular']}\n"
     ]
    },
    {
     "name": "stdout",
     "output_type": "stream",
     "text": [
      "{'id': 517840944, 'appId': 'com.peoplefun.wordchumsfree', 'title': 'Word Chums!', 'url': 'https://apps.apple.com/us/app/word-chums/id517840944?uo=4', 'description': 'More fun than Words With Friends and more addicting than Scrabble, WORD CHUMS: the highest rated word game, earning a perfect 5 Star rating from users.\\n\\nFind out why people are saying “Once you play it, you can’t go back to your old word game.”\\n\\n“When I went from Words With Friends and other word games to Word Chums, there was no going back.” - VentureBeat\\n\\n“This game takes it to another level with fun graphics and sounds, a built in dictionary, team mode, 3-4 player mode…”\\n◆◆◆◆◆\\xa0\\n\"I really love this game. A great game for the whole family and your friends.. It keeps you thinking. It\\'s a challenge. Try it, you\\'ll love it.\"\\xa0\\xa0\\n◆◆◆◆◆\\xa0\\n\"Way better than other word games! I am hooked!\"\\n\\n“Word Chums adds a significant layer of additional incentives to keep playing atop the basic formula.” Adweek\\n\\n◆ INTRODUCING THE CHUMS\\nOozing with personality, they bring the game to life. Have fun earning gear to outfit your Chum and expressing your style. They’re guaranteed to make you chuckle. \\n\\n◆ INCREDIBLY STREAMLINED GAMEPLAY\\nWord Chums is a pleasure to play. See words validate instantly as you place letters and see the scoring badge automatically indicate word strength.\\n\\n◆ FAMILIAR CROSSWORD GAMEPLAY\\nWord Chums stays true to the classic word building gameplay you know and love.\\n\\n◆ EARN TOP CHUM STATUS\\nEarn experience points with each word played and level up to become King or Queen of the Chums. Show off your “wordly” prowess by climbing your way to the top of the weekly leaderboards.\\n\\n◆ TRULY SOCIAL\\nSee how all your friends are doing from the friends list on the main screen. Experience a new level of collaborative fun by grabbing a teammate for a couples challenge. \\n\\n◆ SAY GOODBYE TO GETTING STUMPED\\nJust when you need it most…Hints can point you to the location of a better word.\\n\\n◆ SATISFIES THE SERIOUS GAMER\\nWord Chums has achievements, best-word challenges, leveling, player stats, leaderboards and much more. It’s a deep gaming experience for everyone that gamers can master.\\n\\n◆ LEARN A LITTLE\\nExpand your vocabulary as you quickly experiment with new letter combinations and instantly discover new words. Tap any word to see its definition. \\n\\n——————————————————————\\n◆ SPECIAL FEATURES\\n  • 2-4 player games\\n  • Play versus friends, random opponents, and computer Chumbots\\n  • Customizable Chum characters\\n  • Know valid words before you press play\\n  • Automatically see the strength of your word\\n  • Weekly leaderboard competitions\\n  • Find the best word and beat the hint challenges\\n  • Drop a Bomb and take your turn with a new set of letters\\n——————————————————————\\n◆ ABOUT PeopleFun\\nWord Chums is a new kind of word game experience that comes to you from the makers of Age of Empires, one of the best-selling and most award-winning games of all time. Give it a try!\\n\\nTerms of service: https://www.peoplefun.com/terms', 'icon': 'https://is1-ssl.mzstatic.com/image/thumb/Purple126/v4/da/ae/6f/daae6ff9-9187-a8b5-2a05-65dfa7307cde/AppIcon-0-0-1x_U007emarketing-0-0-0-9-0-0-sRGB-0-0-0-GLES2_U002c0-512MB-85-220-0-0.png/512x512bb.jpg', 'genres': ['Games', 'Entertainment', 'Board', 'Word'], 'genreIds': ['6014', '6016', '7004', '7019'], 'primaryGenre': 'Games', 'primaryGenreId': 6014, 'contentRating': '12+', 'languages': ['EN'], 'size': '134393856', 'requiredOsVersion': '12.0', 'released': '2012-09-13T07:00:00Z', 'updated': '2023-06-13T15:28:58Z', 'releaseNotes': 'Updated our Terms of Service and Privacy Notice \\n - Updates to the code of conduct and dispute resolution process\\n - Updates to include disclosures and notices required by applicable law\\n - Additional descriptions of our privacy practices and your privacy choices', 'version': '2.12.0', 'price': 0, 'currency': 'USD', 'free': True, 'developerId': 517840947, 'developer': 'PeopleFun, Inc.', 'developerUrl': 'https://apps.apple.com/us/developer/peoplefun-inc/id517840947?uo=4', 'developerWebsite': 'https://www.peoplefun.com', 'score': 4.80561, 'reviews': 20891, 'currentVersionScore': 4.80561, 'currentVersionReviews': 20891, 'screenshots': ['https://is5-ssl.mzstatic.com/image/thumb/Purple123/v4/3d/55/b0/3d55b002-8561-0f5a-7d34-4de327121a5a/mzl.zpgjmznk.png/392x696bb.png', 'https://is3-ssl.mzstatic.com/image/thumb/Purple123/v4/8f/31/e1/8f31e134-7ec9-d22a-06c2-9dae6d0a937a/mzl.gnyzsfmw.png/392x696bb.png', 'https://is3-ssl.mzstatic.com/image/thumb/Purple123/v4/20/fd/e6/20fde6d5-0560-1ba5-18e2-aa3ed1df99ea/mzl.dyybpsso.png/392x696bb.png', 'https://is1-ssl.mzstatic.com/image/thumb/Purple113/v4/8f/65/dc/8f65dc89-a8b3-8118-c44c-94a62c437360/mzl.pcwemnir.png/392x696bb.png', 'https://is1-ssl.mzstatic.com/image/thumb/Purple123/v4/44/b3/28/44b32876-8f8b-9fb2-1cf5-d5ec6986a4d7/mzl.yylccaqa.png/392x696bb.png'], 'ipadScreenshots': ['https://is1-ssl.mzstatic.com/image/thumb/Purple123/v4/78/35/1e/78351ed5-4600-d606-33b9-7e8f4add2622/mzl.kufhvlzc.png/576x768bb.png', 'https://is4-ssl.mzstatic.com/image/thumb/Purple113/v4/3e/ba/f4/3ebaf48d-b3ae-1b8c-49d6-5539c2c41672/mzl.hxgwqxbh.png/576x768bb.png', 'https://is3-ssl.mzstatic.com/image/thumb/Purple113/v4/3a/06/70/3a06704e-e5fa-f959-9a74-5106227b2835/mzl.evghxybn.png/576x768bb.png', 'https://is5-ssl.mzstatic.com/image/thumb/Purple113/v4/ae/2d/b7/ae2db77c-22d2-6e80-a110-feb87bddff0d/mzl.qzevciez.png/576x768bb.png', 'https://is4-ssl.mzstatic.com/image/thumb/Purple113/v4/44/ea/41/44ea4145-c9ae-6797-f015-02e601f65ac6/mzl.mhpcdflp.png/576x768bb.png'], 'appletvScreenshots': [], 'supportedDevices': ['iPhone5s-iPhone5s', 'iPadAir-iPadAir', 'iPadAirCellular-iPadAirCellular', 'iPadMiniRetina-iPadMiniRetina', 'iPadMiniRetinaCellular-iPadMiniRetinaCellular', 'iPhone6-iPhone6', 'iPhone6Plus-iPhone6Plus', 'iPadAir2-iPadAir2', 'iPadAir2Cellular-iPadAir2Cellular', 'iPadMini3-iPadMini3', 'iPadMini3Cellular-iPadMini3Cellular', 'iPodTouchSixthGen-iPodTouchSixthGen', 'iPhone6s-iPhone6s', 'iPhone6sPlus-iPhone6sPlus', 'iPadMini4-iPadMini4', 'iPadMini4Cellular-iPadMini4Cellular', 'iPadPro-iPadPro', 'iPadProCellular-iPadProCellular', 'iPadPro97-iPadPro97', 'iPadPro97Cellular-iPadPro97Cellular', 'iPhoneSE-iPhoneSE', 'iPhone7-iPhone7', 'iPhone7Plus-iPhone7Plus', 'iPad611-iPad611', 'iPad612-iPad612', 'iPad71-iPad71', 'iPad72-iPad72', 'iPad73-iPad73', 'iPad74-iPad74', 'iPhone8-iPhone8', 'iPhone8Plus-iPhone8Plus', 'iPhoneX-iPhoneX', 'iPad75-iPad75', 'iPad76-iPad76', 'iPhoneXS-iPhoneXS', 'iPhoneXSMax-iPhoneXSMax', 'iPhoneXR-iPhoneXR', 'iPad812-iPad812', 'iPad834-iPad834', 'iPad856-iPad856', 'iPad878-iPad878', 'iPadMini5-iPadMini5', 'iPadMini5Cellular-iPadMini5Cellular', 'iPadAir3-iPadAir3', 'iPadAir3Cellular-iPadAir3Cellular', 'iPodTouchSeventhGen-iPodTouchSeventhGen', 'iPhone11-iPhone11', 'iPhone11Pro-iPhone11Pro', 'iPadSeventhGen-iPadSeventhGen', 'iPadSeventhGenCellular-iPadSeventhGenCellular', 'iPhone11ProMax-iPhone11ProMax', 'iPhoneSESecondGen-iPhoneSESecondGen', 'iPadProSecondGen-iPadProSecondGen', 'iPadProSecondGenCellular-iPadProSecondGenCellular', 'iPadProFourthGen-iPadProFourthGen', 'iPadProFourthGenCellular-iPadProFourthGenCellular', 'iPhone12Mini-iPhone12Mini', 'iPhone12-iPhone12', 'iPhone12Pro-iPhone12Pro', 'iPhone12ProMax-iPhone12ProMax', 'iPadAir4-iPadAir4', 'iPadAir4Cellular-iPadAir4Cellular', 'iPadEighthGen-iPadEighthGen', 'iPadEighthGenCellular-iPadEighthGenCellular', 'iPadProThirdGen-iPadProThirdGen', 'iPadProThirdGenCellular-iPadProThirdGenCellular', 'iPadProFifthGen-iPadProFifthGen', 'iPadProFifthGenCellular-iPadProFifthGenCellular', 'iPhone13Pro-iPhone13Pro', 'iPhone13ProMax-iPhone13ProMax', 'iPhone13Mini-iPhone13Mini', 'iPhone13-iPhone13', 'iPadMiniSixthGen-iPadMiniSixthGen', 'iPadMiniSixthGenCellular-iPadMiniSixthGenCellular', 'iPadNinthGen-iPadNinthGen', 'iPadNinthGenCellular-iPadNinthGenCellular', 'iPhoneSEThirdGen-iPhoneSEThirdGen', 'iPadAirFifthGen-iPadAirFifthGen', 'iPadAirFifthGenCellular-iPadAirFifthGenCellular', 'iPhone14-iPhone14', 'iPhone14Plus-iPhone14Plus', 'iPhone14Pro-iPhone14Pro', 'iPhone14ProMax-iPhone14ProMax', 'iPadTenthGen-iPadTenthGen', 'iPadTenthGenCellular-iPadTenthGenCellular', 'iPadPro11FourthGen-iPadPro11FourthGen', 'iPadPro11FourthGenCellular-iPadPro11FourthGenCellular', 'iPadProSixthGen-iPadProSixthGen', 'iPadProSixthGenCellular-iPadProSixthGenCellular']}\n"
     ]
    },
    {
     "name": "stdout",
     "output_type": "stream",
     "text": [
      "{'id': 504265646, 'appId': 'se.maginteractive.Rumble', 'title': 'Ruzzle', 'url': 'https://apps.apple.com/us/app/ruzzle/id504265646?uo=4', 'description': \"Ruzzle is the legendary fast-paced and addictively fun word game. Challenge your friends or random players to find as many words as possible in two minutes. \\n\\n- Top 10 word game in 145 countries\\n- Over 70 million players \\n- So addictive, it has been played for a total of 100,000 years\\n\\nNEW!\\n\\n- Now with Team Play!\\n- Co-op game mode where you play against other teams\\n- Compete in the Team Play leagues!\\n\\nRuzzle is a fast-paced and addictively fun word search game. Race against the clock and stretch your brain to its limits as you search and find as many words as you can in the time window.\\n\\nSwipe over the scrambled letters to form the words and use bonus tiles to collect more points than your opponent. The game is played in three rounds, each played whenever suits you.\\n\\nHave two minutes to spare? Challenge yourself and your friends in Ruzzle! \\n\\nWith language support for 14 languages, Ruzzle is the brain training exercise game with global appeal\\n\\n-- Ruzzle has been lovingly created by MAG Interactive, where we take fun seriously. Join a global audience of more than 100 million players and check out some of our other chart-topping hit games like Wordzee, New QuizDuel, or Word Domination! \\n\\nWe really value your feedback, go to https://www.facebook.com/ruzzlegame and say what's on your mind! \\n\\nMore about MAG Interactive at www.maginteractive.com\\n\\nGood Times!\", 'icon': 'https://is4-ssl.mzstatic.com/image/thumb/Purple116/v4/f5/0a/ac/f50aacbc-cb86-8454-b868-622251ab5c90/AppIcon-0-0-1x_U007emarketing-0-0-0-7-0-0-sRGB-0-0-0-GLES2_U002c0-512MB-85-220-0-0.png/512x512bb.jpg', 'genres': ['Games', 'Board', 'Word'], 'genreIds': ['6014', '7004', '7019'], 'primaryGenre': 'Games', 'primaryGenreId': 6014, 'contentRating': '4+', 'languages': ['DA', 'NL', 'EN', 'FR', 'DE', 'EL', 'IT', 'NB', 'PT', 'RU', 'ES', 'SV', 'TR'], 'size': '485774336', 'requiredOsVersion': '11.0', 'released': '2012-03-09T10:09:18Z', 'updated': '2023-06-15T07:33:59Z', 'releaseNotes': \"- Bug fixes and improvements\\n\\nThanks for playing and for your continued feedback.\\n\\nLet's Ruzzle!\", 'version': '3.9.5', 'price': 0, 'currency': 'USD', 'free': True, 'developerId': 307343213, 'developer': 'MAG Interactive', 'developerUrl': 'https://apps.apple.com/us/developer/mag-interactive/id307343213?uo=4', 'developerWebsite': 'http://maginteractive.com', 'score': 4.23773, 'reviews': 7210, 'currentVersionScore': 4.23773, 'currentVersionReviews': 7210, 'screenshots': ['https://is3-ssl.mzstatic.com/image/thumb/Purple112/v4/3b/ae/cc/3baecc50-6db0-76d3-b583-31dbe08d9557/9fff8d96-73b4-4836-96fb-00470d5b8c48_RZ_5.5_03_414x736_EN.png/392x696bb.png', 'https://is1-ssl.mzstatic.com/image/thumb/Purple112/v4/f4/f2/d2/f4f2d2e0-d347-54c5-8ba8-e58c014b928d/f080170c-7aed-4e01-918b-25ad8c5e31d1_RZ_5.5_04_414x736_EN.png/392x696bb.png', 'https://is3-ssl.mzstatic.com/image/thumb/Purple122/v4/37/bf/63/37bf63f1-72d1-e690-2688-f6f748d01657/d410d1a9-a965-46ff-90aa-21b6de4504cf_RZ_5.5_02_414x736_EN.png/392x696bb.png', 'https://is2-ssl.mzstatic.com/image/thumb/Purple112/v4/d0/33/e9/d033e932-7879-7bd0-d9ff-1ac5b4a69ca3/7e70d35a-3651-4b77-b8e4-5df34dcc97b2_RZ_5.5_05_414x736_EN.png/392x696bb.png', 'https://is1-ssl.mzstatic.com/image/thumb/Purple122/v4/11/fd/98/11fd98e2-7c1a-ca64-514f-9739ba7dcb84/5b7efe1a-c149-487f-bb2a-ba859a4d7c40_RZ_5.5_1_414x736_EN.png/392x696bb.png'], 'ipadScreenshots': ['https://is5-ssl.mzstatic.com/image/thumb/Purple112/v4/8e/e6/a1/8ee6a1ad-a23e-95c0-c76e-e09e3eba3a6c/75c1972d-d9d9-44c6-9e47-38ce4dc10568_RZ_12.9_03_1024x1366_EN.jpg/576x768bb.jpg', 'https://is3-ssl.mzstatic.com/image/thumb/Purple112/v4/3e/28/c5/3e28c599-09d0-8a61-8b10-1778b28767e3/b07566c1-59ec-493c-90be-cb79b6d8cc4f_RZ_12.9_02_1024x1366_EN.jpg/576x768bb.jpg', 'https://is5-ssl.mzstatic.com/image/thumb/Purple122/v4/9f/2e/98/9f2e98f7-7e72-67e5-b7e1-d66a27f93d3f/4b7bb80e-dc25-4245-8d38-461677548401_RZ_12.9_01_1024x1366_EN.jpg/576x768bb.jpg', 'https://is4-ssl.mzstatic.com/image/thumb/Purple112/v4/31/b2/c0/31b2c07f-db7f-351f-eed7-05eb54023f7e/0ddd7b18-43cb-42e5-8efa-6aadf4e76787_RZ_12.9_04_1024x1366_IT.jpg/576x768bb.jpg', 'https://is4-ssl.mzstatic.com/image/thumb/Purple112/v4/18/3d/83/183d83de-a19e-1dde-f372-4c9500ab83d1/21788083-1016-472c-8618-60e50192844f_RZ_12.9_05_1024x1366_IT.jpg/576x768bb.jpg'], 'appletvScreenshots': [], 'supportedDevices': ['iPhone5s-iPhone5s', 'iPadAir-iPadAir', 'iPadAirCellular-iPadAirCellular', 'iPadMiniRetina-iPadMiniRetina', 'iPadMiniRetinaCellular-iPadMiniRetinaCellular', 'iPhone6-iPhone6', 'iPhone6Plus-iPhone6Plus', 'iPadAir2-iPadAir2', 'iPadAir2Cellular-iPadAir2Cellular', 'iPadMini3-iPadMini3', 'iPadMini3Cellular-iPadMini3Cellular', 'iPodTouchSixthGen-iPodTouchSixthGen', 'iPhone6s-iPhone6s', 'iPhone6sPlus-iPhone6sPlus', 'iPadMini4-iPadMini4', 'iPadMini4Cellular-iPadMini4Cellular', 'iPadPro-iPadPro', 'iPadProCellular-iPadProCellular', 'iPadPro97-iPadPro97', 'iPadPro97Cellular-iPadPro97Cellular', 'iPhoneSE-iPhoneSE', 'iPhone7-iPhone7', 'iPhone7Plus-iPhone7Plus', 'iPad611-iPad611', 'iPad612-iPad612', 'iPad71-iPad71', 'iPad72-iPad72', 'iPad73-iPad73', 'iPad74-iPad74', 'iPhone8-iPhone8', 'iPhone8Plus-iPhone8Plus', 'iPhoneX-iPhoneX', 'iPad75-iPad75', 'iPad76-iPad76', 'iPhoneXS-iPhoneXS', 'iPhoneXSMax-iPhoneXSMax', 'iPhoneXR-iPhoneXR', 'iPad812-iPad812', 'iPad834-iPad834', 'iPad856-iPad856', 'iPad878-iPad878', 'iPadMini5-iPadMini5', 'iPadMini5Cellular-iPadMini5Cellular', 'iPadAir3-iPadAir3', 'iPadAir3Cellular-iPadAir3Cellular', 'iPodTouchSeventhGen-iPodTouchSeventhGen', 'iPhone11-iPhone11', 'iPhone11Pro-iPhone11Pro', 'iPadSeventhGen-iPadSeventhGen', 'iPadSeventhGenCellular-iPadSeventhGenCellular', 'iPhone11ProMax-iPhone11ProMax', 'iPhoneSESecondGen-iPhoneSESecondGen', 'iPadProSecondGen-iPadProSecondGen', 'iPadProSecondGenCellular-iPadProSecondGenCellular', 'iPadProFourthGen-iPadProFourthGen', 'iPadProFourthGenCellular-iPadProFourthGenCellular', 'iPhone12Mini-iPhone12Mini', 'iPhone12-iPhone12', 'iPhone12Pro-iPhone12Pro', 'iPhone12ProMax-iPhone12ProMax', 'iPadAir4-iPadAir4', 'iPadAir4Cellular-iPadAir4Cellular', 'iPadEighthGen-iPadEighthGen', 'iPadEighthGenCellular-iPadEighthGenCellular', 'iPadProThirdGen-iPadProThirdGen', 'iPadProThirdGenCellular-iPadProThirdGenCellular', 'iPadProFifthGen-iPadProFifthGen', 'iPadProFifthGenCellular-iPadProFifthGenCellular', 'iPhone13Pro-iPhone13Pro', 'iPhone13ProMax-iPhone13ProMax', 'iPhone13Mini-iPhone13Mini', 'iPhone13-iPhone13', 'iPadMiniSixthGen-iPadMiniSixthGen', 'iPadMiniSixthGenCellular-iPadMiniSixthGenCellular', 'iPadNinthGen-iPadNinthGen', 'iPadNinthGenCellular-iPadNinthGenCellular', 'iPhoneSEThirdGen-iPhoneSEThirdGen', 'iPadAirFifthGen-iPadAirFifthGen', 'iPadAirFifthGenCellular-iPadAirFifthGenCellular', 'iPhone14-iPhone14', 'iPhone14Plus-iPhone14Plus', 'iPhone14Pro-iPhone14Pro', 'iPhone14ProMax-iPhone14ProMax', 'iPadTenthGen-iPadTenthGen', 'iPadTenthGenCellular-iPadTenthGenCellular', 'iPadPro11FourthGen-iPadPro11FourthGen', 'iPadPro11FourthGenCellular-iPadPro11FourthGenCellular', 'iPadProSixthGen-iPadProSixthGen', 'iPadProSixthGenCellular-iPadProSixthGenCellular']}\n",
      "{'id': 1024928081, 'appId': 'net.lrstudios.WordSearch', 'title': 'Word Search: Unlimited Puzzles', 'url': 'https://apps.apple.com/us/app/word-search-unlimited-puzzles/id1024928081?uo=4', 'description': 'One of the best Word Search games on the App Store:\\n\\n- Unlimited puzzles \\n- Many languages supported (English, French, German, Italian, Spanish, Portugese, Polish)\\n- Simple and clear design\\n- The grid adjusts automatically to your device', 'icon': 'https://is3-ssl.mzstatic.com/image/thumb/Purple126/v4/7d/b6/03/7db6035e-7805-6b8d-f056-f0f5f8abff70/AppIcon-1x_U007emarketing-0-7-0-85-220.png/512x512bb.jpg', 'genres': ['Games', 'Word', 'Entertainment', 'Puzzle'], 'genreIds': ['6014', '7019', '6016', '7012'], 'primaryGenre': 'Games', 'primaryGenreId': 6014, 'contentRating': '4+', 'languages': ['EN'], 'size': '53184512', 'requiredOsVersion': '13.0', 'released': '2015-08-13T22:10:46Z', 'updated': '2023-04-16T19:26:28Z', 'releaseNotes': 'Multiple bugfixes', 'version': '1.61', 'price': 0, 'currency': 'USD', 'free': True, 'developerId': 892041879, 'developer': 'Emmanuel Mathis', 'developerUrl': 'https://apps.apple.com/us/developer/emmanuel-mathis/id892041879?uo=4', 'developerWebsite': 'https://lr-studios.net', 'score': 4.65784, 'reviews': 13754, 'currentVersionScore': 4.65784, 'currentVersionReviews': 13754, 'screenshots': ['https://is3-ssl.mzstatic.com/image/thumb/Purple116/v4/d7/25/9a/d7259ace-f702-b75c-0885-25e6253126ea/mzl.mkfyajfa.png/392x696bb.png', 'https://is4-ssl.mzstatic.com/image/thumb/Purple116/v4/62/e5/78/62e5783d-0455-54c6-a2ce-4e4d4120eafe/mzl.zcezfwpp.png/392x696bb.png', 'https://is3-ssl.mzstatic.com/image/thumb/Purple126/v4/f8/28/2e/f8282e15-24e2-aa08-91d5-6be5babc78c2/mzl.qfmrtplo.png/392x696bb.png', 'https://is4-ssl.mzstatic.com/image/thumb/Purple116/v4/b0/88/3c/b0883c45-fe28-2371-bd08-d0e73eb453b5/mzl.iepuxhtd.png/392x696bb.png', 'https://is5-ssl.mzstatic.com/image/thumb/Purple126/v4/f0/12/72/f012726d-6e0d-76c8-73de-599a7f9c0637/mzl.vtqdnxns.png/392x696bb.png'], 'ipadScreenshots': ['https://is1-ssl.mzstatic.com/image/thumb/Purple116/v4/52/15/56/521556fc-a6c9-ba78-21ab-9a8e0b97aaf6/pr_source.png/576x768bb.png', 'https://is2-ssl.mzstatic.com/image/thumb/Purple116/v4/e6/f0/95/e6f095ce-6410-a316-37b9-325c693073d7/pr_source.png/576x768bb.png', 'https://is4-ssl.mzstatic.com/image/thumb/Purple126/v4/94/35/e0/9435e0cb-6957-9bc5-a7d7-eb31570e5784/pr_source.png/576x768bb.png'], 'appletvScreenshots': [], 'supportedDevices': ['iPhone5s-iPhone5s', 'iPadAir-iPadAir', 'iPadAirCellular-iPadAirCellular', 'iPadMiniRetina-iPadMiniRetina', 'iPadMiniRetinaCellular-iPadMiniRetinaCellular', 'iPhone6-iPhone6', 'iPhone6Plus-iPhone6Plus', 'iPadAir2-iPadAir2', 'iPadAir2Cellular-iPadAir2Cellular', 'iPadMini3-iPadMini3', 'iPadMini3Cellular-iPadMini3Cellular', 'iPodTouchSixthGen-iPodTouchSixthGen', 'iPhone6s-iPhone6s', 'iPhone6sPlus-iPhone6sPlus', 'iPadMini4-iPadMini4', 'iPadMini4Cellular-iPadMini4Cellular', 'iPadPro-iPadPro', 'iPadProCellular-iPadProCellular', 'iPadPro97-iPadPro97', 'iPadPro97Cellular-iPadPro97Cellular', 'iPhoneSE-iPhoneSE', 'iPhone7-iPhone7', 'iPhone7Plus-iPhone7Plus', 'iPad611-iPad611', 'iPad612-iPad612', 'iPad71-iPad71', 'iPad72-iPad72', 'iPad73-iPad73', 'iPad74-iPad74', 'iPhone8-iPhone8', 'iPhone8Plus-iPhone8Plus', 'iPhoneX-iPhoneX', 'iPad75-iPad75', 'iPad76-iPad76', 'iPhoneXS-iPhoneXS', 'iPhoneXSMax-iPhoneXSMax', 'iPhoneXR-iPhoneXR', 'iPad812-iPad812', 'iPad834-iPad834', 'iPad856-iPad856', 'iPad878-iPad878', 'iPadMini5-iPadMini5', 'iPadMini5Cellular-iPadMini5Cellular', 'iPadAir3-iPadAir3', 'iPadAir3Cellular-iPadAir3Cellular', 'iPodTouchSeventhGen-iPodTouchSeventhGen', 'iPhone11-iPhone11', 'iPhone11Pro-iPhone11Pro', 'iPadSeventhGen-iPadSeventhGen', 'iPadSeventhGenCellular-iPadSeventhGenCellular', 'iPhone11ProMax-iPhone11ProMax', 'iPhoneSESecondGen-iPhoneSESecondGen', 'iPadProSecondGen-iPadProSecondGen', 'iPadProSecondGenCellular-iPadProSecondGenCellular', 'iPadProFourthGen-iPadProFourthGen', 'iPadProFourthGenCellular-iPadProFourthGenCellular', 'iPhone12Mini-iPhone12Mini', 'iPhone12-iPhone12', 'iPhone12Pro-iPhone12Pro', 'iPhone12ProMax-iPhone12ProMax', 'iPadAir4-iPadAir4', 'iPadAir4Cellular-iPadAir4Cellular', 'iPadEighthGen-iPadEighthGen', 'iPadEighthGenCellular-iPadEighthGenCellular', 'iPadProThirdGen-iPadProThirdGen', 'iPadProThirdGenCellular-iPadProThirdGenCellular', 'iPadProFifthGen-iPadProFifthGen', 'iPadProFifthGenCellular-iPadProFifthGenCellular', 'iPhone13Pro-iPhone13Pro', 'iPhone13ProMax-iPhone13ProMax', 'iPhone13Mini-iPhone13Mini', 'iPhone13-iPhone13', 'iPadMiniSixthGen-iPadMiniSixthGen', 'iPadMiniSixthGenCellular-iPadMiniSixthGenCellular', 'iPadNinthGen-iPadNinthGen', 'iPadNinthGenCellular-iPadNinthGenCellular', 'iPhoneSEThirdGen-iPhoneSEThirdGen', 'iPadAirFifthGen-iPadAirFifthGen', 'iPadAirFifthGenCellular-iPadAirFifthGenCellular', 'iPhone14-iPhone14', 'iPhone14Plus-iPhone14Plus', 'iPhone14Pro-iPhone14Pro', 'iPhone14ProMax-iPhone14ProMax', 'iPadTenthGen-iPadTenthGen', 'iPadTenthGenCellular-iPadTenthGenCellular', 'iPadPro11FourthGen-iPadPro11FourthGen', 'iPadPro11FourthGenCellular-iPadPro11FourthGenCellular', 'iPadProSixthGen-iPadProSixthGen', 'iPadProSixthGenCellular-iPadProSixthGenCellular']}\n"
     ]
    },
    {
     "name": "stdout",
     "output_type": "stream",
     "text": [
      "{'id': 1463509237, 'appId': 'com.mattel163.phase10', 'title': 'Phase 10: World Tour', 'url': 'https://apps.apple.com/us/app/phase-10-world-tour/id1463509237?uo=4', 'description': \"Start playing Phase 10 today – The funny and classic card mobile game is proved by millions of players around the world.\\n\\nPhase 10 is the newest rummy inspired game from the creators of the UNO! And Phase 10 is based on a variant of Rummy that has brought friends and families together for over 40 years. Now with online multiplayer for Solitaire, Rummy, Skip Cards, Uno, and any card or card party games lovers!\\n\\nNow, Phase 10 takes you around the world! Take 10 minutes for yourself and enjoy a quick round of Phase 10 anytime!\\n\\n\\nRUMMY WITH A TWIST\\n\\n\\nHOW TO PLAY PHASE 10?\\nRace to complete each “Phase” and stay ahead. Every Phase has its own sets of cards to match their colors and numbers. When you have your sets, throw them down for everyone to see. The Phase is finished!\\n\\nHIT IT\\nThe round ends when one player frees their hand of all their cards. Players who can’t finish the Phase can start over and try again. Everyone else tackles the next challenge.\\n\\nSMARTER EVERY DAY\\nTrain your brain daily with new puzzles on every level. Watch carefully for patterns and outwit the game. Explore the games further and tackle all challenges to become a Phase 19 master!\\n\\n\\nBLAZE A TRAIL\\nTake your dream vacation across the world in Journey mode! Play offline and relax in zen-like solitaire challenges. Use Power-Ups to get an edge and win rewards! Phase 10 is a blast!\\n\\nAROUND THE WORLD\\nAll you need is a few rounds of Phase 10 which brings you from a comfortable Pacific paradise to a chilling Klondike mountain area!\\nCompete with others online to win coins and be part of the international community.\\n\\nPICK YOUR PLAY STYLE\\nKeep the excitement fresh by playing a new and cool theme event every month!\\nRoll the dice, collect new materials, send gifts to friends, and more! There's always a new way to play. Phase 10 has fun in spades!\\n\\nDon't miss this addictive rummy card game! DOWNLOAD NOW to invite friends and family to have a fun party card game!\\n\\nDownload now and start an exciting card adventure for endless fun!\", 'icon': 'https://is2-ssl.mzstatic.com/image/thumb/Purple116/v4/da/c0/f0/dac0f053-afa6-2b25-d0be-326bbd786ad2/AppIcon-1x_U007emarketing-0-4-85-220.png/512x512bb.jpg', 'genres': ['Games', 'Entertainment', 'Card', 'Casual'], 'genreIds': ['6014', '6016', '7005', '7003'], 'primaryGenre': 'Games', 'primaryGenreId': 6014, 'contentRating': '4+', 'languages': ['EN', 'FR', 'DE', 'IT', 'JA', 'PT', 'RU', 'ZH', 'ES', 'ZH'], 'size': '283870208', 'requiredOsVersion': '9.0', 'released': '2019-10-12T07:00:00Z', 'updated': '2023-03-27T09:42:16Z', 'releaseNotes': 'A brand new update is out!\\n\\n- Explore the new Journey map!', 'version': '1.0.46', 'price': 0, 'currency': 'USD', 'free': True, 'developerId': 1344700141, 'developer': 'Mattel163 Limited', 'developerUrl': 'https://apps.apple.com/us/developer/mattel163-limited/id1344700141?uo=4', 'developerWebsite': 'https://www.mattel163.com/', 'score': 4.83376, 'reviews': 398133, 'currentVersionScore': 4.83376, 'currentVersionReviews': 398133, 'screenshots': ['https://is2-ssl.mzstatic.com/image/thumb/PurpleSource116/v4/a0/5e/fa/a05efafe-ce25-c61d-65e2-7335ce5b3f74/3a3e81cb-d5cb-4644-bd5f-7beb89392720_Phase10_1242x2208_02.jpg/392x696bb.jpg', 'https://is3-ssl.mzstatic.com/image/thumb/PurpleSource126/v4/99/32/11/99321124-91e4-28cc-43b8-900d96594b34/d8920966-ed03-4dcf-99e1-ab8eb5d80c9f_Phase10_1242x2208_03.jpg/392x696bb.jpg', 'https://is2-ssl.mzstatic.com/image/thumb/PurpleSource126/v4/ed/f8/90/edf8909e-15e6-b48c-8f35-4ad2d55478ec/7b207491-909b-47a1-9e4e-cf9d816bfa91_Phase10_1242x2208_04.jpg/392x696bb.jpg', 'https://is3-ssl.mzstatic.com/image/thumb/PurpleSource126/v4/67/ff/6f/67ff6f72-d914-c7b3-1ff2-317ef7e3362e/bcc8bb9e-74c2-4f08-8514-7e2013a4b526_Phase10_1242x2208_05.jpg/392x696bb.jpg', 'https://is2-ssl.mzstatic.com/image/thumb/PurpleSource116/v4/86/11/0e/86110e4c-a7af-b298-1735-8d3d17123c49/188d090f-3d79-44e3-9eff-78c0638b4846_Phase10_1242x2208_06.jpg/392x696bb.jpg', 'https://is1-ssl.mzstatic.com/image/thumb/PurpleSource116/v4/c8/53/6a/c8536a51-c6fc-8e3c-3614-03d5fc1272d9/7dfee66a-a7d7-44ee-81da-708e30e67801_Phase10_1242x2208_07.jpg/392x696bb.jpg', 'https://is2-ssl.mzstatic.com/image/thumb/PurpleSource126/v4/50/cc/94/50cc948a-00ca-acf3-ac12-48979f72de61/fbb9d7ea-2c20-4f4d-915f-486671b6cc02_Phase10_1242x2208_01.jpg/392x696bb.jpg'], 'ipadScreenshots': ['https://is2-ssl.mzstatic.com/image/thumb/PurpleSource126/v4/6b/75/dd/6b75dd49-be58-5e89-8c01-7023c888ed5e/d9e781d2-f471-4c29-bc13-c899dcb4074d_Phase10_2048x2732_02.jpg/576x768bb.jpg', 'https://is5-ssl.mzstatic.com/image/thumb/PurpleSource126/v4/65/1a/6f/651a6ff4-fe58-b2d4-52dd-714e6c8d65ad/2e607421-63c0-42d3-a3ab-14f2975c996d_Phase10_2048x2732_03.jpg/576x768bb.jpg', 'https://is4-ssl.mzstatic.com/image/thumb/PurpleSource126/v4/c9/f7/3a/c9f73af2-b297-83f8-000f-b5fc993cb502/eb26722f-2d74-4ff7-b950-feda780a14f0_Phase10_2048x2732_04.jpg/576x768bb.jpg', 'https://is1-ssl.mzstatic.com/image/thumb/PurpleSource116/v4/84/de/d4/84ded414-2a3e-49eb-815f-0072b5c06a1a/c41d828e-c5ac-4401-aea6-b894d5121964_Phase10_2048x2732_05.jpg/576x768bb.jpg', 'https://is2-ssl.mzstatic.com/image/thumb/PurpleSource116/v4/78/ee/d6/78eed67d-c8d9-7631-cce0-263e74d0318b/0daa04ff-759c-4cb4-9429-ff223b13dc15_Phase10_2048x2732_06.jpg/576x768bb.jpg', 'https://is5-ssl.mzstatic.com/image/thumb/PurpleSource116/v4/07/91/07/07910723-33f4-de24-402a-7988ccede4f2/04a78f2a-331a-4f08-973b-8ec1ff1730df_Phase10_2048x2732_07.jpg/576x768bb.jpg', 'https://is5-ssl.mzstatic.com/image/thumb/PurpleSource126/v4/e4/ef/1b/e4ef1b19-d41e-95be-eca4-fe5190cd901c/6daf42cc-9b4f-46e6-b778-6d5da621947d_Phase10_2048x2732_01.jpg/576x768bb.jpg'], 'appletvScreenshots': [], 'supportedDevices': ['iPhone5s-iPhone5s', 'iPadAir-iPadAir', 'iPadAirCellular-iPadAirCellular', 'iPadMiniRetina-iPadMiniRetina', 'iPadMiniRetinaCellular-iPadMiniRetinaCellular', 'iPhone6-iPhone6', 'iPhone6Plus-iPhone6Plus', 'iPadAir2-iPadAir2', 'iPadAir2Cellular-iPadAir2Cellular', 'iPadMini3-iPadMini3', 'iPadMini3Cellular-iPadMini3Cellular', 'iPodTouchSixthGen-iPodTouchSixthGen', 'iPhone6s-iPhone6s', 'iPhone6sPlus-iPhone6sPlus', 'iPadMini4-iPadMini4', 'iPadMini4Cellular-iPadMini4Cellular', 'iPadPro-iPadPro', 'iPadProCellular-iPadProCellular', 'iPadPro97-iPadPro97', 'iPadPro97Cellular-iPadPro97Cellular', 'iPhoneSE-iPhoneSE', 'iPhone7-iPhone7', 'iPhone7Plus-iPhone7Plus', 'iPad611-iPad611', 'iPad612-iPad612', 'iPad71-iPad71', 'iPad72-iPad72', 'iPad73-iPad73', 'iPad74-iPad74', 'iPhone8-iPhone8', 'iPhone8Plus-iPhone8Plus', 'iPhoneX-iPhoneX', 'iPad75-iPad75', 'iPad76-iPad76', 'iPhoneXS-iPhoneXS', 'iPhoneXSMax-iPhoneXSMax', 'iPhoneXR-iPhoneXR', 'iPad812-iPad812', 'iPad834-iPad834', 'iPad856-iPad856', 'iPad878-iPad878', 'iPadMini5-iPadMini5', 'iPadMini5Cellular-iPadMini5Cellular', 'iPadAir3-iPadAir3', 'iPadAir3Cellular-iPadAir3Cellular', 'iPodTouchSeventhGen-iPodTouchSeventhGen', 'iPhone11-iPhone11', 'iPhone11Pro-iPhone11Pro', 'iPadSeventhGen-iPadSeventhGen', 'iPadSeventhGenCellular-iPadSeventhGenCellular', 'iPhone11ProMax-iPhone11ProMax', 'iPhoneSESecondGen-iPhoneSESecondGen', 'iPadProSecondGen-iPadProSecondGen', 'iPadProSecondGenCellular-iPadProSecondGenCellular', 'iPadProFourthGen-iPadProFourthGen', 'iPadProFourthGenCellular-iPadProFourthGenCellular', 'iPhone12Mini-iPhone12Mini', 'iPhone12-iPhone12', 'iPhone12Pro-iPhone12Pro', 'iPhone12ProMax-iPhone12ProMax', 'iPadAir4-iPadAir4', 'iPadAir4Cellular-iPadAir4Cellular', 'iPadEighthGen-iPadEighthGen', 'iPadEighthGenCellular-iPadEighthGenCellular', 'iPadProThirdGen-iPadProThirdGen', 'iPadProThirdGenCellular-iPadProThirdGenCellular', 'iPadProFifthGen-iPadProFifthGen', 'iPadProFifthGenCellular-iPadProFifthGenCellular', 'iPhone13Pro-iPhone13Pro', 'iPhone13ProMax-iPhone13ProMax', 'iPhone13Mini-iPhone13Mini', 'iPhone13-iPhone13', 'iPadMiniSixthGen-iPadMiniSixthGen', 'iPadMiniSixthGenCellular-iPadMiniSixthGenCellular', 'iPadNinthGen-iPadNinthGen', 'iPadNinthGenCellular-iPadNinthGenCellular', 'iPhoneSEThirdGen-iPhoneSEThirdGen', 'iPadAirFifthGen-iPadAirFifthGen', 'iPadAirFifthGenCellular-iPadAirFifthGenCellular', 'iPhone14-iPhone14', 'iPhone14Plus-iPhone14Plus', 'iPhone14Pro-iPhone14Pro', 'iPhone14ProMax-iPhone14ProMax', 'iPadTenthGen-iPadTenthGen', 'iPadTenthGenCellular-iPadTenthGenCellular', 'iPadPro11FourthGen-iPadPro11FourthGen', 'iPadPro11FourthGenCellular-iPadPro11FourthGenCellular', 'iPadProSixthGen-iPadProSixthGen', 'iPadProSixthGenCellular-iPadProSixthGenCellular']}\n"
     ]
    },
    {
     "name": "stdout",
     "output_type": "stream",
     "text": [
      "{'id': 1237172656, 'appId': 'se.maginteractive.worddomination', 'title': 'Word Domination', 'url': 'https://apps.apple.com/us/app/word-domination/id1237172656?uo=4', 'description': 'Play Word Domination - an exciting twist on a classic word game!\\n\\nWord Domination is a fast paced, addictive real-time word game. No more waiting for your opponent to make a move! \\n\\nLive matches allow you to see the tiles being played while you plan your next move. Word Domination also delivers a twist, adding an extra layer of strategy with over 45 collectable boosters to give you an edge over your opponent. \\n\\nIn addition to the fast-paced live game mode, we’ve made it even easier to play with friends! \\n\\nYou’ll no longer have to wait for friends to be online to start a match with Friendly games. Begin simultaneous games with multiple friends and respond in your own time. With up to 72hrs between moves, you’ll still play live-matches and master tournaments while you wait. \\n\\nAs if that’s not enough, Word Domination keeps delivering even more! \\n\\nSharpen your skills, and earn rewards with our regular themed solo modes. Challenge our mascot Tiler and his army of bots in one-on-one matches that are sure to challenge and even surprise you.\\n\\nWord Domination … it’s not your average word game! \\n\\nFEATURES:\\n\\n* EXCITING MATCHES:  A casual crossword game with a twist! It’s easy to play, but delivers a challenge.\\n\\n* BOOSTED GAMEPLAY : Collect over 45 boosters with special features that give you an edge.\\n\\n* THE BEST OF THE BEST: Real-Time games with players from around the world, Casual classic games with friends, and the always challenging Solo-Modes against bots! \\n\\n* SEASONAL TOURNAMENTS & EVENTS : Challenge yourself with something new every time you open the game!\\n\\n\\n\\nVIP SUBSCRIPTION\\n\\nLove Word Domination? \\n\\nWe now offer a VIP subscription package! Become a VIP and play even more with double the energy bar and half the recharge time. Achieve laser focus by avoiding advertising distractions with Ad Blocker. Add flair to the game with the exclusive golden deluxe tile rack. \\n\\nTry out VIP today with our FREE 3-day trial!\\n\\nAfter the trial ends, the subscription will auto renew at $4.99 a month. Payment will be charged to your iTunes Account at confirmation of purchase. Subscription automatically renews unless auto-renew is turned off at least 24-hours before the end of the current period. Account will be charged for renewal within 24-hours prior to the end of the current period, and identify the cost of the renewal. Subscriptions may be managed by the user and auto-renewal may be turned off by going to the user’s Account Settings after purchase. Any unused portion of a free trial period, if offered, will be forfeited when the user purchases a subscription to that publication, where applicable.\\n\\nIf you don’t choose to purchase a subscription, you can simply continue playing Word Domination for free.\\n\\nFor more information, please see our Terms of Service and Privacy Policy at http://www.maginteractive.com/MAG_Privacy.html.\\n\\n\\nLIKE Word Domination on Facebook  https://www.facebook.com/WordDominationGame\\nJOIN our Official Players Community http://bit.ly/WordDomGroup \\nFOLLOW Word Domination on Twitter https://twitter.com/WordDomGame', 'icon': 'https://is3-ssl.mzstatic.com/image/thumb/Purple116/v4/99/17/1f/99171fd0-108e-4381-b9c7-181d0b5f3c7c/AppIcon-0-0-1x_U007emarketing-0-0-0-7-0-0-sRGB-0-0-0-GLES2_U002c0-512MB-85-220-0-0.png/512x512bb.jpg', 'genres': ['Games', 'Word', 'Board'], 'genreIds': ['6014', '7019', '7004'], 'primaryGenre': 'Games', 'primaryGenreId': 6014, 'contentRating': '4+', 'languages': ['DA', 'NL', 'EN', 'FR', 'DE', 'IT', 'NB', 'ES', 'SV'], 'size': '248794112', 'requiredOsVersion': '11.0', 'released': '2018-05-31T07:04:07Z', 'updated': '2023-06-14T10:44:36Z', 'releaseNotes': '- Bug fixes and improvements\\n\\nThanks for playing and for your continued feedback.', 'version': '1.36.4', 'price': 0, 'currency': 'USD', 'free': True, 'developerId': 307343213, 'developer': 'MAG Interactive', 'developerUrl': 'https://apps.apple.com/us/developer/mag-interactive/id307343213?uo=4', 'developerWebsite': 'http://maginteractive.com', 'score': 4.72795, 'reviews': 42047, 'currentVersionScore': 4.72795, 'currentVersionReviews': 42047, 'screenshots': ['https://is1-ssl.mzstatic.com/image/thumb/Purple123/v4/35/f3/8d/35f38d12-39d5-077d-53cd-eba76d717af9/pr_source.jpg/392x696bb.jpg', 'https://is4-ssl.mzstatic.com/image/thumb/Purple123/v4/ae/69/13/ae6913ec-d1b8-f23c-08cb-d5beea322aa7/pr_source.jpg/392x696bb.jpg', 'https://is2-ssl.mzstatic.com/image/thumb/Purple123/v4/cc/88/ad/cc88ad5f-ff81-10de-eea9-c3458f9a0a7a/pr_source.jpg/392x696bb.jpg', 'https://is5-ssl.mzstatic.com/image/thumb/Purple123/v4/86/14/16/86141698-49a6-f1a8-e3af-0bbc4ee92f1d/pr_source.jpg/392x696bb.jpg', 'https://is1-ssl.mzstatic.com/image/thumb/Purple113/v4/b9/59/74/b9597499-430a-b7f2-81bf-faa935190eed/pr_source.jpg/392x696bb.jpg'], 'ipadScreenshots': ['https://is1-ssl.mzstatic.com/image/thumb/Purple113/v4/34/69/74/346974f4-d03a-5ee4-a259-fbc320565003/pr_source.jpg/576x768bb.jpg', 'https://is4-ssl.mzstatic.com/image/thumb/Purple123/v4/19/d6/75/19d67528-6f16-f5b5-1baa-114abdb6882c/pr_source.jpg/576x768bb.jpg', 'https://is4-ssl.mzstatic.com/image/thumb/Purple123/v4/aa/e0/59/aae05933-1608-b388-2687-b445b86e767f/pr_source.jpg/576x768bb.jpg', 'https://is5-ssl.mzstatic.com/image/thumb/Purple113/v4/0a/48/88/0a488866-21a6-3fc4-66b2-35e50083a23f/pr_source.jpg/576x768bb.jpg', 'https://is2-ssl.mzstatic.com/image/thumb/Purple113/v4/d6/4e/a4/d64ea4bc-6958-a7f2-a987-6d54e14d24c6/pr_source.jpg/576x768bb.jpg'], 'appletvScreenshots': [], 'supportedDevices': ['iPhone5s-iPhone5s', 'iPadAir-iPadAir', 'iPadAirCellular-iPadAirCellular', 'iPadMiniRetina-iPadMiniRetina', 'iPadMiniRetinaCellular-iPadMiniRetinaCellular', 'iPhone6-iPhone6', 'iPhone6Plus-iPhone6Plus', 'iPadAir2-iPadAir2', 'iPadAir2Cellular-iPadAir2Cellular', 'iPadMini3-iPadMini3', 'iPadMini3Cellular-iPadMini3Cellular', 'iPodTouchSixthGen-iPodTouchSixthGen', 'iPhone6s-iPhone6s', 'iPhone6sPlus-iPhone6sPlus', 'iPadMini4-iPadMini4', 'iPadMini4Cellular-iPadMini4Cellular', 'iPadPro-iPadPro', 'iPadProCellular-iPadProCellular', 'iPadPro97-iPadPro97', 'iPadPro97Cellular-iPadPro97Cellular', 'iPhoneSE-iPhoneSE', 'iPhone7-iPhone7', 'iPhone7Plus-iPhone7Plus', 'iPad611-iPad611', 'iPad612-iPad612', 'iPad71-iPad71', 'iPad72-iPad72', 'iPad73-iPad73', 'iPad74-iPad74', 'iPhone8-iPhone8', 'iPhone8Plus-iPhone8Plus', 'iPhoneX-iPhoneX', 'iPad75-iPad75', 'iPad76-iPad76', 'iPhoneXS-iPhoneXS', 'iPhoneXSMax-iPhoneXSMax', 'iPhoneXR-iPhoneXR', 'iPad812-iPad812', 'iPad834-iPad834', 'iPad856-iPad856', 'iPad878-iPad878', 'iPadMini5-iPadMini5', 'iPadMini5Cellular-iPadMini5Cellular', 'iPadAir3-iPadAir3', 'iPadAir3Cellular-iPadAir3Cellular', 'iPodTouchSeventhGen-iPodTouchSeventhGen', 'iPhone11-iPhone11', 'iPhone11Pro-iPhone11Pro', 'iPadSeventhGen-iPadSeventhGen', 'iPadSeventhGenCellular-iPadSeventhGenCellular', 'iPhone11ProMax-iPhone11ProMax', 'iPhoneSESecondGen-iPhoneSESecondGen', 'iPadProSecondGen-iPadProSecondGen', 'iPadProSecondGenCellular-iPadProSecondGenCellular', 'iPadProFourthGen-iPadProFourthGen', 'iPadProFourthGenCellular-iPadProFourthGenCellular', 'iPhone12Mini-iPhone12Mini', 'iPhone12-iPhone12', 'iPhone12Pro-iPhone12Pro', 'iPhone12ProMax-iPhone12ProMax', 'iPadAir4-iPadAir4', 'iPadAir4Cellular-iPadAir4Cellular', 'iPadEighthGen-iPadEighthGen', 'iPadEighthGenCellular-iPadEighthGenCellular', 'iPadProThirdGen-iPadProThirdGen', 'iPadProThirdGenCellular-iPadProThirdGenCellular', 'iPadProFifthGen-iPadProFifthGen', 'iPadProFifthGenCellular-iPadProFifthGenCellular', 'iPhone13Pro-iPhone13Pro', 'iPhone13ProMax-iPhone13ProMax', 'iPhone13Mini-iPhone13Mini', 'iPhone13-iPhone13', 'iPadMiniSixthGen-iPadMiniSixthGen', 'iPadMiniSixthGenCellular-iPadMiniSixthGenCellular', 'iPadNinthGen-iPadNinthGen', 'iPadNinthGenCellular-iPadNinthGenCellular', 'iPhoneSEThirdGen-iPhoneSEThirdGen', 'iPadAirFifthGen-iPadAirFifthGen', 'iPadAirFifthGenCellular-iPadAirFifthGenCellular', 'iPhone14-iPhone14', 'iPhone14Plus-iPhone14Plus', 'iPhone14Pro-iPhone14Pro', 'iPhone14ProMax-iPhone14ProMax', 'iPadTenthGen-iPadTenthGen', 'iPadTenthGenCellular-iPadTenthGenCellular', 'iPadPro11FourthGen-iPadPro11FourthGen', 'iPadPro11FourthGenCellular-iPadPro11FourthGenCellular', 'iPadProSixthGen-iPadProSixthGen', 'iPadProSixthGenCellular-iPadProSixthGenCellular']}\n"
     ]
    },
    {
     "name": "stdout",
     "output_type": "stream",
     "text": [
      "{'id': 1334491822, 'appId': 'com.board.games.domino', 'title': 'Dominos - Classic Board Games', 'url': 'https://apps.apple.com/us/app/dominos-classic-board-games/id1334491822?uo=4', 'description': 'Dominoes by us is the #1 classic domino game you know and love for your iPhone and iPad! Dominos is one of most widely played board games, now it\\'s FREE to download on your phone!\\n\\nDominoes is a family of boardgames played with rectangular \"domino\" tiles. Each domino is a rectangular tile with a line dividing its face into two square ends. Each end is marked with a number of spots (also called pips, nips, or dobs) or is blank. This board game is also called muggins, dominos, domino and the tiles are sometimes referred to as bones.\\n\\nIn our dominoes, you can choose between 3 game modes: All Fives, Block Dominoes or Draw Dominoes. Download dominoes now and enjoy!\\n\\nDominoes Game Features:\\n- Easy to play, full of fun!\\n- Awesome graphics and animations\\n- 4 levels of difficulty\\n- 3 dominos modes: All Fives, Block Dominos and Draw Dominos\\n- Win points setup\\n- Starting hand setup\\n- Custom backgrounds\\n- Custom domino tiles\\n- Set up tables and play with your friends!\\n- Game state saved when interrupted\\n- Statistics\\n- OFFLINE! Play Dominoes anytime and anywhere!\\n\\nGather your tiles and doubles and win enough points to ensure your victory. Download it now for free!\\n\\nSubscription Options:\\n•  You can available for subscription for $2.99 per month and remove ads.\\n•  Your subscription will renew automatically each month and payment will be charged to your iTunes Account within 24-hours prior to the end of the current period. \\n•  You can turn off auto-renewal by going to your Account Settings after purchase. \\n•  No cancellation of your subscription is allowed during the active subscription period. \\n\\nPrivacy Policy:\\nhttp://www.caelumart.com/privacy-policy.html\\n\\nTerms of Service:\\nhttp://www.caelumart.com/Terms-of-Service.html', 'icon': 'https://is4-ssl.mzstatic.com/image/thumb/Purple114/v4/08/46/14/08461472-4879-0c58-0fc5-1b01a54aa9b6/AppIcon-1x_U007emarketing-0-7-0-85-220.png/512x512bb.jpg', 'genres': ['Games', 'Social Networking', 'Puzzle', 'Card'], 'genreIds': ['6014', '6005', '7012', '7005'], 'primaryGenre': 'Games', 'primaryGenreId': 6014, 'contentRating': '4+', 'languages': ['EN'], 'size': '136031232', 'requiredOsVersion': '9.0', 'released': '2018-03-07T18:13:48Z', 'updated': '2021-03-22T19:18:46Z', 'releaseNotes': \"- iOS 14 ATT Support.\\n- Bug fixes and performance improvements.\\n\\nIt's time for a break. Time for Dominoes!\", 'version': '1.0.3', 'price': 0, 'currency': 'USD', 'free': True, 'developerId': 1264416696, 'developer': 'Caelum Inc, Slots Bingo Casino Card Game Collections', 'developerUrl': 'https://apps.apple.com/us/developer/caelum-inc-slots-bingo-casino-card-game-collections/id1264416696?uo=4', 'developerWebsite': 'http://www.caelumart.com', 'score': 4.44681, 'reviews': 1128, 'currentVersionScore': 4.44681, 'currentVersionReviews': 1128, 'screenshots': ['https://is3-ssl.mzstatic.com/image/thumb/Purple124/v4/d7/99/70/d79970a3-b946-91c4-48a2-80c8378a94c5/pr_source.png/406x228bb.png', 'https://is1-ssl.mzstatic.com/image/thumb/Purple124/v4/6d/09/78/6d0978f8-20cc-2518-9fd0-e73f1e30a94d/pr_source.png/406x228bb.png', 'https://is4-ssl.mzstatic.com/image/thumb/Purple124/v4/34/01/69/3401699a-f1ea-4511-a5ab-db9abc54fd16/pr_source.png/406x228bb.png', 'https://is1-ssl.mzstatic.com/image/thumb/Purple114/v4/6d/ab/36/6dab3634-eddf-ec6e-e302-66c536f743fc/pr_source.png/406x228bb.png'], 'ipadScreenshots': ['https://is2-ssl.mzstatic.com/image/thumb/Purple114/v4/5b/9a/07/5b9a07f9-71ce-a520-ee4c-9f87cb76d0cd/pr_source.jpg/552x414bb.jpg', 'https://is3-ssl.mzstatic.com/image/thumb/Purple114/v4/81/8d/c0/818dc06f-b6b3-b7de-d6dc-02f64d717990/pr_source.jpg/552x414bb.jpg', 'https://is2-ssl.mzstatic.com/image/thumb/Purple114/v4/15/d8/f9/15d8f936-66fb-bd29-daef-efb1b2ea42e4/pr_source.jpg/552x414bb.jpg', 'https://is4-ssl.mzstatic.com/image/thumb/Purple114/v4/ea/53/bb/ea53bbaf-3e4c-0dc0-d6b1-5c2888a75a8a/pr_source.jpg/552x414bb.jpg'], 'appletvScreenshots': [], 'supportedDevices': ['iPad2Wifi-iPad2Wifi', 'iPad23G-iPad23G', 'iPhone4S-iPhone4S', 'iPadThirdGen-iPadThirdGen', 'iPadThirdGen4G-iPadThirdGen4G', 'iPhone5-iPhone5', 'iPodTouchFifthGen-iPodTouchFifthGen', 'iPadFourthGen-iPadFourthGen', 'iPadFourthGen4G-iPadFourthGen4G', 'iPadMini-iPadMini', 'iPadMini4G-iPadMini4G', 'iPhone5c-iPhone5c', 'iPhone5s-iPhone5s', 'iPadAir-iPadAir', 'iPadAirCellular-iPadAirCellular', 'iPadMiniRetina-iPadMiniRetina', 'iPadMiniRetinaCellular-iPadMiniRetinaCellular', 'iPhone6-iPhone6', 'iPhone6Plus-iPhone6Plus', 'iPadAir2-iPadAir2', 'iPadAir2Cellular-iPadAir2Cellular', 'iPadMini3-iPadMini3', 'iPadMini3Cellular-iPadMini3Cellular', 'iPodTouchSixthGen-iPodTouchSixthGen', 'iPhone6s-iPhone6s', 'iPhone6sPlus-iPhone6sPlus', 'iPadMini4-iPadMini4', 'iPadMini4Cellular-iPadMini4Cellular', 'iPadPro-iPadPro', 'iPadProCellular-iPadProCellular', 'iPadPro97-iPadPro97', 'iPadPro97Cellular-iPadPro97Cellular', 'iPhoneSE-iPhoneSE', 'iPhone7-iPhone7', 'iPhone7Plus-iPhone7Plus', 'iPad611-iPad611', 'iPad612-iPad612', 'iPad71-iPad71', 'iPad72-iPad72', 'iPad73-iPad73', 'iPad74-iPad74', 'iPhone8-iPhone8', 'iPhone8Plus-iPhone8Plus', 'iPhoneX-iPhoneX', 'iPad75-iPad75', 'iPad76-iPad76', 'iPhoneXS-iPhoneXS', 'iPhoneXSMax-iPhoneXSMax', 'iPhoneXR-iPhoneXR', 'iPad812-iPad812', 'iPad834-iPad834', 'iPad856-iPad856', 'iPad878-iPad878', 'iPadMini5-iPadMini5', 'iPadMini5Cellular-iPadMini5Cellular', 'iPadAir3-iPadAir3', 'iPadAir3Cellular-iPadAir3Cellular', 'iPodTouchSeventhGen-iPodTouchSeventhGen', 'iPhone11-iPhone11', 'iPhone11Pro-iPhone11Pro', 'iPadSeventhGen-iPadSeventhGen', 'iPadSeventhGenCellular-iPadSeventhGenCellular', 'iPhone11ProMax-iPhone11ProMax', 'iPhoneSESecondGen-iPhoneSESecondGen', 'iPadProSecondGen-iPadProSecondGen', 'iPadProSecondGenCellular-iPadProSecondGenCellular', 'iPadProFourthGen-iPadProFourthGen', 'iPadProFourthGenCellular-iPadProFourthGenCellular', 'iPhone12Mini-iPhone12Mini', 'iPhone12-iPhone12', 'iPhone12Pro-iPhone12Pro', 'iPhone12ProMax-iPhone12ProMax', 'iPadAir4-iPadAir4', 'iPadAir4Cellular-iPadAir4Cellular', 'iPadEighthGen-iPadEighthGen', 'iPadEighthGenCellular-iPadEighthGenCellular', 'iPadProThirdGen-iPadProThirdGen', 'iPadProThirdGenCellular-iPadProThirdGenCellular', 'iPadProFifthGen-iPadProFifthGen', 'iPadProFifthGenCellular-iPadProFifthGenCellular', 'iPhone13Pro-iPhone13Pro', 'iPhone13ProMax-iPhone13ProMax', 'iPhone13Mini-iPhone13Mini', 'iPhone13-iPhone13', 'iPadMiniSixthGen-iPadMiniSixthGen', 'iPadMiniSixthGenCellular-iPadMiniSixthGenCellular', 'iPadNinthGen-iPadNinthGen', 'iPadNinthGenCellular-iPadNinthGenCellular', 'iPhoneSEThirdGen-iPhoneSEThirdGen', 'iPadAirFifthGen-iPadAirFifthGen', 'iPadAirFifthGenCellular-iPadAirFifthGenCellular', 'iPhone14-iPhone14', 'iPhone14Plus-iPhone14Plus', 'iPhone14Pro-iPhone14Pro', 'iPhone14ProMax-iPhone14ProMax', 'iPadTenthGen-iPadTenthGen', 'iPadTenthGenCellular-iPadTenthGenCellular', 'iPadPro11FourthGen-iPadPro11FourthGen', 'iPadPro11FourthGenCellular-iPadPro11FourthGenCellular', 'iPadProSixthGen-iPadProSixthGen', 'iPadProSixthGenCellular-iPadProSixthGenCellular']}\n",
      "{'id': 1482382774, 'appId': 'se.maginteractive.wordzee', 'title': 'Wordzee!', 'url': 'https://apps.apple.com/us/app/wordzee/id1482382774?uo=4', 'description': 'You can train your brain as you make words, play with friends, and compete in different word games and word game modes in new Wordzee.\\n\\nShow off your puzzle solving, spelling, and anagram word skills as you search for the best scoring word combination in this exciting, free, new, word game.\\n\\nWordzee is a new twist in word puzzle, anagram, and crossword games! It is free to play, and there are so many new words to make and ways to play!\\n\\nRoll your word tiles like dice, build words and play them on the board to get the highest score as you connect with friends in thrilling matches. Play classic matches in order to try and win against other players by building the biggest word score and making a Wordzee! Can you fill all of the rows on the board with words of the correct length to get a huge Wordzee point boost to your score?\\n\\nSTART PLAYING\\n\\nYour new word puzzle game playing experience starts here! Start a new game with friends or family members who love word puzzles, dice games, and crossword puzzles. \\n\\nOr you can start a classic match with a new opponent. \\n\\nShuffle the word tiles to find the highest scoring word on the board and play your move. Then it’s time for your opponent to try and find their best word to play. Why not start another game with a friend while they are playing!\\n\\nPLAY WORDZEE AT FULL SPEED\\n\\nChoose an instant game so you can play Wordzee in a quick game mode. Make words from the anagrams and play your tiles to get high scores with no waiting between rounds\\n\\nIMPROVE YOUR SKILLS IN THE WORDZEE SOLO MODE CHALLENGES\\n\\nFlex your word finding muscles in Journeys. Specially themed rounds let you explore and play your way to the top of the word map. Can your anagram and word puzzle skills get your word brain moving enough so you can complete the journey?\\nPlay the High Score challenge and build the highest scoring words in a round to win exciting rewards. Play your best words to take your word puzzle game skills to the next level.\\n\\nCan you make it to the top in the Showdown mode? Supersized tile values let you build huge scores against Kevin the Wordzee mascot. Use your word puzzle skills and play to win!\\n\\nTotaliser lets you build your score the more you play. The game is to carry on playing great words to get high scores, build totals, and win rewards! \\n\\nCUSTOMIZE YOUR TILE STYLE\\n\\nShow off your word game style and skills as you unlock special letter tiles like the cute teddy bear, sushi, or watermelon\\n\\nSpecial seasonal tiles mean your word games always look good\\n\\nLove word puzzles and word games? Love Wordzee? Like us on Facebook or follow us on Twitter to stay up-to-date on MAG word game news, special contests, polls and lots of other fun stuff.\\n\\nwww.facebook.com/wordzeegame\\nwww.twitter.com/wordzeegame\\nwww.instagram.com/wordzeegame\\n\\nWordzee has been lovingly created by MAG Interactive, where we take fun seriously. We’ve made word games, puzzle games and fun social games on mobile for 10 years. Download Wordzee now!\\n\\nGood Times!\\n\\nAdditional Information:\\n\\nThe Wordzee game is free to play. In-app purchases are available for additional content and in-game currency.', 'icon': 'https://is3-ssl.mzstatic.com/image/thumb/Purple126/v4/aa/42/04/aa420405-c35c-5b82-b1c3-346ca4f4fba7/AppIcon-0-0-1x_U007emarketing-0-0-0-7-0-0-sRGB-0-0-0-GLES2_U002c0-512MB-85-220-0-0.png/512x512bb.jpg', 'genres': ['Games', 'Word', 'Board'], 'genreIds': ['6014', '7019', '7004'], 'primaryGenre': 'Games', 'primaryGenreId': 6014, 'contentRating': '4+', 'languages': ['DA', 'NL', 'EN', 'FI', 'FR', 'DE', 'EL', 'IT', 'NB', 'PL', 'PT', 'RU', 'ES', 'SV', 'TR'], 'size': '359681024', 'requiredOsVersion': '11.0', 'released': '2019-11-28T08:00:00Z', 'updated': '2023-06-05T08:52:16Z', 'releaseNotes': \"We've been good and done our chores so our new update is spick-and-span and bug free!\", 'version': '1.192.0', 'price': 0, 'currency': 'USD', 'free': True, 'developerId': 307343213, 'developer': 'MAG Interactive', 'developerUrl': 'https://apps.apple.com/us/developer/mag-interactive/id307343213?uo=4', 'developerWebsite': 'http://maginteractive.com', 'score': 4.74838, 'reviews': 40797, 'currentVersionScore': 4.74838, 'currentVersionReviews': 40797, 'screenshots': ['https://is4-ssl.mzstatic.com/image/thumb/PurpleSource122/v4/1a/bd/b7/1abdb76c-6716-6bc1-ac82-85f6321cde9a/06b11068-c803-4513-8cdf-83900248c11e_eng-Screenshot_phone_1_1242x2208.png/392x696bb.png', 'https://is4-ssl.mzstatic.com/image/thumb/PurpleSource112/v4/db/cb/9f/dbcb9f04-928f-51bc-e213-38440bada1b3/fd221588-eefe-47fe-9d0d-717232c15092_eng-Screenshot_phone_6_1242x2208.png/392x696bb.png', 'https://is3-ssl.mzstatic.com/image/thumb/PurpleSource122/v4/97/74/1a/97741ae5-c646-3dde-9c9f-8435d479e5ea/de6e6e58-133e-42a9-b6c8-8e4049a079d4_eng-Screenshot_phone_5_1242x2208.png/392x696bb.png', 'https://is2-ssl.mzstatic.com/image/thumb/PurpleSource122/v4/47/33/5f/47335fa8-e5c9-baab-1828-afb1d2841c01/c778672a-b45c-4863-b278-c0481a3ffcfd_eng-Screenshot_phone_4_1242x2208.png/392x696bb.png', 'https://is2-ssl.mzstatic.com/image/thumb/PurpleSource122/v4/bf/4b/f3/bf4bf39e-c6c3-97dd-fb10-14ca8bc84bb2/ab02c37a-6f73-49d8-bb97-aecc064dfaea_eng-Screenshot_phone_3_1242x2208.png/392x696bb.png', 'https://is1-ssl.mzstatic.com/image/thumb/PurpleSource122/v4/16/e8/fa/16e8fa19-4a6f-c6a4-ed88-b644b61515a2/fd50d646-a891-464f-ba7c-5c3802193f62_eng-Screenshot_phone_2_1242x2208.png/392x696bb.png'], 'ipadScreenshots': ['https://is2-ssl.mzstatic.com/image/thumb/PurpleSource122/v4/9b/b5/6f/9bb56f80-71a4-6bbe-0631-078918ef7a17/7d20bff2-0032-420d-8bec-1edb3d6c64ff_eng-Screenshot_tablet_1.png/576x768bb.png', 'https://is4-ssl.mzstatic.com/image/thumb/PurpleSource122/v4/ec/38/b8/ec38b869-7704-bda8-4688-256bccdf1f13/81ffbaf8-0448-46b6-abef-edb8780511fa_eng-Screenshot_tablet_6.png/576x768bb.png', 'https://is1-ssl.mzstatic.com/image/thumb/PurpleSource122/v4/6b/04/3e/6b043e04-53d4-72b4-94b7-a9337b76c3f3/44e29e98-2a52-4059-90a9-bc23ff70382d_eng-Screenshot_tablet_5.png/576x768bb.png', 'https://is3-ssl.mzstatic.com/image/thumb/PurpleSource122/v4/86/95/ed/8695edb6-1531-0427-1858-b0649297e62c/967a2dc8-b02a-497b-8de4-7f2040bac437_eng-Screenshot_tablet_4.png/576x768bb.png', 'https://is5-ssl.mzstatic.com/image/thumb/PurpleSource112/v4/de/b0/4a/deb04a1b-899b-42bd-b2d8-e49fef316c13/31cf3e51-3e5d-4e85-ace4-cd4bec8454ac_eng-Screenshot_tablet_3.png/576x768bb.png', 'https://is2-ssl.mzstatic.com/image/thumb/PurpleSource112/v4/bf/4a/03/bf4a035a-6827-50e8-24da-f03dc731a920/ed6f980c-253d-4d59-a011-0a9412aa440a_eng-Screenshot_tablet_2.png/576x768bb.png'], 'appletvScreenshots': [], 'supportedDevices': ['iPhone5s-iPhone5s', 'iPadAir-iPadAir', 'iPadAirCellular-iPadAirCellular', 'iPadMiniRetina-iPadMiniRetina', 'iPadMiniRetinaCellular-iPadMiniRetinaCellular', 'iPhone6-iPhone6', 'iPhone6Plus-iPhone6Plus', 'iPadAir2-iPadAir2', 'iPadAir2Cellular-iPadAir2Cellular', 'iPadMini3-iPadMini3', 'iPadMini3Cellular-iPadMini3Cellular', 'iPodTouchSixthGen-iPodTouchSixthGen', 'iPhone6s-iPhone6s', 'iPhone6sPlus-iPhone6sPlus', 'iPadMini4-iPadMini4', 'iPadMini4Cellular-iPadMini4Cellular', 'iPadPro-iPadPro', 'iPadProCellular-iPadProCellular', 'iPadPro97-iPadPro97', 'iPadPro97Cellular-iPadPro97Cellular', 'iPhoneSE-iPhoneSE', 'iPhone7-iPhone7', 'iPhone7Plus-iPhone7Plus', 'iPad611-iPad611', 'iPad612-iPad612', 'iPad71-iPad71', 'iPad72-iPad72', 'iPad73-iPad73', 'iPad74-iPad74', 'iPhone8-iPhone8', 'iPhone8Plus-iPhone8Plus', 'iPhoneX-iPhoneX', 'iPad75-iPad75', 'iPad76-iPad76', 'iPhoneXS-iPhoneXS', 'iPhoneXSMax-iPhoneXSMax', 'iPhoneXR-iPhoneXR', 'iPad812-iPad812', 'iPad834-iPad834', 'iPad856-iPad856', 'iPad878-iPad878', 'iPadMini5-iPadMini5', 'iPadMini5Cellular-iPadMini5Cellular', 'iPadAir3-iPadAir3', 'iPadAir3Cellular-iPadAir3Cellular', 'iPodTouchSeventhGen-iPodTouchSeventhGen', 'iPhone11-iPhone11', 'iPhone11Pro-iPhone11Pro', 'iPadSeventhGen-iPadSeventhGen', 'iPadSeventhGenCellular-iPadSeventhGenCellular', 'iPhone11ProMax-iPhone11ProMax', 'iPhoneSESecondGen-iPhoneSESecondGen', 'iPadProSecondGen-iPadProSecondGen', 'iPadProSecondGenCellular-iPadProSecondGenCellular', 'iPadProFourthGen-iPadProFourthGen', 'iPadProFourthGenCellular-iPadProFourthGenCellular', 'iPhone12Mini-iPhone12Mini', 'iPhone12-iPhone12', 'iPhone12Pro-iPhone12Pro', 'iPhone12ProMax-iPhone12ProMax', 'iPadAir4-iPadAir4', 'iPadAir4Cellular-iPadAir4Cellular', 'iPadEighthGen-iPadEighthGen', 'iPadEighthGenCellular-iPadEighthGenCellular', 'iPadProThirdGen-iPadProThirdGen', 'iPadProThirdGenCellular-iPadProThirdGenCellular', 'iPadProFifthGen-iPadProFifthGen', 'iPadProFifthGenCellular-iPadProFifthGenCellular', 'iPhone13Pro-iPhone13Pro', 'iPhone13ProMax-iPhone13ProMax', 'iPhone13Mini-iPhone13Mini', 'iPhone13-iPhone13', 'iPadMiniSixthGen-iPadMiniSixthGen', 'iPadMiniSixthGenCellular-iPadMiniSixthGenCellular', 'iPadNinthGen-iPadNinthGen', 'iPadNinthGenCellular-iPadNinthGenCellular', 'iPhoneSEThirdGen-iPhoneSEThirdGen', 'iPadAirFifthGen-iPadAirFifthGen', 'iPadAirFifthGenCellular-iPadAirFifthGenCellular', 'iPhone14-iPhone14', 'iPhone14Plus-iPhone14Plus', 'iPhone14Pro-iPhone14Pro', 'iPhone14ProMax-iPhone14ProMax', 'iPadTenthGen-iPadTenthGen', 'iPadTenthGenCellular-iPadTenthGenCellular', 'iPadPro11FourthGen-iPadPro11FourthGen', 'iPadPro11FourthGenCellular-iPadPro11FourthGenCellular', 'iPadProSixthGen-iPadProSixthGen', 'iPadProSixthGenCellular-iPadProSixthGenCellular']}\n"
     ]
    },
    {
     "name": "stdout",
     "output_type": "stream",
     "text": [
      "{'id': 1545206038, 'appId': 'com.beanstargames.dingbats', 'title': 'Dingbats - Word Games & Trivia', 'url': 'https://apps.apple.com/us/app/dingbats-word-games-trivia/id1545206038?uo=4', 'description': 'Are you a fan of classic word games like boggle, scrabble, or crosswords? Dingbats will fill your need for fun and unique new puzzle challenges! Each level brings you a new and unique ‘Dingbat’ to solve. No matter if you’re a puzzle newbie or a puzzle pro, our Dingbats have something for you. Once you get going, you’ll be hooked!\\n \\nPay close attention to the formation of each of these word-based clues and use your vocabulary and pattern recognition skills to crack the phrase. You will love flexing and improving your brain muscles as you move on to each new level. It is like taking your brain to the gym! There is no other game like it in the world!  \\n\\nGame Features \\n \\n1. Unique Word Puzzles:\\nEach new Dingbat brings a unique word puzzle that will pose a fun challenge to solve like you’ve never seen before\\n\\n2. Play at Your Own Pace:\\nWith unlimited tries, and over 200 unique puzzles, you can take your time with each Dingbat with no pressure at all.\\n\\n3. Relaxing with Dingbats:\\nIs life getting a little crazy? Why not take a load off and relax with these unique word puzzles?\\n\\n4. Flex Your Brain Muscles\\nTest and improve your vocabulary, and your pattern recognition skills with a new type of word game!\\n\\n\\nVisit https://lionstudios.cc/contact-us/ if have any feedback, need help on beating a level or have any awesome ideas you would like to see in the game!\\n\\nFrom the Studio that brought you Mr. Bullet, Happy Glass, Ink Inc and Love Balls!\\n\\nFollow us to get news and updates on our other Award Winning titles;\\nhttps://lionstudios.cc/\\nFacebook.com/LionStudios.cc\\nInstagram.com/LionStudioscc\\nTwitter.com/LionStudiosCC\\nYoutube.com/c/LionStudiosCC', 'icon': 'https://is5-ssl.mzstatic.com/image/thumb/Purple122/v4/b8/e6/2d/b8e62d44-645c-b039-4e1e-12d7ace33690/AppIcon-0-0-1x_U007emarketing-0-0-0-7-0-0-sRGB-0-0-0-GLES2_U002c0-512MB-85-220-0-0.png/512x512bb.jpg', 'genres': ['Games', 'Word', 'Puzzle'], 'genreIds': ['6014', '7019', '7012'], 'primaryGenre': 'Games', 'primaryGenreId': 6014, 'contentRating': '12+', 'languages': ['EN', 'FR', 'DE', 'JA', 'KO', 'ZH', 'ES', 'ZH'], 'size': '208137216', 'requiredOsVersion': '11.0', 'released': '2020-12-20T08:00:00Z', 'updated': '2022-11-29T17:41:55Z', 'releaseNotes': 'Minor bug fixes and optimizations', 'version': '4.2', 'price': 0, 'currency': 'USD', 'free': True, 'developerId': 1610194568, 'developer': 'Lion Studios Plus', 'developerUrl': 'https://apps.apple.com/us/developer/lion-studios-plus/id1610194568?uo=4', 'developerWebsite': 'https://lionstudios.cc/', 'score': 4.57361, 'reviews': 75893, 'currentVersionScore': 4.57361, 'currentVersionReviews': 75893, 'screenshots': ['https://is5-ssl.mzstatic.com/image/thumb/PurpleSource114/v4/d0/8b/3a/d08b3a64-609a-1619-83fc-ec55baa07371/7d163d0a-223e-4ec4-8097-cfb94994f6ac_ScreenCap5.png/392x696bb.png', 'https://is2-ssl.mzstatic.com/image/thumb/PurpleSource114/v4/13/54/6d/13546d42-315c-1571-977a-c14407e5e35d/ca5cbd98-0ab7-4da1-b511-0dc72bd0933e_ScreenCap6.png/392x696bb.png', 'https://is2-ssl.mzstatic.com/image/thumb/PurpleSource114/v4/49/2d/9a/492d9aff-9358-f363-42c2-eb53a18058b9/2bb2200a-77fd-4512-8d9a-08ee69b764f2_ScreenCap7.png/392x696bb.png', 'https://is5-ssl.mzstatic.com/image/thumb/PurpleSource114/v4/76/76/b5/7676b562-4955-f0e3-061f-5e68f2b49eba/f2deb40d-3f92-403d-be6a-0195162ca610_ScreenCap8.png/392x696bb.png', 'https://is3-ssl.mzstatic.com/image/thumb/PurpleSource114/v4/e6/eb/74/e6eb7432-d23b-f8ca-a1e5-c268c0415897/95e21b6c-763f-4fb8-ac6d-8dc77bfaeef5_ScreenCap9.png/392x696bb.png', 'https://is2-ssl.mzstatic.com/image/thumb/PurpleSource124/v4/c0/89/da/c089da78-d702-9bc5-ae23-4cbad23cf550/5a62f624-2571-4c1b-901b-84927b67b3b6_ScreenCap1.png/392x696bb.png', 'https://is1-ssl.mzstatic.com/image/thumb/PurpleSource124/v4/01/e0/7f/01e07f3b-4025-5817-dfbe-769bf8077b5b/643c896b-2c2e-44ec-aad5-f34407c2b9e4_ScreenCap2.png/392x696bb.png', 'https://is3-ssl.mzstatic.com/image/thumb/PurpleSource114/v4/6c/8c/6a/6c8c6aa9-114e-57d7-92fc-00483195334d/b19a0d6f-c3ae-403d-88e9-680a91cd36e0_ScreenCap3.png/392x696bb.png', 'https://is5-ssl.mzstatic.com/image/thumb/PurpleSource114/v4/05/c7/46/05c746e9-0788-8666-d816-20f63c6038ce/c106b31f-5279-4d0d-88ff-806698a0f70d_ScreenCap4.png/392x696bb.png'], 'ipadScreenshots': ['https://is1-ssl.mzstatic.com/image/thumb/PurpleSource114/v4/2b/9a/ce/2b9ace9f-6991-3c88-f780-c2df31120984/78e52d50-c983-40a2-ac4e-497d44fface0_ScreenCap1.png/576x768bb.png', 'https://is5-ssl.mzstatic.com/image/thumb/PurpleSource124/v4/3a/77/ec/3a77ec09-bbf1-5515-aeb4-0f6e72c3bc90/4792e238-1380-4fe4-9aca-0669de4bef2f_ScreenCap2.png/576x768bb.png', 'https://is4-ssl.mzstatic.com/image/thumb/PurpleSource114/v4/58/70/cc/5870ccf5-ae18-6c41-ca62-f097df02656e/e4e82234-726f-4e5b-811c-ecf4607bacf5_ScreenCap3.png/576x768bb.png', 'https://is5-ssl.mzstatic.com/image/thumb/PurpleSource114/v4/62/97/bf/6297bfe2-3df8-2147-aca7-67a45e0e25c7/c922c4b3-6689-41a2-88a8-1024056ac51e_ScreenCap4.png/576x768bb.png', 'https://is3-ssl.mzstatic.com/image/thumb/PurpleSource124/v4/e4/65/cf/e465cf1e-4e32-6c93-e085-22d8e16ddd81/81917c01-5e27-415f-8a78-c60cc2907a13_ScreenCap5.png/576x768bb.png', 'https://is5-ssl.mzstatic.com/image/thumb/PurpleSource124/v4/88/d4/3f/88d43f64-08a2-f963-56b8-ce54ed4c65ff/0b5da627-886a-4aa1-8e56-17416b5bf80c_ScreenCap6.png/576x768bb.png', 'https://is4-ssl.mzstatic.com/image/thumb/PurpleSource114/v4/ed/54/ce/ed54ce8d-2b7c-f4a9-d495-3bfd0e74aff4/e1b4de74-6940-4e5f-adf2-34bf9620c5e0_ScreenCap7.png/576x768bb.png', 'https://is4-ssl.mzstatic.com/image/thumb/PurpleSource114/v4/e8/f4/9c/e8f49cc8-f1ee-aa4e-68d5-de8fdbc6afae/6c0c79a5-94b1-45d6-b966-2721bc01cbe4_ScreenCap8.png/576x768bb.png', 'https://is4-ssl.mzstatic.com/image/thumb/PurpleSource124/v4/37/bc/4f/37bc4fc7-ecd1-3863-a64b-b0b5d265cce4/e2131d9f-db8b-4eb3-8a06-290c3829841b_ScreenCap9.png/576x768bb.png'], 'appletvScreenshots': [], 'supportedDevices': ['iPhone5s-iPhone5s', 'iPadAir-iPadAir', 'iPadAirCellular-iPadAirCellular', 'iPadMiniRetina-iPadMiniRetina', 'iPadMiniRetinaCellular-iPadMiniRetinaCellular', 'iPhone6-iPhone6', 'iPhone6Plus-iPhone6Plus', 'iPadAir2-iPadAir2', 'iPadAir2Cellular-iPadAir2Cellular', 'iPadMini3-iPadMini3', 'iPadMini3Cellular-iPadMini3Cellular', 'iPodTouchSixthGen-iPodTouchSixthGen', 'iPhone6s-iPhone6s', 'iPhone6sPlus-iPhone6sPlus', 'iPadMini4-iPadMini4', 'iPadMini4Cellular-iPadMini4Cellular', 'iPadPro-iPadPro', 'iPadProCellular-iPadProCellular', 'iPadPro97-iPadPro97', 'iPadPro97Cellular-iPadPro97Cellular', 'iPhoneSE-iPhoneSE', 'iPhone7-iPhone7', 'iPhone7Plus-iPhone7Plus', 'iPad611-iPad611', 'iPad612-iPad612', 'iPad71-iPad71', 'iPad72-iPad72', 'iPad73-iPad73', 'iPad74-iPad74', 'iPhone8-iPhone8', 'iPhone8Plus-iPhone8Plus', 'iPhoneX-iPhoneX', 'iPad75-iPad75', 'iPad76-iPad76', 'iPhoneXS-iPhoneXS', 'iPhoneXSMax-iPhoneXSMax', 'iPhoneXR-iPhoneXR', 'iPad812-iPad812', 'iPad834-iPad834', 'iPad856-iPad856', 'iPad878-iPad878', 'iPadMini5-iPadMini5', 'iPadMini5Cellular-iPadMini5Cellular', 'iPadAir3-iPadAir3', 'iPadAir3Cellular-iPadAir3Cellular', 'iPodTouchSeventhGen-iPodTouchSeventhGen', 'iPhone11-iPhone11', 'iPhone11Pro-iPhone11Pro', 'iPadSeventhGen-iPadSeventhGen', 'iPadSeventhGenCellular-iPadSeventhGenCellular', 'iPhone11ProMax-iPhone11ProMax', 'iPhoneSESecondGen-iPhoneSESecondGen', 'iPadProSecondGen-iPadProSecondGen', 'iPadProSecondGenCellular-iPadProSecondGenCellular', 'iPadProFourthGen-iPadProFourthGen', 'iPadProFourthGenCellular-iPadProFourthGenCellular', 'iPhone12Mini-iPhone12Mini', 'iPhone12-iPhone12', 'iPhone12Pro-iPhone12Pro', 'iPhone12ProMax-iPhone12ProMax', 'iPadAir4-iPadAir4', 'iPadAir4Cellular-iPadAir4Cellular', 'iPadEighthGen-iPadEighthGen', 'iPadEighthGenCellular-iPadEighthGenCellular', 'iPadProThirdGen-iPadProThirdGen', 'iPadProThirdGenCellular-iPadProThirdGenCellular', 'iPadProFifthGen-iPadProFifthGen', 'iPadProFifthGenCellular-iPadProFifthGenCellular', 'iPhone13Pro-iPhone13Pro', 'iPhone13ProMax-iPhone13ProMax', 'iPhone13Mini-iPhone13Mini', 'iPhone13-iPhone13', 'iPadMiniSixthGen-iPadMiniSixthGen', 'iPadMiniSixthGenCellular-iPadMiniSixthGenCellular', 'iPadNinthGen-iPadNinthGen', 'iPadNinthGenCellular-iPadNinthGenCellular', 'iPhoneSEThirdGen-iPhoneSEThirdGen', 'iPadAirFifthGen-iPadAirFifthGen', 'iPadAirFifthGenCellular-iPadAirFifthGenCellular', 'iPhone14-iPhone14', 'iPhone14Plus-iPhone14Plus', 'iPhone14Pro-iPhone14Pro', 'iPhone14ProMax-iPhone14ProMax', 'iPadTenthGen-iPadTenthGen', 'iPadTenthGenCellular-iPadTenthGenCellular', 'iPadPro11FourthGen-iPadPro11FourthGen', 'iPadPro11FourthGenCellular-iPadPro11FourthGenCellular', 'iPadProSixthGen-iPadProSixthGen', 'iPadProSixthGenCellular-iPadProSixthGenCellular']}\n"
     ]
    },
    {
     "name": "stdout",
     "output_type": "stream",
     "text": [
      "{'id': 1420294918, 'appId': 'com.peoplefun.wordsearch', 'title': 'Wordscapes Search', 'url': 'https://apps.apple.com/us/app/wordscapes-search/id1420294918?uo=4', 'description': 'Introducing the NEWEST free game in the Wordscapes family! Search your way through thousands of new word puzzles while traveling to beautiful, relaxing destinations.\\n\\nWordscapes Search is a modern twist on word search puzzles, combining the best features of word find, word line, anagrams, and crossword puzzles.\\n\\nIf you’re a fan of free, relaxing offline games, including crossword puzzles, trivia games, block puzzles, or even the classic casino card games like solitaire, blackjack, poker, spades, bingo, hearts, give Wordscapes Search a try!\\n\\n► Escape and stimulate your mind by visiting the beautiful destinations of Wordscapes Search!\\n► Easy to play anytime, even without wifi!\\n► Challenge your brain and vocabulary!\\n► Over 6,000 free puzzles to challenge even the most dedicated word finder.\\n► Think you can beat these word search puzzles? They are easy at the start, but ramp up fast!\\n\\nWordscapes Search is the perfect fit for fans of classic crossword puzzles, word line, anagrams or block puzzle games. Or, if you enjoy relaxing offline casino-style card games like blackjack, poker, solitaire, spades, bingo, hearts, you will love Wordscapes Search, and our other free word puzzle games!\\n\\nWordscapes Search is a BRAND NEW word game from the makers of Wordscapes, Word Stacks, Word Chums, Word Flowers, Word Mocha, Wordscapes Uncrossed, and Spell Blitz.\\n\\nDownload Wordscapes Search and start your word puzzle adventure today!\\n\\nTerms of service: https://www.peoplefun.com/terms', 'icon': 'https://is3-ssl.mzstatic.com/image/thumb/Purple126/v4/f4/f3/e5/f4f3e591-b071-c9d5-0e0c-cc2e732a5aad/AppIcon-0-0-1x_U007emarketing-0-0-0-7-0-0-sRGB-0-0-0-GLES2_U002c0-512MB-85-220-0-0.png/512x512bb.jpg', 'genres': ['Games', 'Word', 'Puzzle'], 'genreIds': ['6014', '7019', '7012'], 'primaryGenre': 'Games', 'primaryGenreId': 6014, 'contentRating': '12+', 'languages': ['EN', 'FR', 'DE', 'JA', 'KO', 'ZH', 'ES', 'ZH'], 'size': '414349312', 'requiredOsVersion': '12.5', 'released': '2019-11-22T08:00:00Z', 'updated': '2023-06-01T22:23:15Z', 'releaseNotes': '- New Highlighters! Play during the event to add brand new highlighters to your collection.\\n- New Butterfly Habitat! Enjoy the Tuscan Villa as you grow your butterfly collection.', 'version': '1.25.0', 'price': 0, 'currency': 'USD', 'free': True, 'developerId': 517840947, 'developer': 'PeopleFun, Inc.', 'developerUrl': 'https://apps.apple.com/us/developer/peoplefun-inc/id517840947?uo=4', 'developerWebsite': 'https://www.peoplefun.com', 'score': 4.90139, 'reviews': 124767, 'currentVersionScore': 4.90139, 'currentVersionReviews': 124767, 'screenshots': ['https://is3-ssl.mzstatic.com/image/thumb/PurpleSource112/v4/f6/fd/4a/f6fd4a85-cf80-18aa-9d44-55f1aba41d6c/1fb07898-ef6d-4915-a736-40c3b9fc3395_SS1_1242x2208_V1.jpg/392x696bb.jpg', 'https://is2-ssl.mzstatic.com/image/thumb/PurpleSource112/v4/cc/c0/ab/ccc0ab43-40b8-dd3d-3df5-1efe9bf9b63d/f5038d86-e2a7-4b46-812e-c14b13b51736_SS2_1242x2208_V1.jpg/392x696bb.jpg', 'https://is2-ssl.mzstatic.com/image/thumb/PurpleSource112/v4/0b/45/f3/0b45f34e-2929-68aa-c033-b0640c73b7b1/4966cf81-5058-4561-a225-ca366e2069d6_SS3_1242x2208_V1.jpg/392x696bb.jpg', 'https://is5-ssl.mzstatic.com/image/thumb/PurpleSource122/v4/0f/0c/47/0f0c47bd-d767-0636-7f78-0f58a91705c4/7839c02a-5229-420a-a2e4-48e7505efe68_SS4_1242x2208_V1.jpg/392x696bb.jpg', 'https://is3-ssl.mzstatic.com/image/thumb/PurpleSource122/v4/04/5c/90/045c9092-467f-0b85-e981-69e8ab55218a/b6e3f4c9-7703-4617-a8df-70a84088bfe1_SS5_1242x2208_V1.jpg/392x696bb.jpg'], 'ipadScreenshots': ['https://is5-ssl.mzstatic.com/image/thumb/PurpleSource122/v4/f3/e3/43/f3e343e3-7123-7ff8-4837-4428097a92b8/85229078-6ec5-4e64-8a51-f96d83e2fdb9_SS4_2048x2732_V1.jpg/576x768bb.jpg', 'https://is4-ssl.mzstatic.com/image/thumb/PurpleSource122/v4/c7/4e/00/c74e007d-b4ec-2dee-b7d0-989a6c7bd2fc/6a595bf6-2fbc-4f61-9a58-1d6cd9541a36_SS5_2048x2732_V1.jpg/576x768bb.jpg', 'https://is4-ssl.mzstatic.com/image/thumb/PurpleSource112/v4/42/fa/c1/42fac1b2-e8a2-eb44-ca99-bd83a3e07df3/899a9e81-f9e8-4b5b-ac8f-6c456e5411e6_SS1_2048x2732_V1.jpg/576x768bb.jpg', 'https://is1-ssl.mzstatic.com/image/thumb/PurpleSource122/v4/05/00/8f/05008fc7-c2c7-abe5-1314-0be47d47c320/594a8f3a-335d-47fc-844a-36c51cbc6298_SS2_2048x2732_V1.jpg/576x768bb.jpg', 'https://is2-ssl.mzstatic.com/image/thumb/PurpleSource112/v4/68/98/fa/6898fadb-97c4-9c70-d89a-2ecbae9e9f8f/eda43df5-b3ee-41bb-a02d-acddd021b063_SS3_2048x2732_V1.jpg/576x768bb.jpg'], 'appletvScreenshots': [], 'supportedDevices': ['iPhone5s-iPhone5s', 'iPadAir-iPadAir', 'iPadAirCellular-iPadAirCellular', 'iPadMiniRetina-iPadMiniRetina', 'iPadMiniRetinaCellular-iPadMiniRetinaCellular', 'iPhone6-iPhone6', 'iPhone6Plus-iPhone6Plus', 'iPadAir2-iPadAir2', 'iPadAir2Cellular-iPadAir2Cellular', 'iPadMini3-iPadMini3', 'iPadMini3Cellular-iPadMini3Cellular', 'iPodTouchSixthGen-iPodTouchSixthGen', 'iPhone6s-iPhone6s', 'iPhone6sPlus-iPhone6sPlus', 'iPadMini4-iPadMini4', 'iPadMini4Cellular-iPadMini4Cellular', 'iPadPro-iPadPro', 'iPadProCellular-iPadProCellular', 'iPadPro97-iPadPro97', 'iPadPro97Cellular-iPadPro97Cellular', 'iPhoneSE-iPhoneSE', 'iPhone7-iPhone7', 'iPhone7Plus-iPhone7Plus', 'iPad611-iPad611', 'iPad612-iPad612', 'iPad71-iPad71', 'iPad72-iPad72', 'iPad73-iPad73', 'iPad74-iPad74', 'iPhone8-iPhone8', 'iPhone8Plus-iPhone8Plus', 'iPhoneX-iPhoneX', 'iPad75-iPad75', 'iPad76-iPad76', 'iPhoneXS-iPhoneXS', 'iPhoneXSMax-iPhoneXSMax', 'iPhoneXR-iPhoneXR', 'iPad812-iPad812', 'iPad834-iPad834', 'iPad856-iPad856', 'iPad878-iPad878', 'iPadMini5-iPadMini5', 'iPadMini5Cellular-iPadMini5Cellular', 'iPadAir3-iPadAir3', 'iPadAir3Cellular-iPadAir3Cellular', 'iPodTouchSeventhGen-iPodTouchSeventhGen', 'iPhone11-iPhone11', 'iPhone11Pro-iPhone11Pro', 'iPadSeventhGen-iPadSeventhGen', 'iPadSeventhGenCellular-iPadSeventhGenCellular', 'iPhone11ProMax-iPhone11ProMax', 'iPhoneSESecondGen-iPhoneSESecondGen', 'iPadProSecondGen-iPadProSecondGen', 'iPadProSecondGenCellular-iPadProSecondGenCellular', 'iPadProFourthGen-iPadProFourthGen', 'iPadProFourthGenCellular-iPadProFourthGenCellular', 'iPhone12Mini-iPhone12Mini', 'iPhone12-iPhone12', 'iPhone12Pro-iPhone12Pro', 'iPhone12ProMax-iPhone12ProMax', 'iPadAir4-iPadAir4', 'iPadAir4Cellular-iPadAir4Cellular', 'iPadEighthGen-iPadEighthGen', 'iPadEighthGenCellular-iPadEighthGenCellular', 'iPadProThirdGen-iPadProThirdGen', 'iPadProThirdGenCellular-iPadProThirdGenCellular', 'iPadProFifthGen-iPadProFifthGen', 'iPadProFifthGenCellular-iPadProFifthGenCellular', 'iPhone13Pro-iPhone13Pro', 'iPhone13ProMax-iPhone13ProMax', 'iPhone13Mini-iPhone13Mini', 'iPhone13-iPhone13', 'iPadMiniSixthGen-iPadMiniSixthGen', 'iPadMiniSixthGenCellular-iPadMiniSixthGenCellular', 'iPadNinthGen-iPadNinthGen', 'iPadNinthGenCellular-iPadNinthGenCellular', 'iPhoneSEThirdGen-iPhoneSEThirdGen', 'iPadAirFifthGen-iPadAirFifthGen', 'iPadAirFifthGenCellular-iPadAirFifthGenCellular', 'iPhone14-iPhone14', 'iPhone14Plus-iPhone14Plus', 'iPhone14Pro-iPhone14Pro', 'iPhone14ProMax-iPhone14ProMax', 'iPadTenthGen-iPadTenthGen', 'iPadTenthGenCellular-iPadTenthGenCellular', 'iPadPro11FourthGen-iPadPro11FourthGen', 'iPadPro11FourthGenCellular-iPadPro11FourthGenCellular', 'iPadProSixthGen-iPadProSixthGen', 'iPadProSixthGenCellular-iPadProSixthGenCellular']}\n",
      "{'id': 1564413692, 'appId': 'uk.co.twowaymedia.lingo', 'title': 'Lingo - official word game', 'url': 'https://apps.apple.com/us/app/lingo-official-word-game/id1564413692?uo=4', 'description': 'Do you know your Lingo?\\n\\nPlay the free mobile word game based on the hit TV format! Get your daily word fix!\\n\\nLingo is a fast-paced and challenging word guessing game designed to test people of all ability levels!\\u2028\\u2028\\n\\nTry your hand at\\xa0guessing\\xa0our\\xa0Daily Word. They can be quite\\xa0hard, and will test your\\xa0word searching\\xa0skills to the limit! Whether you\\xa0find\\xa0the\\xa0Daily Word\\xa0or not, be sure to share your\\xa0guesses\\xa0online or with your friends - who is the best you know at\\xa0finding words?\\n\\nFollow your\\xa0Daily Word\\xa0progress with stat counters that track your\\xa0word finding\\xa0skills. Each\\xa0Daily Word\\xa0offers a fresh challenge to come back for, so you never know what\\xa0word\\xa0you may\\xa0find! Whether it’s easy or\\xa0hard, see if you can keep your\\xa0word\\xa0streaks going!\\n\\nLingo\\xa0Daily Word\\xa0is a new mode that is separate to the main\\xa0Gameshow\\xa0version. You will be able to\\xa0find words\\xa0in both! Jump in and start your\\xa0word search\\xa0journey today!\\n\\nThe game follows the gameplay of the Lingo TV gameshow - we give you the first letter of the word and all you have to do is guess it! We’ll show you which letters are in the right place and which ones are in the wrong place to help you to find the word in 5 guesses! More coins and points are awarded for guessing the Lingo word quickest!\\n\\nLingo has kept TV fans from around the world entertained for over 30 years, and now it’s your turn to add your name to the list of Lingo winners!\\n\\nJoin others by taking part in Lingo Leagues and rising through the ranks as you play. Pit yourself against other fans of the show on your quest to the top. To help you solve the puzzle, make use of Boosters and upgrade your collectable Letter Tiles so they reward more points per game, don’t let those bigger words go to waste!\\n\\nTrain your brain to pick out the right words as you look to guess the word in as short a time as possible. The quicker you guess the Lingo, the bigger the win! Battle against the clock and scramble to find the word in as few guesses as possible. Become a Lingo word master! \\n\\nDid we mention Bingo? Just like in the original TV format we’ve included it in the new Lingo game!\\n\\nAs you progress through and complete Lingos by guessing the correct word, you’ll earn Bingo Tokens. The more Bingo Tokens you earn, the quicker you can complete card! Bingo cards reward fantastic cases full of prizes and help you progress through 11 global city locations while your vocabulary improves with from daily word training!\\n\\nKeep track of how you’re getting on by following your word stats counters and Lingos found as you play. Challenge yourself to go further than your friends! Crossword fans will love this game, searching out words to solve our Lingo puzzles. Free daily rewards and exciting league play should keep you coming back to Lingo for more!\\n\\nCome back each day and push your word skills to the limit\\n\\nLet’s play Lingo!\\n\\nLingo is a challenging word game brought to you by the developers of Tipping Point Blast, so try the latest TV game out today!\\n\\nIf you have any questions or comments please get in touch at lingo@twowaymedia.co.uk\\n\\nPrivacy policy https://www.iubenda.com/privacy-policy/24559092\\n\\nTerms and conditions of use https://www.iubenda.com/terms-and-conditions/24559092\\n\\nGame © Two Way Media Limited. Licensed by All3Media International Limited. All rights reserved.\\n\\n“Lingo” and all associated logos, images and trade marks are owned and/or controlled by IDTV Film & Video Productions B.V“Lingo” and all associated logos, images and trade marks are owned and/or controlled by IDTV Film & Video Productions B.V', 'icon': 'https://is2-ssl.mzstatic.com/image/thumb/Purple126/v4/7a/22/44/7a224495-5d5a-299a-1151-96d3195497c9/AppIcon-0-0-1x_U007emarketing-0-0-0-7-0-0-sRGB-0-0-0-GLES2_U002c0-512MB-85-220-0-0.png/512x512bb.jpg', 'genres': ['Games', 'Word', 'Board'], 'genreIds': ['6014', '7019', '7004'], 'primaryGenre': 'Games', 'primaryGenreId': 6014, 'contentRating': '4+', 'languages': ['CA', 'EN', 'FR', 'DE', 'JA', 'KO', 'ZH', 'ES'], 'size': '274288640', 'requiredOsVersion': '11.2', 'released': '2021-11-12T08:00:00Z', 'updated': '2023-04-13T19:20:26Z', 'releaseNotes': \"We've added amazing new Profile Pictures and Frames for you to show off \\nThere's a new currency: 'Ink' \\nInk allows you to buy new items in the game such as Profile Pictures and Frames\\nYou now get rewarded with Ink for high League finishes\\nWe've added Ink as rewards in various other areas of the game, be sure to jump in and start collecting!\\nThere's lots of great new themed items\\nRain Forests, Sports, Hobbies and more!\", 'version': '1.0.6.1131', 'price': 0, 'currency': 'USD', 'free': True, 'developerId': 1103824421, 'developer': 'Two Way Media', 'developerUrl': 'https://apps.apple.com/us/developer/two-way-media/id1103824421?uo=4', 'developerWebsite': 'https://www.twowaymedia.co.uk/#/lingo/', 'score': 4.72559, 'reviews': 3830, 'currentVersionScore': 4.72559, 'currentVersionReviews': 3830, 'screenshots': ['https://is2-ssl.mzstatic.com/image/thumb/PurpleSource126/v4/30/1f/e6/301fe66e-9977-22e3-ff94-dcdaf1663a99/49e2cafb-49e6-45cc-891b-d112efcaad16_5-5-1242x2208-1-US.png/392x696bb.png', 'https://is2-ssl.mzstatic.com/image/thumb/PurpleSource126/v4/ea/2e/99/ea2e9903-1dd5-b66e-bbe4-d828015df307/0971948f-b0f4-442e-a169-9e8f45c52e98_5-5-1242x2208-2-US.png/392x696bb.png', 'https://is4-ssl.mzstatic.com/image/thumb/PurpleSource116/v4/28/7e/2a/287e2ae1-ebca-535e-c387-e65732145d98/7ced7131-4a7e-4a61-aeac-f073a5280b1b_5-5-1242x2208-3-US.png/392x696bb.png', 'https://is3-ssl.mzstatic.com/image/thumb/PurpleSource116/v4/65/5a/27/655a2764-f886-5a70-49ec-80ba89e391e6/1984348a-2bfc-458e-a081-b14373e9aff8_5-5-1242x2208-7-US.png/392x696bb.png', 'https://is2-ssl.mzstatic.com/image/thumb/PurpleSource126/v4/23/33/bb/2333bb7e-160d-851d-6888-f9f140975f79/4a7decf7-34ba-4a24-ad35-3b4c15c634da_5-5-1242x2208-10-US.png/392x696bb.png', 'https://is1-ssl.mzstatic.com/image/thumb/PurpleSource116/v4/b5/c2/96/b5c29605-23bb-bba8-d0e4-05aa3ebd2584/4d8de8ca-53aa-42ec-b254-b87290ad810d_5-5-1242x2208-4-US.png/392x696bb.png', 'https://is3-ssl.mzstatic.com/image/thumb/PurpleSource126/v4/da/10/e6/da10e615-c6b9-afd9-71ad-0afb60bccbec/08834ac0-5970-4cd8-8c4a-42bc53396c95_5-5-1242x2208-6-US.png/392x696bb.png', 'https://is4-ssl.mzstatic.com/image/thumb/PurpleSource126/v4/c7/b3/0e/c7b30ecc-4d29-eb0d-7368-03d87121cb5d/fa4e41ef-c4d1-4f45-b0d7-f359c0178454_5-5-1242x2208-5-US.png/392x696bb.png', 'https://is4-ssl.mzstatic.com/image/thumb/PurpleSource126/v4/d2/db/06/d2db06d8-4874-48a6-238e-e40d41fa91bf/d99707b4-06b9-4134-b8ca-adb1307b5d12_5-5-1242x2208-8-US.png/392x696bb.png'], 'ipadScreenshots': ['https://is3-ssl.mzstatic.com/image/thumb/PurpleSource116/v4/8a/1b/15/8a1b155e-6c09-9e04-8a0d-e5ca9dd5bfee/b1a564f9-088d-42da-8fcc-6d5990da9ae7_12-9-2048-2732-1-US.png/576x768bb.png', 'https://is1-ssl.mzstatic.com/image/thumb/PurpleSource126/v4/8f/73/60/8f7360c1-40ea-ea81-839d-4d7143428c78/7b19d80b-d9b4-4c5f-a884-a34ed2019d5d_12-9-2048-2732-2-US.png/576x768bb.png', 'https://is2-ssl.mzstatic.com/image/thumb/PurpleSource116/v4/ee/07/62/ee076255-aef1-552b-330e-3998d418089e/8d59188a-eb71-424a-9ac8-ddd6e6481ec6_12-9-2048-2732-3-US.png/576x768bb.png', 'https://is2-ssl.mzstatic.com/image/thumb/PurpleSource116/v4/03/97/3a/03973a63-4e71-cabb-1928-b78b1696ffea/cec9ce71-7e8f-444a-be7f-5139870e0218_12-9-2048-2732-7-US.png/576x768bb.png', 'https://is5-ssl.mzstatic.com/image/thumb/PurpleSource126/v4/6d/e3/32/6de3326e-4a30-b134-3a93-ceea041f65c9/56cd34c8-e8f1-43e4-b420-14dbe16daaf5_12-9-2048-2732-10-US.png/576x768bb.png', 'https://is2-ssl.mzstatic.com/image/thumb/PurpleSource116/v4/72/11/21/721121a1-4f66-aab8-9a84-c021dd369468/0e2dc737-ba1b-41e0-bf43-ae3fa8bb86b4_12-9-2048-2732-4-US.png/576x768bb.png', 'https://is5-ssl.mzstatic.com/image/thumb/PurpleSource126/v4/d8/1c/97/d81c97cd-7b06-47e4-b043-7c32f51159a8/42fb0e62-c4f0-4105-886c-7c557d953eba_12-9-2048-2732-5-US.png/576x768bb.png', 'https://is4-ssl.mzstatic.com/image/thumb/PurpleSource116/v4/4c/95/ee/4c95eeb4-7360-4c02-1ee2-011d1a372964/d54650ea-e999-4eff-88f1-fe5ca0c946df_12-9-2048-2732-6-US.png/576x768bb.png', 'https://is5-ssl.mzstatic.com/image/thumb/PurpleSource126/v4/01/a3/1f/01a31ffd-7b8d-2c1a-50b2-38254d7abfd1/6d67e01e-0858-4934-9f09-e6ff47e444fc_12-9-2048-2732-82-US.png/576x768bb.png'], 'appletvScreenshots': [], 'supportedDevices': ['iPhone5s-iPhone5s', 'iPadAir-iPadAir', 'iPadAirCellular-iPadAirCellular', 'iPadMiniRetina-iPadMiniRetina', 'iPadMiniRetinaCellular-iPadMiniRetinaCellular', 'iPhone6-iPhone6', 'iPhone6Plus-iPhone6Plus', 'iPadAir2-iPadAir2', 'iPadAir2Cellular-iPadAir2Cellular', 'iPadMini3-iPadMini3', 'iPadMini3Cellular-iPadMini3Cellular', 'iPodTouchSixthGen-iPodTouchSixthGen', 'iPhone6s-iPhone6s', 'iPhone6sPlus-iPhone6sPlus', 'iPadMini4-iPadMini4', 'iPadMini4Cellular-iPadMini4Cellular', 'iPadPro-iPadPro', 'iPadProCellular-iPadProCellular', 'iPadPro97-iPadPro97', 'iPadPro97Cellular-iPadPro97Cellular', 'iPhoneSE-iPhoneSE', 'iPhone7-iPhone7', 'iPhone7Plus-iPhone7Plus', 'iPad611-iPad611', 'iPad612-iPad612', 'iPad71-iPad71', 'iPad72-iPad72', 'iPad73-iPad73', 'iPad74-iPad74', 'iPhone8-iPhone8', 'iPhone8Plus-iPhone8Plus', 'iPhoneX-iPhoneX', 'iPad75-iPad75', 'iPad76-iPad76', 'iPhoneXS-iPhoneXS', 'iPhoneXSMax-iPhoneXSMax', 'iPhoneXR-iPhoneXR', 'iPad812-iPad812', 'iPad834-iPad834', 'iPad856-iPad856', 'iPad878-iPad878', 'iPadMini5-iPadMini5', 'iPadMini5Cellular-iPadMini5Cellular', 'iPadAir3-iPadAir3', 'iPadAir3Cellular-iPadAir3Cellular', 'iPodTouchSeventhGen-iPodTouchSeventhGen', 'iPhone11-iPhone11', 'iPhone11Pro-iPhone11Pro', 'iPadSeventhGen-iPadSeventhGen', 'iPadSeventhGenCellular-iPadSeventhGenCellular', 'iPhone11ProMax-iPhone11ProMax', 'iPhoneSESecondGen-iPhoneSESecondGen', 'iPadProSecondGen-iPadProSecondGen', 'iPadProSecondGenCellular-iPadProSecondGenCellular', 'iPadProFourthGen-iPadProFourthGen', 'iPadProFourthGenCellular-iPadProFourthGenCellular', 'iPhone12Mini-iPhone12Mini', 'iPhone12-iPhone12', 'iPhone12Pro-iPhone12Pro', 'iPhone12ProMax-iPhone12ProMax', 'iPadAir4-iPadAir4', 'iPadAir4Cellular-iPadAir4Cellular', 'iPadEighthGen-iPadEighthGen', 'iPadEighthGenCellular-iPadEighthGenCellular', 'iPadProThirdGen-iPadProThirdGen', 'iPadProThirdGenCellular-iPadProThirdGenCellular', 'iPadProFifthGen-iPadProFifthGen', 'iPadProFifthGenCellular-iPadProFifthGenCellular', 'iPhone13Pro-iPhone13Pro', 'iPhone13ProMax-iPhone13ProMax', 'iPhone13Mini-iPhone13Mini', 'iPhone13-iPhone13', 'iPadMiniSixthGen-iPadMiniSixthGen', 'iPadMiniSixthGenCellular-iPadMiniSixthGenCellular', 'iPadNinthGen-iPadNinthGen', 'iPadNinthGenCellular-iPadNinthGenCellular', 'iPhoneSEThirdGen-iPhoneSEThirdGen', 'iPadAirFifthGen-iPadAirFifthGen', 'iPadAirFifthGenCellular-iPadAirFifthGenCellular', 'iPhone14-iPhone14', 'iPhone14Plus-iPhone14Plus', 'iPhone14Pro-iPhone14Pro', 'iPhone14ProMax-iPhone14ProMax', 'iPadTenthGen-iPadTenthGen', 'iPadTenthGenCellular-iPadTenthGenCellular', 'iPadPro11FourthGen-iPadPro11FourthGen', 'iPadPro11FourthGenCellular-iPadPro11FourthGenCellular', 'iPadProSixthGen-iPadProSixthGen', 'iPadProSixthGenCellular-iPadProSixthGenCellular']}\n"
     ]
    },
    {
     "name": "stdout",
     "output_type": "stream",
     "text": [
      "{'id': 1552668247, 'appId': 'com.cm.wordchecker', 'title': 'Scrabble Check: Word validator', 'url': 'https://apps.apple.com/us/app/scrabble-check-word-validator/id1552668247?uo=4', 'description': 'The best app to avoid dispute during word game with your friends.\\n\\nUse our powerful search engine to check your word during your games.\\n\\nFEATURES \\n--------\\n- Fast word checking\\n- Easy to use\\n- Allow multiple words in single check\\n- Word length up to 15 letters\\n- No internet require (use local dictionary files)\\n- Word definition lookup\\n\\nSupported dictionaries:\\n--------\\n- Collins Scrabble Word List 2020 (International)\\n- NASPA Word List 2020 (USA, Canada and Thailand)\\n\\nPrivacy Policy : http://scrabble.joomlafact.com/privacy-policy.html', 'icon': 'https://is3-ssl.mzstatic.com/image/thumb/Purple122/v4/3f/8a/3d/3f8a3dd2-5f63-d1da-0caa-ce42dfb56c10/AppIcon-0-0-1x_U007emarketing-0-0-0-7-0-0-sRGB-0-0-0-GLES2_U002c0-512MB-85-220-0-0.png/512x512bb.jpg', 'genres': ['Reference', 'Games', 'Family', 'Word'], 'genreIds': ['6006', '6014', '7009', '7019'], 'primaryGenre': 'Reference', 'primaryGenreId': 6006, 'contentRating': '4+', 'languages': ['EN'], 'size': '35829760', 'requiredOsVersion': '12.0', 'released': '2021-02-09T08:00:00Z', 'updated': '2022-04-17T04:23:48Z', 'releaseNotes': '- Bug fixes and performance improvements\\n- Librairies updated', 'version': '1.1.3', 'price': 0, 'currency': 'USD', 'free': True, 'developerId': 1471549225, 'developer': 'Claire Marlier Maurice', 'developerUrl': 'https://apps.apple.com/us/developer/claire-marlier-maurice/id1471549225?uo=4', 'score': 4.6711, 'reviews': 225, 'currentVersionScore': 4.6711, 'currentVersionReviews': 225, 'screenshots': ['https://is3-ssl.mzstatic.com/image/thumb/PurpleSource124/v4/43/45/ab/4345abe9-7bb9-16d9-270d-799ec1cd64df/72060101-cda2-4b1e-934b-ecf17d0ad4ab_1._5.5_1.jpg/392x696bb.jpg', 'https://is1-ssl.mzstatic.com/image/thumb/PurpleSource124/v4/26/d8/a4/26d8a481-5a13-9c94-a27e-14e11d58f582/1e29e094-6187-4a64-8330-937e5b3fd024_1._5.5_2.jpg/392x696bb.jpg', 'https://is5-ssl.mzstatic.com/image/thumb/PurpleSource124/v4/3b/2d/20/3b2d20de-2f02-eb60-0e8b-acb56e90fb29/9700deaa-cc85-4061-ab5c-593f79afdfde_1._5.5_3.jpg/392x696bb.jpg', 'https://is3-ssl.mzstatic.com/image/thumb/PurpleSource124/v4/66/57/2e/66572eee-93b3-5993-107d-8916b5f26472/b0b86672-42ac-4bbd-9fb6-7265c10bf210_1._5.5_4.jpg/392x696bb.jpg'], 'ipadScreenshots': ['https://is4-ssl.mzstatic.com/image/thumb/PurpleSource124/v4/2c/aa/ec/2caaecfe-5e4c-0c50-acfe-d51846a0ef43/7ab18a64-de7e-4806-a5c7-71403dcfa44c_Simulator_Screen_Shot_-_iPad_Pro__U002812.9-inch_U0029__U00284th_generation_U0029_-_2021-02-09_at_11.32.34.png/576x768bb.png', 'https://is4-ssl.mzstatic.com/image/thumb/PurpleSource114/v4/1c/4e/55/1c4e55d8-87de-6d91-ca62-3e1bfdb99e43/8e2757f1-e78b-4ee9-a6af-8e33c1ef182b_Simulator_Screen_Shot_-_iPad_Pro__U002812.9-inch_U0029__U00284th_generation_U0029_-_2021-02-09_at_11.34.01.png/576x768bb.png', 'https://is3-ssl.mzstatic.com/image/thumb/PurpleSource114/v4/7f/3e/27/7f3e2798-946d-b607-6472-b5562216e4b1/028a757f-0c46-419b-aab6-0651d233e04b_Simulator_Screen_Shot_-_iPad_Pro__U002812.9-inch_U0029__U00284th_generation_U0029_-_2021-02-09_at_11.32.43.png/576x768bb.png'], 'appletvScreenshots': [], 'supportedDevices': ['iPhone5s-iPhone5s', 'iPadAir-iPadAir', 'iPadAirCellular-iPadAirCellular', 'iPadMiniRetina-iPadMiniRetina', 'iPadMiniRetinaCellular-iPadMiniRetinaCellular', 'iPhone6-iPhone6', 'iPhone6Plus-iPhone6Plus', 'iPadAir2-iPadAir2', 'iPadAir2Cellular-iPadAir2Cellular', 'iPadMini3-iPadMini3', 'iPadMini3Cellular-iPadMini3Cellular', 'iPodTouchSixthGen-iPodTouchSixthGen', 'iPhone6s-iPhone6s', 'iPhone6sPlus-iPhone6sPlus', 'iPadMini4-iPadMini4', 'iPadMini4Cellular-iPadMini4Cellular', 'iPadPro-iPadPro', 'iPadProCellular-iPadProCellular', 'iPadPro97-iPadPro97', 'iPadPro97Cellular-iPadPro97Cellular', 'iPhoneSE-iPhoneSE', 'iPhone7-iPhone7', 'iPhone7Plus-iPhone7Plus', 'iPad611-iPad611', 'iPad612-iPad612', 'iPad71-iPad71', 'iPad72-iPad72', 'iPad73-iPad73', 'iPad74-iPad74', 'iPhone8-iPhone8', 'iPhone8Plus-iPhone8Plus', 'iPhoneX-iPhoneX', 'iPad75-iPad75', 'iPad76-iPad76', 'iPhoneXS-iPhoneXS', 'iPhoneXSMax-iPhoneXSMax', 'iPhoneXR-iPhoneXR', 'iPad812-iPad812', 'iPad834-iPad834', 'iPad856-iPad856', 'iPad878-iPad878', 'iPadMini5-iPadMini5', 'iPadMini5Cellular-iPadMini5Cellular', 'iPadAir3-iPadAir3', 'iPadAir3Cellular-iPadAir3Cellular', 'iPodTouchSeventhGen-iPodTouchSeventhGen', 'iPhone11-iPhone11', 'iPhone11Pro-iPhone11Pro', 'iPadSeventhGen-iPadSeventhGen', 'iPadSeventhGenCellular-iPadSeventhGenCellular', 'iPhone11ProMax-iPhone11ProMax', 'iPhoneSESecondGen-iPhoneSESecondGen', 'iPadProSecondGen-iPadProSecondGen', 'iPadProSecondGenCellular-iPadProSecondGenCellular', 'iPadProFourthGen-iPadProFourthGen', 'iPadProFourthGenCellular-iPadProFourthGenCellular', 'iPhone12Mini-iPhone12Mini', 'iPhone12-iPhone12', 'iPhone12Pro-iPhone12Pro', 'iPhone12ProMax-iPhone12ProMax', 'iPadAir4-iPadAir4', 'iPadAir4Cellular-iPadAir4Cellular', 'iPadEighthGen-iPadEighthGen', 'iPadEighthGenCellular-iPadEighthGenCellular', 'iPadProThirdGen-iPadProThirdGen', 'iPadProThirdGenCellular-iPadProThirdGenCellular', 'iPadProFifthGen-iPadProFifthGen', 'iPadProFifthGenCellular-iPadProFifthGenCellular', 'iPhone13Pro-iPhone13Pro', 'iPhone13ProMax-iPhone13ProMax', 'iPhone13Mini-iPhone13Mini', 'iPhone13-iPhone13', 'iPadMiniSixthGen-iPadMiniSixthGen', 'iPadMiniSixthGenCellular-iPadMiniSixthGenCellular', 'iPadNinthGen-iPadNinthGen', 'iPadNinthGenCellular-iPadNinthGenCellular', 'iPhoneSEThirdGen-iPhoneSEThirdGen', 'iPadAirFifthGen-iPadAirFifthGen', 'iPadAirFifthGenCellular-iPadAirFifthGenCellular', 'iPhone14-iPhone14', 'iPhone14Plus-iPhone14Plus', 'iPhone14Pro-iPhone14Pro', 'iPhone14ProMax-iPhone14ProMax', 'iPadTenthGen-iPadTenthGen', 'iPadTenthGenCellular-iPadTenthGenCellular', 'iPadPro11FourthGen-iPadPro11FourthGen', 'iPadPro11FourthGenCellular-iPadPro11FourthGenCellular', 'iPadProSixthGen-iPadProSixthGen', 'iPadProSixthGenCellular-iPadProSixthGenCellular']}\n",
      "{'id': 383076094, 'appId': 'com.latchamsetty.twf', 'title': 'The Word Finder', 'url': 'https://apps.apple.com/us/app/the-word-finder/id383076094?uo=4', 'description': 'The ultimate word finder unscrambler ! \\n\\nDownload THE Word Finder to help you out with solving puzzles and help in a variety of games.  Use as a help tool (hopefully not cheat) in games like scrabble, jumble, text twist, words with friends, etc. \\n\\nEnter \"?\" for blank tiles and up to 20 letters.  Use the advanced options for extra strings of letters if you know certain parts of the word.  \\n\\nDownload this word unscrambler now, for FREE!!!', 'icon': 'https://is2-ssl.mzstatic.com/image/thumb/Purple126/v4/5f/39/a7/5f39a748-e2e5-64a4-06a5-0661b9bdc51f/AppIcon-0-0-1x_U007emarketing-0-0-0-7-0-0-sRGB-0-0-0-GLES2_U002c0-512MB-85-220-0-0.png/512x512bb.jpg', 'genres': ['Games', 'Utilities', 'Word', 'Puzzle'], 'genreIds': ['6014', '6002', '7019', '7012'], 'primaryGenre': 'Games', 'primaryGenreId': 6014, 'contentRating': '4+', 'languages': ['EN'], 'size': '22421504', 'requiredOsVersion': '11.0', 'released': '2010-08-12T02:53:43Z', 'updated': '2022-01-26T14:20:53Z', 'releaseNotes': 'Bug Fixes.', 'version': '2022.1', 'price': 0, 'currency': 'USD', 'free': True, 'developerId': 301052427, 'developer': 'Praveen Latchamsetty', 'developerUrl': 'https://apps.apple.com/us/developer/praveen-latchamsetty/id301052427?uo=4', 'developerWebsite': 'https://www.thewordfinder.com', 'score': 4.69227, 'reviews': 10090, 'currentVersionScore': 4.69227, 'currentVersionReviews': 10090, 'screenshots': ['https://is3-ssl.mzstatic.com/image/thumb/Purple114/v4/3a/f2/0b/3af20b0b-7ed4-3c6c-4f0d-c6c68a8bff93/pr_source.png/392x696bb.png', 'https://is1-ssl.mzstatic.com/image/thumb/Purple114/v4/30/c4/60/30c460a5-8d7c-72e4-f770-34dc048bc6af/pr_source.png/392x696bb.png', 'https://is2-ssl.mzstatic.com/image/thumb/Purple124/v4/4d/62/28/4d62289b-1516-7b79-bfff-61c8ce459689/pr_source.png/392x696bb.png', 'https://is3-ssl.mzstatic.com/image/thumb/Purple114/v4/10/cb/35/10cb3554-a411-46e8-d5b9-c228cf8f22de/pr_source.png/392x696bb.png', 'https://is2-ssl.mzstatic.com/image/thumb/Purple114/v4/0d/9d/3c/0d9d3c03-9b52-dc15-c1a5-37d34e7e9f70/pr_source.png/392x696bb.png', 'https://is4-ssl.mzstatic.com/image/thumb/Purple124/v4/2f/77/80/2f77808a-965f-075b-7af9-89391da5dd39/mzl.nfogckbk.png/392x696bb.png'], 'ipadScreenshots': ['https://is4-ssl.mzstatic.com/image/thumb/PurpleSource114/v4/61/19/0d/61190dcf-3cfb-0363-678a-e919c4e634db/9152fe54-9cd0-4902-82d1-083413fed12f_IMG_0135.PNG/576x768bb.png', 'https://is2-ssl.mzstatic.com/image/thumb/PurpleSource114/v4/2f/13/d8/2f13d8bd-da59-7ddf-d4a7-cb255cafde3a/18d95009-afa4-4dd0-9783-64fdb34621f9_IMG_0133.PNG/576x768bb.png', 'https://is4-ssl.mzstatic.com/image/thumb/PurpleSource124/v4/c9/96/8e/c9968e39-cb87-877c-26a8-cd7791055fa2/73afd578-79bc-4f6f-ad63-42d7ecae3ae4_IMG_0134.PNG/576x768bb.png', 'https://is4-ssl.mzstatic.com/image/thumb/PurpleSource114/v4/df/23/15/df2315fb-851f-f1a7-8418-06ec419a6549/7784b6ad-7130-4c11-9590-edd30babfda2_IMG_0136.PNG/576x768bb.png'], 'appletvScreenshots': [], 'supportedDevices': ['iPhone5s-iPhone5s', 'iPadAir-iPadAir', 'iPadAirCellular-iPadAirCellular', 'iPadMiniRetina-iPadMiniRetina', 'iPadMiniRetinaCellular-iPadMiniRetinaCellular', 'iPhone6-iPhone6', 'iPhone6Plus-iPhone6Plus', 'iPadAir2-iPadAir2', 'iPadAir2Cellular-iPadAir2Cellular', 'iPadMini3-iPadMini3', 'iPadMini3Cellular-iPadMini3Cellular', 'iPodTouchSixthGen-iPodTouchSixthGen', 'iPhone6s-iPhone6s', 'iPhone6sPlus-iPhone6sPlus', 'iPadMini4-iPadMini4', 'iPadMini4Cellular-iPadMini4Cellular', 'iPadPro-iPadPro', 'iPadProCellular-iPadProCellular', 'iPadPro97-iPadPro97', 'iPadPro97Cellular-iPadPro97Cellular', 'iPhoneSE-iPhoneSE', 'iPhone7-iPhone7', 'iPhone7Plus-iPhone7Plus', 'iPad611-iPad611', 'iPad612-iPad612', 'iPad71-iPad71', 'iPad72-iPad72', 'iPad73-iPad73', 'iPad74-iPad74', 'iPhone8-iPhone8', 'iPhone8Plus-iPhone8Plus', 'iPhoneX-iPhoneX', 'iPad75-iPad75', 'iPad76-iPad76', 'iPhoneXS-iPhoneXS', 'iPhoneXSMax-iPhoneXSMax', 'iPhoneXR-iPhoneXR', 'iPad812-iPad812', 'iPad834-iPad834', 'iPad856-iPad856', 'iPad878-iPad878', 'iPadMini5-iPadMini5', 'iPadMini5Cellular-iPadMini5Cellular', 'iPadAir3-iPadAir3', 'iPadAir3Cellular-iPadAir3Cellular', 'iPodTouchSeventhGen-iPodTouchSeventhGen', 'iPhone11-iPhone11', 'iPhone11Pro-iPhone11Pro', 'iPadSeventhGen-iPadSeventhGen', 'iPadSeventhGenCellular-iPadSeventhGenCellular', 'iPhone11ProMax-iPhone11ProMax', 'iPhoneSESecondGen-iPhoneSESecondGen', 'iPadProSecondGen-iPadProSecondGen', 'iPadProSecondGenCellular-iPadProSecondGenCellular', 'iPadProFourthGen-iPadProFourthGen', 'iPadProFourthGenCellular-iPadProFourthGenCellular', 'iPhone12Mini-iPhone12Mini', 'iPhone12-iPhone12', 'iPhone12Pro-iPhone12Pro', 'iPhone12ProMax-iPhone12ProMax', 'iPadAir4-iPadAir4', 'iPadAir4Cellular-iPadAir4Cellular', 'iPadEighthGen-iPadEighthGen', 'iPadEighthGenCellular-iPadEighthGenCellular', 'iPadProThirdGen-iPadProThirdGen', 'iPadProThirdGenCellular-iPadProThirdGenCellular', 'iPadProFifthGen-iPadProFifthGen', 'iPadProFifthGenCellular-iPadProFifthGenCellular', 'iPhone13Pro-iPhone13Pro', 'iPhone13ProMax-iPhone13ProMax', 'iPhone13Mini-iPhone13Mini', 'iPhone13-iPhone13', 'iPadMiniSixthGen-iPadMiniSixthGen', 'iPadMiniSixthGenCellular-iPadMiniSixthGenCellular', 'iPadNinthGen-iPadNinthGen', 'iPadNinthGenCellular-iPadNinthGenCellular', 'iPhoneSEThirdGen-iPhoneSEThirdGen', 'iPadAirFifthGen-iPadAirFifthGen', 'iPadAirFifthGenCellular-iPadAirFifthGenCellular', 'iPhone14-iPhone14', 'iPhone14Plus-iPhone14Plus', 'iPhone14Pro-iPhone14Pro', 'iPhone14ProMax-iPhone14ProMax', 'iPadTenthGen-iPadTenthGen', 'iPadTenthGenCellular-iPadTenthGenCellular', 'iPadPro11FourthGen-iPadPro11FourthGen', 'iPadPro11FourthGenCellular-iPadPro11FourthGenCellular', 'iPadProSixthGen-iPadProSixthGen', 'iPadProSixthGenCellular-iPadProSixthGenCellular']}\n"
     ]
    },
    {
     "name": "stdout",
     "output_type": "stream",
     "text": [
      "{'message': 'You have exceeded your daily/monthly API rate limit. Please review and upgrade your subscription plan at https://promptapi.com/subscriptions to continue.'}\n",
      "{'message': 'You have exceeded your daily/monthly API rate limit. Please review and upgrade your subscription plan at https://promptapi.com/subscriptions to continue.'}\n",
      "{'message': 'You have exceeded your daily/monthly API rate limit. Please review and upgrade your subscription plan at https://promptapi.com/subscriptions to continue.'}\n",
      "{'message': 'You have exceeded your daily/monthly API rate limit. Please review and upgrade your subscription plan at https://promptapi.com/subscriptions to continue.'}\n",
      "{'message': 'You have exceeded your daily/monthly API rate limit. Please review and upgrade your subscription plan at https://promptapi.com/subscriptions to continue.'}\n",
      "{'message': 'You have exceeded your daily/monthly API rate limit. Please review and upgrade your subscription plan at https://promptapi.com/subscriptions to continue.'}\n",
      "{'message': 'You have exceeded your daily/monthly API rate limit. Please review and upgrade your subscription plan at https://promptapi.com/subscriptions to continue.'}\n",
      "{'message': 'You have exceeded your daily/monthly API rate limit. Please review and upgrade your subscription plan at https://promptapi.com/subscriptions to continue.'}\n",
      "{'message': 'You have exceeded your daily/monthly API rate limit. Please review and upgrade your subscription plan at https://promptapi.com/subscriptions to continue.'}\n",
      "{'message': 'You have exceeded your daily/monthly API rate limit. Please review and upgrade your subscription plan at https://promptapi.com/subscriptions to continue.'}\n",
      "{'message': 'You have exceeded your daily/monthly API rate limit. Please review and upgrade your subscription plan at https://promptapi.com/subscriptions to continue.'}\n",
      "{'message': 'You have exceeded your daily/monthly API rate limit. Please review and upgrade your subscription plan at https://promptapi.com/subscriptions to continue.'}\n",
      "{'message': 'You have exceeded your daily/monthly API rate limit. Please review and upgrade your subscription plan at https://promptapi.com/subscriptions to continue.'}\n",
      "{'message': 'You have exceeded your daily/monthly API rate limit. Please review and upgrade your subscription plan at https://promptapi.com/subscriptions to continue.'}\n",
      "{'message': 'You have exceeded your daily/monthly API rate limit. Please review and upgrade your subscription plan at https://promptapi.com/subscriptions to continue.'}\n",
      "{'message': 'You have exceeded your daily/monthly API rate limit. Please review and upgrade your subscription plan at https://promptapi.com/subscriptions to continue.'}\n",
      "{'message': 'You have exceeded your daily/monthly API rate limit. Please review and upgrade your subscription plan at https://promptapi.com/subscriptions to continue.'}\n",
      "{'message': 'You have exceeded your daily/monthly API rate limit. Please review and upgrade your subscription plan at https://promptapi.com/subscriptions to continue.'}\n",
      "{'message': 'You have exceeded your daily/monthly API rate limit. Please review and upgrade your subscription plan at https://promptapi.com/subscriptions to continue.'}\n"
     ]
    }
   ],
   "source": [
    "\n",
    "import requests\n",
    "\n",
    "#Enter your API key\n",
    "YOUR_API_KEY = \"W5N2aA8JW92dbKzcVKYHxQtlzscKA5AE\"\n",
    "\n",
    "# Step 1: Get app ids from search results\n",
    "search_term = input(\"Enter your search query: \")\n",
    "search_url = f\"https://api.apilayer.com/app_store/search/US?q={search_term}\"\n",
    "headers = {\"apikey\": YOUR_API_KEY}\n",
    "response = requests.get(search_url, headers=headers)\n",
    "ids = eval(response.text)\n",
    "\n",
    "# Step 2: Define function to get app details by app id\n",
    "def get_app_details(app_id):\n",
    "    url = f\"https://api.apilayer.com/app_store/app/US/{app_id}\"\n",
    "    headers = {\"apikey\": YOUR_API_KEY}\n",
    "    response = requests.get(url, headers=headers)\n",
    "    result = response.json()\n",
    "    print(result)\n",
    "\n",
    "# Step 3: Call function for each app id\n",
    "for app_id in ids:\n",
    "    get_app_details(app_id)"
   ]
  },
  {
   "cell_type": "markdown",
   "id": "liberal-second",
   "metadata": {},
   "source": [
    "# Tisane API"
   ]
  },
  {
   "cell_type": "code",
   "execution_count": null,
   "id": "appropriate-uniform",
   "metadata": {},
   "outputs": [],
   "source": [
    "import requests\n",
    "\n",
    "url = \"https://api.apilayer.com/tisane/detectLanguage\"\n",
    "\n",
    "payload = \"{body}\".encode(\"utf-8\")\n",
    "headers= {\n",
    "  \"apikey\": \"{API-KEY}\"\n",
    "}\n",
    "\n",
    "response = requests.request(\"POST\", url, headers=headers, data = payload)\n",
    "\n",
    "status_code = response.status_code\n",
    "result = response.text\n",
    "print(result)"
   ]
  },
  {
   "cell_type": "markdown",
   "id": "spanish-approval",
   "metadata": {},
   "source": [
    "# YouTube API "
   ]
  },
  {
   "cell_type": "code",
   "execution_count": null,
   "id": "certain-operations",
   "metadata": {},
   "outputs": [],
   "source": [
    "import requests\n",
    "\n",
    "api_key = \"YOUR_API_KEY\"\n",
    "video_id = \"VIDEO_ID\"\n",
    "language = \"en\"\n",
    "country = \"US\"\n",
    "cursor = \"\"\n",
    "\n",
    "url = f\"https://api.apilayer.com/youtube/video/comments?id={video_id}&hl={language}&gl={country}&cursor={cursor}\"\n",
    "\n",
    "headers = {\n",
    "    \"apikey\": api_key\n",
    "}\n",
    "\n",
    "response = requests.get(url, headers=headers)\n",
    "video_comments = response.json()\n",
    "\n",
    "for comment in video_comments:\n",
    "    print(f\"{comment['author_name']}: {comment['text']}\")\n"
   ]
  },
  {
   "cell_type": "markdown",
   "id": "provincial-happiness",
   "metadata": {},
   "source": [
    "# The Odds API "
   ]
  },
  {
   "cell_type": "code",
   "execution_count": null,
   "id": "smart-kansas",
   "metadata": {},
   "outputs": [],
   "source": [
    "import requests\n",
    "\n",
    "api_key = \"YOUR_API_KEY\"\n",
    "all_sports = \"true\"\n",
    "\n",
    "url = f\"https://api.apilayer.com/odds/sports?all={all_sports}\"\n",
    "\n",
    "headers = {\n",
    "    \"apikey\": api_key\n",
    "}\n",
    "\n",
    "response = requests.get(url, headers=headers)\n",
    "sports_odds = response.json()\n",
    "\n",
    "for sport in sports_odds:\n",
    "    print(f\"{sport['key']}: {sport['title']}\")\n"
   ]
  },
  {
   "cell_type": "markdown",
   "id": "anticipated-courtesy",
   "metadata": {},
   "source": [
    "# TheRundown API"
   ]
  },
  {
   "cell_type": "code",
   "execution_count": null,
   "id": "hidden-franklin",
   "metadata": {},
   "outputs": [],
   "source": [
    "import requests\n",
    "\n",
    "url = \"https://api.apilayer.com/therundown/sports/2/events/2020-09-20?offset=offset&include=include\"\n",
    "\n",
    "payload = {}\n",
    "headers= {\n",
    "  \"apikey\": \"YOUR API KEY\"\n",
    "}\n",
    "\n",
    "response = requests.request(\"GET\", url, headers=headers, data = payload)\n",
    "\n",
    "status_code = response.status_code\n",
    "result = response.text\n",
    "print(result)"
   ]
  },
  {
   "cell_type": "markdown",
   "id": "increased-istanbul",
   "metadata": {},
   "source": [
    "# Hyperhuman API"
   ]
  },
  {
   "cell_type": "markdown",
   "id": "relevant-consensus",
   "metadata": {},
   "source": [
    "## Find out 10 featured workouts"
   ]
  },
  {
   "cell_type": "code",
   "execution_count": null,
   "id": "promotional-journal",
   "metadata": {},
   "outputs": [],
   "source": [
    "\n",
    "import requests\n",
    "\n",
    "url = \"https://api.apilayer.com/hyperhuman/trainers/featured?limit=10\"\n",
    "\n",
    "payload = {}\n",
    "headers= {\"apikey\": \"YOUR API KEY\"}\n",
    "\n",
    "response = requests.request(\"GET\", url, headers=headers, data = payload)\n",
    "\n",
    "status_code = response.status_code\n",
    "result = response.text\n",
    "print(result)\n"
   ]
  },
  {
   "cell_type": "markdown",
   "id": "bearing-mistress",
   "metadata": {},
   "source": [
    "## Find out 10 trending workouts"
   ]
  },
  {
   "cell_type": "code",
   "execution_count": null,
   "id": "fleet-brooks",
   "metadata": {},
   "outputs": [],
   "source": [
    "import requests\n",
    "\n",
    "url = \"https://api.apilayer.com/hyperhuman/workouts/trending?limit=10\"\n",
    "\n",
    "payload = {}\n",
    "headers= {\"apikey\": \"YOUR API KEY\"}\n",
    "\n",
    "response = requests.request(\"GET\", url, headers=headers, data = payload)\n",
    "\n",
    "status_code = response.status_code\n",
    "result = response.text\n",
    "print(result)\n"
   ]
  },
  {
   "cell_type": "code",
   "execution_count": null,
   "id": "latest-report",
   "metadata": {},
   "outputs": [],
   "source": [
    "import requests\n",
    "\n",
    "def check_email(email):\n",
    "    url = f\"https://api.apilayer.com/disposable_email/{email}\"\n",
    "    headers = {\"apikey\": \"W5N2aA8JW92dbKzcVKYHxQtlzscKA5AE\"}\n",
    "    response = requests.get(url, headers=headers)\n",
    "    status_code = response.status_code\n",
    "    result = response.json()\n",
    "    \n",
    "    if status_code == 200:\n",
    "        if result.get(\"disposable\"):\n",
    "            print(f\"The email address '{email}' is disposable.\")\n",
    "        else:\n",
    "            print(f\"The email address '{email}' is not disposable.\")\n",
    "    else:\n",
    "        print(\"An error occurred while checking the email address.\")\n",
    "\n",
    "# Usage example\n",
    "check_email(\"chris@yopmail.com\")"
   ]
  },
  {
   "cell_type": "code",
   "execution_count": null,
   "id": "spanish-structure",
   "metadata": {},
   "outputs": [],
   "source": [
    "import requests\n",
    "\n",
    "def check_email(email):\n",
    "    url = f\"https://api.apilayer.com/disposable_email/{email}\"\n",
    "    headers = {\"apikey\": \"W5N2aA8JW92dbKzcVKYHxQtlzscKA5AE\"} # PUT YOUR API KEY HERE\n",
    "    response = requests.get(url, headers=headers)\n",
    "    \n",
    "    if response.status_code == 200:\n",
    "        result = response.json()\n",
    "        if result.get(\"is_disposable\"):\n",
    "            print(f\"The email address '{email}' is disposable.\")\n",
    "        else:\n",
    "            print(f\"The email address '{email}' is not disposable.\")\n",
    "    else:\n",
    "        print(\"An error occurred while checking the email address.\")\n",
    "\n",
    "# Usage example\n",
    "check_email(\"chris@yopmail.com\")"
   ]
  },
  {
   "cell_type": "code",
   "execution_count": null,
   "id": "portuguese-worth",
   "metadata": {},
   "outputs": [],
   "source": []
  }
 ],
 "metadata": {
  "kernelspec": {
   "display_name": "Python 3",
   "language": "python",
   "name": "python3"
  },
  "language_info": {
   "codemirror_mode": {
    "name": "ipython",
    "version": 3
   },
   "file_extension": ".py",
   "mimetype": "text/x-python",
   "name": "python",
   "nbconvert_exporter": "python",
   "pygments_lexer": "ipython3",
   "version": "3.9.2"
  }
 },
 "nbformat": 4,
 "nbformat_minor": 5
}
